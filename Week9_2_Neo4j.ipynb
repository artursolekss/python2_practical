{
 "cells": [
  {
   "cell_type": "code",
   "execution_count": 2,
   "id": "3e10a599",
   "metadata": {},
   "outputs": [],
   "source": [
    "from neo4j import GraphDatabase"
   ]
  },
  {
   "cell_type": "code",
   "execution_count": 8,
   "id": "d0060228",
   "metadata": {},
   "outputs": [],
   "source": [
    "uri = \"neo4j+ssc://ec3c7039.databases.neo4j.io\"\n",
    "username = \"neo4j\"\n",
    "password = \"BitmrVjrT7aAhXHF3tob9hEKgq7RfHa1LE5zKHaL554\""
   ]
  },
  {
   "cell_type": "code",
   "execution_count": 9,
   "id": "a8a5d3d5",
   "metadata": {},
   "outputs": [],
   "source": [
    "driver = GraphDatabase.driver(uri,auth=(username,password))"
   ]
  },
  {
   "cell_type": "code",
   "execution_count": 10,
   "id": "05e180f1",
   "metadata": {},
   "outputs": [],
   "source": [
    "def create_node(transaction,name,age):\n",
    "    transaction.run(\"CREATE (:Person {name:$name,age:$age})\",name=name,age=age)\n",
    "\n",
    "with driver.session() as session:\n",
    "    session.execute_write(create_node,\"Arturs\",23)"
   ]
  },
  {
   "cell_type": "code",
   "execution_count": 13,
   "id": "e196b6c6",
   "metadata": {},
   "outputs": [],
   "source": [
    "def create_friendship(transaction,name1,name2):\n",
    "    transaction.run(\"MATCH (person1:Person {name:$name1}),(person2:Person {name:$name2}) CREATE (person1)-[:FRIEND_OF]->(person2)\",name1=name1,name2=name2)"
   ]
  },
  {
   "cell_type": "code",
   "execution_count": 14,
   "id": "f4650bd7",
   "metadata": {},
   "outputs": [],
   "source": [
    "with driver.session() as session:\n",
    "    session.execute_write(create_friendship,\"Arturs\",\"Bob\")"
   ]
  },
  {
   "cell_type": "code",
   "execution_count": 19,
   "id": "9a2eeea4",
   "metadata": {},
   "outputs": [],
   "source": [
    "def get_person(transaction,name):\n",
    "    result = transaction.run(\"MATCH (person:Person {name:$name}) RETURN person.name,person.age\",name=name)\n",
    "    return [{\"name\":record[\"person.name\"],\"age\":record[\"person.age\"]} for record in result]"
   ]
  },
  {
   "cell_type": "code",
   "execution_count": 20,
   "id": "bf51df96",
   "metadata": {},
   "outputs": [
    {
     "name": "stdout",
     "output_type": "stream",
     "text": [
      "[{'name': 'Bob', 'age': 20}]\n"
     ]
    }
   ],
   "source": [
    "with driver.session() as session:\n",
    "    result = session.execute_read(get_person,\"Bob\")\n",
    "    print(result)"
   ]
  },
  {
   "cell_type": "code",
   "execution_count": 21,
   "id": "8da7d924",
   "metadata": {},
   "outputs": [],
   "source": [
    "def get_person_with_friends(transaction,name):\n",
    "    result = transaction.run(\"MATCH (person:Person {name:$name})-[:FRIEND_OF]->(friend:Person) RETURN person.name,person.age,friend.name,friend.age\",name=name)\n",
    "    return [{\"name\":record[\"person.name\"],\"age\":record[\"person.age\"],\"friend_name\":record[\"friend.name\"],\"friend_age\":record[\"friend.age\"]} for record in result]"
   ]
  },
  {
   "cell_type": "code",
   "execution_count": 22,
   "id": "fe23c251",
   "metadata": {},
   "outputs": [
    {
     "name": "stdout",
     "output_type": "stream",
     "text": [
      "[{'name': 'Alice', 'age': 21, 'friend_name': 'Bob', 'friend_age': 20}, {'name': 'Alice', 'age': 21, 'friend_name': 'Jessica', 'friend_age': 20}]\n"
     ]
    }
   ],
   "source": [
    "with driver.session() as session:\n",
    "    result = session.execute_read(get_person_with_friends,\"Alice\")\n",
    "    print(result)"
   ]
  },
  {
   "cell_type": "code",
   "execution_count": 23,
   "id": "8c0fc500",
   "metadata": {},
   "outputs": [],
   "source": [
    "def update_age(transaction,name,age_upd):\n",
    "    transaction.run(\"MATCH (person:Person {name:$name}) SET person.age = $age_upd\",name=name,age_upd=age_upd)"
   ]
  },
  {
   "cell_type": "code",
   "execution_count": 24,
   "id": "4503cc76",
   "metadata": {},
   "outputs": [],
   "source": [
    "with driver.session() as session:\n",
    "    session.execute_write(update_age,\"Arturs\",25)"
   ]
  },
  {
   "cell_type": "code",
   "execution_count": 29,
   "id": "3e8ea785",
   "metadata": {},
   "outputs": [],
   "source": [
    "def get_friends_of_friends(transaction,name):\n",
    "    result = transaction.run(\"MATCH (person:Person {name:$name})-[:FRIEND_OF]->(:Person)-[:FRIEND_OF]->(fof) WHERE fof.name <> $name RETURN fof.name,fof.age\",name=name)\n",
    "    return [{\"name\":record[\"fof.name\"],\"age\":record[\"fof.age\"]} for record in result]"
   ]
  },
  {
   "cell_type": "code",
   "execution_count": 32,
   "id": "dbcbb26b",
   "metadata": {},
   "outputs": [
    {
     "name": "stdout",
     "output_type": "stream",
     "text": [
      "[{'name': 'Jessica', 'age': 20}]\n"
     ]
    }
   ],
   "source": [
    "with driver.session() as session:\n",
    "    results = session.execute_read(get_friends_of_friends,\"Bob\")\n",
    "    print(results)"
   ]
  },
  {
   "cell_type": "code",
   "execution_count": 40,
   "id": "c62f1301",
   "metadata": {},
   "outputs": [],
   "source": [
    "def get_parent_of_friend(transaction,name):\n",
    "    result = transaction.run(\"MATCH (person:Person {name:$name})-[:FRIEND_OF]->(friend:Person)<-[:PARENT]-(pof) RETURN friend.name,friend.age,pof.name,pof.age\",name=name)\n",
    "    return [{\"friend_name\":record[\"friend.name\"],\"friend_age\":record[\"friend.age\"],\"name\":record[\"pof.name\"],\"age\":record[\"pof.age\"]} for record in result]"
   ]
  },
  {
   "cell_type": "code",
   "execution_count": 41,
   "id": "2289f05e",
   "metadata": {},
   "outputs": [
    {
     "name": "stdout",
     "output_type": "stream",
     "text": [
      "[{'friend_name': 'Alice', 'friend_age': 21, 'name': 'Jack', 'age': 50}]\n"
     ]
    }
   ],
   "source": [
    "with driver.session() as session:\n",
    "    results = session.execute_read(get_parent_of_friend,\"Bob\")\n",
    "    print(results)"
   ]
  },
  {
   "cell_type": "code",
   "execution_count": 77,
   "id": "944caa45",
   "metadata": {},
   "outputs": [],
   "source": [
    "def find_shortest_path(transaction,name1,name2):\n",
    "    result = transaction.run(\"match (person1:Person {name:$name1}),(person2:Person {name:$name2}), path= SHORTESTPATH ((person1)-[*]->(person2)) RETURN nodes(path),relationships(path)\",name1=name1,name2=name2)\n",
    "    return [{\"nodes\":record[\"nodes(path)\"],\"relationships\":record[\"relationships(path)\"]} for record in result]"
   ]
  },
  {
   "cell_type": "code",
   "execution_count": 78,
   "id": "3ea76b1c",
   "metadata": {},
   "outputs": [],
   "source": [
    "with driver.session() as session:\n",
    "    results = session.execute_read(find_shortest_path,\"Arturs\",\"Alice\")\n",
    "    nodes = results[0][\"nodes\"]\n",
    "    relationships = results[0][\"relationships\"]"
   ]
  },
  {
   "cell_type": "code",
   "execution_count": 79,
   "id": "fb3c6dc4",
   "metadata": {},
   "outputs": [
    {
     "name": "stdout",
     "output_type": "stream",
     "text": [
      "Arturs\n",
      "Jessica\n",
      "Alice\n"
     ]
    }
   ],
   "source": [
    "for node in nodes:\n",
    "    print(node.get(\"name\"))"
   ]
  },
  {
   "cell_type": "code",
   "execution_count": 83,
   "id": "523be042",
   "metadata": {},
   "outputs": [
    {
     "name": "stdout",
     "output_type": "stream",
     "text": [
      "Arturs -> Jessica\n",
      "Jessica -> Alice\n"
     ]
    }
   ],
   "source": [
    "for relationship in relationships:\n",
    "    nodes = relationship.nodes\n",
    "    print(nodes[0].get(\"name\"),\"->\",nodes[1].get(\"name\"))"
   ]
  },
  {
   "cell_type": "code",
   "execution_count": null,
   "id": "da3c160d",
   "metadata": {},
   "outputs": [],
   "source": []
  }
 ],
 "metadata": {
  "kernelspec": {
   "display_name": "Python 3 (ipykernel)",
   "language": "python",
   "name": "python3"
  },
  "language_info": {
   "codemirror_mode": {
    "name": "ipython",
    "version": 3
   },
   "file_extension": ".py",
   "mimetype": "text/x-python",
   "name": "python",
   "nbconvert_exporter": "python",
   "pygments_lexer": "ipython3",
   "version": "3.10.11"
  }
 },
 "nbformat": 4,
 "nbformat_minor": 5
}
