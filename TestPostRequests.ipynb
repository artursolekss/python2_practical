{
 "cells": [
  {
   "cell_type": "code",
   "execution_count": 2,
   "id": "115345b0",
   "metadata": {},
   "outputs": [],
   "source": [
    "    import os\n",
    "    import requests\n",
    "    \n",
    "    client_id = os.environ[\"SPOTIPY_CLIENT_ID\"]\n",
    "    client_secret = os.environ[\"SPOTIPY_CLIENT_SECRET\"]\n",
    "    # code = request.GET.get(\"code\",'')\n",
    "    # enc_str = client_id + \":\" + client_secret\n",
    "    # headers = {\"Authorization\":\"Basic \" + str(base64.b64encode(enc_str.encode(\"ascii\"))),\n",
    "    #            \"Content-Type\":\"application/json; charset=utf-8\"}\n",
    "    body={\"grant_type\":\"client_credentials\",\n",
    "          \"client_id\":client_id,\n",
    "          \"client_secret\":client_secret}\n",
    "    response = requests.post(\"https://accounts.spotify.com/api/token\",body)\n",
    "    json_respose = response.json()"
   ]
  },
  {
   "cell_type": "code",
   "execution_count": 5,
   "id": "3f91b179",
   "metadata": {},
   "outputs": [],
   "source": [
    "token = json_respose.get(\"access_token\")"
   ]
  },
  {
   "cell_type": "code",
   "execution_count": 16,
   "id": "2d3e8c40",
   "metadata": {},
   "outputs": [],
   "source": [
    "base_url = 'https://api.spotify.com/v1/'\n",
    "#     token=request.GET.get(\"token\")\n",
    "headers = {\n",
    "    \"Authorization\":'Bearer {}'.format(token)\n",
    "}\n",
    "value = \"U2\"\n",
    "type_name = \"artist\"\n",
    "search_url = base_url + \"search?\"+'q={}'.format(value) + '&type={}'.format(type_name)\n",
    "response = requests.get(search_url,headers=headers)"
   ]
  },
  {
   "cell_type": "code",
   "execution_count": 21,
   "id": "b6e7a72d",
   "metadata": {},
   "outputs": [
    {
     "data": {
      "text/plain": [
       "{'external_urls': {'spotify': 'https://open.spotify.com/artist/51Blml2LZPmy7TTiAg47vQ'},\n",
       " 'followers': {'href': None, 'total': 11536951},\n",
       " 'genres': ['irish rock', 'permanent wave', 'rock'],\n",
       " 'href': 'https://api.spotify.com/v1/artists/51Blml2LZPmy7TTiAg47vQ',\n",
       " 'id': '51Blml2LZPmy7TTiAg47vQ',\n",
       " 'images': [{'height': 640,\n",
       "   'url': 'https://i.scdn.co/image/ab6761610000e5ebbfdf5b8c863b5f8c4519e032',\n",
       "   'width': 640},\n",
       "  {'height': 320,\n",
       "   'url': 'https://i.scdn.co/image/ab67616100005174bfdf5b8c863b5f8c4519e032',\n",
       "   'width': 320},\n",
       "  {'height': 160,\n",
       "   'url': 'https://i.scdn.co/image/ab6761610000f178bfdf5b8c863b5f8c4519e032',\n",
       "   'width': 160}],\n",
       " 'name': 'U2',\n",
       " 'popularity': 76,\n",
       " 'type': 'artist',\n",
       " 'uri': 'spotify:artist:51Blml2LZPmy7TTiAg47vQ'}"
      ]
     },
     "execution_count": 21,
     "metadata": {},
     "output_type": "execute_result"
    }
   ],
   "source": [
    "response.json().get(\"artists\").get(\"items\")[0]"
   ]
  },
  {
   "cell_type": "code",
   "execution_count": null,
   "id": "7a1ff7a2",
   "metadata": {},
   "outputs": [],
   "source": []
  }
 ],
 "metadata": {
  "kernelspec": {
   "display_name": "Python 3 (ipykernel)",
   "language": "python",
   "name": "python3"
  },
  "language_info": {
   "codemirror_mode": {
    "name": "ipython",
    "version": 3
   },
   "file_extension": ".py",
   "mimetype": "text/x-python",
   "name": "python",
   "nbconvert_exporter": "python",
   "pygments_lexer": "ipython3",
   "version": "3.10.11"
  }
 },
 "nbformat": 4,
 "nbformat_minor": 5
}
