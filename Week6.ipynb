{
 "cells": [
  {
   "cell_type": "code",
   "execution_count": 5,
   "id": "0e4e6ecb",
   "metadata": {},
   "outputs": [],
   "source": [
    "def test_decorator(variable_1=5,variable_2=10):\n",
    "    print(variable_2) "
   ]
  },
  {
   "cell_type": "code",
   "execution_count": 6,
   "id": "363b5824",
   "metadata": {},
   "outputs": [
    {
     "name": "stdout",
     "output_type": "stream",
     "text": [
      "10\n"
     ]
    }
   ],
   "source": [
    "@test_decorator\n",
    "class Person:\n",
    "    pass\n",
    "def funct_1():\n",
    "    pass"
   ]
  },
  {
   "cell_type": "code",
   "execution_count": null,
   "id": "747416a5",
   "metadata": {},
   "outputs": [],
   "source": []
  }
 ],
 "metadata": {
  "kernelspec": {
   "display_name": "Python 3 (ipykernel)",
   "language": "python",
   "name": "python3"
  },
  "language_info": {
   "codemirror_mode": {
    "name": "ipython",
    "version": 3
   },
   "file_extension": ".py",
   "mimetype": "text/x-python",
   "name": "python",
   "nbconvert_exporter": "python",
   "pygments_lexer": "ipython3",
   "version": "3.10.11"
  }
 },
 "nbformat": 4,
 "nbformat_minor": 5
}
