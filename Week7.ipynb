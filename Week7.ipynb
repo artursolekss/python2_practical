{
 "cells": [
  {
   "cell_type": "code",
   "execution_count": 86,
   "id": "52eb948b",
   "metadata": {},
   "outputs": [],
   "source": [
    "import pandas as pa\n",
    "import statsmodels.api as sm\n",
    "import matplotlib.pyplot as plt\n",
    "import numpy as np\n",
    "import seaborn as sbn"
   ]
  },
  {
   "cell_type": "code",
   "execution_count": 4,
   "id": "9096c97e",
   "metadata": {},
   "outputs": [],
   "source": [
    "red_wine_data = pa.read_csv(\"winequality-red.csv\",delimiter=\";\")"
   ]
  },
  {
   "cell_type": "code",
   "execution_count": 5,
   "id": "69154482",
   "metadata": {},
   "outputs": [
    {
     "data": {
      "text/html": [
       "<div>\n",
       "<style scoped>\n",
       "    .dataframe tbody tr th:only-of-type {\n",
       "        vertical-align: middle;\n",
       "    }\n",
       "\n",
       "    .dataframe tbody tr th {\n",
       "        vertical-align: top;\n",
       "    }\n",
       "\n",
       "    .dataframe thead th {\n",
       "        text-align: right;\n",
       "    }\n",
       "</style>\n",
       "<table border=\"1\" class=\"dataframe\">\n",
       "  <thead>\n",
       "    <tr style=\"text-align: right;\">\n",
       "      <th></th>\n",
       "      <th>fixed acidity</th>\n",
       "      <th>volatile acidity</th>\n",
       "      <th>citric acid</th>\n",
       "      <th>residual sugar</th>\n",
       "      <th>chlorides</th>\n",
       "      <th>free sulfur dioxide</th>\n",
       "      <th>total sulfur dioxide</th>\n",
       "      <th>density</th>\n",
       "      <th>pH</th>\n",
       "      <th>sulphates</th>\n",
       "      <th>alcohol</th>\n",
       "      <th>quality</th>\n",
       "    </tr>\n",
       "  </thead>\n",
       "  <tbody>\n",
       "    <tr>\n",
       "      <th>0</th>\n",
       "      <td>7.4</td>\n",
       "      <td>0.700</td>\n",
       "      <td>0.00</td>\n",
       "      <td>1.9</td>\n",
       "      <td>0.076</td>\n",
       "      <td>11.0</td>\n",
       "      <td>34.0</td>\n",
       "      <td>0.99780</td>\n",
       "      <td>3.51</td>\n",
       "      <td>0.56</td>\n",
       "      <td>9.4</td>\n",
       "      <td>5</td>\n",
       "    </tr>\n",
       "    <tr>\n",
       "      <th>1</th>\n",
       "      <td>7.8</td>\n",
       "      <td>0.880</td>\n",
       "      <td>0.00</td>\n",
       "      <td>2.6</td>\n",
       "      <td>0.098</td>\n",
       "      <td>25.0</td>\n",
       "      <td>67.0</td>\n",
       "      <td>0.99680</td>\n",
       "      <td>3.20</td>\n",
       "      <td>0.68</td>\n",
       "      <td>9.8</td>\n",
       "      <td>5</td>\n",
       "    </tr>\n",
       "    <tr>\n",
       "      <th>2</th>\n",
       "      <td>7.8</td>\n",
       "      <td>0.760</td>\n",
       "      <td>0.04</td>\n",
       "      <td>2.3</td>\n",
       "      <td>0.092</td>\n",
       "      <td>15.0</td>\n",
       "      <td>54.0</td>\n",
       "      <td>0.99700</td>\n",
       "      <td>3.26</td>\n",
       "      <td>0.65</td>\n",
       "      <td>9.8</td>\n",
       "      <td>5</td>\n",
       "    </tr>\n",
       "    <tr>\n",
       "      <th>3</th>\n",
       "      <td>11.2</td>\n",
       "      <td>0.280</td>\n",
       "      <td>0.56</td>\n",
       "      <td>1.9</td>\n",
       "      <td>0.075</td>\n",
       "      <td>17.0</td>\n",
       "      <td>60.0</td>\n",
       "      <td>0.99800</td>\n",
       "      <td>3.16</td>\n",
       "      <td>0.58</td>\n",
       "      <td>9.8</td>\n",
       "      <td>6</td>\n",
       "    </tr>\n",
       "    <tr>\n",
       "      <th>4</th>\n",
       "      <td>7.4</td>\n",
       "      <td>0.700</td>\n",
       "      <td>0.00</td>\n",
       "      <td>1.9</td>\n",
       "      <td>0.076</td>\n",
       "      <td>11.0</td>\n",
       "      <td>34.0</td>\n",
       "      <td>0.99780</td>\n",
       "      <td>3.51</td>\n",
       "      <td>0.56</td>\n",
       "      <td>9.4</td>\n",
       "      <td>5</td>\n",
       "    </tr>\n",
       "    <tr>\n",
       "      <th>...</th>\n",
       "      <td>...</td>\n",
       "      <td>...</td>\n",
       "      <td>...</td>\n",
       "      <td>...</td>\n",
       "      <td>...</td>\n",
       "      <td>...</td>\n",
       "      <td>...</td>\n",
       "      <td>...</td>\n",
       "      <td>...</td>\n",
       "      <td>...</td>\n",
       "      <td>...</td>\n",
       "      <td>...</td>\n",
       "    </tr>\n",
       "    <tr>\n",
       "      <th>1594</th>\n",
       "      <td>6.2</td>\n",
       "      <td>0.600</td>\n",
       "      <td>0.08</td>\n",
       "      <td>2.0</td>\n",
       "      <td>0.090</td>\n",
       "      <td>32.0</td>\n",
       "      <td>44.0</td>\n",
       "      <td>0.99490</td>\n",
       "      <td>3.45</td>\n",
       "      <td>0.58</td>\n",
       "      <td>10.5</td>\n",
       "      <td>5</td>\n",
       "    </tr>\n",
       "    <tr>\n",
       "      <th>1595</th>\n",
       "      <td>5.9</td>\n",
       "      <td>0.550</td>\n",
       "      <td>0.10</td>\n",
       "      <td>2.2</td>\n",
       "      <td>0.062</td>\n",
       "      <td>39.0</td>\n",
       "      <td>51.0</td>\n",
       "      <td>0.99512</td>\n",
       "      <td>3.52</td>\n",
       "      <td>0.76</td>\n",
       "      <td>11.2</td>\n",
       "      <td>6</td>\n",
       "    </tr>\n",
       "    <tr>\n",
       "      <th>1596</th>\n",
       "      <td>6.3</td>\n",
       "      <td>0.510</td>\n",
       "      <td>0.13</td>\n",
       "      <td>2.3</td>\n",
       "      <td>0.076</td>\n",
       "      <td>29.0</td>\n",
       "      <td>40.0</td>\n",
       "      <td>0.99574</td>\n",
       "      <td>3.42</td>\n",
       "      <td>0.75</td>\n",
       "      <td>11.0</td>\n",
       "      <td>6</td>\n",
       "    </tr>\n",
       "    <tr>\n",
       "      <th>1597</th>\n",
       "      <td>5.9</td>\n",
       "      <td>0.645</td>\n",
       "      <td>0.12</td>\n",
       "      <td>2.0</td>\n",
       "      <td>0.075</td>\n",
       "      <td>32.0</td>\n",
       "      <td>44.0</td>\n",
       "      <td>0.99547</td>\n",
       "      <td>3.57</td>\n",
       "      <td>0.71</td>\n",
       "      <td>10.2</td>\n",
       "      <td>5</td>\n",
       "    </tr>\n",
       "    <tr>\n",
       "      <th>1598</th>\n",
       "      <td>6.0</td>\n",
       "      <td>0.310</td>\n",
       "      <td>0.47</td>\n",
       "      <td>3.6</td>\n",
       "      <td>0.067</td>\n",
       "      <td>18.0</td>\n",
       "      <td>42.0</td>\n",
       "      <td>0.99549</td>\n",
       "      <td>3.39</td>\n",
       "      <td>0.66</td>\n",
       "      <td>11.0</td>\n",
       "      <td>6</td>\n",
       "    </tr>\n",
       "  </tbody>\n",
       "</table>\n",
       "<p>1599 rows × 12 columns</p>\n",
       "</div>"
      ],
      "text/plain": [
       "      fixed acidity  volatile acidity  citric acid  residual sugar  chlorides  \\\n",
       "0               7.4             0.700         0.00             1.9      0.076   \n",
       "1               7.8             0.880         0.00             2.6      0.098   \n",
       "2               7.8             0.760         0.04             2.3      0.092   \n",
       "3              11.2             0.280         0.56             1.9      0.075   \n",
       "4               7.4             0.700         0.00             1.9      0.076   \n",
       "...             ...               ...          ...             ...        ...   \n",
       "1594            6.2             0.600         0.08             2.0      0.090   \n",
       "1595            5.9             0.550         0.10             2.2      0.062   \n",
       "1596            6.3             0.510         0.13             2.3      0.076   \n",
       "1597            5.9             0.645         0.12             2.0      0.075   \n",
       "1598            6.0             0.310         0.47             3.6      0.067   \n",
       "\n",
       "      free sulfur dioxide  total sulfur dioxide  density    pH  sulphates  \\\n",
       "0                    11.0                  34.0  0.99780  3.51       0.56   \n",
       "1                    25.0                  67.0  0.99680  3.20       0.68   \n",
       "2                    15.0                  54.0  0.99700  3.26       0.65   \n",
       "3                    17.0                  60.0  0.99800  3.16       0.58   \n",
       "4                    11.0                  34.0  0.99780  3.51       0.56   \n",
       "...                   ...                   ...      ...   ...        ...   \n",
       "1594                 32.0                  44.0  0.99490  3.45       0.58   \n",
       "1595                 39.0                  51.0  0.99512  3.52       0.76   \n",
       "1596                 29.0                  40.0  0.99574  3.42       0.75   \n",
       "1597                 32.0                  44.0  0.99547  3.57       0.71   \n",
       "1598                 18.0                  42.0  0.99549  3.39       0.66   \n",
       "\n",
       "      alcohol  quality  \n",
       "0         9.4        5  \n",
       "1         9.8        5  \n",
       "2         9.8        5  \n",
       "3         9.8        6  \n",
       "4         9.4        5  \n",
       "...       ...      ...  \n",
       "1594     10.5        5  \n",
       "1595     11.2        6  \n",
       "1596     11.0        6  \n",
       "1597     10.2        5  \n",
       "1598     11.0        6  \n",
       "\n",
       "[1599 rows x 12 columns]"
      ]
     },
     "execution_count": 5,
     "metadata": {},
     "output_type": "execute_result"
    }
   ],
   "source": [
    "red_wine_data"
   ]
  },
  {
   "cell_type": "code",
   "execution_count": 40,
   "id": "fd1414e1",
   "metadata": {},
   "outputs": [],
   "source": [
    "y = red_wine_data[\"quality\"]"
   ]
  },
  {
   "cell_type": "code",
   "execution_count": 41,
   "id": "3e853c5d",
   "metadata": {},
   "outputs": [],
   "source": [
    "variable_names = list(red_wine_data.columns)[:-1]"
   ]
  },
  {
   "cell_type": "code",
   "execution_count": 42,
   "id": "75232ece",
   "metadata": {},
   "outputs": [],
   "source": [
    "X = red_wine_data[variable_names]"
   ]
  },
  {
   "cell_type": "code",
   "execution_count": 43,
   "id": "4d1f5aea",
   "metadata": {},
   "outputs": [],
   "source": [
    "X = sm.add_constant(X)"
   ]
  },
  {
   "cell_type": "code",
   "execution_count": 44,
   "id": "34836b6e",
   "metadata": {},
   "outputs": [],
   "source": [
    "model = sm.OLS(y,X)"
   ]
  },
  {
   "cell_type": "code",
   "execution_count": 45,
   "id": "9b98794b",
   "metadata": {},
   "outputs": [],
   "source": [
    "results = model.fit()"
   ]
  },
  {
   "cell_type": "code",
   "execution_count": 46,
   "id": "410d3066",
   "metadata": {},
   "outputs": [
    {
     "data": {
      "text/html": [
       "<table class=\"simpletable\">\n",
       "<caption>OLS Regression Results</caption>\n",
       "<tr>\n",
       "  <th>Dep. Variable:</th>         <td>quality</td>     <th>  R-squared:         </th> <td>   0.361</td> \n",
       "</tr>\n",
       "<tr>\n",
       "  <th>Model:</th>                   <td>OLS</td>       <th>  Adj. R-squared:    </th> <td>   0.356</td> \n",
       "</tr>\n",
       "<tr>\n",
       "  <th>Method:</th>             <td>Least Squares</td>  <th>  F-statistic:       </th> <td>   81.35</td> \n",
       "</tr>\n",
       "<tr>\n",
       "  <th>Date:</th>             <td>Mon, 24 Jul 2023</td> <th>  Prob (F-statistic):</th> <td>1.79e-145</td>\n",
       "</tr>\n",
       "<tr>\n",
       "  <th>Time:</th>                 <td>18:57:34</td>     <th>  Log-Likelihood:    </th> <td> -1569.1</td> \n",
       "</tr>\n",
       "<tr>\n",
       "  <th>No. Observations:</th>      <td>  1599</td>      <th>  AIC:               </th> <td>   3162.</td> \n",
       "</tr>\n",
       "<tr>\n",
       "  <th>Df Residuals:</th>          <td>  1587</td>      <th>  BIC:               </th> <td>   3227.</td> \n",
       "</tr>\n",
       "<tr>\n",
       "  <th>Df Model:</th>              <td>    11</td>      <th>                     </th>     <td> </td>    \n",
       "</tr>\n",
       "<tr>\n",
       "  <th>Covariance Type:</th>      <td>nonrobust</td>    <th>                     </th>     <td> </td>    \n",
       "</tr>\n",
       "</table>\n",
       "<table class=\"simpletable\">\n",
       "<tr>\n",
       "            <td></td>              <th>coef</th>     <th>std err</th>      <th>t</th>      <th>P>|t|</th>  <th>[0.025</th>    <th>0.975]</th>  \n",
       "</tr>\n",
       "<tr>\n",
       "  <th>const</th>                <td>   21.9652</td> <td>   21.195</td> <td>    1.036</td> <td> 0.300</td> <td>  -19.607</td> <td>   63.538</td>\n",
       "</tr>\n",
       "<tr>\n",
       "  <th>fixed acidity</th>        <td>    0.0250</td> <td>    0.026</td> <td>    0.963</td> <td> 0.336</td> <td>   -0.026</td> <td>    0.076</td>\n",
       "</tr>\n",
       "<tr>\n",
       "  <th>volatile acidity</th>     <td>   -1.0836</td> <td>    0.121</td> <td>   -8.948</td> <td> 0.000</td> <td>   -1.321</td> <td>   -0.846</td>\n",
       "</tr>\n",
       "<tr>\n",
       "  <th>citric acid</th>          <td>   -0.1826</td> <td>    0.147</td> <td>   -1.240</td> <td> 0.215</td> <td>   -0.471</td> <td>    0.106</td>\n",
       "</tr>\n",
       "<tr>\n",
       "  <th>residual sugar</th>       <td>    0.0163</td> <td>    0.015</td> <td>    1.089</td> <td> 0.276</td> <td>   -0.013</td> <td>    0.046</td>\n",
       "</tr>\n",
       "<tr>\n",
       "  <th>chlorides</th>            <td>   -1.8742</td> <td>    0.419</td> <td>   -4.470</td> <td> 0.000</td> <td>   -2.697</td> <td>   -1.052</td>\n",
       "</tr>\n",
       "<tr>\n",
       "  <th>free sulfur dioxide</th>  <td>    0.0044</td> <td>    0.002</td> <td>    2.009</td> <td> 0.045</td> <td>    0.000</td> <td>    0.009</td>\n",
       "</tr>\n",
       "<tr>\n",
       "  <th>total sulfur dioxide</th> <td>   -0.0033</td> <td>    0.001</td> <td>   -4.480</td> <td> 0.000</td> <td>   -0.005</td> <td>   -0.002</td>\n",
       "</tr>\n",
       "<tr>\n",
       "  <th>density</th>              <td>  -17.8812</td> <td>   21.633</td> <td>   -0.827</td> <td> 0.409</td> <td>  -60.314</td> <td>   24.551</td>\n",
       "</tr>\n",
       "<tr>\n",
       "  <th>pH</th>                   <td>   -0.4137</td> <td>    0.192</td> <td>   -2.159</td> <td> 0.031</td> <td>   -0.789</td> <td>   -0.038</td>\n",
       "</tr>\n",
       "<tr>\n",
       "  <th>sulphates</th>            <td>    0.9163</td> <td>    0.114</td> <td>    8.014</td> <td> 0.000</td> <td>    0.692</td> <td>    1.141</td>\n",
       "</tr>\n",
       "<tr>\n",
       "  <th>alcohol</th>              <td>    0.2762</td> <td>    0.026</td> <td>   10.429</td> <td> 0.000</td> <td>    0.224</td> <td>    0.328</td>\n",
       "</tr>\n",
       "</table>\n",
       "<table class=\"simpletable\">\n",
       "<tr>\n",
       "  <th>Omnibus:</th>       <td>27.376</td> <th>  Durbin-Watson:     </th> <td>   1.757</td>\n",
       "</tr>\n",
       "<tr>\n",
       "  <th>Prob(Omnibus):</th> <td> 0.000</td> <th>  Jarque-Bera (JB):  </th> <td>  40.965</td>\n",
       "</tr>\n",
       "<tr>\n",
       "  <th>Skew:</th>          <td>-0.168</td> <th>  Prob(JB):          </th> <td>1.27e-09</td>\n",
       "</tr>\n",
       "<tr>\n",
       "  <th>Kurtosis:</th>      <td> 3.708</td> <th>  Cond. No.          </th> <td>1.13e+05</td>\n",
       "</tr>\n",
       "</table><br/><br/>Notes:<br/>[1] Standard Errors assume that the covariance matrix of the errors is correctly specified.<br/>[2] The condition number is large, 1.13e+05. This might indicate that there are<br/>strong multicollinearity or other numerical problems."
      ],
      "text/latex": [
       "\\begin{center}\n",
       "\\begin{tabular}{lclc}\n",
       "\\toprule\n",
       "\\textbf{Dep. Variable:}       &     quality      & \\textbf{  R-squared:         } &     0.361   \\\\\n",
       "\\textbf{Model:}               &       OLS        & \\textbf{  Adj. R-squared:    } &     0.356   \\\\\n",
       "\\textbf{Method:}              &  Least Squares   & \\textbf{  F-statistic:       } &     81.35   \\\\\n",
       "\\textbf{Date:}                & Mon, 24 Jul 2023 & \\textbf{  Prob (F-statistic):} & 1.79e-145   \\\\\n",
       "\\textbf{Time:}                &     18:57:34     & \\textbf{  Log-Likelihood:    } &   -1569.1   \\\\\n",
       "\\textbf{No. Observations:}    &        1599      & \\textbf{  AIC:               } &     3162.   \\\\\n",
       "\\textbf{Df Residuals:}        &        1587      & \\textbf{  BIC:               } &     3227.   \\\\\n",
       "\\textbf{Df Model:}            &          11      & \\textbf{                     } &             \\\\\n",
       "\\textbf{Covariance Type:}     &    nonrobust     & \\textbf{                     } &             \\\\\n",
       "\\bottomrule\n",
       "\\end{tabular}\n",
       "\\begin{tabular}{lcccccc}\n",
       "                              & \\textbf{coef} & \\textbf{std err} & \\textbf{t} & \\textbf{P$> |$t$|$} & \\textbf{[0.025} & \\textbf{0.975]}  \\\\\n",
       "\\midrule\n",
       "\\textbf{const}                &      21.9652  &       21.195     &     1.036  &         0.300        &      -19.607    &       63.538     \\\\\n",
       "\\textbf{fixed acidity}        &       0.0250  &        0.026     &     0.963  &         0.336        &       -0.026    &        0.076     \\\\\n",
       "\\textbf{volatile acidity}     &      -1.0836  &        0.121     &    -8.948  &         0.000        &       -1.321    &       -0.846     \\\\\n",
       "\\textbf{citric acid}          &      -0.1826  &        0.147     &    -1.240  &         0.215        &       -0.471    &        0.106     \\\\\n",
       "\\textbf{residual sugar}       &       0.0163  &        0.015     &     1.089  &         0.276        &       -0.013    &        0.046     \\\\\n",
       "\\textbf{chlorides}            &      -1.8742  &        0.419     &    -4.470  &         0.000        &       -2.697    &       -1.052     \\\\\n",
       "\\textbf{free sulfur dioxide}  &       0.0044  &        0.002     &     2.009  &         0.045        &        0.000    &        0.009     \\\\\n",
       "\\textbf{total sulfur dioxide} &      -0.0033  &        0.001     &    -4.480  &         0.000        &       -0.005    &       -0.002     \\\\\n",
       "\\textbf{density}              &     -17.8812  &       21.633     &    -0.827  &         0.409        &      -60.314    &       24.551     \\\\\n",
       "\\textbf{pH}                   &      -0.4137  &        0.192     &    -2.159  &         0.031        &       -0.789    &       -0.038     \\\\\n",
       "\\textbf{sulphates}            &       0.9163  &        0.114     &     8.014  &         0.000        &        0.692    &        1.141     \\\\\n",
       "\\textbf{alcohol}              &       0.2762  &        0.026     &    10.429  &         0.000        &        0.224    &        0.328     \\\\\n",
       "\\bottomrule\n",
       "\\end{tabular}\n",
       "\\begin{tabular}{lclc}\n",
       "\\textbf{Omnibus:}       & 27.376 & \\textbf{  Durbin-Watson:     } &    1.757  \\\\\n",
       "\\textbf{Prob(Omnibus):} &  0.000 & \\textbf{  Jarque-Bera (JB):  } &   40.965  \\\\\n",
       "\\textbf{Skew:}          & -0.168 & \\textbf{  Prob(JB):          } & 1.27e-09  \\\\\n",
       "\\textbf{Kurtosis:}      &  3.708 & \\textbf{  Cond. No.          } & 1.13e+05  \\\\\n",
       "\\bottomrule\n",
       "\\end{tabular}\n",
       "%\\caption{OLS Regression Results}\n",
       "\\end{center}\n",
       "\n",
       "Notes: \\newline\n",
       " [1] Standard Errors assume that the covariance matrix of the errors is correctly specified. \\newline\n",
       " [2] The condition number is large, 1.13e+05. This might indicate that there are \\newline\n",
       " strong multicollinearity or other numerical problems."
      ],
      "text/plain": [
       "<class 'statsmodels.iolib.summary.Summary'>\n",
       "\"\"\"\n",
       "                            OLS Regression Results                            \n",
       "==============================================================================\n",
       "Dep. Variable:                quality   R-squared:                       0.361\n",
       "Model:                            OLS   Adj. R-squared:                  0.356\n",
       "Method:                 Least Squares   F-statistic:                     81.35\n",
       "Date:                Mon, 24 Jul 2023   Prob (F-statistic):          1.79e-145\n",
       "Time:                        18:57:34   Log-Likelihood:                -1569.1\n",
       "No. Observations:                1599   AIC:                             3162.\n",
       "Df Residuals:                    1587   BIC:                             3227.\n",
       "Df Model:                          11                                         \n",
       "Covariance Type:            nonrobust                                         \n",
       "========================================================================================\n",
       "                           coef    std err          t      P>|t|      [0.025      0.975]\n",
       "----------------------------------------------------------------------------------------\n",
       "const                   21.9652     21.195      1.036      0.300     -19.607      63.538\n",
       "fixed acidity            0.0250      0.026      0.963      0.336      -0.026       0.076\n",
       "volatile acidity        -1.0836      0.121     -8.948      0.000      -1.321      -0.846\n",
       "citric acid             -0.1826      0.147     -1.240      0.215      -0.471       0.106\n",
       "residual sugar           0.0163      0.015      1.089      0.276      -0.013       0.046\n",
       "chlorides               -1.8742      0.419     -4.470      0.000      -2.697      -1.052\n",
       "free sulfur dioxide      0.0044      0.002      2.009      0.045       0.000       0.009\n",
       "total sulfur dioxide    -0.0033      0.001     -4.480      0.000      -0.005      -0.002\n",
       "density                -17.8812     21.633     -0.827      0.409     -60.314      24.551\n",
       "pH                      -0.4137      0.192     -2.159      0.031      -0.789      -0.038\n",
       "sulphates                0.9163      0.114      8.014      0.000       0.692       1.141\n",
       "alcohol                  0.2762      0.026     10.429      0.000       0.224       0.328\n",
       "==============================================================================\n",
       "Omnibus:                       27.376   Durbin-Watson:                   1.757\n",
       "Prob(Omnibus):                  0.000   Jarque-Bera (JB):               40.965\n",
       "Skew:                          -0.168   Prob(JB):                     1.27e-09\n",
       "Kurtosis:                       3.708   Cond. No.                     1.13e+05\n",
       "==============================================================================\n",
       "\n",
       "Notes:\n",
       "[1] Standard Errors assume that the covariance matrix of the errors is correctly specified.\n",
       "[2] The condition number is large, 1.13e+05. This might indicate that there are\n",
       "strong multicollinearity or other numerical problems.\n",
       "\"\"\""
      ]
     },
     "execution_count": 46,
     "metadata": {},
     "output_type": "execute_result"
    }
   ],
   "source": [
    "results.summary()"
   ]
  },
  {
   "cell_type": "code",
   "execution_count": 33,
   "id": "fe90b967",
   "metadata": {},
   "outputs": [],
   "source": [
    "significant_factors = list(results.pvalues[results.pvalues <= 0.05].index)"
   ]
  },
  {
   "cell_type": "code",
   "execution_count": 34,
   "id": "056e0b3b",
   "metadata": {},
   "outputs": [],
   "source": [
    "X_reduc = red_wine_data[significant_factors]"
   ]
  },
  {
   "cell_type": "code",
   "execution_count": 36,
   "id": "b1590ca1",
   "metadata": {},
   "outputs": [],
   "source": [
    "x_model_adj = sm.add_constant(X_reduc)"
   ]
  },
  {
   "cell_type": "code",
   "execution_count": 37,
   "id": "c68af070",
   "metadata": {},
   "outputs": [],
   "source": [
    "model_adj = sm.OLS(y,x_model_adj)"
   ]
  },
  {
   "cell_type": "code",
   "execution_count": 38,
   "id": "93d67887",
   "metadata": {},
   "outputs": [],
   "source": [
    "results_adj = model_adj.fit()"
   ]
  },
  {
   "cell_type": "code",
   "execution_count": 39,
   "id": "2889a9f9",
   "metadata": {},
   "outputs": [
    {
     "data": {
      "text/html": [
       "<table class=\"simpletable\">\n",
       "<caption>OLS Regression Results</caption>\n",
       "<tr>\n",
       "  <th>Dep. Variable:</th>         <td>quality</td>     <th>  R-squared:         </th> <td>   0.359</td> \n",
       "</tr>\n",
       "<tr>\n",
       "  <th>Model:</th>                   <td>OLS</td>       <th>  Adj. R-squared:    </th> <td>   0.357</td> \n",
       "</tr>\n",
       "<tr>\n",
       "  <th>Method:</th>             <td>Least Squares</td>  <th>  F-statistic:       </th> <td>   127.6</td> \n",
       "</tr>\n",
       "<tr>\n",
       "  <th>Date:</th>             <td>Mon, 24 Jul 2023</td> <th>  Prob (F-statistic):</th> <td>5.32e-149</td>\n",
       "</tr>\n",
       "<tr>\n",
       "  <th>Time:</th>                 <td>18:55:37</td>     <th>  Log-Likelihood:    </th> <td> -1570.5</td> \n",
       "</tr>\n",
       "<tr>\n",
       "  <th>No. Observations:</th>      <td>  1599</td>      <th>  AIC:               </th> <td>   3157.</td> \n",
       "</tr>\n",
       "<tr>\n",
       "  <th>Df Residuals:</th>          <td>  1591</td>      <th>  BIC:               </th> <td>   3200.</td> \n",
       "</tr>\n",
       "<tr>\n",
       "  <th>Df Model:</th>              <td>     7</td>      <th>                     </th>     <td> </td>    \n",
       "</tr>\n",
       "<tr>\n",
       "  <th>Covariance Type:</th>      <td>nonrobust</td>    <th>                     </th>     <td> </td>    \n",
       "</tr>\n",
       "</table>\n",
       "<table class=\"simpletable\">\n",
       "<tr>\n",
       "            <td></td>              <th>coef</th>     <th>std err</th>      <th>t</th>      <th>P>|t|</th>  <th>[0.025</th>    <th>0.975]</th>  \n",
       "</tr>\n",
       "<tr>\n",
       "  <th>const</th>                <td>    4.4301</td> <td>    0.403</td> <td>   10.995</td> <td> 0.000</td> <td>    3.640</td> <td>    5.220</td>\n",
       "</tr>\n",
       "<tr>\n",
       "  <th>volatile acidity</th>     <td>   -1.0128</td> <td>    0.101</td> <td>  -10.043</td> <td> 0.000</td> <td>   -1.211</td> <td>   -0.815</td>\n",
       "</tr>\n",
       "<tr>\n",
       "  <th>chlorides</th>            <td>   -2.0178</td> <td>    0.398</td> <td>   -5.076</td> <td> 0.000</td> <td>   -2.798</td> <td>   -1.238</td>\n",
       "</tr>\n",
       "<tr>\n",
       "  <th>free sulfur dioxide</th>  <td>    0.0051</td> <td>    0.002</td> <td>    2.389</td> <td> 0.017</td> <td>    0.001</td> <td>    0.009</td>\n",
       "</tr>\n",
       "<tr>\n",
       "  <th>total sulfur dioxide</th> <td>   -0.0035</td> <td>    0.001</td> <td>   -5.070</td> <td> 0.000</td> <td>   -0.005</td> <td>   -0.002</td>\n",
       "</tr>\n",
       "<tr>\n",
       "  <th>pH</th>                   <td>   -0.4827</td> <td>    0.118</td> <td>   -4.106</td> <td> 0.000</td> <td>   -0.713</td> <td>   -0.252</td>\n",
       "</tr>\n",
       "<tr>\n",
       "  <th>sulphates</th>            <td>    0.8827</td> <td>    0.110</td> <td>    8.031</td> <td> 0.000</td> <td>    0.667</td> <td>    1.098</td>\n",
       "</tr>\n",
       "<tr>\n",
       "  <th>alcohol</th>              <td>    0.2893</td> <td>    0.017</td> <td>   17.225</td> <td> 0.000</td> <td>    0.256</td> <td>    0.322</td>\n",
       "</tr>\n",
       "</table>\n",
       "<table class=\"simpletable\">\n",
       "<tr>\n",
       "  <th>Omnibus:</th>       <td>24.204</td> <th>  Durbin-Watson:     </th> <td>   1.750</td>\n",
       "</tr>\n",
       "<tr>\n",
       "  <th>Prob(Omnibus):</th> <td> 0.000</td> <th>  Jarque-Bera (JB):  </th> <td>  35.245</td>\n",
       "</tr>\n",
       "<tr>\n",
       "  <th>Skew:</th>          <td>-0.156</td> <th>  Prob(JB):          </th> <td>2.22e-08</td>\n",
       "</tr>\n",
       "<tr>\n",
       "  <th>Kurtosis:</th>      <td> 3.657</td> <th>  Cond. No.          </th> <td>1.71e+03</td>\n",
       "</tr>\n",
       "</table><br/><br/>Notes:<br/>[1] Standard Errors assume that the covariance matrix of the errors is correctly specified.<br/>[2] The condition number is large, 1.71e+03. This might indicate that there are<br/>strong multicollinearity or other numerical problems."
      ],
      "text/latex": [
       "\\begin{center}\n",
       "\\begin{tabular}{lclc}\n",
       "\\toprule\n",
       "\\textbf{Dep. Variable:}       &     quality      & \\textbf{  R-squared:         } &     0.359   \\\\\n",
       "\\textbf{Model:}               &       OLS        & \\textbf{  Adj. R-squared:    } &     0.357   \\\\\n",
       "\\textbf{Method:}              &  Least Squares   & \\textbf{  F-statistic:       } &     127.6   \\\\\n",
       "\\textbf{Date:}                & Mon, 24 Jul 2023 & \\textbf{  Prob (F-statistic):} & 5.32e-149   \\\\\n",
       "\\textbf{Time:}                &     18:55:37     & \\textbf{  Log-Likelihood:    } &   -1570.5   \\\\\n",
       "\\textbf{No. Observations:}    &        1599      & \\textbf{  AIC:               } &     3157.   \\\\\n",
       "\\textbf{Df Residuals:}        &        1591      & \\textbf{  BIC:               } &     3200.   \\\\\n",
       "\\textbf{Df Model:}            &           7      & \\textbf{                     } &             \\\\\n",
       "\\textbf{Covariance Type:}     &    nonrobust     & \\textbf{                     } &             \\\\\n",
       "\\bottomrule\n",
       "\\end{tabular}\n",
       "\\begin{tabular}{lcccccc}\n",
       "                              & \\textbf{coef} & \\textbf{std err} & \\textbf{t} & \\textbf{P$> |$t$|$} & \\textbf{[0.025} & \\textbf{0.975]}  \\\\\n",
       "\\midrule\n",
       "\\textbf{const}                &       4.4301  &        0.403     &    10.995  &         0.000        &        3.640    &        5.220     \\\\\n",
       "\\textbf{volatile acidity}     &      -1.0128  &        0.101     &   -10.043  &         0.000        &       -1.211    &       -0.815     \\\\\n",
       "\\textbf{chlorides}            &      -2.0178  &        0.398     &    -5.076  &         0.000        &       -2.798    &       -1.238     \\\\\n",
       "\\textbf{free sulfur dioxide}  &       0.0051  &        0.002     &     2.389  &         0.017        &        0.001    &        0.009     \\\\\n",
       "\\textbf{total sulfur dioxide} &      -0.0035  &        0.001     &    -5.070  &         0.000        &       -0.005    &       -0.002     \\\\\n",
       "\\textbf{pH}                   &      -0.4827  &        0.118     &    -4.106  &         0.000        &       -0.713    &       -0.252     \\\\\n",
       "\\textbf{sulphates}            &       0.8827  &        0.110     &     8.031  &         0.000        &        0.667    &        1.098     \\\\\n",
       "\\textbf{alcohol}              &       0.2893  &        0.017     &    17.225  &         0.000        &        0.256    &        0.322     \\\\\n",
       "\\bottomrule\n",
       "\\end{tabular}\n",
       "\\begin{tabular}{lclc}\n",
       "\\textbf{Omnibus:}       & 24.204 & \\textbf{  Durbin-Watson:     } &    1.750  \\\\\n",
       "\\textbf{Prob(Omnibus):} &  0.000 & \\textbf{  Jarque-Bera (JB):  } &   35.245  \\\\\n",
       "\\textbf{Skew:}          & -0.156 & \\textbf{  Prob(JB):          } & 2.22e-08  \\\\\n",
       "\\textbf{Kurtosis:}      &  3.657 & \\textbf{  Cond. No.          } & 1.71e+03  \\\\\n",
       "\\bottomrule\n",
       "\\end{tabular}\n",
       "%\\caption{OLS Regression Results}\n",
       "\\end{center}\n",
       "\n",
       "Notes: \\newline\n",
       " [1] Standard Errors assume that the covariance matrix of the errors is correctly specified. \\newline\n",
       " [2] The condition number is large, 1.71e+03. This might indicate that there are \\newline\n",
       " strong multicollinearity or other numerical problems."
      ],
      "text/plain": [
       "<class 'statsmodels.iolib.summary.Summary'>\n",
       "\"\"\"\n",
       "                            OLS Regression Results                            \n",
       "==============================================================================\n",
       "Dep. Variable:                quality   R-squared:                       0.359\n",
       "Model:                            OLS   Adj. R-squared:                  0.357\n",
       "Method:                 Least Squares   F-statistic:                     127.6\n",
       "Date:                Mon, 24 Jul 2023   Prob (F-statistic):          5.32e-149\n",
       "Time:                        18:55:37   Log-Likelihood:                -1570.5\n",
       "No. Observations:                1599   AIC:                             3157.\n",
       "Df Residuals:                    1591   BIC:                             3200.\n",
       "Df Model:                           7                                         \n",
       "Covariance Type:            nonrobust                                         \n",
       "========================================================================================\n",
       "                           coef    std err          t      P>|t|      [0.025      0.975]\n",
       "----------------------------------------------------------------------------------------\n",
       "const                    4.4301      0.403     10.995      0.000       3.640       5.220\n",
       "volatile acidity        -1.0128      0.101    -10.043      0.000      -1.211      -0.815\n",
       "chlorides               -2.0178      0.398     -5.076      0.000      -2.798      -1.238\n",
       "free sulfur dioxide      0.0051      0.002      2.389      0.017       0.001       0.009\n",
       "total sulfur dioxide    -0.0035      0.001     -5.070      0.000      -0.005      -0.002\n",
       "pH                      -0.4827      0.118     -4.106      0.000      -0.713      -0.252\n",
       "sulphates                0.8827      0.110      8.031      0.000       0.667       1.098\n",
       "alcohol                  0.2893      0.017     17.225      0.000       0.256       0.322\n",
       "==============================================================================\n",
       "Omnibus:                       24.204   Durbin-Watson:                   1.750\n",
       "Prob(Omnibus):                  0.000   Jarque-Bera (JB):               35.245\n",
       "Skew:                          -0.156   Prob(JB):                     2.22e-08\n",
       "Kurtosis:                       3.657   Cond. No.                     1.71e+03\n",
       "==============================================================================\n",
       "\n",
       "Notes:\n",
       "[1] Standard Errors assume that the covariance matrix of the errors is correctly specified.\n",
       "[2] The condition number is large, 1.71e+03. This might indicate that there are\n",
       "strong multicollinearity or other numerical problems.\n",
       "\"\"\""
      ]
     },
     "execution_count": 39,
     "metadata": {},
     "output_type": "execute_result"
    }
   ],
   "source": [
    "results_adj.summary()"
   ]
  },
  {
   "cell_type": "code",
   "execution_count": 80,
   "id": "5875e47e",
   "metadata": {},
   "outputs": [
    {
     "data": {
      "text/plain": [
       "0.4195707473637814"
      ]
     },
     "execution_count": 80,
     "metadata": {},
     "output_type": "execute_result"
    }
   ],
   "source": [
    "results_adj.mse_resid"
   ]
  },
  {
   "cell_type": "code",
   "execution_count": 69,
   "id": "a0baf275",
   "metadata": {},
   "outputs": [
    {
     "data": {
      "text/plain": [
       "[<matplotlib.lines.Line2D at 0x16e0a8899c0>]"
      ]
     },
     "execution_count": 69,
     "metadata": {},
     "output_type": "execute_result"
    },
    {
     "data": {
      "image/png": "[encoded data removed]",
      "text/plain": [
       "<Figure size 640x480 with 1 Axes>"
      ]
     },
     "metadata": {},
     "output_type": "display_data"
    }
   ],
   "source": [
    "plt.plot(y)\n",
    "plt.plot(results_adj.fittedvalues)"
   ]
  },
  {
   "cell_type": "code",
   "execution_count": 78,
   "id": "f470617a",
   "metadata": {},
   "outputs": [
    {
     "data": {
      "text/plain": [
       "0.4174715816483905"
      ]
     },
     "execution_count": 78,
     "metadata": {},
     "output_type": "execute_result"
    }
   ],
   "source": [
    "mse = sum((y - results_adj.fittedvalues) ** 2)/len(diff)"
   ]
  },
  {
   "cell_type": "code",
   "execution_count": 81,
   "id": "352f2eef",
   "metadata": {},
   "outputs": [],
   "source": [
    "mean = sum(y)/len(y)\n",
    "cv = mse / mean"
   ]
  },
  {
   "cell_type": "code",
   "execution_count": 85,
   "id": "41e6f78a",
   "metadata": {},
   "outputs": [
    {
     "data": {
      "text/plain": [
       "(array([  3.,  14.,  30.,  95., 306., 528., 349., 203.,  55.,  16.]),\n",
       " array([-2.68918088, -2.21730923, -1.74543757, -1.27356591, -0.80169425,\n",
       "        -0.3298226 ,  0.14204906,  0.61392072,  1.08579237,  1.55766403,\n",
       "         2.02953569]),\n",
       " <BarContainer object of 10 artists>)"
      ]
     },
     "execution_count": 85,
     "metadata": {},
     "output_type": "execute_result"
    },
    {
     "data": {
      "image/png": "[encoded data removed]",
      "text/plain": [
       "<Figure size 640x480 with 1 Axes>"
      ]
     },
     "metadata": {},
     "output_type": "display_data"
    }
   ],
   "source": [
    "plt.hist(results_adj.resid)"
   ]
  },
  {
   "cell_type": "code",
   "execution_count": 95,
   "id": "13c6c9bb",
   "metadata": {},
   "outputs": [
    {
     "data": {
      "text/plain": [
       "<matplotlib.legend.Legend at 0x16e11d2f3d0>"
      ]
     },
     "execution_count": 95,
     "metadata": {},
     "output_type": "execute_result"
    },
    {
     "data": {
      "image/png": "[encoded data removed]",
      "text/plain": [
       "<Figure size 640x480 with 1 Axes>"
      ]
     },
     "metadata": {},
     "output_type": "display_data"
    }
   ],
   "source": [
    "normal_dist = np.random.normal(0,np.std(results_adj.resid),len(results_adj.resid))\n",
    "\n",
    "fig = sbn.kdeplot(results_adj.resid,label=\"Residuals\")\n",
    "fig = sbn.kdeplot(normal_dist,label=\"Normal distribution\")\n",
    "plt.legend()"
   ]
  },
  {
   "cell_type": "code",
   "execution_count": 98,
   "id": "ba3a7ea3",
   "metadata": {},
   "outputs": [],
   "source": [
    "from statsmodels.stats.diagnostic import het_white"
   ]
  },
  {
   "cell_type": "code",
   "execution_count": 100,
   "id": "1ce383e1",
   "metadata": {},
   "outputs": [],
   "source": [
    "white_test = het_white(results_adj.resid,model_adj.exog)"
   ]
  },
  {
   "cell_type": "code",
   "execution_count": 102,
   "id": "6abc72c7",
   "metadata": {},
   "outputs": [
    {
     "data": {
      "text/plain": [
       "1.3794543308632152e-17"
      ]
     },
     "execution_count": 102,
     "metadata": {},
     "output_type": "execute_result"
    }
   ],
   "source": [
    "white_test[1]#p-value"
   ]
  },
  {
   "cell_type": "markdown",
   "id": "c6ff8be3",
   "metadata": {},
   "source": [
    "For White test Null Hypotysis is that all the residuals have the same variance"
   ]
  },
  {
   "cell_type": "code",
   "execution_count": 103,
   "id": "42c3c2d3",
   "metadata": {},
   "outputs": [
    {
     "data": {
      "text/plain": [
       "[<matplotlib.lines.Line2D at 0x16e1271bfd0>]"
      ]
     },
     "execution_count": 103,
     "metadata": {},
     "output_type": "execute_result"
    },
    {
     "data": {
      "image/png": "[encoded data removed]",
      "text/plain": [
       "<Figure size 640x480 with 1 Axes>"
      ]
     },
     "metadata": {},
     "output_type": "display_data"
    }
   ],
   "source": [
    "plt.plot(results_adj.resid)"
   ]
  },
  {
   "cell_type": "code",
   "execution_count": 104,
   "id": "232b2e58",
   "metadata": {},
   "outputs": [],
   "source": [
    "import mysql.connector"
   ]
  },
  {
   "cell_type": "code",
   "execution_count": 142,
   "id": "4e6a8e23",
   "metadata": {},
   "outputs": [],
   "source": [
    "connection = mysql.connector.connect(user=\"root\",\n",
    "                                     password=\"\",\n",
    "                                     host=\"localhost\",\n",
    "                                     database=\"advanced_sql_database\")\n",
    "cursor = connection.cursor()\n",
    "cursor.execute(\"INSERT INTO students(name,lastname,age) VALUES ('Emmily','Yan',24)\")\n",
    "# connection.rollback()\n",
    "\n",
    "cursor.execute(\"SELECT COUNT(*) FROM students\")\n",
    "results = cursor.fetchall()\n",
    "count = results[0][0]\n",
    "if count > 20:\n",
    "    connection.rollback()\n",
    "else:\n",
    "    connection.commit()\n",
    "\n",
    "#New transaction    \n",
    "cursor = connection.cursor()\n",
    "cursor.execute(\"SELECT COUNT(*) FROM students\")\n",
    "results = cursor.fetchall()\n",
    "count = results[0][0]\n",
    "cursor.execute(\"INSERT INTO students(name,lastname,age) VALUES ('Emmily','Yan',24)\")\n",
    "connection.commit()\n",
    "connection.close()"
   ]
  },
  {
   "cell_type": "code",
   "execution_count": 140,
   "id": "65a3587f",
   "metadata": {},
   "outputs": [
    {
     "data": {
      "text/plain": [
       "20"
      ]
     },
     "execution_count": 140,
     "metadata": {},
     "output_type": "execute_result"
    }
   ],
   "source": [
    "count"
   ]
  },
  {
   "cell_type": "code",
   "execution_count": 144,
   "id": "0a06d5ac",
   "metadata": {},
   "outputs": [],
   "source": [
    "connection = mysql.connector.connect(user=\"root\",\n",
    "                                     password=\"\",\n",
    "                                     host=\"localhost\",\n",
    "                                     database=\"advanced_sql_database\")\n",
    "cursor = connection.cursor()\n",
    "cursor.execute(\"INSERT INTO students(name,lastname,age) VALUES ('Giorgia','Remilly',22)\")\n",
    "# connection.rollback()\n",
    "\n",
    "cursor.execute(\"SELECT * FROM students\")\n",
    "results = cursor.fetchall()"
   ]
  },
  {
   "cell_type": "code",
   "execution_count": 145,
   "id": "c23e3c77",
   "metadata": {},
   "outputs": [
    {
     "data": {
      "text/plain": [
       "[(1, 'Melanija', 'Visvaldas', 20),\n",
       " (2, 'Melanija', 'Visvaldas', 20),\n",
       " (3, 'Inese', 'Luda', 21),\n",
       " (4, 'Vilhelms', 'Ivo', 23),\n",
       " (5, 'Valentīna', 'Pavele', 20),\n",
       " (6, 'Skaistė', 'Milda', 23),\n",
       " (7, 'Lina', 'Eimantė', 22),\n",
       " (8, 'Vytautas', 'Esteris', 21),\n",
       " (9, 'Lynette', 'Shayne', 22),\n",
       " (10, 'Blaze', 'McKinley', 21),\n",
       " (11, 'Micheal', 'Corinne', 20),\n",
       " (12, 'Harry', 'Potter', 20),\n",
       " (14, 'Johny', 'Smith', 19),\n",
       " (17, 'Yian', 'Jackson', 22),\n",
       " (22, 'Taylor', 'Mayson', 20),\n",
       " (26, 'Jessica', 'Smith', 20),\n",
       " (27, 'Monika', 'Johnson', 21),\n",
       " (28, 'Renny', 'McCharthey', 24),\n",
       " (29, 'Jan', 'Taylor', 24),\n",
       " (30, 'Emma', 'Nikson', 22),\n",
       " (38, 'Emmily', 'Yan', 24),\n",
       " (42, 'Giorgia', 'Remilly', 22)]"
      ]
     },
     "execution_count": 145,
     "metadata": {},
     "output_type": "execute_result"
    }
   ],
   "source": [
    "results"
   ]
  },
  {
   "cell_type": "code",
   "execution_count": 146,
   "id": "186ababb",
   "metadata": {},
   "outputs": [],
   "source": [
    "cursor.execute(\"SELECT * FROM students\")\n",
    "results = cursor.fetchall()"
   ]
  },
  {
   "cell_type": "code",
   "execution_count": 147,
   "id": "092e5a12",
   "metadata": {},
   "outputs": [
    {
     "data": {
      "text/plain": [
       "[(1, 'Melanija', 'Visvaldas', 20),\n",
       " (2, 'Melanija', 'Visvaldas', 20),\n",
       " (3, 'Inese', 'Luda', 21),\n",
       " (4, 'Vilhelms', 'Ivo', 23),\n",
       " (5, 'Valentīna', 'Pavele', 20),\n",
       " (6, 'Skaistė', 'Milda', 23),\n",
       " (7, 'Lina', 'Eimantė', 22),\n",
       " (8, 'Vytautas', 'Esteris', 21),\n",
       " (9, 'Lynette', 'Shayne', 22),\n",
       " (10, 'Blaze', 'McKinley', 21),\n",
       " (11, 'Micheal', 'Corinne', 20),\n",
       " (12, 'Harry', 'Potter', 20),\n",
       " (14, 'Johny', 'Smith', 19),\n",
       " (17, 'Yian', 'Jackson', 22),\n",
       " (22, 'Taylor', 'Mayson', 20),\n",
       " (26, 'Jessica', 'Smith', 20),\n",
       " (27, 'Monika', 'Johnson', 21),\n",
       " (28, 'Renny', 'McCharthey', 24),\n",
       " (29, 'Jan', 'Taylor', 24),\n",
       " (30, 'Emma', 'Nikson', 22),\n",
       " (38, 'Emmily', 'Yan', 24),\n",
       " (42, 'Giorgia', 'Remilly', 22)]"
      ]
     },
     "execution_count": 147,
     "metadata": {},
     "output_type": "execute_result"
    }
   ],
   "source": [
    "results#the values from parallel session/transaction are not updated"
   ]
  },
  {
   "cell_type": "code",
   "execution_count": 149,
   "id": "f40a7a98",
   "metadata": {},
   "outputs": [],
   "source": [
    "connection2 = mysql.connector.connect(user=\"root\",\n",
    "                                     password=\"\",\n",
    "                                     host=\"localhost\",\n",
    "                                     database=\"advanced_sql_database\")\n",
    "cursor2 = connection2.cursor()\n",
    "cursor2.execute(\"SELECT * FROM students\")\n",
    "results2 = cursor2.fetchall()"
   ]
  },
  {
   "cell_type": "code",
   "execution_count": 150,
   "id": "9394cdeb",
   "metadata": {},
   "outputs": [
    {
     "data": {
      "text/plain": [
       "[(1, 'Melanija', 'Visvaldas', 20),\n",
       " (2, 'Melanija', 'Visvaldas', 20),\n",
       " (3, 'Inese', 'Luda', 21),\n",
       " (4, 'Vilhelms', 'Ivo', 23),\n",
       " (5, 'Valentīna', 'Pavele', 20),\n",
       " (6, 'Skaistė', 'Milda', 23),\n",
       " (7, 'Lina', 'Eimantė', 22),\n",
       " (8, 'Vytautas', 'Esteris', 21),\n",
       " (9, 'Lynette', 'Shayne', 22),\n",
       " (10, 'Blaze', 'McKinley', 21),\n",
       " (11, 'Micheal', 'Corinne', 20),\n",
       " (12, 'Harry', 'Potter', 20),\n",
       " (14, 'Johny', 'Smith', 19),\n",
       " (17, 'Yian', 'Jackson', 22),\n",
       " (22, 'Taylor', 'Mayson', 20),\n",
       " (26, 'Jessica', 'Smith', 20),\n",
       " (27, 'Monika', 'Johnson', 21),\n",
       " (28, 'Renny', 'McCharthey', 24),\n",
       " (29, 'Jan', 'Taylor', 24),\n",
       " (30, 'Emma', 'Nikson', 22),\n",
       " (38, 'Emmily', 'Yan', 24),\n",
       " (43, 'Frederick', 'Van Holf', 20)]"
      ]
     },
     "execution_count": 150,
     "metadata": {},
     "output_type": "execute_result"
    }
   ],
   "source": [
    "results2"
   ]
  },
  {
   "cell_type": "code",
   "execution_count": 152,
   "id": "415b8371",
   "metadata": {},
   "outputs": [],
   "source": [
    "connection.commit()"
   ]
  },
  {
   "cell_type": "code",
   "execution_count": 153,
   "id": "67fbf7c7",
   "metadata": {},
   "outputs": [],
   "source": [
    "connection.close()"
   ]
  },
  {
   "cell_type": "code",
   "execution_count": 158,
   "id": "37c4cfe3",
   "metadata": {},
   "outputs": [],
   "source": [
    "connection2.close()"
   ]
  },
  {
   "cell_type": "code",
   "execution_count": 159,
   "id": "c154e34a",
   "metadata": {},
   "outputs": [],
   "source": [
    "connection1 = mysql.connector.connect(user=\"root\",\n",
    "                                     password=\"\",\n",
    "                                     host=\"localhost\",\n",
    "                                     database=\"advanced_sql_database\")\n"
   ]
  },
  {
   "cell_type": "code",
   "execution_count": 160,
   "id": "2a5e1333",
   "metadata": {},
   "outputs": [],
   "source": [
    "cursor1 = connection1.cursor()"
   ]
  },
  {
   "cell_type": "code",
   "execution_count": 161,
   "id": "58aceede",
   "metadata": {},
   "outputs": [],
   "source": [
    "cursor1.execute(\"INSERT INTO students(name,lastname,age) VALUES ('Lana','Peterson',22)\")"
   ]
  },
  {
   "cell_type": "code",
   "execution_count": 163,
   "id": "36137725",
   "metadata": {},
   "outputs": [],
   "source": [
    "connection2 = mysql.connector.connect(user=\"root\",\n",
    "                                     password=\"\",\n",
    "                                     host=\"localhost\",\n",
    "                                     database=\"advanced_sql_database\")\n",
    "cursor2 = connection2.cursor()"
   ]
  },
  {
   "cell_type": "code",
   "execution_count": 165,
   "id": "ecac34d7",
   "metadata": {},
   "outputs": [
    {
     "ename": "InternalError",
     "evalue": "Unread result found",
     "output_type": "error",
     "traceback": [
      "\u001b[1;31m---------------------------------------------------------------------------\u001b[0m",
      "\u001b[1;31mInternalError\u001b[0m                             Traceback (most recent call last)",
      "Cell \u001b[1;32mIn[165], line 1\u001b[0m\n\u001b[1;32m----> 1\u001b[0m count_val_results \u001b[38;5;241m=\u001b[39m \u001b[43mcursor2\u001b[49m\u001b[38;5;241;43m.\u001b[39;49m\u001b[43mexecute\u001b[49m\u001b[43m(\u001b[49m\u001b[38;5;124;43m\"\u001b[39;49m\u001b[38;5;124;43mSELECT COUNT(*) FROM students WHERE name = \u001b[39;49m\u001b[38;5;124;43m'\u001b[39;49m\u001b[38;5;124;43mLana\u001b[39;49m\u001b[38;5;124;43m'\u001b[39;49m\u001b[38;5;124;43m AND lastname = \u001b[39;49m\u001b[38;5;124;43m'\u001b[39;49m\u001b[38;5;124;43mPeterson\u001b[39;49m\u001b[38;5;124;43m'\u001b[39;49m\u001b[38;5;124;43m AND age = 22\u001b[39;49m\u001b[38;5;124;43m\"\u001b[39;49m\u001b[43m)\u001b[49m\n",
      "File \u001b[1;32m~\\AppData\\Local\\Packages\\PythonSoftwareFoundation.Python.3.10_qbz5n2kfra8p0\\LocalCache\\local-packages\\Python310\\site-packages\\mysql\\connector\\cursor.py:538\u001b[0m, in \u001b[0;36mMySQLCursor.execute\u001b[1;34m(self, operation, params, multi)\u001b[0m\n\u001b[0;32m    535\u001b[0m \u001b[38;5;28;01mif\u001b[39;00m \u001b[38;5;129;01mnot\u001b[39;00m \u001b[38;5;28mself\u001b[39m\u001b[38;5;241m.\u001b[39m_connection:\n\u001b[0;32m    536\u001b[0m     \u001b[38;5;28;01mraise\u001b[39;00m errors\u001b[38;5;241m.\u001b[39mProgrammingError(\u001b[38;5;124m\"\u001b[39m\u001b[38;5;124mCursor is not connected\u001b[39m\u001b[38;5;124m\"\u001b[39m)\n\u001b[1;32m--> 538\u001b[0m \u001b[38;5;28;43mself\u001b[39;49m\u001b[38;5;241;43m.\u001b[39;49m\u001b[43m_connection\u001b[49m\u001b[38;5;241;43m.\u001b[39;49m\u001b[43mhandle_unread_result\u001b[49m\u001b[43m(\u001b[49m\u001b[43m)\u001b[49m\n\u001b[0;32m    540\u001b[0m \u001b[38;5;28mself\u001b[39m\u001b[38;5;241m.\u001b[39m_reset_result()\n\u001b[0;32m    541\u001b[0m stmt \u001b[38;5;241m=\u001b[39m \u001b[38;5;124m'\u001b[39m\u001b[38;5;124m'\u001b[39m\n",
      "File \u001b[1;32m~\\AppData\\Local\\Packages\\PythonSoftwareFoundation.Python.3.10_qbz5n2kfra8p0\\LocalCache\\local-packages\\Python310\\site-packages\\mysql\\connector\\connection.py:1551\u001b[0m, in \u001b[0;36mMySQLConnection.handle_unread_result\u001b[1;34m(self)\u001b[0m\n\u001b[0;32m   1549\u001b[0m     \u001b[38;5;28mself\u001b[39m\u001b[38;5;241m.\u001b[39mconsume_results()\n\u001b[0;32m   1550\u001b[0m \u001b[38;5;28;01melif\u001b[39;00m \u001b[38;5;28mself\u001b[39m\u001b[38;5;241m.\u001b[39munread_result:\n\u001b[1;32m-> 1551\u001b[0m     \u001b[38;5;28;01mraise\u001b[39;00m errors\u001b[38;5;241m.\u001b[39mInternalError(\u001b[38;5;124m\"\u001b[39m\u001b[38;5;124mUnread result found\u001b[39m\u001b[38;5;124m\"\u001b[39m)\n",
      "\u001b[1;31mInternalError\u001b[0m: Unread result found"
     ]
    }
   ],
   "source": [
    "cursor2.execute(\"SELECT COUNT(*) FROM students WHERE name = 'Lana' AND lastname = 'Peterson' AND age = 22\")"
   ]
  },
  {
   "cell_type": "code",
   "execution_count": 166,
   "id": "bf9948d4",
   "metadata": {},
   "outputs": [],
   "source": [
    "count_results = cursor2.fetchall()"
   ]
  },
  {
   "cell_type": "code",
   "execution_count": 169,
   "id": "ba953842",
   "metadata": {},
   "outputs": [],
   "source": [
    "count = count_results[0][0]"
   ]
  },
  {
   "cell_type": "code",
   "execution_count": 170,
   "id": "48cfdc10",
   "metadata": {},
   "outputs": [],
   "source": [
    "if count > 0:\n",
    "    connection1.rollback()\n",
    "else:\n",
    "    connection1.commit()"
   ]
  },
  {
   "cell_type": "code",
   "execution_count": 171,
   "id": "787d4022",
   "metadata": {},
   "outputs": [],
   "source": [
    "connection1.close()\n",
    "connection2.close()"
   ]
  },
  {
   "cell_type": "code",
   "execution_count": null,
   "id": "13650db7",
   "metadata": {},
   "outputs": [],
   "source": []
  }
 ],
 "metadata": {
  "kernelspec": {
   "display_name": "Python 3 (ipykernel)",
   "language": "python",
   "name": "python3"
  },
  "language_info": {
   "codemirror_mode": {
    "name": "ipython",
    "version": 3
   },
   "file_extension": ".py",
   "mimetype": "text/x-python",
   "name": "python",
   "nbconvert_exporter": "python",
   "pygments_lexer": "ipython3",
   "version": "3.10.11"
  }
 },
 "nbformat": 4,
 "nbformat_minor": 5
}
