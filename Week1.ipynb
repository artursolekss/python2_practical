{
 "cells": [
  {
   "cell_type": "code",
   "execution_count": 1,
   "id": "98d9b849",
   "metadata": {},
   "outputs": [],
   "source": [
    "a = 12\n",
    "b = \"Text\"\n",
    "\n",
    "c = [\"a\",\"b\",\"c\"]\n"
   ]
  },
  {
   "cell_type": "code",
   "execution_count": 2,
   "id": "2bfa0a44",
   "metadata": {},
   "outputs": [
    {
     "data": {
      "text/plain": [
       "'a'"
      ]
     },
     "execution_count": 2,
     "metadata": {},
     "output_type": "execute_result"
    }
   ],
   "source": [
    "c[0]"
   ]
  },
  {
   "cell_type": "code",
   "execution_count": 3,
   "id": "704b7505",
   "metadata": {},
   "outputs": [
    {
     "data": {
      "text/plain": [
       "'c'"
      ]
     },
     "execution_count": 3,
     "metadata": {},
     "output_type": "execute_result"
    }
   ],
   "source": [
    "c[2]"
   ]
  },
  {
   "cell_type": "code",
   "execution_count": 4,
   "id": "b0d1696a",
   "metadata": {},
   "outputs": [],
   "source": [
    "d = {\"name\":\"Arturs\",\"last name\":\"Olekss\"}"
   ]
  },
  {
   "cell_type": "code",
   "execution_count": 5,
   "id": "9035de8a",
   "metadata": {},
   "outputs": [
    {
     "data": {
      "text/plain": [
       "'Arturs'"
      ]
     },
     "execution_count": 5,
     "metadata": {},
     "output_type": "execute_result"
    }
   ],
   "source": [
    "d[\"name\"]"
   ]
  },
  {
   "cell_type": "code",
   "execution_count": 6,
   "id": "750d716d",
   "metadata": {},
   "outputs": [
    {
     "data": {
      "text/plain": [
       "'Olekss'"
      ]
     },
     "execution_count": 6,
     "metadata": {},
     "output_type": "execute_result"
    }
   ],
   "source": [
    "d[\"last name\"]"
   ]
  },
  {
   "cell_type": "code",
   "execution_count": 7,
   "id": "25c3cc36",
   "metadata": {},
   "outputs": [],
   "source": [
    "persons = [d,{\"name\":\"Jack\",\"last name\":\"Wilson\"}]"
   ]
  },
  {
   "cell_type": "code",
   "execution_count": 8,
   "id": "056b0cb5",
   "metadata": {},
   "outputs": [
    {
     "data": {
      "text/plain": [
       "[{'name': 'Arturs', 'last name': 'Olekss'},\n",
       " {'name': 'Jack', 'last name': 'Wilson'}]"
      ]
     },
     "execution_count": 8,
     "metadata": {},
     "output_type": "execute_result"
    }
   ],
   "source": [
    "persons"
   ]
  },
  {
   "cell_type": "code",
   "execution_count": 9,
   "id": "73085d7c",
   "metadata": {},
   "outputs": [],
   "source": [
    "person_info = (\"name\",\"last name\")"
   ]
  },
  {
   "cell_type": "code",
   "execution_count": 10,
   "id": "7628d6ee",
   "metadata": {},
   "outputs": [
    {
     "ename": "TypeError",
     "evalue": "unhashable type: 'list'",
     "output_type": "error",
     "traceback": [
      "\u001b[1;31m---------------------------------------------------------------------------\u001b[0m",
      "\u001b[1;31mTypeError\u001b[0m                                 Traceback (most recent call last)",
      "Cell \u001b[1;32mIn[10], line 1\u001b[0m\n\u001b[1;32m----> 1\u001b[0m person \u001b[38;5;241m=\u001b[39m {[\u001b[38;5;124m\"\u001b[39m\u001b[38;5;124mname\u001b[39m\u001b[38;5;124m\"\u001b[39m,\u001b[38;5;124m\"\u001b[39m\u001b[38;5;124mlast\u001b[39m\u001b[38;5;124m\"\u001b[39m]:[\u001b[38;5;124m\"\u001b[39m\u001b[38;5;124mArturs\u001b[39m\u001b[38;5;124m\"\u001b[39m,\u001b[38;5;124m\"\u001b[39m\u001b[38;5;124mOlekss\u001b[39m\u001b[38;5;124m\"\u001b[39m]}\n",
      "\u001b[1;31mTypeError\u001b[0m: unhashable type: 'list'"
     ]
    }
   ],
   "source": [
    "person = {[\"name\",\"last\"]:[\"Arturs\",\"Olekss\"]}#can't use list as the keys"
   ]
  },
  {
   "cell_type": "code",
   "execution_count": 11,
   "id": "a23e5bcd",
   "metadata": {},
   "outputs": [],
   "source": [
    "person = {person_info:[\"Arturs\",\"Olekss\"]}"
   ]
  },
  {
   "cell_type": "code",
   "execution_count": 12,
   "id": "f5ca34e6",
   "metadata": {},
   "outputs": [
    {
     "data": {
      "text/plain": [
       "{('name', 'last name'): ['Arturs', 'Olekss']}"
      ]
     },
     "execution_count": 12,
     "metadata": {},
     "output_type": "execute_result"
    }
   ],
   "source": [
    "person"
   ]
  },
  {
   "cell_type": "code",
   "execution_count": 17,
   "id": "94005369",
   "metadata": {},
   "outputs": [
    {
     "ename": "TypeError",
     "evalue": "'tuple' object does not support item assignment",
     "output_type": "error",
     "traceback": [
      "\u001b[1;31m---------------------------------------------------------------------------\u001b[0m",
      "\u001b[1;31mTypeError\u001b[0m                                 Traceback (most recent call last)",
      "Cell \u001b[1;32mIn[17], line 1\u001b[0m\n\u001b[1;32m----> 1\u001b[0m \u001b[43mperson_info\u001b[49m\u001b[43m[\u001b[49m\u001b[38;5;241;43m1\u001b[39;49m\u001b[43m]\u001b[49m \u001b[38;5;241m=\u001b[39m \u001b[38;5;124m\"\u001b[39m\u001b[38;5;124mchange\u001b[39m\u001b[38;5;124m\"\u001b[39m\n",
      "\u001b[1;31mTypeError\u001b[0m: 'tuple' object does not support item assignment"
     ]
    }
   ],
   "source": [
    "person_info[1] = \"change\""
   ]
  },
  {
   "cell_type": "code",
   "execution_count": 18,
   "id": "0991cfe0",
   "metadata": {},
   "outputs": [],
   "source": [
    "a = [1,2,3]"
   ]
  },
  {
   "cell_type": "code",
   "execution_count": 19,
   "id": "0f62d404",
   "metadata": {},
   "outputs": [],
   "source": [
    "dict_values = {\"A\":a}"
   ]
  },
  {
   "cell_type": "code",
   "execution_count": 20,
   "id": "967a60e7",
   "metadata": {},
   "outputs": [
    {
     "data": {
      "text/plain": [
       "{'A': [1, 2, 3]}"
      ]
     },
     "execution_count": 20,
     "metadata": {},
     "output_type": "execute_result"
    }
   ],
   "source": [
    "dict_values"
   ]
  },
  {
   "cell_type": "code",
   "execution_count": 21,
   "id": "345fe4a5",
   "metadata": {},
   "outputs": [],
   "source": [
    "a.append(4)"
   ]
  },
  {
   "cell_type": "code",
   "execution_count": 22,
   "id": "2ddf9a20",
   "metadata": {},
   "outputs": [
    {
     "data": {
      "text/plain": [
       "{'A': [1, 2, 3, 4]}"
      ]
     },
     "execution_count": 22,
     "metadata": {},
     "output_type": "execute_result"
    }
   ],
   "source": [
    "dict_values"
   ]
  },
  {
   "cell_type": "code",
   "execution_count": 24,
   "id": "abc1d631",
   "metadata": {},
   "outputs": [],
   "source": [
    "import requests as req"
   ]
  },
  {
   "cell_type": "code",
   "execution_count": 25,
   "id": "c12b9a4c",
   "metadata": {},
   "outputs": [],
   "source": [
    "response = req.get(\"https://restcountries.com/v3.1/all\")"
   ]
  },
  {
   "cell_type": "code",
   "execution_count": 29,
   "id": "a9812989",
   "metadata": {},
   "outputs": [],
   "source": [
    "all_countries = response.json()"
   ]
  },
  {
   "cell_type": "code",
   "execution_count": 44,
   "id": "b172e78f",
   "metadata": {},
   "outputs": [],
   "source": [
    "country_names = list()\n",
    "country_statuses = list()\n",
    "country_regions = list()\n",
    "country_sub_regions = list()\n",
    "\n",
    "for country in all_countries:\n",
    "    country_names.append(country['name']['official'])\n",
    "    country_statuses.append(country[\"status\"])\n",
    "    country_regions.append(country[\"region\"])\n",
    "    \n",
    "#     if \"subregion\" in country:\n",
    "#         country_sub_regions.append(country[\"subregion\"])\n",
    "#     else:\n",
    "#         country_sub_regions.append(\"\")\n",
    "    try:\n",
    "        country_sub_regions.append(country[\"subregion\"])\n",
    "    except:\n",
    "        country_sub_regions.append(\"\")\n",
    "    \n"
   ]
  },
  {
   "cell_type": "code",
   "execution_count": 46,
   "id": "a64c854f",
   "metadata": {},
   "outputs": [],
   "source": [
    "import pandas as pa"
   ]
  },
  {
   "cell_type": "code",
   "execution_count": 47,
   "id": "3bbd2299",
   "metadata": {},
   "outputs": [],
   "source": [
    "data = {\"Country\":country_names,\"Status\":country_status,\"Region\":country_regions,\"Sub-Region\":country_sub_regions}"
   ]
  },
  {
   "cell_type": "code",
   "execution_count": 49,
   "id": "971f1cee",
   "metadata": {},
   "outputs": [],
   "source": [
    "countries_df = pa.DataFrame(data)"
   ]
  },
  {
   "cell_type": "code",
   "execution_count": 53,
   "id": "40770c74",
   "metadata": {},
   "outputs": [
    {
     "data": {
      "text/html": [
       "<div>\n",
       "<style scoped>\n",
       "    .dataframe tbody tr th:only-of-type {\n",
       "        vertical-align: middle;\n",
       "    }\n",
       "\n",
       "    .dataframe tbody tr th {\n",
       "        vertical-align: top;\n",
       "    }\n",
       "\n",
       "    .dataframe thead th {\n",
       "        text-align: right;\n",
       "    }\n",
       "</style>\n",
       "<table border=\"1\" class=\"dataframe\">\n",
       "  <thead>\n",
       "    <tr style=\"text-align: right;\">\n",
       "      <th></th>\n",
       "      <th>Country</th>\n",
       "      <th>Status</th>\n",
       "      <th>Region</th>\n",
       "      <th>Sub-Region</th>\n",
       "    </tr>\n",
       "  </thead>\n",
       "  <tbody>\n",
       "    <tr>\n",
       "      <th>6</th>\n",
       "      <td>Antarctica</td>\n",
       "      <td>officially-assigned</td>\n",
       "      <td>Antarctic</td>\n",
       "      <td></td>\n",
       "    </tr>\n",
       "    <tr>\n",
       "      <th>82</th>\n",
       "      <td>Bouvet Island</td>\n",
       "      <td>officially-assigned</td>\n",
       "      <td>Antarctic</td>\n",
       "      <td></td>\n",
       "    </tr>\n",
       "    <tr>\n",
       "      <th>160</th>\n",
       "      <td>South Georgia and the South Sandwich Islands</td>\n",
       "      <td>officially-assigned</td>\n",
       "      <td>Antarctic</td>\n",
       "      <td></td>\n",
       "    </tr>\n",
       "    <tr>\n",
       "      <th>163</th>\n",
       "      <td>Heard Island and McDonald Islands</td>\n",
       "      <td>officially-assigned</td>\n",
       "      <td>Antarctic</td>\n",
       "      <td></td>\n",
       "    </tr>\n",
       "    <tr>\n",
       "      <th>205</th>\n",
       "      <td>Territory of the French Southern and Antarctic...</td>\n",
       "      <td>officially-assigned</td>\n",
       "      <td>Antarctic</td>\n",
       "      <td></td>\n",
       "    </tr>\n",
       "  </tbody>\n",
       "</table>\n",
       "</div>"
      ],
      "text/plain": [
       "                                               Country               Status  \\\n",
       "6                                           Antarctica  officially-assigned   \n",
       "82                                       Bouvet Island  officially-assigned   \n",
       "160       South Georgia and the South Sandwich Islands  officially-assigned   \n",
       "163                  Heard Island and McDonald Islands  officially-assigned   \n",
       "205  Territory of the French Southern and Antarctic...  officially-assigned   \n",
       "\n",
       "        Region Sub-Region  \n",
       "6    Antarctic             \n",
       "82   Antarctic             \n",
       "160  Antarctic             \n",
       "163  Antarctic             \n",
       "205  Antarctic             "
      ]
     },
     "execution_count": 53,
     "metadata": {},
     "output_type": "execute_result"
    }
   ],
   "source": [
    "countries_df[countries_df[\"Sub-Region\"]==\"\"]#filter"
   ]
  },
  {
   "cell_type": "code",
   "execution_count": 58,
   "id": "4ad47b6f",
   "metadata": {},
   "outputs": [
    {
     "data": {
      "text/plain": [
       "['Asia', 'Oceania', 'Europe', 'Americas', 'Antarctic', 'Africa']"
      ]
     },
     "execution_count": 58,
     "metadata": {},
     "output_type": "execute_result"
    }
   ],
   "source": [
    "list(countries_df[\"Region\"].unique())"
   ]
  },
  {
   "cell_type": "code",
   "execution_count": 59,
   "id": "3e0c5584",
   "metadata": {},
   "outputs": [
    {
     "data": {
      "text/html": [
       "<div>\n",
       "<style scoped>\n",
       "    .dataframe tbody tr th:only-of-type {\n",
       "        vertical-align: middle;\n",
       "    }\n",
       "\n",
       "    .dataframe tbody tr th {\n",
       "        vertical-align: top;\n",
       "    }\n",
       "\n",
       "    .dataframe thead th {\n",
       "        text-align: right;\n",
       "    }\n",
       "</style>\n",
       "<table border=\"1\" class=\"dataframe\">\n",
       "  <thead>\n",
       "    <tr style=\"text-align: right;\">\n",
       "      <th></th>\n",
       "      <th>Country</th>\n",
       "      <th>Status</th>\n",
       "      <th>Region</th>\n",
       "      <th>Sub-Region</th>\n",
       "    </tr>\n",
       "  </thead>\n",
       "  <tbody>\n",
       "    <tr>\n",
       "      <th>2</th>\n",
       "      <td>Republic of Serbia</td>\n",
       "      <td>officially-assigned</td>\n",
       "      <td>Europe</td>\n",
       "      <td>Southeast Europe</td>\n",
       "    </tr>\n",
       "    <tr>\n",
       "      <th>3</th>\n",
       "      <td>Principality of Andorra</td>\n",
       "      <td>officially-assigned</td>\n",
       "      <td>Europe</td>\n",
       "      <td>Southern Europe</td>\n",
       "    </tr>\n",
       "    <tr>\n",
       "      <th>14</th>\n",
       "      <td>Republic of North Macedonia</td>\n",
       "      <td>officially-assigned</td>\n",
       "      <td>Europe</td>\n",
       "      <td>Southeast Europe</td>\n",
       "    </tr>\n",
       "    <tr>\n",
       "      <th>22</th>\n",
       "      <td>Kingdom of Sweden</td>\n",
       "      <td>officially-assigned</td>\n",
       "      <td>Europe</td>\n",
       "      <td>Northern Europe</td>\n",
       "    </tr>\n",
       "    <tr>\n",
       "      <th>26</th>\n",
       "      <td>Republic of Estonia</td>\n",
       "      <td>officially-assigned</td>\n",
       "      <td>Europe</td>\n",
       "      <td>Northern Europe</td>\n",
       "    </tr>\n",
       "    <tr>\n",
       "      <th>30</th>\n",
       "      <td>Slovak Republic</td>\n",
       "      <td>officially-assigned</td>\n",
       "      <td>Europe</td>\n",
       "      <td>Central Europe</td>\n",
       "    </tr>\n",
       "    <tr>\n",
       "      <th>31</th>\n",
       "      <td>Kingdom of the Netherlands</td>\n",
       "      <td>officially-assigned</td>\n",
       "      <td>Europe</td>\n",
       "      <td>Western Europe</td>\n",
       "    </tr>\n",
       "    <tr>\n",
       "      <th>39</th>\n",
       "      <td>Vatican City State</td>\n",
       "      <td>officially-assigned</td>\n",
       "      <td>Europe</td>\n",
       "      <td>Southern Europe</td>\n",
       "    </tr>\n",
       "    <tr>\n",
       "      <th>57</th>\n",
       "      <td>Principality of Monaco</td>\n",
       "      <td>officially-assigned</td>\n",
       "      <td>Europe</td>\n",
       "      <td>Western Europe</td>\n",
       "    </tr>\n",
       "    <tr>\n",
       "      <th>59</th>\n",
       "      <td>Republic of Croatia</td>\n",
       "      <td>officially-assigned</td>\n",
       "      <td>Europe</td>\n",
       "      <td>Southeast Europe</td>\n",
       "    </tr>\n",
       "    <tr>\n",
       "      <th>60</th>\n",
       "      <td>Republic of Poland</td>\n",
       "      <td>officially-assigned</td>\n",
       "      <td>Europe</td>\n",
       "      <td>Central Europe</td>\n",
       "    </tr>\n",
       "    <tr>\n",
       "      <th>61</th>\n",
       "      <td>Bosnia and Herzegovina</td>\n",
       "      <td>officially-assigned</td>\n",
       "      <td>Europe</td>\n",
       "      <td>Southeast Europe</td>\n",
       "    </tr>\n",
       "    <tr>\n",
       "      <th>63</th>\n",
       "      <td>Portuguese Republic</td>\n",
       "      <td>officially-assigned</td>\n",
       "      <td>Europe</td>\n",
       "      <td>Southern Europe</td>\n",
       "    </tr>\n",
       "    <tr>\n",
       "      <th>70</th>\n",
       "      <td>Republic of Malta</td>\n",
       "      <td>officially-assigned</td>\n",
       "      <td>Europe</td>\n",
       "      <td>Southern Europe</td>\n",
       "    </tr>\n",
       "    <tr>\n",
       "      <th>71</th>\n",
       "      <td>Republic of Belarus</td>\n",
       "      <td>officially-assigned</td>\n",
       "      <td>Europe</td>\n",
       "      <td>Eastern Europe</td>\n",
       "    </tr>\n",
       "    <tr>\n",
       "      <th>73</th>\n",
       "      <td>Republic of Finland</td>\n",
       "      <td>officially-assigned</td>\n",
       "      <td>Europe</td>\n",
       "      <td>Northern Europe</td>\n",
       "    </tr>\n",
       "    <tr>\n",
       "      <th>74</th>\n",
       "      <td>Gibraltar</td>\n",
       "      <td>officially-assigned</td>\n",
       "      <td>Europe</td>\n",
       "      <td>Southern Europe</td>\n",
       "    </tr>\n",
       "    <tr>\n",
       "      <th>76</th>\n",
       "      <td>Kingdom of Spain</td>\n",
       "      <td>officially-assigned</td>\n",
       "      <td>Europe</td>\n",
       "      <td>Southern Europe</td>\n",
       "    </tr>\n",
       "    <tr>\n",
       "      <th>79</th>\n",
       "      <td>Czech Republic</td>\n",
       "      <td>officially-assigned</td>\n",
       "      <td>Europe</td>\n",
       "      <td>Central Europe</td>\n",
       "    </tr>\n",
       "    <tr>\n",
       "      <th>81</th>\n",
       "      <td>Montenegro</td>\n",
       "      <td>officially-assigned</td>\n",
       "      <td>Europe</td>\n",
       "      <td>Southeast Europe</td>\n",
       "    </tr>\n",
       "    <tr>\n",
       "      <th>87</th>\n",
       "      <td>Republic of San Marino</td>\n",
       "      <td>officially-assigned</td>\n",
       "      <td>Europe</td>\n",
       "      <td>Southern Europe</td>\n",
       "    </tr>\n",
       "    <tr>\n",
       "      <th>90</th>\n",
       "      <td>French Republic</td>\n",
       "      <td>officially-assigned</td>\n",
       "      <td>Europe</td>\n",
       "      <td>Western Europe</td>\n",
       "    </tr>\n",
       "    <tr>\n",
       "      <th>94</th>\n",
       "      <td>Iceland</td>\n",
       "      <td>officially-assigned</td>\n",
       "      <td>Europe</td>\n",
       "      <td>Northern Europe</td>\n",
       "    </tr>\n",
       "    <tr>\n",
       "      <th>99</th>\n",
       "      <td>Republic of Ireland</td>\n",
       "      <td>officially-assigned</td>\n",
       "      <td>Europe</td>\n",
       "      <td>Northern Europe</td>\n",
       "    </tr>\n",
       "    <tr>\n",
       "      <th>103</th>\n",
       "      <td>Kingdom of Denmark</td>\n",
       "      <td>officially-assigned</td>\n",
       "      <td>Europe</td>\n",
       "      <td>Northern Europe</td>\n",
       "    </tr>\n",
       "    <tr>\n",
       "      <th>115</th>\n",
       "      <td>Hellenic Republic</td>\n",
       "      <td>officially-assigned</td>\n",
       "      <td>Europe</td>\n",
       "      <td>Southern Europe</td>\n",
       "    </tr>\n",
       "    <tr>\n",
       "      <th>116</th>\n",
       "      <td>Bailiwick of Guernsey</td>\n",
       "      <td>officially-assigned</td>\n",
       "      <td>Europe</td>\n",
       "      <td>Northern Europe</td>\n",
       "    </tr>\n",
       "    <tr>\n",
       "      <th>128</th>\n",
       "      <td>Ukraine</td>\n",
       "      <td>officially-assigned</td>\n",
       "      <td>Europe</td>\n",
       "      <td>Eastern Europe</td>\n",
       "    </tr>\n",
       "    <tr>\n",
       "      <th>140</th>\n",
       "      <td>Republic of Austria</td>\n",
       "      <td>officially-assigned</td>\n",
       "      <td>Europe</td>\n",
       "      <td>Central Europe</td>\n",
       "    </tr>\n",
       "    <tr>\n",
       "      <th>144</th>\n",
       "      <td>Hungary</td>\n",
       "      <td>officially-assigned</td>\n",
       "      <td>Europe</td>\n",
       "      <td>Central Europe</td>\n",
       "    </tr>\n",
       "    <tr>\n",
       "      <th>150</th>\n",
       "      <td>Russian Federation</td>\n",
       "      <td>officially-assigned</td>\n",
       "      <td>Europe</td>\n",
       "      <td>Eastern Europe</td>\n",
       "    </tr>\n",
       "    <tr>\n",
       "      <th>151</th>\n",
       "      <td>Grand Duchy of Luxembourg</td>\n",
       "      <td>officially-assigned</td>\n",
       "      <td>Europe</td>\n",
       "      <td>Western Europe</td>\n",
       "    </tr>\n",
       "    <tr>\n",
       "      <th>152</th>\n",
       "      <td>Faroe Islands</td>\n",
       "      <td>officially-assigned</td>\n",
       "      <td>Europe</td>\n",
       "      <td>Northern Europe</td>\n",
       "    </tr>\n",
       "    <tr>\n",
       "      <th>156</th>\n",
       "      <td>Svalbard og Jan Mayen</td>\n",
       "      <td>officially-assigned</td>\n",
       "      <td>Europe</td>\n",
       "      <td>Northern Europe</td>\n",
       "    </tr>\n",
       "    <tr>\n",
       "      <th>161</th>\n",
       "      <td>Italian Republic</td>\n",
       "      <td>officially-assigned</td>\n",
       "      <td>Europe</td>\n",
       "      <td>Southern Europe</td>\n",
       "    </tr>\n",
       "    <tr>\n",
       "      <th>171</th>\n",
       "      <td>Republic of Latvia</td>\n",
       "      <td>officially-assigned</td>\n",
       "      <td>Europe</td>\n",
       "      <td>Northern Europe</td>\n",
       "    </tr>\n",
       "    <tr>\n",
       "      <th>173</th>\n",
       "      <td>Kingdom of Belgium</td>\n",
       "      <td>officially-assigned</td>\n",
       "      <td>Europe</td>\n",
       "      <td>Western Europe</td>\n",
       "    </tr>\n",
       "    <tr>\n",
       "      <th>174</th>\n",
       "      <td>Republic of Moldova</td>\n",
       "      <td>officially-assigned</td>\n",
       "      <td>Europe</td>\n",
       "      <td>Eastern Europe</td>\n",
       "    </tr>\n",
       "    <tr>\n",
       "      <th>175</th>\n",
       "      <td>Principality of Liechtenstein</td>\n",
       "      <td>officially-assigned</td>\n",
       "      <td>Europe</td>\n",
       "      <td>Western Europe</td>\n",
       "    </tr>\n",
       "    <tr>\n",
       "      <th>179</th>\n",
       "      <td>Kingdom of Norway</td>\n",
       "      <td>officially-assigned</td>\n",
       "      <td>Europe</td>\n",
       "      <td>Northern Europe</td>\n",
       "    </tr>\n",
       "    <tr>\n",
       "      <th>186</th>\n",
       "      <td>Bailiwick of Jersey</td>\n",
       "      <td>officially-assigned</td>\n",
       "      <td>Europe</td>\n",
       "      <td>Northern Europe</td>\n",
       "    </tr>\n",
       "    <tr>\n",
       "      <th>193</th>\n",
       "      <td>Åland Islands</td>\n",
       "      <td>officially-assigned</td>\n",
       "      <td>Europe</td>\n",
       "      <td>Northern Europe</td>\n",
       "    </tr>\n",
       "    <tr>\n",
       "      <th>194</th>\n",
       "      <td>Republic of Bulgaria</td>\n",
       "      <td>officially-assigned</td>\n",
       "      <td>Europe</td>\n",
       "      <td>Southeast Europe</td>\n",
       "    </tr>\n",
       "    <tr>\n",
       "      <th>197</th>\n",
       "      <td>Republic of Kosovo</td>\n",
       "      <td>user-assigned</td>\n",
       "      <td>Europe</td>\n",
       "      <td>Southeast Europe</td>\n",
       "    </tr>\n",
       "    <tr>\n",
       "      <th>200</th>\n",
       "      <td>United Kingdom of Great Britain and Northern I...</td>\n",
       "      <td>officially-assigned</td>\n",
       "      <td>Europe</td>\n",
       "      <td>Northern Europe</td>\n",
       "    </tr>\n",
       "    <tr>\n",
       "      <th>203</th>\n",
       "      <td>Romania</td>\n",
       "      <td>officially-assigned</td>\n",
       "      <td>Europe</td>\n",
       "      <td>Southeast Europe</td>\n",
       "    </tr>\n",
       "    <tr>\n",
       "      <th>210</th>\n",
       "      <td>Republic of Lithuania</td>\n",
       "      <td>officially-assigned</td>\n",
       "      <td>Europe</td>\n",
       "      <td>Northern Europe</td>\n",
       "    </tr>\n",
       "    <tr>\n",
       "      <th>221</th>\n",
       "      <td>Republic of Slovenia</td>\n",
       "      <td>officially-assigned</td>\n",
       "      <td>Europe</td>\n",
       "      <td>Central Europe</td>\n",
       "    </tr>\n",
       "    <tr>\n",
       "      <th>227</th>\n",
       "      <td>Federal Republic of Germany</td>\n",
       "      <td>officially-assigned</td>\n",
       "      <td>Europe</td>\n",
       "      <td>Western Europe</td>\n",
       "    </tr>\n",
       "    <tr>\n",
       "      <th>232</th>\n",
       "      <td>Republic of Albania</td>\n",
       "      <td>officially-assigned</td>\n",
       "      <td>Europe</td>\n",
       "      <td>Southeast Europe</td>\n",
       "    </tr>\n",
       "    <tr>\n",
       "      <th>242</th>\n",
       "      <td>Swiss Confederation</td>\n",
       "      <td>officially-assigned</td>\n",
       "      <td>Europe</td>\n",
       "      <td>Western Europe</td>\n",
       "    </tr>\n",
       "    <tr>\n",
       "      <th>244</th>\n",
       "      <td>Isle of Man</td>\n",
       "      <td>officially-assigned</td>\n",
       "      <td>Europe</td>\n",
       "      <td>Northern Europe</td>\n",
       "    </tr>\n",
       "    <tr>\n",
       "      <th>248</th>\n",
       "      <td>Republic of Cyprus</td>\n",
       "      <td>officially-assigned</td>\n",
       "      <td>Europe</td>\n",
       "      <td>Southern Europe</td>\n",
       "    </tr>\n",
       "  </tbody>\n",
       "</table>\n",
       "</div>"
      ],
      "text/plain": [
       "                                               Country               Status  \\\n",
       "2                                   Republic of Serbia  officially-assigned   \n",
       "3                              Principality of Andorra  officially-assigned   \n",
       "14                         Republic of North Macedonia  officially-assigned   \n",
       "22                                   Kingdom of Sweden  officially-assigned   \n",
       "26                                 Republic of Estonia  officially-assigned   \n",
       "30                                     Slovak Republic  officially-assigned   \n",
       "31                          Kingdom of the Netherlands  officially-assigned   \n",
       "39                                  Vatican City State  officially-assigned   \n",
       "57                              Principality of Monaco  officially-assigned   \n",
       "59                                 Republic of Croatia  officially-assigned   \n",
       "60                                  Republic of Poland  officially-assigned   \n",
       "61                              Bosnia and Herzegovina  officially-assigned   \n",
       "63                                 Portuguese Republic  officially-assigned   \n",
       "70                                   Republic of Malta  officially-assigned   \n",
       "71                                 Republic of Belarus  officially-assigned   \n",
       "73                                 Republic of Finland  officially-assigned   \n",
       "74                                           Gibraltar  officially-assigned   \n",
       "76                                    Kingdom of Spain  officially-assigned   \n",
       "79                                      Czech Republic  officially-assigned   \n",
       "81                                          Montenegro  officially-assigned   \n",
       "87                              Republic of San Marino  officially-assigned   \n",
       "90                                     French Republic  officially-assigned   \n",
       "94                                             Iceland  officially-assigned   \n",
       "99                                 Republic of Ireland  officially-assigned   \n",
       "103                                 Kingdom of Denmark  officially-assigned   \n",
       "115                                  Hellenic Republic  officially-assigned   \n",
       "116                              Bailiwick of Guernsey  officially-assigned   \n",
       "128                                            Ukraine  officially-assigned   \n",
       "140                                Republic of Austria  officially-assigned   \n",
       "144                                            Hungary  officially-assigned   \n",
       "150                                 Russian Federation  officially-assigned   \n",
       "151                          Grand Duchy of Luxembourg  officially-assigned   \n",
       "152                                      Faroe Islands  officially-assigned   \n",
       "156                              Svalbard og Jan Mayen  officially-assigned   \n",
       "161                                   Italian Republic  officially-assigned   \n",
       "171                                 Republic of Latvia  officially-assigned   \n",
       "173                                 Kingdom of Belgium  officially-assigned   \n",
       "174                                Republic of Moldova  officially-assigned   \n",
       "175                      Principality of Liechtenstein  officially-assigned   \n",
       "179                                  Kingdom of Norway  officially-assigned   \n",
       "186                                Bailiwick of Jersey  officially-assigned   \n",
       "193                                      Åland Islands  officially-assigned   \n",
       "194                               Republic of Bulgaria  officially-assigned   \n",
       "197                                 Republic of Kosovo        user-assigned   \n",
       "200  United Kingdom of Great Britain and Northern I...  officially-assigned   \n",
       "203                                            Romania  officially-assigned   \n",
       "210                              Republic of Lithuania  officially-assigned   \n",
       "221                               Republic of Slovenia  officially-assigned   \n",
       "227                        Federal Republic of Germany  officially-assigned   \n",
       "232                                Republic of Albania  officially-assigned   \n",
       "242                                Swiss Confederation  officially-assigned   \n",
       "244                                        Isle of Man  officially-assigned   \n",
       "248                                 Republic of Cyprus  officially-assigned   \n",
       "\n",
       "     Region        Sub-Region  \n",
       "2    Europe  Southeast Europe  \n",
       "3    Europe   Southern Europe  \n",
       "14   Europe  Southeast Europe  \n",
       "22   Europe   Northern Europe  \n",
       "26   Europe   Northern Europe  \n",
       "30   Europe    Central Europe  \n",
       "31   Europe    Western Europe  \n",
       "39   Europe   Southern Europe  \n",
       "57   Europe    Western Europe  \n",
       "59   Europe  Southeast Europe  \n",
       "60   Europe    Central Europe  \n",
       "61   Europe  Southeast Europe  \n",
       "63   Europe   Southern Europe  \n",
       "70   Europe   Southern Europe  \n",
       "71   Europe    Eastern Europe  \n",
       "73   Europe   Northern Europe  \n",
       "74   Europe   Southern Europe  \n",
       "76   Europe   Southern Europe  \n",
       "79   Europe    Central Europe  \n",
       "81   Europe  Southeast Europe  \n",
       "87   Europe   Southern Europe  \n",
       "90   Europe    Western Europe  \n",
       "94   Europe   Northern Europe  \n",
       "99   Europe   Northern Europe  \n",
       "103  Europe   Northern Europe  \n",
       "115  Europe   Southern Europe  \n",
       "116  Europe   Northern Europe  \n",
       "128  Europe    Eastern Europe  \n",
       "140  Europe    Central Europe  \n",
       "144  Europe    Central Europe  \n",
       "150  Europe    Eastern Europe  \n",
       "151  Europe    Western Europe  \n",
       "152  Europe   Northern Europe  \n",
       "156  Europe   Northern Europe  \n",
       "161  Europe   Southern Europe  \n",
       "171  Europe   Northern Europe  \n",
       "173  Europe    Western Europe  \n",
       "174  Europe    Eastern Europe  \n",
       "175  Europe    Western Europe  \n",
       "179  Europe   Northern Europe  \n",
       "186  Europe   Northern Europe  \n",
       "193  Europe   Northern Europe  \n",
       "194  Europe  Southeast Europe  \n",
       "197  Europe  Southeast Europe  \n",
       "200  Europe   Northern Europe  \n",
       "203  Europe  Southeast Europe  \n",
       "210  Europe   Northern Europe  \n",
       "221  Europe    Central Europe  \n",
       "227  Europe    Western Europe  \n",
       "232  Europe  Southeast Europe  \n",
       "242  Europe    Western Europe  \n",
       "244  Europe   Northern Europe  \n",
       "248  Europe   Southern Europe  "
      ]
     },
     "execution_count": 59,
     "metadata": {},
     "output_type": "execute_result"
    }
   ],
   "source": [
    "countries_df[countries_df[\"Region\"]==\"Europe\"]"
   ]
  },
  {
   "cell_type": "code",
   "execution_count": 60,
   "id": "3a1ce02d",
   "metadata": {},
   "outputs": [
    {
     "data": {
      "text/plain": [
       "Africa       59\n",
       "Americas     56\n",
       "Europe       53\n",
       "Asia         50\n",
       "Oceania      27\n",
       "Antarctic     5\n",
       "Name: Region, dtype: int64"
      ]
     },
     "execution_count": 60,
     "metadata": {},
     "output_type": "execute_result"
    }
   ],
   "source": [
    "countries_df[\"Region\"].value_counts()"
   ]
  },
  {
   "cell_type": "code",
   "execution_count": 61,
   "id": "643647ce",
   "metadata": {},
   "outputs": [
    {
     "data": {
      "text/plain": [
       "Caribbean                    28\n",
       "Eastern Africa               19\n",
       "Western Asia                 17\n",
       "Western Africa               17\n",
       "Northern Europe              16\n",
       "South America                14\n",
       "South-Eastern Asia           11\n",
       "Middle Africa                10\n",
       "Polynesia                    10\n",
       "Southern Europe              10\n",
       "Southern Asia                 9\n",
       "Southeast Europe              9\n",
       "Western Europe                8\n",
       "Eastern Asia                  8\n",
       "Northern Africa               7\n",
       "Micronesia                    7\n",
       "Central America               7\n",
       "North America                 7\n",
       "Southern Africa               6\n",
       "Central Europe                6\n",
       "                              5\n",
       "Melanesia                     5\n",
       "Central Asia                  5\n",
       "Australia and New Zealand     5\n",
       "Eastern Europe                4\n",
       "Name: Sub-Region, dtype: int64"
      ]
     },
     "execution_count": 61,
     "metadata": {},
     "output_type": "execute_result"
    }
   ],
   "source": [
    "countries_df[\"Sub-Region\"].value_counts()"
   ]
  },
  {
   "cell_type": "code",
   "execution_count": 62,
   "id": "34483061",
   "metadata": {},
   "outputs": [],
   "source": [
    "countries_df.loc[len(countries_df)] = [\"Zanzibar\",\"dummy-country\",\"Africa\",\"Western Africa\"]"
   ]
  },
  {
   "cell_type": "code",
   "execution_count": 63,
   "id": "0c5ced58",
   "metadata": {},
   "outputs": [
    {
     "data": {
      "text/html": [
       "<div>\n",
       "<style scoped>\n",
       "    .dataframe tbody tr th:only-of-type {\n",
       "        vertical-align: middle;\n",
       "    }\n",
       "\n",
       "    .dataframe tbody tr th {\n",
       "        vertical-align: top;\n",
       "    }\n",
       "\n",
       "    .dataframe thead th {\n",
       "        text-align: right;\n",
       "    }\n",
       "</style>\n",
       "<table border=\"1\" class=\"dataframe\">\n",
       "  <thead>\n",
       "    <tr style=\"text-align: right;\">\n",
       "      <th></th>\n",
       "      <th>Country</th>\n",
       "      <th>Status</th>\n",
       "      <th>Region</th>\n",
       "      <th>Sub-Region</th>\n",
       "    </tr>\n",
       "  </thead>\n",
       "  <tbody>\n",
       "    <tr>\n",
       "      <th>0</th>\n",
       "      <td>Hashemite Kingdom of Jordan</td>\n",
       "      <td>officially-assigned</td>\n",
       "      <td>Asia</td>\n",
       "      <td>Western Asia</td>\n",
       "    </tr>\n",
       "    <tr>\n",
       "      <th>1</th>\n",
       "      <td>Commonwealth of the Northern Mariana Islands</td>\n",
       "      <td>officially-assigned</td>\n",
       "      <td>Oceania</td>\n",
       "      <td>Micronesia</td>\n",
       "    </tr>\n",
       "    <tr>\n",
       "      <th>2</th>\n",
       "      <td>Republic of Serbia</td>\n",
       "      <td>officially-assigned</td>\n",
       "      <td>Europe</td>\n",
       "      <td>Southeast Europe</td>\n",
       "    </tr>\n",
       "    <tr>\n",
       "      <th>3</th>\n",
       "      <td>Principality of Andorra</td>\n",
       "      <td>officially-assigned</td>\n",
       "      <td>Europe</td>\n",
       "      <td>Southern Europe</td>\n",
       "    </tr>\n",
       "    <tr>\n",
       "      <th>4</th>\n",
       "      <td>Turks and Caicos Islands</td>\n",
       "      <td>officially-assigned</td>\n",
       "      <td>Americas</td>\n",
       "      <td>Caribbean</td>\n",
       "    </tr>\n",
       "    <tr>\n",
       "      <th>...</th>\n",
       "      <td>...</td>\n",
       "      <td>...</td>\n",
       "      <td>...</td>\n",
       "      <td>...</td>\n",
       "    </tr>\n",
       "    <tr>\n",
       "      <th>246</th>\n",
       "      <td>Republic of Tajikistan</td>\n",
       "      <td>officially-assigned</td>\n",
       "      <td>Asia</td>\n",
       "      <td>Central Asia</td>\n",
       "    </tr>\n",
       "    <tr>\n",
       "      <th>247</th>\n",
       "      <td>Oriental Republic of Uruguay</td>\n",
       "      <td>officially-assigned</td>\n",
       "      <td>Americas</td>\n",
       "      <td>South America</td>\n",
       "    </tr>\n",
       "    <tr>\n",
       "      <th>248</th>\n",
       "      <td>Republic of Cyprus</td>\n",
       "      <td>officially-assigned</td>\n",
       "      <td>Europe</td>\n",
       "      <td>Southern Europe</td>\n",
       "    </tr>\n",
       "    <tr>\n",
       "      <th>249</th>\n",
       "      <td>Republic of Guinea-Bissau</td>\n",
       "      <td>officially-assigned</td>\n",
       "      <td>Africa</td>\n",
       "      <td>Western Africa</td>\n",
       "    </tr>\n",
       "    <tr>\n",
       "      <th>250</th>\n",
       "      <td>Zanzibar</td>\n",
       "      <td>dummy-country</td>\n",
       "      <td>Africa</td>\n",
       "      <td>Western Africa</td>\n",
       "    </tr>\n",
       "  </tbody>\n",
       "</table>\n",
       "<p>251 rows × 4 columns</p>\n",
       "</div>"
      ],
      "text/plain": [
       "                                          Country               Status  \\\n",
       "0                     Hashemite Kingdom of Jordan  officially-assigned   \n",
       "1    Commonwealth of the Northern Mariana Islands  officially-assigned   \n",
       "2                              Republic of Serbia  officially-assigned   \n",
       "3                         Principality of Andorra  officially-assigned   \n",
       "4                        Turks and Caicos Islands  officially-assigned   \n",
       "..                                            ...                  ...   \n",
       "246                        Republic of Tajikistan  officially-assigned   \n",
       "247                  Oriental Republic of Uruguay  officially-assigned   \n",
       "248                            Republic of Cyprus  officially-assigned   \n",
       "249                     Republic of Guinea-Bissau  officially-assigned   \n",
       "250                                      Zanzibar        dummy-country   \n",
       "\n",
       "       Region        Sub-Region  \n",
       "0        Asia      Western Asia  \n",
       "1     Oceania        Micronesia  \n",
       "2      Europe  Southeast Europe  \n",
       "3      Europe   Southern Europe  \n",
       "4    Americas         Caribbean  \n",
       "..        ...               ...  \n",
       "246      Asia      Central Asia  \n",
       "247  Americas     South America  \n",
       "248    Europe   Southern Europe  \n",
       "249    Africa    Western Africa  \n",
       "250    Africa    Western Africa  \n",
       "\n",
       "[251 rows x 4 columns]"
      ]
     },
     "execution_count": 63,
     "metadata": {},
     "output_type": "execute_result"
    }
   ],
   "source": [
    "countries_df"
   ]
  },
  {
   "cell_type": "code",
   "execution_count": 65,
   "id": "6ce3a312",
   "metadata": {},
   "outputs": [],
   "source": [
    "direct_df = pa.DataFrame(all_countries)"
   ]
  },
  {
   "cell_type": "code",
   "execution_count": 69,
   "id": "d2f2c77b",
   "metadata": {},
   "outputs": [],
   "source": [
    "countries_df = countries_df.drop(len(countries_df)-1)"
   ]
  },
  {
   "cell_type": "code",
   "execution_count": 74,
   "id": "3b0f847f",
   "metadata": {},
   "outputs": [],
   "source": [
    "countries_df[\"area\"] = direct_df[\"area\"]"
   ]
  },
  {
   "cell_type": "code",
   "execution_count": 77,
   "id": "99e50c18",
   "metadata": {},
   "outputs": [
    {
     "data": {
      "text/html": [
       "<div>\n",
       "<style scoped>\n",
       "    .dataframe tbody tr th:only-of-type {\n",
       "        vertical-align: middle;\n",
       "    }\n",
       "\n",
       "    .dataframe tbody tr th {\n",
       "        vertical-align: top;\n",
       "    }\n",
       "\n",
       "    .dataframe thead th {\n",
       "        text-align: right;\n",
       "    }\n",
       "</style>\n",
       "<table border=\"1\" class=\"dataframe\">\n",
       "  <thead>\n",
       "    <tr style=\"text-align: right;\">\n",
       "      <th></th>\n",
       "      <th>Country</th>\n",
       "      <th>Status</th>\n",
       "      <th>Region</th>\n",
       "      <th>Sub-Region</th>\n",
       "      <th>area</th>\n",
       "    </tr>\n",
       "  </thead>\n",
       "  <tbody>\n",
       "    <tr>\n",
       "      <th>150</th>\n",
       "      <td>Russian Federation</td>\n",
       "      <td>officially-assigned</td>\n",
       "      <td>Europe</td>\n",
       "      <td>Eastern Europe</td>\n",
       "      <td>17098242.00</td>\n",
       "    </tr>\n",
       "    <tr>\n",
       "      <th>6</th>\n",
       "      <td>Antarctica</td>\n",
       "      <td>officially-assigned</td>\n",
       "      <td>Antarctic</td>\n",
       "      <td></td>\n",
       "      <td>14000000.00</td>\n",
       "    </tr>\n",
       "    <tr>\n",
       "      <th>62</th>\n",
       "      <td>Canada</td>\n",
       "      <td>officially-assigned</td>\n",
       "      <td>Americas</td>\n",
       "      <td>North America</td>\n",
       "      <td>9984670.00</td>\n",
       "    </tr>\n",
       "    <tr>\n",
       "      <th>49</th>\n",
       "      <td>People's Republic of China</td>\n",
       "      <td>officially-assigned</td>\n",
       "      <td>Asia</td>\n",
       "      <td>Eastern Asia</td>\n",
       "      <td>9706961.00</td>\n",
       "    </tr>\n",
       "    <tr>\n",
       "      <th>224</th>\n",
       "      <td>United States of America</td>\n",
       "      <td>officially-assigned</td>\n",
       "      <td>Americas</td>\n",
       "      <td>North America</td>\n",
       "      <td>9372610.00</td>\n",
       "    </tr>\n",
       "    <tr>\n",
       "      <th>...</th>\n",
       "      <td>...</td>\n",
       "      <td>...</td>\n",
       "      <td>...</td>\n",
       "      <td>...</td>\n",
       "      <td>...</td>\n",
       "    </tr>\n",
       "    <tr>\n",
       "      <th>220</th>\n",
       "      <td>Tokelau</td>\n",
       "      <td>officially-assigned</td>\n",
       "      <td>Oceania</td>\n",
       "      <td>Polynesia</td>\n",
       "      <td>12.00</td>\n",
       "    </tr>\n",
       "    <tr>\n",
       "      <th>74</th>\n",
       "      <td>Gibraltar</td>\n",
       "      <td>officially-assigned</td>\n",
       "      <td>Europe</td>\n",
       "      <td>Southern Europe</td>\n",
       "      <td>6.00</td>\n",
       "    </tr>\n",
       "    <tr>\n",
       "      <th>57</th>\n",
       "      <td>Principality of Monaco</td>\n",
       "      <td>officially-assigned</td>\n",
       "      <td>Europe</td>\n",
       "      <td>Western Europe</td>\n",
       "      <td>2.02</td>\n",
       "    </tr>\n",
       "    <tr>\n",
       "      <th>39</th>\n",
       "      <td>Vatican City State</td>\n",
       "      <td>officially-assigned</td>\n",
       "      <td>Europe</td>\n",
       "      <td>Southern Europe</td>\n",
       "      <td>0.44</td>\n",
       "    </tr>\n",
       "    <tr>\n",
       "      <th>156</th>\n",
       "      <td>Svalbard og Jan Mayen</td>\n",
       "      <td>officially-assigned</td>\n",
       "      <td>Europe</td>\n",
       "      <td>Northern Europe</td>\n",
       "      <td>-1.00</td>\n",
       "    </tr>\n",
       "  </tbody>\n",
       "</table>\n",
       "<p>250 rows × 5 columns</p>\n",
       "</div>"
      ],
      "text/plain": [
       "                        Country               Status     Region  \\\n",
       "150          Russian Federation  officially-assigned     Europe   \n",
       "6                    Antarctica  officially-assigned  Antarctic   \n",
       "62                       Canada  officially-assigned   Americas   \n",
       "49   People's Republic of China  officially-assigned       Asia   \n",
       "224    United States of America  officially-assigned   Americas   \n",
       "..                          ...                  ...        ...   \n",
       "220                     Tokelau  officially-assigned    Oceania   \n",
       "74                    Gibraltar  officially-assigned     Europe   \n",
       "57       Principality of Monaco  officially-assigned     Europe   \n",
       "39           Vatican City State  officially-assigned     Europe   \n",
       "156       Svalbard og Jan Mayen  officially-assigned     Europe   \n",
       "\n",
       "          Sub-Region         area  \n",
       "150   Eastern Europe  17098242.00  \n",
       "6                     14000000.00  \n",
       "62     North America   9984670.00  \n",
       "49      Eastern Asia   9706961.00  \n",
       "224    North America   9372610.00  \n",
       "..               ...          ...  \n",
       "220        Polynesia        12.00  \n",
       "74   Southern Europe         6.00  \n",
       "57    Western Europe         2.02  \n",
       "39   Southern Europe         0.44  \n",
       "156  Northern Europe        -1.00  \n",
       "\n",
       "[250 rows x 5 columns]"
      ]
     },
     "execution_count": 77,
     "metadata": {},
     "output_type": "execute_result"
    }
   ],
   "source": [
    "countries_df.sort_values(by=[\"area\"],ascending=False)"
   ]
  },
  {
   "cell_type": "code",
   "execution_count": 80,
   "id": "f4ef5882",
   "metadata": {},
   "outputs": [],
   "source": [
    "regions = list(countries_df[\"Region\"].unique())"
   ]
  },
  {
   "cell_type": "code",
   "execution_count": 84,
   "id": "927b484f",
   "metadata": {},
   "outputs": [
    {
     "data": {
      "text/plain": [
       "32138141.0"
      ]
     },
     "execution_count": 84,
     "metadata": {},
     "output_type": "execute_result"
    }
   ],
   "source": [
    "countries_df[countries_df[\"Region\"]==\"Asia\"][\"area\"].sum()"
   ]
  },
  {
   "cell_type": "code",
   "execution_count": 85,
   "id": "58fb1b94",
   "metadata": {},
   "outputs": [],
   "source": [
    "regions_areas = dict()"
   ]
  },
  {
   "cell_type": "code",
   "execution_count": 86,
   "id": "0b261e31",
   "metadata": {},
   "outputs": [],
   "source": [
    "for region in regions:\n",
    "    regions_areas[region] = countries_df[countries_df[\"Region\"]==region][\"area\"].sum()"
   ]
  },
  {
   "cell_type": "code",
   "execution_count": 87,
   "id": "2bcb2f54",
   "metadata": {},
   "outputs": [
    {
     "data": {
      "text/plain": [
       "{'Asia': 32138141.0,\n",
       " 'Oceania': 8515313.0,\n",
       " 'Europe': 23022897.46,\n",
       " 'Americas': 42077922.2,\n",
       " 'Antarctic': 14012111.0,\n",
       " 'Africa': 30318417.0}"
      ]
     },
     "execution_count": 87,
     "metadata": {},
     "output_type": "execute_result"
    }
   ],
   "source": [
    "regions_areas"
   ]
  },
  {
   "cell_type": "code",
   "execution_count": 88,
   "id": "25c15e41",
   "metadata": {},
   "outputs": [
    {
     "data": {
      "text/plain": [
       "Region\n",
       "Africa       30318417.00\n",
       "Americas     42077922.20\n",
       "Antarctic    14012111.00\n",
       "Asia         32138141.00\n",
       "Europe       23022897.46\n",
       "Oceania       8515313.00\n",
       "Name: area, dtype: float64"
      ]
     },
     "execution_count": 88,
     "metadata": {},
     "output_type": "execute_result"
    }
   ],
   "source": [
    "countries_df.groupby(by=\"Region\")[\"area\"].sum()"
   ]
  },
  {
   "cell_type": "code",
   "execution_count": 89,
   "id": "b714f98f",
   "metadata": {},
   "outputs": [
    {
     "data": {
      "text/plain": [
       "Sub-Region\n",
       "                             14012111.00\n",
       "Australia and New Zealand     7962676.00\n",
       "Caribbean                      234191.00\n",
       "Central America                522278.00\n",
       "Central Asia                  4003451.00\n",
       "Central Europe                 637753.00\n",
       "Eastern Africa                5970959.00\n",
       "Eastern Asia                 11907076.00\n",
       "Eastern Europe               17943188.00\n",
       "Melanesia                      540772.00\n",
       "Micronesia                       3187.00\n",
       "Middle Africa                 7232412.00\n",
       "North America                23488071.20\n",
       "Northern Africa               7905959.00\n",
       "Northern Europe               1750612.00\n",
       "Polynesia                        8678.00\n",
       "South America                17833382.00\n",
       "South-Eastern Asia            4537819.00\n",
       "Southeast Europe               624615.00\n",
       "Southern Africa               3067128.00\n",
       "Southern Asia                 6868982.00\n",
       "Southern Europe               1041510.44\n",
       "Western Africa                6141959.00\n",
       "Western Asia                  4820813.00\n",
       "Western Europe                1025219.02\n",
       "Name: area, dtype: float64"
      ]
     },
     "execution_count": 89,
     "metadata": {},
     "output_type": "execute_result"
    }
   ],
   "source": [
    "countries_df.groupby(by=\"Sub-Region\")[\"area\"].sum()"
   ]
  },
  {
   "cell_type": "code",
   "execution_count": 92,
   "id": "a2015bb4",
   "metadata": {},
   "outputs": [
    {
     "name": "stdout",
     "output_type": "stream",
     "text": [
      "{'data': {'detections': [[{'confidence': 1, 'isReliable': False, 'language': 'lv'}]]}}\n"
     ]
    }
   ],
   "source": [
    "import requests\n",
    "\n",
    "url = \"https://google-translate1.p.rapidapi.com/language/translate/v2/detect\"\n",
    "\n",
    "payload = { \"q\": \"Sveiks\" }\n",
    "headers = {\n",
    "\t\"content-type\": \"application/x-www-form-urlencoded\",\n",
    "\t\"Accept-Encoding\": \"application/gzip\",\n",
    "\t\"X-RapidAPI-Key\": \"d239831fd9msh4ad7cb7ac973f08p13968ejsn70e9adc40ca5\",\n",
    "\t\"X-RapidAPI-Host\": \"google-translate1.p.rapidapi.com\"\n",
    "}\n",
    "\n",
    "response = requests.post(url, data=payload, headers=headers)\n",
    "\n",
    "print(response.json())"
   ]
  },
  {
   "cell_type": "code",
   "execution_count": 93,
   "id": "61c2e093",
   "metadata": {},
   "outputs": [
    {
     "name": "stdout",
     "output_type": "stream",
     "text": [
      "{'data': {'languages': [{'language': 'af'}, {'language': 'ak'}, {'language': 'am'}, {'language': 'ar'}, {'language': 'as'}, {'language': 'ay'}, {'language': 'az'}, {'language': 'be'}, {'language': 'bg'}, {'language': 'bho'}, {'language': 'bm'}, {'language': 'bn'}, {'language': 'bs'}, {'language': 'ca'}, {'language': 'ceb'}, {'language': 'ckb'}, {'language': 'co'}, {'language': 'cs'}, {'language': 'cy'}, {'language': 'da'}, {'language': 'de'}, {'language': 'doi'}, {'language': 'dv'}, {'language': 'ee'}, {'language': 'el'}, {'language': 'en'}, {'language': 'eo'}, {'language': 'es'}, {'language': 'et'}, {'language': 'eu'}, {'language': 'fa'}, {'language': 'fi'}, {'language': 'fr'}, {'language': 'fy'}, {'language': 'ga'}, {'language': 'gd'}, {'language': 'gl'}, {'language': 'gn'}, {'language': 'gom'}, {'language': 'gu'}, {'language': 'ha'}, {'language': 'haw'}, {'language': 'he'}, {'language': 'hi'}, {'language': 'hmn'}, {'language': 'hr'}, {'language': 'ht'}, {'language': 'hu'}, {'language': 'hy'}, {'language': 'id'}, {'language': 'ig'}, {'language': 'ilo'}, {'language': 'is'}, {'language': 'it'}, {'language': 'iw'}, {'language': 'ja'}, {'language': 'jv'}, {'language': 'jw'}, {'language': 'ka'}, {'language': 'kk'}, {'language': 'km'}, {'language': 'kn'}, {'language': 'ko'}, {'language': 'kri'}, {'language': 'ku'}, {'language': 'ky'}, {'language': 'la'}, {'language': 'lb'}, {'language': 'lg'}, {'language': 'ln'}, {'language': 'lo'}, {'language': 'lt'}, {'language': 'lus'}, {'language': 'lv'}, {'language': 'mai'}, {'language': 'mg'}, {'language': 'mi'}, {'language': 'mk'}, {'language': 'ml'}, {'language': 'mn'}, {'language': 'mni-Mtei'}, {'language': 'mr'}, {'language': 'ms'}, {'language': 'mt'}, {'language': 'my'}, {'language': 'ne'}, {'language': 'nl'}, {'language': 'no'}, {'language': 'nso'}, {'language': 'ny'}, {'language': 'om'}, {'language': 'or'}, {'language': 'pa'}, {'language': 'pl'}, {'language': 'ps'}, {'language': 'pt'}, {'language': 'qu'}, {'language': 'ro'}, {'language': 'ru'}, {'language': 'rw'}, {'language': 'sa'}, {'language': 'sd'}, {'language': 'si'}, {'language': 'sk'}, {'language': 'sl'}, {'language': 'sm'}, {'language': 'sn'}, {'language': 'so'}, {'language': 'sq'}, {'language': 'sr'}, {'language': 'st'}, {'language': 'su'}, {'language': 'sv'}, {'language': 'sw'}, {'language': 'ta'}, {'language': 'te'}, {'language': 'tg'}, {'language': 'th'}, {'language': 'ti'}, {'language': 'tk'}, {'language': 'tl'}, {'language': 'tr'}, {'language': 'ts'}, {'language': 'tt'}, {'language': 'ug'}, {'language': 'uk'}, {'language': 'ur'}, {'language': 'uz'}, {'language': 'vi'}, {'language': 'xh'}, {'language': 'yi'}, {'language': 'yo'}, {'language': 'zh'}, {'language': 'zh-CN'}, {'language': 'zh-TW'}, {'language': 'zu'}]}}\n"
     ]
    }
   ],
   "source": [
    "url = \"https://google-translate1.p.rapidapi.com/language/translate/v2/languages\"\n",
    "\n",
    "headers = {\n",
    "\t\"Accept-Encoding\": \"application/gzip\",\n",
    "\t\"X-RapidAPI-Key\": \"d239831fd9msh4ad7cb7ac973f08p13968ejsn70e9adc40ca5\",\n",
    "\t\"X-RapidAPI-Host\": \"google-translate1.p.rapidapi.com\"\n",
    "}\n",
    "\n",
    "response = requests.get(url, headers=headers)\n",
    "\n",
    "print(response.json())"
   ]
  },
  {
   "cell_type": "code",
   "execution_count": 95,
   "id": "4e089566",
   "metadata": {},
   "outputs": [
    {
     "name": "stdout",
     "output_type": "stream",
     "text": [
      "{'data': {'translations': [{'translatedText': 'Sveiki! Čia rašau tekstą, kad patikrinčiau vertimą', 'detectedSourceLanguage': 'lv'}]}}\n"
     ]
    }
   ],
   "source": [
    "url = \"https://google-translate1.p.rapidapi.com/language/translate/v2\"\n",
    "\n",
    "payload = {\n",
    "\t\"q\": \"Sveiks! Šeit es rakstu tekstu, lai pārbaudītu tulkojumu\",\n",
    "\t\"target\": \"lt\",\n",
    " \t\"source\": \"lv\"\n",
    "}\n",
    "headers = {\n",
    "\t\"content-type\": \"application/x-www-form-urlencoded\",\n",
    "\t\"Accept-Encoding\": \"application/gzip\",\n",
    "\t\"X-RapidAPI-Key\": \"d239831fd9msh4ad7cb7ac973f08p13968ejsn70e9adc40ca5\",\n",
    "\t\"X-RapidAPI-Host\": \"google-translate1.p.rapidapi.com\"\n",
    "}\n",
    "\n",
    "response = requests.post(url, data=payload, headers=headers)\n",
    "\n",
    "print(response.json())"
   ]
  },
  {
   "cell_type": "code",
   "execution_count": 99,
   "id": "072eefe4",
   "metadata": {},
   "outputs": [
    {
     "name": "stdout",
     "output_type": "stream",
     "text": [
      "{'tracks': {'hits': [{'track': {'layout': '5', 'type': 'MUSIC', 'key': '216345', 'title': 'Penny Lane', 'subtitle': 'The Beatles', 'share': {'subject': 'Penny Lane - The Beatles', 'text': 'Penny Lane by The Beatles', 'href': 'https://www.shazam.com/track/216345/penny-lane', 'image': 'https://is4-ssl.mzstatic.com/image/thumb/Music126/v4/43/0e/37/430e3790-75d5-c96a-1380-f9d9803aa700/18UMGIM31245.rgb.jpg/400x400cc.jpg', 'twitter': 'I used @Shazam to discover Penny Lane by The Beatles.', 'html': 'https://www.shazam.com/snippets/email-share/216345?lang=en-US&country=US', 'avatar': 'https://is5-ssl.mzstatic.com/image/thumb/Features125/v4/02/1f/ea/021fea7b-9acd-3dd9-c833-68781a5c764a/mza_12805048796106822393.png/800x800cc.jpg', 'snapchat': 'https://www.shazam.com/partner/sc/track/216345'}, 'images': {'background': 'https://is5-ssl.mzstatic.com/image/thumb/Features125/v4/02/1f/ea/021fea7b-9acd-3dd9-c833-68781a5c764a/mza_12805048796106822393.png/800x800cc.jpg', 'coverart': 'https://is4-ssl.mzstatic.com/image/thumb/Music126/v4/43/0e/37/430e3790-75d5-c96a-1380-f9d9803aa700/18UMGIM31245.rgb.jpg/400x400cc.jpg', 'coverarthq': 'https://is4-ssl.mzstatic.com/image/thumb/Music126/v4/43/0e/37/430e3790-75d5-c96a-1380-f9d9803aa700/18UMGIM31245.rgb.jpg/400x400cc.jpg', 'joecolor': 'b:e9cb0bp:000104s:530801t:2e2906q:712f03'}, 'hub': {'type': 'APPLEMUSIC', 'image': 'https://images.shazam.com/static/icons/hub/ios/v5/applemusic_{scalefactor}.png', 'actions': [{'name': 'apple', 'type': 'applemusicplay', 'id': '1441163777'}, {'name': 'apple', 'type': 'uri', 'uri': 'https://audio-ssl.itunes.apple.com/itunes-assets/AudioPreview122/v4/3f/dc/06/3fdc06b3-a9c1-0542-39b1-0f951518cc58/mzaf_14865028083073816455.plus.aac.ep.m4a'}], 'options': [{'caption': 'OPEN', 'actions': [{'name': 'hub:applemusic:deeplink', 'type': 'applemusicopen', 'uri': 'https://music.apple.com/us/album/penny-lane/1441163490?i=1441163777&mttnagencyid=s2n&mttnsiteid=125115&mttn3pid=Apple-Shazam&mttnsub1=Shazam_ios&mttnsub2=5348615A-616D-3235-3830-44754D6D5973&itscg=30201&app=music&itsct=Shazam_ios'}, {'name': 'hub:applemusic:deeplink', 'type': 'uri', 'uri': 'https://music.apple.com/us/album/penny-lane/1441163490?i=1441163777&mttnagencyid=s2n&mttnsiteid=125115&mttn3pid=Apple-Shazam&mttnsub1=Shazam_ios&mttnsub2=5348615A-616D-3235-3830-44754D6D5973&itscg=30201&app=music&itsct=Shazam_ios'}], 'beacondata': {'type': 'open', 'providername': 'applemusic'}, 'image': 'https://images.shazam.com/static/icons/hub/ios/v5/overflow-open-option_{scalefactor}.png', 'type': 'open', 'listcaption': 'Open in Apple Music', 'overflowimage': 'https://images.shazam.com/static/icons/hub/ios/v5/applemusic-overflow_{scalefactor}.png', 'colouroverflowimage': False, 'providername': 'applemusic'}, {'caption': 'BUY', 'actions': [{'type': 'uri', 'uri': 'https://itunes.apple.com/us/album/penny-lane/1441163490?i=1441163777&mttnagencyid=s2n&mttnsiteid=125115&mttn3pid=Apple-Shazam&mttnsub1=Shazam_ios&mttnsub2=5348615A-616D-3235-3830-44754D6D5973&itscg=30201&app=itunes&itsct=Shazam_ios'}], 'beacondata': {'type': 'buy', 'providername': 'itunes'}, 'image': 'https://images.shazam.com/static/icons/hub/ios/v5/itunes-overflow-buy_{scalefactor}.png', 'type': 'buy', 'listcaption': 'Buy on iTunes', 'overflowimage': 'https://images.shazam.com/static/icons/hub/ios/v5/itunes-overflow-buy_{scalefactor}.png', 'colouroverflowimage': False, 'providername': 'itunes'}], 'providers': [{'caption': 'Open in Spotify', 'images': {'overflow': 'https://images.shazam.com/static/icons/hub/ios/v5/spotify-overflow_{scalefactor}.png', 'default': 'https://images.shazam.com/static/icons/hub/ios/v5/spotify_{scalefactor}.png'}, 'actions': [{'name': 'hub:spotify:searchdeeplink', 'type': 'uri', 'uri': 'spotify:search:Penny%20Lane%20The%20Beatles'}], 'type': 'SPOTIFY'}, {'caption': 'Open in Deezer', 'images': {'overflow': 'https://images.shazam.com/static/icons/hub/ios/v5/deezer-overflow_{scalefactor}.png', 'default': 'https://images.shazam.com/static/icons/hub/ios/v5/deezer_{scalefactor}.png'}, 'actions': [{'name': 'hub:deezer:searchdeeplink', 'type': 'uri', 'uri': 'deezer-query://www.deezer.com/play?query=%7Btrack%3A%27Penny+Lane%27%20artist%3A%27The+Beatles%27%7D'}], 'type': 'DEEZER'}], 'explicit': False, 'displayname': 'APPLE MUSIC'}, 'artists': [{'id': '42', 'adamid': '136975'}], 'url': 'https://www.shazam.com/track/216345/penny-lane'}, 'snippet': 'Penny Lane, there is a barber showing photographs'}, {'track': {'layout': '5', 'type': 'MUSIC', 'key': '438711616', 'title': 'Penny Lane (Capitol Records Mono US Promo Mix)', 'subtitle': 'The Beatles', 'share': {'subject': 'Penny Lane (Capitol Records Mono US Promo Mix) - The Beatles', 'text': 'Penny Lane (Capitol Records Mono US Promo Mix) by The Beatles', 'href': 'https://www.shazam.com/track/438711616/penny-lane-capitol-records-mono-us-promo-mix', 'image': 'https://is2-ssl.mzstatic.com/image/thumb/Music124/v4/92/e3/a7/92e3a7bf-ec90-ff7b-efbb-8c26cb9b2c5c/18UMGIM49153.rgb.jpg/400x400cc.jpg', 'twitter': 'I used @Shazam to discover Penny Lane (Capitol Records Mono US Promo Mix) by The Beatles.', 'html': 'https://www.shazam.com/snippets/email-share/438711616?lang=en-US&country=US', 'avatar': 'https://is5-ssl.mzstatic.com/image/thumb/Features125/v4/02/1f/ea/021fea7b-9acd-3dd9-c833-68781a5c764a/mza_12805048796106822393.png/800x800cc.jpg', 'snapchat': 'https://www.shazam.com/partner/sc/track/438711616'}, 'images': {'background': 'https://is5-ssl.mzstatic.com/image/thumb/Features125/v4/02/1f/ea/021fea7b-9acd-3dd9-c833-68781a5c764a/mza_12805048796106822393.png/800x800cc.jpg', 'coverart': 'https://is2-ssl.mzstatic.com/image/thumb/Music124/v4/92/e3/a7/92e3a7bf-ec90-ff7b-efbb-8c26cb9b2c5c/18UMGIM49153.rgb.jpg/400x400cc.jpg', 'coverarthq': 'https://is2-ssl.mzstatic.com/image/thumb/Music124/v4/92/e3/a7/92e3a7bf-ec90-ff7b-efbb-8c26cb9b2c5c/18UMGIM49153.rgb.jpg/400x400cc.jpg', 'joecolor': 'b:f0c84cp:090f0bs:1f1a19t:373418q:493d23'}, 'hub': {'type': 'APPLEMUSIC', 'image': 'https://images.shazam.com/static/icons/hub/ios/v5/applemusic_{scalefactor}.png', 'actions': [{'name': 'apple', 'type': 'applemusicplay', 'id': '1435552694'}, {'name': 'apple', 'type': 'uri', 'uri': 'https://audio-ssl.itunes.apple.com/itunes-assets/AudioPreview122/v4/c7/b3/ac/c7b3ac69-e8c1-d8d4-84eb-e829b2cf74f8/mzaf_11651506514897487294.plus.aac.ep.m4a'}], 'options': [{'caption': 'OPEN', 'actions': [{'name': 'hub:applemusic:deeplink', 'type': 'applemusicopen', 'uri': 'https://music.apple.com/us/album/penny-lane-capitol-records-mono-us-promo-mix/1435552131?i=1435552694&mttnagencyid=s2n&mttnsiteid=125115&mttn3pid=Apple-Shazam&mttnsub1=Shazam_ios&mttnsub2=5348615A-616D-3235-3830-44754D6D5973&itscg=30201&app=music&itsct=Shazam_ios'}, {'name': 'hub:applemusic:deeplink', 'type': 'uri', 'uri': 'https://music.apple.com/us/album/penny-lane-capitol-records-mono-us-promo-mix/1435552131?i=1435552694&mttnagencyid=s2n&mttnsiteid=125115&mttn3pid=Apple-Shazam&mttnsub1=Shazam_ios&mttnsub2=5348615A-616D-3235-3830-44754D6D5973&itscg=30201&app=music&itsct=Shazam_ios'}], 'beacondata': {'type': 'open', 'providername': 'applemusic'}, 'image': 'https://images.shazam.com/static/icons/hub/ios/v5/overflow-open-option_{scalefactor}.png', 'type': 'open', 'listcaption': 'Open in Apple Music', 'overflowimage': 'https://images.shazam.com/static/icons/hub/ios/v5/applemusic-overflow_{scalefactor}.png', 'colouroverflowimage': False, 'providername': 'applemusic'}, {'caption': 'BUY', 'actions': [{'type': 'uri', 'uri': 'https://itunes.apple.com/us/album/penny-lane-capitol-records-mono-us-promo-mix/1435552131?i=1435552694&mttnagencyid=s2n&mttnsiteid=125115&mttn3pid=Apple-Shazam&mttnsub1=Shazam_ios&mttnsub2=5348615A-616D-3235-3830-44754D6D5973&itscg=30201&app=itunes&itsct=Shazam_ios'}], 'beacondata': {'type': 'buy', 'providername': 'itunes'}, 'image': 'https://images.shazam.com/static/icons/hub/ios/v5/itunes-overflow-buy_{scalefactor}.png', 'type': 'buy', 'listcaption': 'Buy on iTunes', 'overflowimage': 'https://images.shazam.com/static/icons/hub/ios/v5/itunes-overflow-buy_{scalefactor}.png', 'colouroverflowimage': False, 'providername': 'itunes'}], 'providers': [{'caption': 'Open in Spotify', 'images': {'overflow': 'https://images.shazam.com/static/icons/hub/ios/v5/spotify-overflow_{scalefactor}.png', 'default': 'https://images.shazam.com/static/icons/hub/ios/v5/spotify_{scalefactor}.png'}, 'actions': [{'name': 'hub:spotify:searchdeeplink', 'type': 'uri', 'uri': 'spotify:search:Penny%20Lane%20%28Capitol%20Records%20Mono%20US%20Promo%20Mix%29%20The%20Beatles'}], 'type': 'SPOTIFY'}, {'caption': 'Open in Deezer', 'images': {'overflow': 'https://images.shazam.com/static/icons/hub/ios/v5/deezer-overflow_{scalefactor}.png', 'default': 'https://images.shazam.com/static/icons/hub/ios/v5/deezer_{scalefactor}.png'}, 'actions': [{'name': 'hub:deezer:searchdeeplink', 'type': 'uri', 'uri': 'deezer-query://www.deezer.com/play?query=%7Btrack%3A%27Penny+Lane+%28Capitol+Records+Mono+US+Promo+Mix%29%27%20artist%3A%27The+Beatles%27%7D'}], 'type': 'DEEZER'}], 'explicit': False, 'displayname': 'APPLE MUSIC'}, 'artists': [{'id': '42', 'adamid': '136975'}], 'url': 'https://www.shazam.com/track/438711616/penny-lane-capitol-records-mono-us-promo-mix'}, 'snippet': 'In Penny Lane there is a barber showing photographs'}, {'track': {'layout': '5', 'type': 'MUSIC', 'key': '352784676', 'title': 'Penny Lane (Stereo Mix 2017)', 'subtitle': 'The Beatles', 'share': {'subject': 'Penny Lane (Stereo Mix 2017) - The Beatles', 'text': 'Penny Lane (Stereo Mix 2017) by The Beatles', 'href': 'https://www.shazam.com/track/352784676/penny-lane-stereo-mix-2017', 'image': 'https://is2-ssl.mzstatic.com/image/thumb/Music124/v4/92/e3/a7/92e3a7bf-ec90-ff7b-efbb-8c26cb9b2c5c/18UMGIM49153.rgb.jpg/400x400cc.jpg', 'twitter': 'I used @Shazam to discover Penny Lane (Stereo Mix 2017) by The Beatles.', 'html': 'https://www.shazam.com/snippets/email-share/352784676?lang=en-US&country=US', 'avatar': 'https://is5-ssl.mzstatic.com/image/thumb/Features125/v4/02/1f/ea/021fea7b-9acd-3dd9-c833-68781a5c764a/mza_12805048796106822393.png/800x800cc.jpg', 'snapchat': 'https://www.shazam.com/partner/sc/track/352784676'}, 'images': {'background': 'https://is5-ssl.mzstatic.com/image/thumb/Features125/v4/02/1f/ea/021fea7b-9acd-3dd9-c833-68781a5c764a/mza_12805048796106822393.png/800x800cc.jpg', 'coverart': 'https://is2-ssl.mzstatic.com/image/thumb/Music124/v4/92/e3/a7/92e3a7bf-ec90-ff7b-efbb-8c26cb9b2c5c/18UMGIM49153.rgb.jpg/400x400cc.jpg', 'coverarthq': 'https://is2-ssl.mzstatic.com/image/thumb/Music124/v4/92/e3/a7/92e3a7bf-ec90-ff7b-efbb-8c26cb9b2c5c/18UMGIM49153.rgb.jpg/400x400cc.jpg', 'joecolor': 'b:f0c84cp:090f0bs:1f1a19t:373418q:493d23'}, 'hub': {'type': 'APPLEMUSIC', 'image': 'https://images.shazam.com/static/icons/hub/ios/v5/applemusic_{scalefactor}.png', 'actions': [{'name': 'apple', 'type': 'applemusicplay', 'id': '1435552397'}, {'name': 'apple', 'type': 'uri', 'uri': 'https://audio-ssl.itunes.apple.com/itunes-assets/AudioPreview122/v4/27/0f/2d/270f2de7-4a31-fcf8-ec36-3bd1795a4ecf/mzaf_17665194226445092338.plus.aac.ep.m4a'}], 'options': [{'caption': 'OPEN', 'actions': [{'name': 'hub:applemusic:deeplink', 'type': 'applemusicopen', 'uri': 'https://music.apple.com/us/album/penny-lane-stereo-mix-2017/1435552131?i=1435552397&mttnagencyid=s2n&mttnsiteid=125115&mttn3pid=Apple-Shazam&mttnsub1=Shazam_ios&mttnsub2=5348615A-616D-3235-3830-44754D6D5973&itscg=30201&app=music&itsct=Shazam_ios'}, {'name': 'hub:applemusic:deeplink', 'type': 'uri', 'uri': 'https://music.apple.com/us/album/penny-lane-stereo-mix-2017/1435552131?i=1435552397&mttnagencyid=s2n&mttnsiteid=125115&mttn3pid=Apple-Shazam&mttnsub1=Shazam_ios&mttnsub2=5348615A-616D-3235-3830-44754D6D5973&itscg=30201&app=music&itsct=Shazam_ios'}], 'beacondata': {'type': 'open', 'providername': 'applemusic'}, 'image': 'https://images.shazam.com/static/icons/hub/ios/v5/overflow-open-option_{scalefactor}.png', 'type': 'open', 'listcaption': 'Open in Apple Music', 'overflowimage': 'https://images.shazam.com/static/icons/hub/ios/v5/applemusic-overflow_{scalefactor}.png', 'colouroverflowimage': False, 'providername': 'applemusic'}, {'caption': 'BUY', 'actions': [{'type': 'uri', 'uri': 'https://itunes.apple.com/us/album/penny-lane-stereo-mix-2017/1435552131?i=1435552397&mttnagencyid=s2n&mttnsiteid=125115&mttn3pid=Apple-Shazam&mttnsub1=Shazam_ios&mttnsub2=5348615A-616D-3235-3830-44754D6D5973&itscg=30201&app=itunes&itsct=Shazam_ios'}], 'beacondata': {'type': 'buy', 'providername': 'itunes'}, 'image': 'https://images.shazam.com/static/icons/hub/ios/v5/itunes-overflow-buy_{scalefactor}.png', 'type': 'buy', 'listcaption': 'Buy on iTunes', 'overflowimage': 'https://images.shazam.com/static/icons/hub/ios/v5/itunes-overflow-buy_{scalefactor}.png', 'colouroverflowimage': False, 'providername': 'itunes'}], 'providers': [{'caption': 'Open in Spotify', 'images': {'overflow': 'https://images.shazam.com/static/icons/hub/ios/v5/spotify-overflow_{scalefactor}.png', 'default': 'https://images.shazam.com/static/icons/hub/ios/v5/spotify_{scalefactor}.png'}, 'actions': [{'name': 'hub:spotify:searchdeeplink', 'type': 'uri', 'uri': 'spotify:search:Penny%20Lane%20%28Stereo%20Mix%202017%29%20The%20Beatles'}], 'type': 'SPOTIFY'}, {'caption': 'Open in Deezer', 'images': {'overflow': 'https://images.shazam.com/static/icons/hub/ios/v5/deezer-overflow_{scalefactor}.png', 'default': 'https://images.shazam.com/static/icons/hub/ios/v5/deezer_{scalefactor}.png'}, 'actions': [{'name': 'hub:deezer:searchdeeplink', 'type': 'uri', 'uri': 'deezer-query://www.deezer.com/play?query=%7Btrack%3A%27Penny+Lane+%28Stereo+Mix+2017%29%27%20artist%3A%27The+Beatles%27%7D'}], 'type': 'DEEZER'}], 'explicit': False, 'displayname': 'APPLE MUSIC'}, 'artists': [{'id': '42', 'adamid': '136975'}], 'url': 'https://www.shazam.com/track/352784676/penny-lane-stereo-mix-2017'}, 'snippet': 'In Penny Lane there is a barber showing photographs'}, {'track': {'layout': '5', 'type': 'MUSIC', 'key': '294649742', 'title': 'Penny Lane', 'subtitle': 'The Beatles', 'share': {'subject': 'Penny Lane - The Beatles', 'text': 'Penny Lane by The Beatles', 'href': 'https://www.shazam.com/track/294649742/penny-lane', 'image': 'https://is3-ssl.mzstatic.com/image/thumb/Music116/v4/f2/98/fb/f298fb48-1e0e-6ad4-4cff-fb824b77f02e/15UMGIM59587.rgb.jpg/400x400cc.jpg', 'twitter': 'I used @Shazam to discover Penny Lane by The Beatles.', 'html': 'https://www.shazam.com/snippets/email-share/294649742?lang=en-US&country=US', 'avatar': 'https://is5-ssl.mzstatic.com/image/thumb/Features125/v4/02/1f/ea/021fea7b-9acd-3dd9-c833-68781a5c764a/mza_12805048796106822393.png/800x800cc.jpg', 'snapchat': 'https://www.shazam.com/partner/sc/track/294649742'}, 'images': {'background': 'https://is5-ssl.mzstatic.com/image/thumb/Features125/v4/02/1f/ea/021fea7b-9acd-3dd9-c833-68781a5c764a/mza_12805048796106822393.png/800x800cc.jpg', 'coverart': 'https://is3-ssl.mzstatic.com/image/thumb/Music116/v4/f2/98/fb/f298fb48-1e0e-6ad4-4cff-fb824b77f02e/15UMGIM59587.rgb.jpg/400x400cc.jpg', 'coverarthq': 'https://is3-ssl.mzstatic.com/image/thumb/Music116/v4/f2/98/fb/f298fb48-1e0e-6ad4-4cff-fb824b77f02e/15UMGIM59587.rgb.jpg/400x400cc.jpg', 'joecolor': 'b:b60600p:ffe000s:ffb81dt:f0b400q:f09417'}, 'hub': {'type': 'APPLEMUSIC', 'image': 'https://images.shazam.com/static/icons/hub/ios/v5/applemusic_{scalefactor}.png', 'actions': [{'name': 'apple', 'type': 'applemusicplay', 'id': '1440833911'}, {'name': 'apple', 'type': 'uri', 'uri': 'https://audio-ssl.itunes.apple.com/itunes-assets/AudioPreview112/v4/6c/bc/4e/6cbc4e4e-6d54-5b36-86dc-a9b5b61f373e/mzaf_7808873230419970304.plus.aac.ep.m4a'}], 'options': [{'caption': 'OPEN', 'actions': [{'name': 'hub:applemusic:deeplink', 'type': 'applemusicopen', 'uri': 'https://music.apple.com/us/album/penny-lane/1440833098?i=1440833911&mttnagencyid=s2n&mttnsiteid=125115&mttn3pid=Apple-Shazam&mttnsub1=Shazam_ios&mttnsub2=5348615A-616D-3235-3830-44754D6D5973&itscg=30201&app=music&itsct=Shazam_ios'}, {'name': 'hub:applemusic:deeplink', 'type': 'uri', 'uri': 'https://music.apple.com/us/album/penny-lane/1440833098?i=1440833911&mttnagencyid=s2n&mttnsiteid=125115&mttn3pid=Apple-Shazam&mttnsub1=Shazam_ios&mttnsub2=5348615A-616D-3235-3830-44754D6D5973&itscg=30201&app=music&itsct=Shazam_ios'}], 'beacondata': {'type': 'open', 'providername': 'applemusic'}, 'image': 'https://images.shazam.com/static/icons/hub/ios/v5/overflow-open-option_{scalefactor}.png', 'type': 'open', 'listcaption': 'Open in Apple Music', 'overflowimage': 'https://images.shazam.com/static/icons/hub/ios/v5/applemusic-overflow_{scalefactor}.png', 'colouroverflowimage': False, 'providername': 'applemusic'}, {'caption': 'BUY', 'actions': [{'type': 'uri', 'uri': 'https://itunes.apple.com/us/album/penny-lane/1440833098?i=1440833911&mttnagencyid=s2n&mttnsiteid=125115&mttn3pid=Apple-Shazam&mttnsub1=Shazam_ios&mttnsub2=5348615A-616D-3235-3830-44754D6D5973&itscg=30201&app=itunes&itsct=Shazam_ios'}], 'beacondata': {'type': 'buy', 'providername': 'itunes'}, 'image': 'https://images.shazam.com/static/icons/hub/ios/v5/itunes-overflow-buy_{scalefactor}.png', 'type': 'buy', 'listcaption': 'Buy on iTunes', 'overflowimage': 'https://images.shazam.com/static/icons/hub/ios/v5/itunes-overflow-buy_{scalefactor}.png', 'colouroverflowimage': False, 'providername': 'itunes'}], 'providers': [{'caption': 'Open in Spotify', 'images': {'overflow': 'https://images.shazam.com/static/icons/hub/ios/v5/spotify-overflow_{scalefactor}.png', 'default': 'https://images.shazam.com/static/icons/hub/ios/v5/spotify_{scalefactor}.png'}, 'actions': [{'name': 'hub:spotify:searchdeeplink', 'type': 'uri', 'uri': 'spotify:search:Penny%20Lane%20The%20Beatles'}], 'type': 'SPOTIFY'}, {'caption': 'Open in Deezer', 'images': {'overflow': 'https://images.shazam.com/static/icons/hub/ios/v5/deezer-overflow_{scalefactor}.png', 'default': 'https://images.shazam.com/static/icons/hub/ios/v5/deezer_{scalefactor}.png'}, 'actions': [{'name': 'hub:deezer:searchdeeplink', 'type': 'uri', 'uri': 'deezer-query://www.deezer.com/play?query=%7Btrack%3A%27Penny+Lane%27%20artist%3A%27The+Beatles%27%7D'}], 'type': 'DEEZER'}], 'explicit': False, 'displayname': 'APPLE MUSIC'}, 'artists': [{'id': '42', 'adamid': '136975'}], 'url': 'https://www.shazam.com/track/294649742/penny-lane'}, 'snippet': 'In Penny Lane there is a barber showing photographs'}]}, 'artists': {'hits': [{'artist': {'avatar': 'https://is3-ssl.mzstatic.com/image/thumb/Features125/v4/02/1f/ea/021fea7b-9acd-3dd9-c833-68781a5c764a/mza_12805048796106822393.png/800x800bb.jpg', 'name': 'The Beatles', 'verified': False, 'weburl': 'https://music.apple.com/us/artist/the-beatles/136975', 'adamid': '136975'}}]}}\n"
     ]
    }
   ],
   "source": [
    "import requests\n",
    "\n",
    "url = \"https://shazam.p.rapidapi.com/search\"\n",
    "\n",
    "querystring = {\"term\":\"Penny lane, there is the barber\",\"locale\":\"en-US\",\"offset\":\"0\",\"limit\":\"5\"}\n",
    "\n",
    "headers = {\n",
    "\t\"X-RapidAPI-Key\": \"d239831fd9msh4ad7cb7ac973f08p13968ejsn70e9adc40ca5\",\n",
    "\t\"X-RapidAPI-Host\": \"shazam.p.rapidapi.com\"\n",
    "}\n",
    "\n",
    "response = requests.get(url, headers=headers, params=querystring)\n"
   ]
  },
  {
   "cell_type": "code",
   "execution_count": 101,
   "id": "770d7d02",
   "metadata": {},
   "outputs": [],
   "source": [
    "song_result = response.json()"
   ]
  },
  {
   "cell_type": "code",
   "execution_count": 104,
   "id": "a44da4c9",
   "metadata": {},
   "outputs": [],
   "source": [
    "songs_found = song_result[\"tracks\"][\"hits\"]"
   ]
  },
  {
   "cell_type": "code",
   "execution_count": 105,
   "id": "b9f1deab",
   "metadata": {},
   "outputs": [
    {
     "data": {
      "text/plain": [
       "[{'track': {'layout': '5',\n",
       "   'type': 'MUSIC',\n",
       "   'key': '216345',\n",
       "   'title': 'Penny Lane',\n",
       "   'subtitle': 'The Beatles',\n",
       "   'share': {'subject': 'Penny Lane - The Beatles',\n",
       "    'text': 'Penny Lane by The Beatles',\n",
       "    'href': 'https://www.shazam.com/track/216345/penny-lane',\n",
       "    'image': 'https://is4-ssl.mzstatic.com/image/thumb/Music126/v4/43/0e/37/430e3790-75d5-c96a-1380-f9d9803aa700/18UMGIM31245.rgb.jpg/400x400cc.jpg',\n",
       "    'twitter': 'I used @Shazam to discover Penny Lane by The Beatles.',\n",
       "    'html': 'https://www.shazam.com/snippets/email-share/216345?lang=en-US&country=US',\n",
       "    'avatar': 'https://is5-ssl.mzstatic.com/image/thumb/Features125/v4/02/1f/ea/021fea7b-9acd-3dd9-c833-68781a5c764a/mza_12805048796106822393.png/800x800cc.jpg',\n",
       "    'snapchat': 'https://www.shazam.com/partner/sc/track/216345'},\n",
       "   'images': {'background': 'https://is5-ssl.mzstatic.com/image/thumb/Features125/v4/02/1f/ea/021fea7b-9acd-3dd9-c833-68781a5c764a/mza_12805048796106822393.png/800x800cc.jpg',\n",
       "    'coverart': 'https://is4-ssl.mzstatic.com/image/thumb/Music126/v4/43/0e/37/430e3790-75d5-c96a-1380-f9d9803aa700/18UMGIM31245.rgb.jpg/400x400cc.jpg',\n",
       "    'coverarthq': 'https://is4-ssl.mzstatic.com/image/thumb/Music126/v4/43/0e/37/430e3790-75d5-c96a-1380-f9d9803aa700/18UMGIM31245.rgb.jpg/400x400cc.jpg',\n",
       "    'joecolor': 'b:e9cb0bp:000104s:530801t:2e2906q:712f03'},\n",
       "   'hub': {'type': 'APPLEMUSIC',\n",
       "    'image': 'https://images.shazam.com/static/icons/hub/ios/v5/applemusic_{scalefactor}.png',\n",
       "    'actions': [{'name': 'apple',\n",
       "      'type': 'applemusicplay',\n",
       "      'id': '1441163777'},\n",
       "     {'name': 'apple',\n",
       "      'type': 'uri',\n",
       "      'uri': 'https://audio-ssl.itunes.apple.com/itunes-assets/AudioPreview122/v4/3f/dc/06/3fdc06b3-a9c1-0542-39b1-0f951518cc58/mzaf_14865028083073816455.plus.aac.ep.m4a'}],\n",
       "    'options': [{'caption': 'OPEN',\n",
       "      'actions': [{'name': 'hub:applemusic:deeplink',\n",
       "        'type': 'applemusicopen',\n",
       "        'uri': 'https://music.apple.com/us/album/penny-lane/1441163490?i=1441163777&mttnagencyid=s2n&mttnsiteid=125115&mttn3pid=Apple-Shazam&mttnsub1=Shazam_ios&mttnsub2=5348615A-616D-3235-3830-44754D6D5973&itscg=30201&app=music&itsct=Shazam_ios'},\n",
       "       {'name': 'hub:applemusic:deeplink',\n",
       "        'type': 'uri',\n",
       "        'uri': 'https://music.apple.com/us/album/penny-lane/1441163490?i=1441163777&mttnagencyid=s2n&mttnsiteid=125115&mttn3pid=Apple-Shazam&mttnsub1=Shazam_ios&mttnsub2=5348615A-616D-3235-3830-44754D6D5973&itscg=30201&app=music&itsct=Shazam_ios'}],\n",
       "      'beacondata': {'type': 'open', 'providername': 'applemusic'},\n",
       "      'image': 'https://images.shazam.com/static/icons/hub/ios/v5/overflow-open-option_{scalefactor}.png',\n",
       "      'type': 'open',\n",
       "      'listcaption': 'Open in Apple Music',\n",
       "      'overflowimage': 'https://images.shazam.com/static/icons/hub/ios/v5/applemusic-overflow_{scalefactor}.png',\n",
       "      'colouroverflowimage': False,\n",
       "      'providername': 'applemusic'},\n",
       "     {'caption': 'BUY',\n",
       "      'actions': [{'type': 'uri',\n",
       "        'uri': 'https://itunes.apple.com/us/album/penny-lane/1441163490?i=1441163777&mttnagencyid=s2n&mttnsiteid=125115&mttn3pid=Apple-Shazam&mttnsub1=Shazam_ios&mttnsub2=5348615A-616D-3235-3830-44754D6D5973&itscg=30201&app=itunes&itsct=Shazam_ios'}],\n",
       "      'beacondata': {'type': 'buy', 'providername': 'itunes'},\n",
       "      'image': 'https://images.shazam.com/static/icons/hub/ios/v5/itunes-overflow-buy_{scalefactor}.png',\n",
       "      'type': 'buy',\n",
       "      'listcaption': 'Buy on iTunes',\n",
       "      'overflowimage': 'https://images.shazam.com/static/icons/hub/ios/v5/itunes-overflow-buy_{scalefactor}.png',\n",
       "      'colouroverflowimage': False,\n",
       "      'providername': 'itunes'}],\n",
       "    'providers': [{'caption': 'Open in Spotify',\n",
       "      'images': {'overflow': 'https://images.shazam.com/static/icons/hub/ios/v5/spotify-overflow_{scalefactor}.png',\n",
       "       'default': 'https://images.shazam.com/static/icons/hub/ios/v5/spotify_{scalefactor}.png'},\n",
       "      'actions': [{'name': 'hub:spotify:searchdeeplink',\n",
       "        'type': 'uri',\n",
       "        'uri': 'spotify:search:Penny%20Lane%20The%20Beatles'}],\n",
       "      'type': 'SPOTIFY'},\n",
       "     {'caption': 'Open in Deezer',\n",
       "      'images': {'overflow': 'https://images.shazam.com/static/icons/hub/ios/v5/deezer-overflow_{scalefactor}.png',\n",
       "       'default': 'https://images.shazam.com/static/icons/hub/ios/v5/deezer_{scalefactor}.png'},\n",
       "      'actions': [{'name': 'hub:deezer:searchdeeplink',\n",
       "        'type': 'uri',\n",
       "        'uri': 'deezer-query://www.deezer.com/play?query=%7Btrack%3A%27Penny+Lane%27%20artist%3A%27The+Beatles%27%7D'}],\n",
       "      'type': 'DEEZER'}],\n",
       "    'explicit': False,\n",
       "    'displayname': 'APPLE MUSIC'},\n",
       "   'artists': [{'id': '42', 'adamid': '136975'}],\n",
       "   'url': 'https://www.shazam.com/track/216345/penny-lane'},\n",
       "  'snippet': 'Penny Lane, there is a barber showing photographs'},\n",
       " {'track': {'layout': '5',\n",
       "   'type': 'MUSIC',\n",
       "   'key': '438711616',\n",
       "   'title': 'Penny Lane (Capitol Records Mono US Promo Mix)',\n",
       "   'subtitle': 'The Beatles',\n",
       "   'share': {'subject': 'Penny Lane (Capitol Records Mono US Promo Mix) - The Beatles',\n",
       "    'text': 'Penny Lane (Capitol Records Mono US Promo Mix) by The Beatles',\n",
       "    'href': 'https://www.shazam.com/track/438711616/penny-lane-capitol-records-mono-us-promo-mix',\n",
       "    'image': 'https://is2-ssl.mzstatic.com/image/thumb/Music124/v4/92/e3/a7/92e3a7bf-ec90-ff7b-efbb-8c26cb9b2c5c/18UMGIM49153.rgb.jpg/400x400cc.jpg',\n",
       "    'twitter': 'I used @Shazam to discover Penny Lane (Capitol Records Mono US Promo Mix) by The Beatles.',\n",
       "    'html': 'https://www.shazam.com/snippets/email-share/438711616?lang=en-US&country=US',\n",
       "    'avatar': 'https://is5-ssl.mzstatic.com/image/thumb/Features125/v4/02/1f/ea/021fea7b-9acd-3dd9-c833-68781a5c764a/mza_12805048796106822393.png/800x800cc.jpg',\n",
       "    'snapchat': 'https://www.shazam.com/partner/sc/track/438711616'},\n",
       "   'images': {'background': 'https://is5-ssl.mzstatic.com/image/thumb/Features125/v4/02/1f/ea/021fea7b-9acd-3dd9-c833-68781a5c764a/mza_12805048796106822393.png/800x800cc.jpg',\n",
       "    'coverart': 'https://is2-ssl.mzstatic.com/image/thumb/Music124/v4/92/e3/a7/92e3a7bf-ec90-ff7b-efbb-8c26cb9b2c5c/18UMGIM49153.rgb.jpg/400x400cc.jpg',\n",
       "    'coverarthq': 'https://is2-ssl.mzstatic.com/image/thumb/Music124/v4/92/e3/a7/92e3a7bf-ec90-ff7b-efbb-8c26cb9b2c5c/18UMGIM49153.rgb.jpg/400x400cc.jpg',\n",
       "    'joecolor': 'b:f0c84cp:090f0bs:1f1a19t:373418q:493d23'},\n",
       "   'hub': {'type': 'APPLEMUSIC',\n",
       "    'image': 'https://images.shazam.com/static/icons/hub/ios/v5/applemusic_{scalefactor}.png',\n",
       "    'actions': [{'name': 'apple',\n",
       "      'type': 'applemusicplay',\n",
       "      'id': '1435552694'},\n",
       "     {'name': 'apple',\n",
       "      'type': 'uri',\n",
       "      'uri': 'https://audio-ssl.itunes.apple.com/itunes-assets/AudioPreview122/v4/c7/b3/ac/c7b3ac69-e8c1-d8d4-84eb-e829b2cf74f8/mzaf_11651506514897487294.plus.aac.ep.m4a'}],\n",
       "    'options': [{'caption': 'OPEN',\n",
       "      'actions': [{'name': 'hub:applemusic:deeplink',\n",
       "        'type': 'applemusicopen',\n",
       "        'uri': 'https://music.apple.com/us/album/penny-lane-capitol-records-mono-us-promo-mix/1435552131?i=1435552694&mttnagencyid=s2n&mttnsiteid=125115&mttn3pid=Apple-Shazam&mttnsub1=Shazam_ios&mttnsub2=5348615A-616D-3235-3830-44754D6D5973&itscg=30201&app=music&itsct=Shazam_ios'},\n",
       "       {'name': 'hub:applemusic:deeplink',\n",
       "        'type': 'uri',\n",
       "        'uri': 'https://music.apple.com/us/album/penny-lane-capitol-records-mono-us-promo-mix/1435552131?i=1435552694&mttnagencyid=s2n&mttnsiteid=125115&mttn3pid=Apple-Shazam&mttnsub1=Shazam_ios&mttnsub2=5348615A-616D-3235-3830-44754D6D5973&itscg=30201&app=music&itsct=Shazam_ios'}],\n",
       "      'beacondata': {'type': 'open', 'providername': 'applemusic'},\n",
       "      'image': 'https://images.shazam.com/static/icons/hub/ios/v5/overflow-open-option_{scalefactor}.png',\n",
       "      'type': 'open',\n",
       "      'listcaption': 'Open in Apple Music',\n",
       "      'overflowimage': 'https://images.shazam.com/static/icons/hub/ios/v5/applemusic-overflow_{scalefactor}.png',\n",
       "      'colouroverflowimage': False,\n",
       "      'providername': 'applemusic'},\n",
       "     {'caption': 'BUY',\n",
       "      'actions': [{'type': 'uri',\n",
       "        'uri': 'https://itunes.apple.com/us/album/penny-lane-capitol-records-mono-us-promo-mix/1435552131?i=1435552694&mttnagencyid=s2n&mttnsiteid=125115&mttn3pid=Apple-Shazam&mttnsub1=Shazam_ios&mttnsub2=5348615A-616D-3235-3830-44754D6D5973&itscg=30201&app=itunes&itsct=Shazam_ios'}],\n",
       "      'beacondata': {'type': 'buy', 'providername': 'itunes'},\n",
       "      'image': 'https://images.shazam.com/static/icons/hub/ios/v5/itunes-overflow-buy_{scalefactor}.png',\n",
       "      'type': 'buy',\n",
       "      'listcaption': 'Buy on iTunes',\n",
       "      'overflowimage': 'https://images.shazam.com/static/icons/hub/ios/v5/itunes-overflow-buy_{scalefactor}.png',\n",
       "      'colouroverflowimage': False,\n",
       "      'providername': 'itunes'}],\n",
       "    'providers': [{'caption': 'Open in Spotify',\n",
       "      'images': {'overflow': 'https://images.shazam.com/static/icons/hub/ios/v5/spotify-overflow_{scalefactor}.png',\n",
       "       'default': 'https://images.shazam.com/static/icons/hub/ios/v5/spotify_{scalefactor}.png'},\n",
       "      'actions': [{'name': 'hub:spotify:searchdeeplink',\n",
       "        'type': 'uri',\n",
       "        'uri': 'spotify:search:Penny%20Lane%20%28Capitol%20Records%20Mono%20US%20Promo%20Mix%29%20The%20Beatles'}],\n",
       "      'type': 'SPOTIFY'},\n",
       "     {'caption': 'Open in Deezer',\n",
       "      'images': {'overflow': 'https://images.shazam.com/static/icons/hub/ios/v5/deezer-overflow_{scalefactor}.png',\n",
       "       'default': 'https://images.shazam.com/static/icons/hub/ios/v5/deezer_{scalefactor}.png'},\n",
       "      'actions': [{'name': 'hub:deezer:searchdeeplink',\n",
       "        'type': 'uri',\n",
       "        'uri': 'deezer-query://www.deezer.com/play?query=%7Btrack%3A%27Penny+Lane+%28Capitol+Records+Mono+US+Promo+Mix%29%27%20artist%3A%27The+Beatles%27%7D'}],\n",
       "      'type': 'DEEZER'}],\n",
       "    'explicit': False,\n",
       "    'displayname': 'APPLE MUSIC'},\n",
       "   'artists': [{'id': '42', 'adamid': '136975'}],\n",
       "   'url': 'https://www.shazam.com/track/438711616/penny-lane-capitol-records-mono-us-promo-mix'},\n",
       "  'snippet': 'In Penny Lane there is a barber showing photographs'},\n",
       " {'track': {'layout': '5',\n",
       "   'type': 'MUSIC',\n",
       "   'key': '352784676',\n",
       "   'title': 'Penny Lane (Stereo Mix 2017)',\n",
       "   'subtitle': 'The Beatles',\n",
       "   'share': {'subject': 'Penny Lane (Stereo Mix 2017) - The Beatles',\n",
       "    'text': 'Penny Lane (Stereo Mix 2017) by The Beatles',\n",
       "    'href': 'https://www.shazam.com/track/352784676/penny-lane-stereo-mix-2017',\n",
       "    'image': 'https://is2-ssl.mzstatic.com/image/thumb/Music124/v4/92/e3/a7/92e3a7bf-ec90-ff7b-efbb-8c26cb9b2c5c/18UMGIM49153.rgb.jpg/400x400cc.jpg',\n",
       "    'twitter': 'I used @Shazam to discover Penny Lane (Stereo Mix 2017) by The Beatles.',\n",
       "    'html': 'https://www.shazam.com/snippets/email-share/352784676?lang=en-US&country=US',\n",
       "    'avatar': 'https://is5-ssl.mzstatic.com/image/thumb/Features125/v4/02/1f/ea/021fea7b-9acd-3dd9-c833-68781a5c764a/mza_12805048796106822393.png/800x800cc.jpg',\n",
       "    'snapchat': 'https://www.shazam.com/partner/sc/track/352784676'},\n",
       "   'images': {'background': 'https://is5-ssl.mzstatic.com/image/thumb/Features125/v4/02/1f/ea/021fea7b-9acd-3dd9-c833-68781a5c764a/mza_12805048796106822393.png/800x800cc.jpg',\n",
       "    'coverart': 'https://is2-ssl.mzstatic.com/image/thumb/Music124/v4/92/e3/a7/92e3a7bf-ec90-ff7b-efbb-8c26cb9b2c5c/18UMGIM49153.rgb.jpg/400x400cc.jpg',\n",
       "    'coverarthq': 'https://is2-ssl.mzstatic.com/image/thumb/Music124/v4/92/e3/a7/92e3a7bf-ec90-ff7b-efbb-8c26cb9b2c5c/18UMGIM49153.rgb.jpg/400x400cc.jpg',\n",
       "    'joecolor': 'b:f0c84cp:090f0bs:1f1a19t:373418q:493d23'},\n",
       "   'hub': {'type': 'APPLEMUSIC',\n",
       "    'image': 'https://images.shazam.com/static/icons/hub/ios/v5/applemusic_{scalefactor}.png',\n",
       "    'actions': [{'name': 'apple',\n",
       "      'type': 'applemusicplay',\n",
       "      'id': '1435552397'},\n",
       "     {'name': 'apple',\n",
       "      'type': 'uri',\n",
       "      'uri': 'https://audio-ssl.itunes.apple.com/itunes-assets/AudioPreview122/v4/27/0f/2d/270f2de7-4a31-fcf8-ec36-3bd1795a4ecf/mzaf_17665194226445092338.plus.aac.ep.m4a'}],\n",
       "    'options': [{'caption': 'OPEN',\n",
       "      'actions': [{'name': 'hub:applemusic:deeplink',\n",
       "        'type': 'applemusicopen',\n",
       "        'uri': 'https://music.apple.com/us/album/penny-lane-stereo-mix-2017/1435552131?i=1435552397&mttnagencyid=s2n&mttnsiteid=125115&mttn3pid=Apple-Shazam&mttnsub1=Shazam_ios&mttnsub2=5348615A-616D-3235-3830-44754D6D5973&itscg=30201&app=music&itsct=Shazam_ios'},\n",
       "       {'name': 'hub:applemusic:deeplink',\n",
       "        'type': 'uri',\n",
       "        'uri': 'https://music.apple.com/us/album/penny-lane-stereo-mix-2017/1435552131?i=1435552397&mttnagencyid=s2n&mttnsiteid=125115&mttn3pid=Apple-Shazam&mttnsub1=Shazam_ios&mttnsub2=5348615A-616D-3235-3830-44754D6D5973&itscg=30201&app=music&itsct=Shazam_ios'}],\n",
       "      'beacondata': {'type': 'open', 'providername': 'applemusic'},\n",
       "      'image': 'https://images.shazam.com/static/icons/hub/ios/v5/overflow-open-option_{scalefactor}.png',\n",
       "      'type': 'open',\n",
       "      'listcaption': 'Open in Apple Music',\n",
       "      'overflowimage': 'https://images.shazam.com/static/icons/hub/ios/v5/applemusic-overflow_{scalefactor}.png',\n",
       "      'colouroverflowimage': False,\n",
       "      'providername': 'applemusic'},\n",
       "     {'caption': 'BUY',\n",
       "      'actions': [{'type': 'uri',\n",
       "        'uri': 'https://itunes.apple.com/us/album/penny-lane-stereo-mix-2017/1435552131?i=1435552397&mttnagencyid=s2n&mttnsiteid=125115&mttn3pid=Apple-Shazam&mttnsub1=Shazam_ios&mttnsub2=5348615A-616D-3235-3830-44754D6D5973&itscg=30201&app=itunes&itsct=Shazam_ios'}],\n",
       "      'beacondata': {'type': 'buy', 'providername': 'itunes'},\n",
       "      'image': 'https://images.shazam.com/static/icons/hub/ios/v5/itunes-overflow-buy_{scalefactor}.png',\n",
       "      'type': 'buy',\n",
       "      'listcaption': 'Buy on iTunes',\n",
       "      'overflowimage': 'https://images.shazam.com/static/icons/hub/ios/v5/itunes-overflow-buy_{scalefactor}.png',\n",
       "      'colouroverflowimage': False,\n",
       "      'providername': 'itunes'}],\n",
       "    'providers': [{'caption': 'Open in Spotify',\n",
       "      'images': {'overflow': 'https://images.shazam.com/static/icons/hub/ios/v5/spotify-overflow_{scalefactor}.png',\n",
       "       'default': 'https://images.shazam.com/static/icons/hub/ios/v5/spotify_{scalefactor}.png'},\n",
       "      'actions': [{'name': 'hub:spotify:searchdeeplink',\n",
       "        'type': 'uri',\n",
       "        'uri': 'spotify:search:Penny%20Lane%20%28Stereo%20Mix%202017%29%20The%20Beatles'}],\n",
       "      'type': 'SPOTIFY'},\n",
       "     {'caption': 'Open in Deezer',\n",
       "      'images': {'overflow': 'https://images.shazam.com/static/icons/hub/ios/v5/deezer-overflow_{scalefactor}.png',\n",
       "       'default': 'https://images.shazam.com/static/icons/hub/ios/v5/deezer_{scalefactor}.png'},\n",
       "      'actions': [{'name': 'hub:deezer:searchdeeplink',\n",
       "        'type': 'uri',\n",
       "        'uri': 'deezer-query://www.deezer.com/play?query=%7Btrack%3A%27Penny+Lane+%28Stereo+Mix+2017%29%27%20artist%3A%27The+Beatles%27%7D'}],\n",
       "      'type': 'DEEZER'}],\n",
       "    'explicit': False,\n",
       "    'displayname': 'APPLE MUSIC'},\n",
       "   'artists': [{'id': '42', 'adamid': '136975'}],\n",
       "   'url': 'https://www.shazam.com/track/352784676/penny-lane-stereo-mix-2017'},\n",
       "  'snippet': 'In Penny Lane there is a barber showing photographs'},\n",
       " {'track': {'layout': '5',\n",
       "   'type': 'MUSIC',\n",
       "   'key': '294649742',\n",
       "   'title': 'Penny Lane',\n",
       "   'subtitle': 'The Beatles',\n",
       "   'share': {'subject': 'Penny Lane - The Beatles',\n",
       "    'text': 'Penny Lane by The Beatles',\n",
       "    'href': 'https://www.shazam.com/track/294649742/penny-lane',\n",
       "    'image': 'https://is3-ssl.mzstatic.com/image/thumb/Music116/v4/f2/98/fb/f298fb48-1e0e-6ad4-4cff-fb824b77f02e/15UMGIM59587.rgb.jpg/400x400cc.jpg',\n",
       "    'twitter': 'I used @Shazam to discover Penny Lane by The Beatles.',\n",
       "    'html': 'https://www.shazam.com/snippets/email-share/294649742?lang=en-US&country=US',\n",
       "    'avatar': 'https://is5-ssl.mzstatic.com/image/thumb/Features125/v4/02/1f/ea/021fea7b-9acd-3dd9-c833-68781a5c764a/mza_12805048796106822393.png/800x800cc.jpg',\n",
       "    'snapchat': 'https://www.shazam.com/partner/sc/track/294649742'},\n",
       "   'images': {'background': 'https://is5-ssl.mzstatic.com/image/thumb/Features125/v4/02/1f/ea/021fea7b-9acd-3dd9-c833-68781a5c764a/mza_12805048796106822393.png/800x800cc.jpg',\n",
       "    'coverart': 'https://is3-ssl.mzstatic.com/image/thumb/Music116/v4/f2/98/fb/f298fb48-1e0e-6ad4-4cff-fb824b77f02e/15UMGIM59587.rgb.jpg/400x400cc.jpg',\n",
       "    'coverarthq': 'https://is3-ssl.mzstatic.com/image/thumb/Music116/v4/f2/98/fb/f298fb48-1e0e-6ad4-4cff-fb824b77f02e/15UMGIM59587.rgb.jpg/400x400cc.jpg',\n",
       "    'joecolor': 'b:b60600p:ffe000s:ffb81dt:f0b400q:f09417'},\n",
       "   'hub': {'type': 'APPLEMUSIC',\n",
       "    'image': 'https://images.shazam.com/static/icons/hub/ios/v5/applemusic_{scalefactor}.png',\n",
       "    'actions': [{'name': 'apple',\n",
       "      'type': 'applemusicplay',\n",
       "      'id': '1440833911'},\n",
       "     {'name': 'apple',\n",
       "      'type': 'uri',\n",
       "      'uri': 'https://audio-ssl.itunes.apple.com/itunes-assets/AudioPreview112/v4/6c/bc/4e/6cbc4e4e-6d54-5b36-86dc-a9b5b61f373e/mzaf_7808873230419970304.plus.aac.ep.m4a'}],\n",
       "    'options': [{'caption': 'OPEN',\n",
       "      'actions': [{'name': 'hub:applemusic:deeplink',\n",
       "        'type': 'applemusicopen',\n",
       "        'uri': 'https://music.apple.com/us/album/penny-lane/1440833098?i=1440833911&mttnagencyid=s2n&mttnsiteid=125115&mttn3pid=Apple-Shazam&mttnsub1=Shazam_ios&mttnsub2=5348615A-616D-3235-3830-44754D6D5973&itscg=30201&app=music&itsct=Shazam_ios'},\n",
       "       {'name': 'hub:applemusic:deeplink',\n",
       "        'type': 'uri',\n",
       "        'uri': 'https://music.apple.com/us/album/penny-lane/1440833098?i=1440833911&mttnagencyid=s2n&mttnsiteid=125115&mttn3pid=Apple-Shazam&mttnsub1=Shazam_ios&mttnsub2=5348615A-616D-3235-3830-44754D6D5973&itscg=30201&app=music&itsct=Shazam_ios'}],\n",
       "      'beacondata': {'type': 'open', 'providername': 'applemusic'},\n",
       "      'image': 'https://images.shazam.com/static/icons/hub/ios/v5/overflow-open-option_{scalefactor}.png',\n",
       "      'type': 'open',\n",
       "      'listcaption': 'Open in Apple Music',\n",
       "      'overflowimage': 'https://images.shazam.com/static/icons/hub/ios/v5/applemusic-overflow_{scalefactor}.png',\n",
       "      'colouroverflowimage': False,\n",
       "      'providername': 'applemusic'},\n",
       "     {'caption': 'BUY',\n",
       "      'actions': [{'type': 'uri',\n",
       "        'uri': 'https://itunes.apple.com/us/album/penny-lane/1440833098?i=1440833911&mttnagencyid=s2n&mttnsiteid=125115&mttn3pid=Apple-Shazam&mttnsub1=Shazam_ios&mttnsub2=5348615A-616D-3235-3830-44754D6D5973&itscg=30201&app=itunes&itsct=Shazam_ios'}],\n",
       "      'beacondata': {'type': 'buy', 'providername': 'itunes'},\n",
       "      'image': 'https://images.shazam.com/static/icons/hub/ios/v5/itunes-overflow-buy_{scalefactor}.png',\n",
       "      'type': 'buy',\n",
       "      'listcaption': 'Buy on iTunes',\n",
       "      'overflowimage': 'https://images.shazam.com/static/icons/hub/ios/v5/itunes-overflow-buy_{scalefactor}.png',\n",
       "      'colouroverflowimage': False,\n",
       "      'providername': 'itunes'}],\n",
       "    'providers': [{'caption': 'Open in Spotify',\n",
       "      'images': {'overflow': 'https://images.shazam.com/static/icons/hub/ios/v5/spotify-overflow_{scalefactor}.png',\n",
       "       'default': 'https://images.shazam.com/static/icons/hub/ios/v5/spotify_{scalefactor}.png'},\n",
       "      'actions': [{'name': 'hub:spotify:searchdeeplink',\n",
       "        'type': 'uri',\n",
       "        'uri': 'spotify:search:Penny%20Lane%20The%20Beatles'}],\n",
       "      'type': 'SPOTIFY'},\n",
       "     {'caption': 'Open in Deezer',\n",
       "      'images': {'overflow': 'https://images.shazam.com/static/icons/hub/ios/v5/deezer-overflow_{scalefactor}.png',\n",
       "       'default': 'https://images.shazam.com/static/icons/hub/ios/v5/deezer_{scalefactor}.png'},\n",
       "      'actions': [{'name': 'hub:deezer:searchdeeplink',\n",
       "        'type': 'uri',\n",
       "        'uri': 'deezer-query://www.deezer.com/play?query=%7Btrack%3A%27Penny+Lane%27%20artist%3A%27The+Beatles%27%7D'}],\n",
       "      'type': 'DEEZER'}],\n",
       "    'explicit': False,\n",
       "    'displayname': 'APPLE MUSIC'},\n",
       "   'artists': [{'id': '42', 'adamid': '136975'}],\n",
       "   'url': 'https://www.shazam.com/track/294649742/penny-lane'},\n",
       "  'snippet': 'In Penny Lane there is a barber showing photographs'}]"
      ]
     },
     "execution_count": 105,
     "metadata": {},
     "output_type": "execute_result"
    }
   ],
   "source": [
    "songs_found"
   ]
  },
  {
   "cell_type": "code",
   "execution_count": 110,
   "id": "fdf25688",
   "metadata": {},
   "outputs": [
    {
     "name": "stdout",
     "output_type": "stream",
     "text": [
      "1.07429\n"
     ]
    }
   ],
   "source": [
    "import requests\n",
    "\n",
    "url = \"https://currency-exchange.p.rapidapi.com/exchange\"\n",
    "\n",
    "querystring = {\"from\":\"EUR\",\"to\":\"USD\",\"q\":\"1.0\"}\n",
    "\n",
    "headers = {\n",
    "\t\"X-RapidAPI-Key\": \"d239831fd9msh4ad7cb7ac973f08p13968ejsn70e9adc40ca5\",\n",
    "\t\"X-RapidAPI-Host\": \"currency-exchange.p.rapidapi.com\"\n",
    "}\n",
    "\n",
    "response = requests.get(url, headers=headers, params=querystring)\n",
    "\n",
    "print(response.json())"
   ]
  },
  {
   "cell_type": "code",
   "execution_count": 111,
   "id": "f7b65527",
   "metadata": {},
   "outputs": [
    {
     "name": "stdout",
     "output_type": "stream",
     "text": [
      "['SGD', 'MYR', 'EUR', 'USD', 'AUD', 'JPY', 'CNH', 'HKD', 'CAD', 'INR', 'DKK', 'GBP', 'RUB', 'NZD', 'MXN', 'IDR', 'TWD', 'THB', 'VND']\n"
     ]
    }
   ],
   "source": [
    "import requests\n",
    "\n",
    "url = \"https://currency-exchange.p.rapidapi.com/listquotes\"\n",
    "\n",
    "headers = {\n",
    "\t\"X-RapidAPI-Key\": \"d239831fd9msh4ad7cb7ac973f08p13968ejsn70e9adc40ca5\",\n",
    "\t\"X-RapidAPI-Host\": \"currency-exchange.p.rapidapi.com\"\n",
    "}\n",
    "\n",
    "response = requests.get(url, headers=headers)\n",
    "\n",
    "print(response.json())"
   ]
  },
  {
   "cell_type": "code",
   "execution_count": 112,
   "id": "e3253973",
   "metadata": {},
   "outputs": [],
   "source": [
    "countries_gdp = pa.read_csv(\"GDP.csv\",delimiter=\",\")"
   ]
  },
  {
   "cell_type": "code",
   "execution_count": 114,
   "id": "07e81cb0",
   "metadata": {},
   "outputs": [],
   "source": [
    "url = \"https://currency-exchange.p.rapidapi.com/exchange\"\n",
    "\n",
    "querystring = {\"from\":\"USD\",\"to\":\"EUR\",\"q\":\"1.0\"}\n",
    "\n",
    "headers = {\n",
    "\t\"X-RapidAPI-Key\": \"d239831fd9msh4ad7cb7ac973f08p13968ejsn70e9adc40ca5\",\n",
    "\t\"X-RapidAPI-Host\": \"currency-exchange.p.rapidapi.com\"\n",
    "}\n",
    "\n",
    "response = requests.get(url, headers=headers, params=querystring)\n",
    "conversion = response.json()"
   ]
  },
  {
   "cell_type": "code",
   "execution_count": 117,
   "id": "b6b7f1d6",
   "metadata": {},
   "outputs": [],
   "source": [
    "countries_gdp[\"Value (EUR)\"] = countries_gdp[\"Value\"] * conversion\n"
   ]
  },
  {
   "cell_type": "code",
   "execution_count": 122,
   "id": "b1768c86",
   "metadata": {},
   "outputs": [],
   "source": [
    "countries_gdp = countries_gdp.rename(columns={\"Value\":\"Value (USD)\"})"
   ]
  },
  {
   "cell_type": "code",
   "execution_count": 123,
   "id": "1efe22d2",
   "metadata": {},
   "outputs": [
    {
     "data": {
      "text/html": [
       "<div>\n",
       "<style scoped>\n",
       "    .dataframe tbody tr th:only-of-type {\n",
       "        vertical-align: middle;\n",
       "    }\n",
       "\n",
       "    .dataframe tbody tr th {\n",
       "        vertical-align: top;\n",
       "    }\n",
       "\n",
       "    .dataframe thead th {\n",
       "        text-align: right;\n",
       "    }\n",
       "</style>\n",
       "<table border=\"1\" class=\"dataframe\">\n",
       "  <thead>\n",
       "    <tr style=\"text-align: right;\">\n",
       "      <th></th>\n",
       "      <th>Country Name</th>\n",
       "      <th>Country Code</th>\n",
       "      <th>Year</th>\n",
       "      <th>Value (USD)</th>\n",
       "      <th>Value (EUR)</th>\n",
       "    </tr>\n",
       "  </thead>\n",
       "  <tbody>\n",
       "    <tr>\n",
       "      <th>0</th>\n",
       "      <td>Arab World</td>\n",
       "      <td>ARB</td>\n",
       "      <td>1968</td>\n",
       "      <td>2.576068e+10</td>\n",
       "      <td>2.395383e+10</td>\n",
       "    </tr>\n",
       "    <tr>\n",
       "      <th>1</th>\n",
       "      <td>Arab World</td>\n",
       "      <td>ARB</td>\n",
       "      <td>1969</td>\n",
       "      <td>2.843420e+10</td>\n",
       "      <td>2.643983e+10</td>\n",
       "    </tr>\n",
       "    <tr>\n",
       "      <th>2</th>\n",
       "      <td>Arab World</td>\n",
       "      <td>ARB</td>\n",
       "      <td>1970</td>\n",
       "      <td>3.138550e+10</td>\n",
       "      <td>2.918412e+10</td>\n",
       "    </tr>\n",
       "    <tr>\n",
       "      <th>3</th>\n",
       "      <td>Arab World</td>\n",
       "      <td>ARB</td>\n",
       "      <td>1971</td>\n",
       "      <td>3.642691e+10</td>\n",
       "      <td>3.387193e+10</td>\n",
       "    </tr>\n",
       "    <tr>\n",
       "      <th>4</th>\n",
       "      <td>Arab World</td>\n",
       "      <td>ARB</td>\n",
       "      <td>1972</td>\n",
       "      <td>4.331606e+10</td>\n",
       "      <td>4.027787e+10</td>\n",
       "    </tr>\n",
       "    <tr>\n",
       "      <th>...</th>\n",
       "      <td>...</td>\n",
       "      <td>...</td>\n",
       "      <td>...</td>\n",
       "      <td>...</td>\n",
       "      <td>...</td>\n",
       "    </tr>\n",
       "    <tr>\n",
       "      <th>11502</th>\n",
       "      <td>Zimbabwe</td>\n",
       "      <td>ZWE</td>\n",
       "      <td>2012</td>\n",
       "      <td>1.424249e+10</td>\n",
       "      <td>1.324352e+10</td>\n",
       "    </tr>\n",
       "    <tr>\n",
       "      <th>11503</th>\n",
       "      <td>Zimbabwe</td>\n",
       "      <td>ZWE</td>\n",
       "      <td>2013</td>\n",
       "      <td>1.545177e+10</td>\n",
       "      <td>1.436798e+10</td>\n",
       "    </tr>\n",
       "    <tr>\n",
       "      <th>11504</th>\n",
       "      <td>Zimbabwe</td>\n",
       "      <td>ZWE</td>\n",
       "      <td>2014</td>\n",
       "      <td>1.589105e+10</td>\n",
       "      <td>1.477645e+10</td>\n",
       "    </tr>\n",
       "    <tr>\n",
       "      <th>11505</th>\n",
       "      <td>Zimbabwe</td>\n",
       "      <td>ZWE</td>\n",
       "      <td>2015</td>\n",
       "      <td>1.630467e+10</td>\n",
       "      <td>1.516106e+10</td>\n",
       "    </tr>\n",
       "    <tr>\n",
       "      <th>11506</th>\n",
       "      <td>Zimbabwe</td>\n",
       "      <td>ZWE</td>\n",
       "      <td>2016</td>\n",
       "      <td>1.661996e+10</td>\n",
       "      <td>1.545424e+10</td>\n",
       "    </tr>\n",
       "  </tbody>\n",
       "</table>\n",
       "<p>11507 rows × 5 columns</p>\n",
       "</div>"
      ],
      "text/plain": [
       "      Country Name Country Code  Year   Value (USD)   Value (EUR)\n",
       "0       Arab World          ARB  1968  2.576068e+10  2.395383e+10\n",
       "1       Arab World          ARB  1969  2.843420e+10  2.643983e+10\n",
       "2       Arab World          ARB  1970  3.138550e+10  2.918412e+10\n",
       "3       Arab World          ARB  1971  3.642691e+10  3.387193e+10\n",
       "4       Arab World          ARB  1972  4.331606e+10  4.027787e+10\n",
       "...            ...          ...   ...           ...           ...\n",
       "11502     Zimbabwe          ZWE  2012  1.424249e+10  1.324352e+10\n",
       "11503     Zimbabwe          ZWE  2013  1.545177e+10  1.436798e+10\n",
       "11504     Zimbabwe          ZWE  2014  1.589105e+10  1.477645e+10\n",
       "11505     Zimbabwe          ZWE  2015  1.630467e+10  1.516106e+10\n",
       "11506     Zimbabwe          ZWE  2016  1.661996e+10  1.545424e+10\n",
       "\n",
       "[11507 rows x 5 columns]"
      ]
     },
     "execution_count": 123,
     "metadata": {},
     "output_type": "execute_result"
    }
   ],
   "source": [
    "countries_gdp"
   ]
  },
  {
   "cell_type": "code",
   "execution_count": 124,
   "id": "d005715a",
   "metadata": {},
   "outputs": [],
   "source": [
    "from collections import namedtuple\n",
    "\n",
    "Person = namedtuple(\"Person\",[\"name\",\"last_name\",\"country\",\"age\"])\n",
    "\n"
   ]
  },
  {
   "cell_type": "code",
   "execution_count": 126,
   "id": "4faf583d",
   "metadata": {},
   "outputs": [],
   "source": [
    "person = Person(\"Jack\",\"Scaller\",\"US\",20)"
   ]
  },
  {
   "cell_type": "code",
   "execution_count": 134,
   "id": "613b98f0",
   "metadata": {},
   "outputs": [
    {
     "data": {
      "text/plain": [
       "{Person(name='Jack', last_name='Scaller', country='US', age=20): [200, 50]}"
      ]
     },
     "execution_count": 134,
     "metadata": {},
     "output_type": "execute_result"
    }
   ],
   "source": [
    "fines"
   ]
  },
  {
   "cell_type": "code",
   "execution_count": 136,
   "id": "507de370",
   "metadata": {},
   "outputs": [],
   "source": [
    "from collections import Counter"
   ]
  },
  {
   "cell_type": "code",
   "execution_count": 143,
   "id": "7c3811cc",
   "metadata": {},
   "outputs": [],
   "source": [
    "c = Counter([\"Arturs\",\"Janis\",\"Peteris\",\"Liga\",\"Mara\",\"Liga\",\"Liga\",\"Arturs\"])"
   ]
  },
  {
   "cell_type": "code",
   "execution_count": 144,
   "id": "04d8e51f",
   "metadata": {},
   "outputs": [
    {
     "data": {
      "text/plain": [
       "2"
      ]
     },
     "execution_count": 144,
     "metadata": {},
     "output_type": "execute_result"
    }
   ],
   "source": [
    "c[\"Arturs\"]"
   ]
  },
  {
   "cell_type": "code",
   "execution_count": 151,
   "id": "8eeac3e5",
   "metadata": {},
   "outputs": [
    {
     "data": {
      "text/plain": [
       "[('Liga', 3), ('Arturs', 2), ('Janis', 1), ('Peteris', 1)]"
      ]
     },
     "execution_count": 151,
     "metadata": {},
     "output_type": "execute_result"
    }
   ],
   "source": [
    "c.most_common(4)#Top 4"
   ]
  },
  {
   "cell_type": "code",
   "execution_count": 156,
   "id": "70c48392",
   "metadata": {},
   "outputs": [
    {
     "data": {
      "text/plain": [
       "3"
      ]
     },
     "execution_count": 156,
     "metadata": {},
     "output_type": "execute_result"
    }
   ],
   "source": [
    "c.pop(\"Liga\")#Remove all the Ligas from the list"
   ]
  },
  {
   "cell_type": "code",
   "execution_count": 157,
   "id": "19f564db",
   "metadata": {},
   "outputs": [
    {
     "data": {
      "text/plain": [
       "Counter({'Arturs': 2, 'Janis': 1, 'Peteris': 1, 'Mara': 1})"
      ]
     },
     "execution_count": 157,
     "metadata": {},
     "output_type": "execute_result"
    }
   ],
   "source": [
    "c"
   ]
  },
  {
   "cell_type": "code",
   "execution_count": 160,
   "id": "36d0bf34",
   "metadata": {},
   "outputs": [],
   "source": [
    "from collections import deque"
   ]
  },
  {
   "cell_type": "code",
   "execution_count": 161,
   "id": "df0b4269",
   "metadata": {},
   "outputs": [],
   "source": [
    "que = deque()"
   ]
  },
  {
   "cell_type": "code",
   "execution_count": 162,
   "id": "aba130b4",
   "metadata": {},
   "outputs": [],
   "source": [
    "que.append(\"Person1\")\n",
    "que.append(\"Person2\")\n",
    "que.append(\"Person3\")\n",
    "que.append(\"Person4\")"
   ]
  },
  {
   "cell_type": "code",
   "execution_count": 167,
   "id": "305397c9",
   "metadata": {},
   "outputs": [
    {
     "data": {
      "text/plain": [
       "'Person1'"
      ]
     },
     "execution_count": 167,
     "metadata": {},
     "output_type": "execute_result"
    }
   ],
   "source": [
    "que.popleft()"
   ]
  },
  {
   "cell_type": "code",
   "execution_count": 168,
   "id": "3cfd04a6",
   "metadata": {},
   "outputs": [
    {
     "data": {
      "text/plain": [
       "deque(['Person2', 'Person3'])"
      ]
     },
     "execution_count": 168,
     "metadata": {},
     "output_type": "execute_result"
    }
   ],
   "source": [
    "que"
   ]
  },
  {
   "cell_type": "code",
   "execution_count": 169,
   "id": "b7c1d50e",
   "metadata": {},
   "outputs": [],
   "source": [
    "person = {\"name\":\"Arturs\",\"last_name\":\"Olekss\"}"
   ]
  },
  {
   "cell_type": "code",
   "execution_count": 170,
   "id": "a506ca28",
   "metadata": {},
   "outputs": [],
   "source": [
    "person[\"age\"] = 25"
   ]
  },
  {
   "cell_type": "code",
   "execution_count": 173,
   "id": "6232764f",
   "metadata": {},
   "outputs": [],
   "source": [
    "from collections import defaultdict"
   ]
  },
  {
   "cell_type": "code",
   "execution_count": 181,
   "id": "342abea1",
   "metadata": {},
   "outputs": [],
   "source": [
    "person = defaultdict(str,{\"name\":\"Arturs\",\"last_name\":\"Olekss\"})"
   ]
  },
  {
   "cell_type": "code",
   "execution_count": 182,
   "id": "3dcde0f4",
   "metadata": {},
   "outputs": [
    {
     "data": {
      "text/plain": [
       "''"
      ]
     },
     "execution_count": 182,
     "metadata": {},
     "output_type": "execute_result"
    }
   ],
   "source": [
    "person[\"gender\"]"
   ]
  },
  {
   "cell_type": "code",
   "execution_count": 187,
   "id": "fc3cd615",
   "metadata": {},
   "outputs": [],
   "source": [
    "person2 = defaultdict(str,{\"name\":\"Arturs\"})"
   ]
  },
  {
   "cell_type": "code",
   "execution_count": 188,
   "id": "4bca4e21",
   "metadata": {},
   "outputs": [],
   "source": [
    "def get_person(person):\n",
    "    print(person[\"name\"] + \" \" + person[\"last_name\"])"
   ]
  },
  {
   "cell_type": "code",
   "execution_count": 189,
   "id": "60de4f6d",
   "metadata": {},
   "outputs": [
    {
     "name": "stdout",
     "output_type": "stream",
     "text": [
      "Arturs \n"
     ]
    }
   ],
   "source": [
    "get_person(person2)"
   ]
  },
  {
   "cell_type": "code",
   "execution_count": 240,
   "id": "645b8003",
   "metadata": {},
   "outputs": [],
   "source": [
    "with open(\"persons.json\",\"r\") as f:\n",
    "    persons_content = f.read()"
   ]
  },
  {
   "cell_type": "code",
   "execution_count": 241,
   "id": "c3cd2158",
   "metadata": {},
   "outputs": [
    {
     "data": {
      "text/plain": [
       "'[{\"name\":\"Arturs\",\"last_name\":\"Olekss\"},{\\n    \"name\":\"John\",\"last_name\":\"Jackson\",\"age\":34\\n}\\n]'"
      ]
     },
     "execution_count": 241,
     "metadata": {},
     "output_type": "execute_result"
    }
   ],
   "source": [
    "persons_content"
   ]
  },
  {
   "cell_type": "code",
   "execution_count": 242,
   "id": "d5b60588",
   "metadata": {},
   "outputs": [],
   "source": [
    "import json"
   ]
  },
  {
   "cell_type": "code",
   "execution_count": 243,
   "id": "3e7f7c1f",
   "metadata": {},
   "outputs": [],
   "source": [
    "persons = json.loads(persons_content)"
   ]
  },
  {
   "cell_type": "code",
   "execution_count": 244,
   "id": "100566c8",
   "metadata": {},
   "outputs": [
    {
     "data": {
      "text/plain": [
       "[{'name': 'Arturs', 'last_name': 'Olekss'},\n",
       " {'name': 'John', 'last_name': 'Jackson', 'age': 34}]"
      ]
     },
     "execution_count": 244,
     "metadata": {},
     "output_type": "execute_result"
    }
   ],
   "source": [
    "persons"
   ]
  },
  {
   "cell_type": "code",
   "execution_count": 245,
   "id": "88a0fbdc",
   "metadata": {},
   "outputs": [],
   "source": [
    "def process_person(person):\n",
    "    print(person[\"name\"] + \" \" + person[\"last_name\"] + \"; age - \" + str(person[\"age\"]))"
   ]
  },
  {
   "cell_type": "code",
   "execution_count": 246,
   "id": "7695088b",
   "metadata": {},
   "outputs": [],
   "source": [
    "persons_input = persons\n",
    "\n",
    "# persons = list()\n",
    "# for person in persons_input:\n",
    "#     persons.append(defaultdict(str,person))\n",
    "\n",
    "# def to_default_dict(dict_element):\n",
    "#     return defaultdict(str,dict_element)\n",
    "\n",
    "persons = map(lambda element : defaultdict(str,element),persons)\n"
   ]
  },
  {
   "cell_type": "code",
   "execution_count": 247,
   "id": "34ce2c73",
   "metadata": {},
   "outputs": [
    {
     "data": {
      "text/plain": [
       "[defaultdict(str, {'name': 'Arturs', 'last_name': 'Olekss'}),\n",
       " defaultdict(str, {'name': 'John', 'last_name': 'Jackson', 'age': 34})]"
      ]
     },
     "execution_count": 247,
     "metadata": {},
     "output_type": "execute_result"
    }
   ],
   "source": [
    "list(persons)"
   ]
  },
  {
   "cell_type": "code",
   "execution_count": 231,
   "id": "64bf8358",
   "metadata": {},
   "outputs": [],
   "source": [
    "vals = [1,45,32,34]\n",
    "\n",
    "def add5(element):\n",
    "    return element + 1\n",
    "\n",
    "vals_new = list(map(add5,vals))\n"
   ]
  },
  {
   "cell_type": "code",
   "execution_count": 237,
   "id": "8614976b",
   "metadata": {},
   "outputs": [],
   "source": [
    "vals = [1,45,32,34]\n",
    "\n",
    "vals_new = list(map(lambda element: element + 1,vals))"
   ]
  },
  {
   "cell_type": "code",
   "execution_count": 238,
   "id": "a478e427",
   "metadata": {},
   "outputs": [
    {
     "data": {
      "text/plain": [
       "[2, 46, 33, 35]"
      ]
     },
     "execution_count": 238,
     "metadata": {},
     "output_type": "execute_result"
    }
   ],
   "source": [
    "vals_new"
   ]
  },
  {
   "cell_type": "code",
   "execution_count": 255,
   "id": "50acaf4c",
   "metadata": {},
   "outputs": [],
   "source": [
    "even_numbers = [num for num in vals_new if num % 2 == 0]"
   ]
  },
  {
   "cell_type": "code",
   "execution_count": 254,
   "id": "35cdd57b",
   "metadata": {},
   "outputs": [
    {
     "data": {
      "text/plain": [
       "[1, 45]"
      ]
     },
     "execution_count": 254,
     "metadata": {},
     "output_type": "execute_result"
    }
   ],
   "source": [
    "even_numbers"
   ]
  },
  {
   "cell_type": "code",
   "execution_count": 258,
   "id": "2c3b072f",
   "metadata": {},
   "outputs": [],
   "source": [
    "even_numbers = list(filter(lambda element: element % 2 == 0 ,vals_new))"
   ]
  },
  {
   "cell_type": "code",
   "execution_count": 259,
   "id": "f691e85b",
   "metadata": {},
   "outputs": [
    {
     "data": {
      "text/plain": [
       "[2, 46]"
      ]
     },
     "execution_count": 259,
     "metadata": {},
     "output_type": "execute_result"
    }
   ],
   "source": [
    "even_numbers"
   ]
  },
  {
   "cell_type": "code",
   "execution_count": 263,
   "id": "cb19ebf1",
   "metadata": {},
   "outputs": [],
   "source": [
    "even_numbers = list(num for num in vals_new if num % 2 == 0)"
   ]
  },
  {
   "cell_type": "code",
   "execution_count": 265,
   "id": "b8960d9c",
   "metadata": {},
   "outputs": [
    {
     "data": {
      "text/plain": [
       "[2, 46]"
      ]
     },
     "execution_count": 265,
     "metadata": {},
     "output_type": "execute_result"
    }
   ],
   "source": [
    "even_numbers"
   ]
  },
  {
   "cell_type": "code",
   "execution_count": 269,
   "id": "eb502666",
   "metadata": {},
   "outputs": [],
   "source": [
    "def sum_num(e1,e2):\n",
    "    return e1 + e2\n"
   ]
  },
  {
   "cell_type": "code",
   "execution_count": 270,
   "id": "723e8579",
   "metadata": {},
   "outputs": [],
   "source": [
    "from functools import reduce\n",
    "\n",
    "sum_numbers = reduce(sum_num,vals_new)"
   ]
  },
  {
   "cell_type": "code",
   "execution_count": 271,
   "id": "b08aeb4b",
   "metadata": {},
   "outputs": [
    {
     "data": {
      "text/plain": [
       "116"
      ]
     },
     "execution_count": 271,
     "metadata": {},
     "output_type": "execute_result"
    }
   ],
   "source": [
    "sum_numbers"
   ]
  },
  {
   "cell_type": "code",
   "execution_count": 272,
   "id": "b54a440a",
   "metadata": {},
   "outputs": [],
   "source": [
    "multiplied = reduce(lambda x,y:x * y,vals_new)"
   ]
  },
  {
   "cell_type": "code",
   "execution_count": 273,
   "id": "3479884e",
   "metadata": {},
   "outputs": [
    {
     "data": {
      "text/plain": [
       "106260"
      ]
     },
     "execution_count": 273,
     "metadata": {},
     "output_type": "execute_result"
    }
   ],
   "source": [
    "multiplied"
   ]
  },
  {
   "cell_type": "code",
   "execution_count": 276,
   "id": "5d9e456a",
   "metadata": {},
   "outputs": [],
   "source": [
    "even_numbs_mul = reduce(lambda x,y:x * y,list(map(lambda x:x ** 2,list(filter(lambda element: element % 2 == 0 ,vals_new)))))#Not readble, better to split into multpiple line"
   ]
  },
  {
   "cell_type": "code",
   "execution_count": 277,
   "id": "9d066431",
   "metadata": {},
   "outputs": [
    {
     "data": {
      "text/plain": [
       "8464"
      ]
     },
     "execution_count": 277,
     "metadata": {},
     "output_type": "execute_result"
    }
   ],
   "source": [
    "even_numbs_mul"
   ]
  },
  {
   "cell_type": "code",
   "execution_count": 278,
   "id": "51fe1c1d",
   "metadata": {},
   "outputs": [],
   "source": [
    "even_numbers = list(filter(lambda element: element % 2 == 0 ,vals_new))\n",
    "squared_even_numbers = list(map(lambda x:x ** 2,even_numbers))\n",
    "multiplied_sqrd_even_numbers = reduce(lambda x,y:x * y,squared_even_numbers)\n",
    "\n"
   ]
  },
  {
   "cell_type": "code",
   "execution_count": 279,
   "id": "78d8e4b8",
   "metadata": {},
   "outputs": [
    {
     "data": {
      "text/plain": [
       "8464"
      ]
     },
     "execution_count": 279,
     "metadata": {},
     "output_type": "execute_result"
    }
   ],
   "source": [
    "multiplied_sqrd_even_numbers"
   ]
  },
  {
   "cell_type": "code",
   "execution_count": 288,
   "id": "fb8a989d",
   "metadata": {},
   "outputs": [],
   "source": [
    "from sqlalchemy import create_engine\n",
    "from sqlalchemy import text\n",
    "import pymysql\n",
    "\n",
    "engine = create_engine(\"mysql+pymysql://root:@localhost/python_2\")\n",
    "\n",
    "with engine.begin() as con:\n",
    "    pass\n",
    "\n"
   ]
  },
  {
   "cell_type": "code",
   "execution_count": 289,
   "id": "b0dd1327",
   "metadata": {},
   "outputs": [],
   "source": [
    "import requests\n",
    "\n",
    "response = req.get(\"https://restcountries.com/v3.1/all\")\n",
    "\n",
    "countries_data = response.json()\n"
   ]
  },
  {
   "cell_type": "code",
   "execution_count": 291,
   "id": "77b7993a",
   "metadata": {},
   "outputs": [],
   "source": [
    "def get_country_info(country_input):\n",
    "    name = \"\"\n",
    "    try:\n",
    "        name = country_input[\"name\"][\"common\"]\n",
    "    except:\n",
    "        pass\n",
    "    \n",
    "    iso = \"\"\n",
    "    try:\n",
    "        iso = country_input[\"cca2\"]\n",
    "    except:\n",
    "        pass\n",
    "    return iso,name\n",
    "\n",
    "countries_isos = list(map(get_country_info,countries_data))\n",
    "    "
   ]
  },
  {
   "cell_type": "code",
   "execution_count": 295,
   "id": "20e94fdc",
   "metadata": {},
   "outputs": [],
   "source": [
    "import pandas as pa\n",
    "\n",
    "\n",
    "countries = pa.DataFrame(countries_isos,columns=[\"iso_code\",\"country_name\"])\n"
   ]
  },
  {
   "cell_type": "code",
   "execution_count": 297,
   "id": "baee000e",
   "metadata": {},
   "outputs": [],
   "source": [
    "countries = countries.sort_values(by=[\"iso_code\"])"
   ]
  },
  {
   "cell_type": "code",
   "execution_count": 299,
   "id": "1e6815cf",
   "metadata": {},
   "outputs": [
    {
     "data": {
      "text/plain": [
       "250"
      ]
     },
     "execution_count": 299,
     "metadata": {},
     "output_type": "execute_result"
    }
   ],
   "source": [
    "countries.to_sql(name=\"countries\",con=engine,index=False,if_exists=\"append\")"
   ]
  },
  {
   "cell_type": "code",
   "execution_count": 313,
   "id": "dedef3a4",
   "metadata": {},
   "outputs": [],
   "source": [
    "with engine.begin() as con:\n",
    "    persons = pa.read_sql(text(\"SELECT * FROM persons JOIN countries ON persons.country = countries.id\"),con)"
   ]
  },
  {
   "cell_type": "code",
   "execution_count": 315,
   "id": "542919d8",
   "metadata": {},
   "outputs": [],
   "source": [
    "persons[\"full_name\"] = persons[\"name\"] + \" \" + persons[\"last_name\"]"
   ]
  },
  {
   "cell_type": "code",
   "execution_count": 318,
   "id": "a1738aaf",
   "metadata": {},
   "outputs": [],
   "source": [
    "persons = persons.drop([\"id\",\"country\"],axis=1)"
   ]
  },
  {
   "cell_type": "code",
   "execution_count": 320,
   "id": "74d0c474",
   "metadata": {},
   "outputs": [],
   "source": [
    "persons.to_excel(\"Persons.xlsx\")"
   ]
  },
  {
   "cell_type": "code",
   "execution_count": 352,
   "id": "67a00a93",
   "metadata": {},
   "outputs": [],
   "source": [
    "persons_add = pa.DataFrame(columns=[\"name\",\"last_name\",\"birth_date\",\"country\"])"
   ]
  },
  {
   "cell_type": "code",
   "execution_count": 353,
   "id": "d67ea361",
   "metadata": {},
   "outputs": [],
   "source": [
    "persons_add.loc[0] = {\"name\":\"Andris\",\"last_name\":\"Ozolins\",\"birth_date\":\"2001-05-08\",\"country\":\"US\"}"
   ]
  },
  {
   "cell_type": "code",
   "execution_count": 354,
   "id": "26e45c79",
   "metadata": {},
   "outputs": [],
   "source": [
    "persons_add.loc[1] = {\"name\":\"Jack\",\"last_name\":\"Sparrow\",\"birth_date\":\"1981-04-08\",\"country\":\"DE\"}"
   ]
  },
  {
   "cell_type": "code",
   "execution_count": 355,
   "id": "34dbd09c",
   "metadata": {},
   "outputs": [],
   "source": [
    "with engine.begin() as con:\n",
    "    countries = pa.read_sql(text(\"SELECT * FROM countries\"),con)"
   ]
  },
  {
   "cell_type": "code",
   "execution_count": 356,
   "id": "06c690dd",
   "metadata": {},
   "outputs": [],
   "source": [
    "persons_add = persons_add.merge(countries,left_on=\"country\",right_on=\"iso_code\")"
   ]
  },
  {
   "cell_type": "code",
   "execution_count": 357,
   "id": "e3a34527",
   "metadata": {},
   "outputs": [],
   "source": [
    "persons_add = persons_add.drop([\"iso_code\",\"country_name\",\"country\"],axis=1)"
   ]
  },
  {
   "cell_type": "code",
   "execution_count": 358,
   "id": "769d8c90",
   "metadata": {},
   "outputs": [],
   "source": [
    "persons_add.columns = [{\"id\":\"country\"}.get(x,x) for x in persons_add.columns]"
   ]
  },
  {
   "cell_type": "code",
   "execution_count": 358,
   "id": "c4002bf6",
   "metadata": {},
   "outputs": [],
   "source": [
    "persons_add.columns = [{\"id\":\"country\"}.get(x,x) for x in persons_add.columns]"
   ]
  },
  {
   "cell_type": "code",
   "execution_count": 361,
   "id": "ccbed8d9",
   "metadata": {},
   "outputs": [
    {
     "data": {
      "text/plain": [
       "2"
      ]
     },
     "execution_count": 361,
     "metadata": {},
     "output_type": "execute_result"
    }
   ],
   "source": [
    "persons_add.to_sql(name=\"persons\",con=engine,index=False,if_exists=\"append\")"
   ]
  },
  {
   "cell_type": "code",
   "execution_count": 360,
   "id": "b974a000",
   "metadata": {},
   "outputs": [
    {
     "data": {
      "text/html": [
       "<div>\n",
       "<style scoped>\n",
       "    .dataframe tbody tr th:only-of-type {\n",
       "        vertical-align: middle;\n",
       "    }\n",
       "\n",
       "    .dataframe tbody tr th {\n",
       "        vertical-align: top;\n",
       "    }\n",
       "\n",
       "    .dataframe thead th {\n",
       "        text-align: right;\n",
       "    }\n",
       "</style>\n",
       "<table border=\"1\" class=\"dataframe\">\n",
       "  <thead>\n",
       "    <tr style=\"text-align: right;\">\n",
       "      <th></th>\n",
       "      <th>name</th>\n",
       "      <th>last_name</th>\n",
       "      <th>birth_date</th>\n",
       "      <th>country</th>\n",
       "    </tr>\n",
       "  </thead>\n",
       "  <tbody>\n",
       "    <tr>\n",
       "      <th>0</th>\n",
       "      <td>Andris</td>\n",
       "      <td>Ozolins</td>\n",
       "      <td>2001-05-08</td>\n",
       "      <td>233</td>\n",
       "    </tr>\n",
       "    <tr>\n",
       "      <th>1</th>\n",
       "      <td>Jack</td>\n",
       "      <td>Sparrow</td>\n",
       "      <td>1981-04-08</td>\n",
       "      <td>57</td>\n",
       "    </tr>\n",
       "  </tbody>\n",
       "</table>\n",
       "</div>"
      ],
      "text/plain": [
       "     name last_name  birth_date  country\n",
       "0  Andris   Ozolins  2001-05-08      233\n",
       "1    Jack   Sparrow  1981-04-08       57"
      ]
     },
     "execution_count": 360,
     "metadata": {},
     "output_type": "execute_result"
    }
   ],
   "source": []
  },
  {
   "cell_type": "code",
   "execution_count": null,
   "id": "cba7eaf0",
   "metadata": {},
   "outputs": [],
   "source": []
  }
 ],
 "metadata": {
  "kernelspec": {
   "display_name": "Python 3 (ipykernel)",
   "language": "python",
   "name": "python3"
  },
  "language_info": {
   "codemirror_mode": {
    "name": "ipython",
    "version": 3
   },
   "file_extension": ".py",
   "mimetype": "text/x-python",
   "name": "python",
   "nbconvert_exporter": "python",
   "pygments_lexer": "ipython3",
   "version": "3.10.11"
  }
 },
 "nbformat": 4,
 "nbformat_minor": 5
}
