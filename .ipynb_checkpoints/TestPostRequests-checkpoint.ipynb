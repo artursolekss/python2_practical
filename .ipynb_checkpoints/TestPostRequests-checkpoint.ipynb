{
 "cells": [
  {
   "cell_type": "code",
   "execution_count": 2,
   "id": "115345b0",
   "metadata": {},
   "outputs": [],
   "source": [
    "    import os\n",
    "    import requests\n",
    "    \n",
    "    client_id = os.environ[\"SPOTIPY_CLIENT_ID\"]\n",
    "    client_secret = os.environ[\"SPOTIPY_CLIENT_SECRET\"]\n",
    "    # code = request.GET.get(\"code\",'')\n",
    "    # enc_str = client_id + \":\" + client_secret\n",
    "    # headers = {\"Authorization\":\"Basic \" + str(base64.b64encode(enc_str.encode(\"ascii\"))),\n",
    "    #            \"Content-Type\":\"application/json; charset=utf-8\"}\n",
    "    body={\"grant_type\":\"client_credentials\",\n",
    "          \"client_id\":client_id,\n",
    "          \"client_secret\":client_secret}\n",
    "    response = requests.post(\"https://accounts.spotify.com/api/token\",body)\n",
    "    json_respose = response.json()"
   ]
  },
  {
   "cell_type": "code",
   "execution_count": 5,
   "id": "3f91b179",
   "metadata": {},
   "outputs": [],
   "source": [
    "token = json_respose.get(\"access_token\")"
   ]
  },
  {
   "cell_type": "code",
   "execution_count": 16,
   "id": "2d3e8c40",
   "metadata": {},
   "outputs": [],
   "source": [
    "base_url = 'https://api.spotify.com/v1/'\n",
    "#     token=request.GET.get(\"token\")\n",
    "headers = {\n",
    "    \"Authorization\":'Bearer {}'.format(token)\n",
    "}\n",
    "value = \"U2\"\n",
    "type_name = \"artist\"\n",
    "search_url = base_url + \"search?\"+'q={}'.format(value) + '&type={}'.format(type_name)\n",
    "response = requests.get(search_url,headers=headers)"
   ]
  },
  {
   "cell_type": "code",
   "execution_count": 20,
   "id": "b3c3c343",
   "metadata": {},
   "outputs": [
    {
     "ename": "AttributeError",
     "evalue": "'dict' object has no attribute 'name'",
     "output_type": "error",
     "traceback": [
      "\u001b[1;31m---------------------------------------------------------------------------\u001b[0m",
      "\u001b[1;31mAttributeError\u001b[0m                            Traceback (most recent call last)",
      "Cell \u001b[1;32mIn[20], line 1\u001b[0m\n\u001b[1;32m----> 1\u001b[0m \u001b[43mresponse\u001b[49m\u001b[38;5;241;43m.\u001b[39;49m\u001b[43mjson\u001b[49m\u001b[43m(\u001b[49m\u001b[43m)\u001b[49m\u001b[38;5;241;43m.\u001b[39;49m\u001b[43mget\u001b[49m\u001b[43m(\u001b[49m\u001b[38;5;124;43m\"\u001b[39;49m\u001b[38;5;124;43martists\u001b[39;49m\u001b[38;5;124;43m\"\u001b[39;49m\u001b[43m)\u001b[49m\u001b[38;5;241;43m.\u001b[39;49m\u001b[43mget\u001b[49m\u001b[43m(\u001b[49m\u001b[38;5;124;43m\"\u001b[39;49m\u001b[38;5;124;43mitems\u001b[39;49m\u001b[38;5;124;43m\"\u001b[39;49m\u001b[43m)\u001b[49m\u001b[43m[\u001b[49m\u001b[38;5;241;43m0\u001b[39;49m\u001b[43m]\u001b[49m\u001b[38;5;241;43m.\u001b[39;49m\u001b[43mname\u001b[49m\n",
      "\u001b[1;31mAttributeError\u001b[0m: 'dict' object has no attribute 'name'"
     ]
    }
   ],
   "source": [
    "response.json().get(\"artists\").get(\"items\")[0][\"name\"]"
   ]
  },
  {
   "cell_type": "code",
   "execution_count": null,
   "id": "42f81b47",
   "metadata": {},
   "outputs": [],
   "source": []
  }
 ],
 "metadata": {
  "kernelspec": {
   "display_name": "Python 3 (ipykernel)",
   "language": "python",
   "name": "python3"
  },
  "language_info": {
   "codemirror_mode": {
    "name": "ipython",
    "version": 3
   },
   "file_extension": ".py",
   "mimetype": "text/x-python",
   "name": "python",
   "nbconvert_exporter": "python",
   "pygments_lexer": "ipython3",
   "version": "3.10.11"
  }
 },
 "nbformat": 4,
 "nbformat_minor": 5
}
