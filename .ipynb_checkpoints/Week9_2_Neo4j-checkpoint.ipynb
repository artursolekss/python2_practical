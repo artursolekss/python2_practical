{
 "cells": [
  {
   "cell_type": "code",
   "execution_count": 2,
   "id": "9c1ab0b5",
   "metadata": {},
   "outputs": [],
   "source": [
    "from neo4j import GraphDatabase"
   ]
  },
  {
   "cell_type": "code",
   "execution_count": 8,
   "id": "9112f9ab",
   "metadata": {},
   "outputs": [],
   "source": [
    "uri = \"neo4j+ssc://ec3c7039.databases.neo4j.io\"\n",
    "username = \"neo4j\"\n",
    "password = \"BitmrVjrT7aAhXHF3tob9hEKgq7RfHa1LE5zKHaL554\""
   ]
  },
  {
   "cell_type": "code",
   "execution_count": 9,
   "id": "fa13c2be",
   "metadata": {},
   "outputs": [],
   "source": [
    "driver = GraphDatabase.driver(uri,auth=(username,password))"
   ]
  },
  {
   "cell_type": "code",
   "execution_count": 10,
   "id": "9aa28ba5",
   "metadata": {},
   "outputs": [],
   "source": [
    "def create_node(transaction,name,age):\n",
    "    transaction.run(\"CREATE (:Person {name:$name,age:$age})\",name=name,age=age)\n",
    "\n",
    "with driver.session() as session:\n",
    "    session.execute_write(create_node,\"Arturs\",23)"
   ]
  },
  {
   "cell_type": "code",
   "execution_count": 13,
   "id": "d6bfc234",
   "metadata": {},
   "outputs": [],
   "source": [
    "def create_friendship(transaction,name1,name2):\n",
    "    transaction.run(\"MATCH (person1:Person {name:$name1}),(person2:Person {name:$name2}) CREATE (person1)-[:FRIEND_OF]->(person2)\",name1=name1,name2=name2)"
   ]
  },
  {
   "cell_type": "code",
   "execution_count": 14,
   "id": "8c1c15a7",
   "metadata": {},
   "outputs": [],
   "source": [
    "with driver.session() as session:\n",
    "    session.execute_write(create_friendship,\"Arturs\",\"Bob\")"
   ]
  },
  {
   "cell_type": "code",
   "execution_count": 19,
   "id": "fac2cea6",
   "metadata": {},
   "outputs": [],
   "source": [
    "def get_person(transaction,name):\n",
    "    result = transaction.run(\"MATCH (person:Person {name:$name}) RETURN person.name,person.age\",name=name)\n",
    "    return [{\"name\":record[\"person.name\"],\"age\":record[\"person.age\"]} for record in result]"
   ]
  },
  {
   "cell_type": "code",
   "execution_count": 20,
   "id": "fe3aeb5d",
   "metadata": {},
   "outputs": [
    {
     "name": "stdout",
     "output_type": "stream",
     "text": [
      "[{'name': 'Bob', 'age': 20}]\n"
     ]
    }
   ],
   "source": [
    "with driver.session() as session:\n",
    "    result = session.execute_read(get_person,\"Bob\")\n",
    "    print(result)"
   ]
  },
  {
   "cell_type": "code",
   "execution_count": 21,
   "id": "6436eeee",
   "metadata": {},
   "outputs": [],
   "source": [
    "def get_person_with_friends(transaction,name):\n",
    "    result = transaction.run(\"MATCH (person:Person {name:$name})-[:FRIEND_OF]->(friend:Person) RETURN person.name,person.age,friend.name,friend.age\",name=name)\n",
    "    return [{\"name\":record[\"person.name\"],\"age\":record[\"person.age\"],\"friend_name\":record[\"friend.name\"],\"friend_age\":record[\"friend.age\"]} for record in result]"
   ]
  },
  {
   "cell_type": "code",
   "execution_count": 22,
   "id": "dd06748e",
   "metadata": {},
   "outputs": [
    {
     "name": "stdout",
     "output_type": "stream",
     "text": [
      "[{'name': 'Alice', 'age': 21, 'friend_name': 'Bob', 'friend_age': 20}, {'name': 'Alice', 'age': 21, 'friend_name': 'Jessica', 'friend_age': 20}]\n"
     ]
    }
   ],
   "source": [
    "with driver.session() as session:\n",
    "    result = session.execute_read(get_person_with_friends,\"Alice\")\n",
    "    print(result)"
   ]
  },
  {
   "cell_type": "code",
   "execution_count": 23,
   "id": "bfdf0274",
   "metadata": {},
   "outputs": [],
   "source": [
    "def update_age(transaction,name,age_upd):\n",
    "    transaction.run(\"MATCH (person:Person {name:$name}) SET person.age = $age_upd\",name=name,age_upd=age_upd)"
   ]
  },
  {
   "cell_type": "code",
   "execution_count": 24,
   "id": "171789a5",
   "metadata": {},
   "outputs": [],
   "source": [
    "with driver.session() as session:\n",
    "    session.execute_write(update_age,\"Arturs\",25)"
   ]
  },
  {
   "cell_type": "code",
   "execution_count": 29,
   "id": "17a09943",
   "metadata": {},
   "outputs": [],
   "source": [
    "def get_friends_of_friends(transaction,name):\n",
    "    result = transaction.run(\"MATCH (person:Person {name:$name})-[:FRIEND_OF]->(:Person)-[:FRIEND_OF]->(fof) WHERE fof.name <> $name RETURN fof.name,fof.age\",name=name)\n",
    "    return [{\"name\":record[\"fof.name\"],\"age\":record[\"fof.age\"]} for record in result]"
   ]
  },
  {
   "cell_type": "code",
   "execution_count": 32,
   "id": "5c39239a",
   "metadata": {},
   "outputs": [
    {
     "name": "stdout",
     "output_type": "stream",
     "text": [
      "[{'name': 'Jessica', 'age': 20}]\n"
     ]
    }
   ],
   "source": [
    "with driver.session() as session:\n",
    "    results = session.execute_read(get_friends_of_friends,\"Bob\")\n",
    "    print(results)"
   ]
  },
  {
   "cell_type": "code",
   "execution_count": 40,
   "id": "fec54dbf",
   "metadata": {},
   "outputs": [],
   "source": [
    "def get_parent_of_friend(transaction,name):\n",
    "    result = transaction.run(\"MATCH (person:Person {name:$name})-[:FRIEND_OF]->(friend:Person)<-[:PARENT]-(pof) RETURN friend.name,friend.age,pof.name,pof.age\",name=name)\n",
    "    return [{\"friend_name\":record[\"friend.name\"],\"friend_age\":record[\"friend.age\"],\"name\":record[\"pof.name\"],\"age\":record[\"pof.age\"]} for record in result]"
   ]
  },
  {
   "cell_type": "code",
   "execution_count": 41,
   "id": "908cd863",
   "metadata": {},
   "outputs": [
    {
     "name": "stdout",
     "output_type": "stream",
     "text": [
      "[{'friend_name': 'Alice', 'friend_age': 21, 'name': 'Jack', 'age': 50}]\n"
     ]
    }
   ],
   "source": [
    "with driver.session() as session:\n",
    "    results = session.execute_read(get_parent_of_friend,\"Bob\")\n",
    "    print(results)"
   ]
  },
  {
   "cell_type": "code",
   "execution_count": 73,
   "id": "a7627e23",
   "metadata": {},
   "outputs": [],
   "source": [
    "def find_shortest_path(transaction,name1,name2):\n",
    "    result = transaction.run(\"match (person1:Person {name:$name1}),(person2:Person {name:$name2}), path= SHORTESTPATH ((person1)-[*]->(person2)) RETURN nodes(path),relationships(path)\",name1=name1,name2=name2)\n",
    "    return [{\"nodes\":record[\"nodes(path)\"],\"relationships\":record[\"relationships(path)\"]} for record in result]"
   ]
  },
  {
   "cell_type": "code",
   "execution_count": 75,
   "id": "04c70268",
   "metadata": {},
   "outputs": [],
   "source": [
    "with driver.session() as session:\n",
    "    results = session.execute_read(find_shortest_path,\"Arturs\",\"Alice\")\n",
    "#     nodes = results[0][\"nodes\"]\n",
    "#     relationships = results[0][\"relationships\"]"
   ]
  },
  {
   "cell_type": "code",
   "execution_count": 65,
   "id": "42b09348",
   "metadata": {},
   "outputs": [
    {
     "name": "stdout",
     "output_type": "stream",
     "text": [
      "Arturs\n",
      "Bob\n",
      "Alice\n"
     ]
    }
   ],
   "source": [
    "for node in nodes:\n",
    "    print(node.get(\"name\"))"
   ]
  },
  {
   "cell_type": "code",
   "execution_count": 66,
   "id": "2cdd37cf",
   "metadata": {},
   "outputs": [
    {
     "data": {
      "text/plain": [
       "[<Relationship element_id='5:d0d895ef-ed77-4d1a-905f-b3e854e349d8:4' nodes=(<Node element_id='4:d0d895ef-ed77-4d1a-905f-b3e854e349d8:3' labels=frozenset({'Person'}) properties={'name': 'Arturs', 'age': 25}>, <Node element_id='4:d0d895ef-ed77-4d1a-905f-b3e854e349d8:1' labels=frozenset({'Person'}) properties={'name': 'Bob', 'age': 20}>) type='FRIEND_OF' properties={}>,\n",
       " <Relationship element_id='5:d0d895ef-ed77-4d1a-905f-b3e854e349d8:3' nodes=(<Node element_id='4:d0d895ef-ed77-4d1a-905f-b3e854e349d8:0' labels=frozenset({'Person'}) properties={'name': 'Alice', 'age': 21}>, <Node element_id='4:d0d895ef-ed77-4d1a-905f-b3e854e349d8:1' labels=frozenset({'Person'}) properties={'name': 'Bob', 'age': 20}>) type='FRIEND_OF' properties={}>]"
      ]
     },
     "execution_count": 66,
     "metadata": {},
     "output_type": "execute_result"
    }
   ],
   "source": [
    "relationships"
   ]
  },
  {
   "cell_type": "code",
   "execution_count": 68,
   "id": "aa942050",
   "metadata": {},
   "outputs": [
    {
     "data": {
      "text/plain": [
       "'4:d0d895ef-ed77-4d1a-905f-b3e854e349d8:3'"
      ]
     },
     "execution_count": 68,
     "metadata": {},
     "output_type": "execute_result"
    }
   ],
   "source": [
    "nodes[0].element_id"
   ]
  },
  {
   "cell_type": "code",
   "execution_count": 70,
   "id": "90c6a26a",
   "metadata": {},
   "outputs": [
    {
     "data": {
      "text/plain": [
       "(<Node element_id='4:d0d895ef-ed77-4d1a-905f-b3e854e349d8:3' labels=frozenset({'Person'}) properties={'name': 'Arturs', 'age': 25}>,\n",
       " <Node element_id='4:d0d895ef-ed77-4d1a-905f-b3e854e349d8:1' labels=frozenset({'Person'}) properties={'name': 'Bob', 'age': 20}>)"
      ]
     },
     "execution_count": 70,
     "metadata": {},
     "output_type": "execute_result"
    }
   ],
   "source": [
    "relationships[0].nodes"
   ]
  },
  {
   "cell_type": "code",
   "execution_count": 71,
   "id": "6795c0d2",
   "metadata": {},
   "outputs": [
    {
     "name": "stdout",
     "output_type": "stream",
     "text": [
      "Arturs -> Bob\n",
      "Alice -> Bob\n"
     ]
    }
   ],
   "source": [
    "for relationship in relationships:\n",
    "    nodes = relationship.nodes\n",
    "    print(nodes[0].get(\"name\"),\"->\",nodes[1].get(\"name\"))"
   ]
  },
  {
   "cell_type": "code",
   "execution_count": 72,
   "id": "3c52e3dc",
   "metadata": {},
   "outputs": [
    {
     "data": {
      "text/plain": [
       "[<Relationship element_id='5:d0d895ef-ed77-4d1a-905f-b3e854e349d8:4' nodes=(<Node element_id='4:d0d895ef-ed77-4d1a-905f-b3e854e349d8:3' labels=frozenset({'Person'}) properties={'name': 'Arturs', 'age': 25}>, <Node element_id='4:d0d895ef-ed77-4d1a-905f-b3e854e349d8:1' labels=frozenset({'Person'}) properties={'name': 'Bob', 'age': 20}>) type='FRIEND_OF' properties={}>,\n",
       " <Relationship element_id='5:d0d895ef-ed77-4d1a-905f-b3e854e349d8:3' nodes=(<Node element_id='4:d0d895ef-ed77-4d1a-905f-b3e854e349d8:0' labels=frozenset({'Person'}) properties={'name': 'Alice', 'age': 21}>, <Node element_id='4:d0d895ef-ed77-4d1a-905f-b3e854e349d8:1' labels=frozenset({'Person'}) properties={'name': 'Bob', 'age': 20}>) type='FRIEND_OF' properties={}>]"
      ]
     },
     "execution_count": 72,
     "metadata": {},
     "output_type": "execute_result"
    }
   ],
   "source": [
    "relationships"
   ]
  },
  {
   "cell_type": "code",
   "execution_count": 76,
   "id": "b94d683d",
   "metadata": {},
   "outputs": [
    {
     "data": {
      "text/plain": [
       "[]"
      ]
     },
     "execution_count": 76,
     "metadata": {},
     "output_type": "execute_result"
    }
   ],
   "source": [
    "results"
   ]
  },
  {
   "cell_type": "code",
   "execution_count": null,
   "id": "4d290e18",
   "metadata": {},
   "outputs": [],
   "source": []
  }
 ],
 "metadata": {
  "kernelspec": {
   "display_name": "Python 3 (ipykernel)",
   "language": "python",
   "name": "python3"
  },
  "language_info": {
   "codemirror_mode": {
    "name": "ipython",
    "version": 3
   },
   "file_extension": ".py",
   "mimetype": "text/x-python",
   "name": "python",
   "nbconvert_exporter": "python",
   "pygments_lexer": "ipython3",
   "version": "3.10.11"
  }
 },
 "nbformat": 4,
 "nbformat_minor": 5
}
