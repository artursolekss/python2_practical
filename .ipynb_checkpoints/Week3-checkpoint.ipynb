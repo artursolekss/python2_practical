{
 "cells": [
  {
   "cell_type": "code",
   "execution_count": 3,
   "id": "84016b35",
   "metadata": {},
   "outputs": [],
   "source": [
    "from collections import defaultdict\n",
    "def_dict = defaultdict(int)"
   ]
  },
  {
   "cell_type": "code",
   "execution_count": 11,
   "id": "5dc14dec",
   "metadata": {},
   "outputs": [],
   "source": [
    "simple_dict = dict()"
   ]
  },
  {
   "cell_type": "code",
   "execution_count": 12,
   "id": "e7449191",
   "metadata": {},
   "outputs": [
    {
     "ename": "KeyError",
     "evalue": "0",
     "output_type": "error",
     "traceback": [
      "\u001b[1;31m---------------------------------------------------------------------------\u001b[0m",
      "\u001b[1;31mKeyError\u001b[0m                                  Traceback (most recent call last)",
      "Cell \u001b[1;32mIn[12], line 1\u001b[0m\n\u001b[1;32m----> 1\u001b[0m \u001b[43msimple_dict\u001b[49m\u001b[43m[\u001b[49m\u001b[38;5;241;43m0\u001b[39;49m\u001b[43m]\u001b[49m\n",
      "\u001b[1;31mKeyError\u001b[0m: 0"
     ]
    }
   ],
   "source": []
  },
  {
   "cell_type": "code",
   "execution_count": 13,
   "id": "a065ec4d",
   "metadata": {},
   "outputs": [],
   "source": [
    "def swap_squared(a,b):\n",
    "    return b * b, a * a"
   ]
  },
  {
   "cell_type": "code",
   "execution_count": 14,
   "id": "0737c7de",
   "metadata": {},
   "outputs": [
    {
     "data": {
      "text/plain": [
       "(16, 9)"
      ]
     },
     "execution_count": 14,
     "metadata": {},
     "output_type": "execute_result"
    }
   ],
   "source": [
    "swap_squared(3,4)"
   ]
  },
  {
   "cell_type": "code",
   "execution_count": 15,
   "id": "553f0eee",
   "metadata": {},
   "outputs": [],
   "source": [
    "def swap_squared(a,b):\n",
    "    return list([b * b, a * a])"
   ]
  },
  {
   "cell_type": "code",
   "execution_count": 16,
   "id": "726dc73c",
   "metadata": {},
   "outputs": [
    {
     "data": {
      "text/plain": [
       "[16, 9]"
      ]
     },
     "execution_count": 16,
     "metadata": {},
     "output_type": "execute_result"
    }
   ],
   "source": [
    "swap_squared(3,4)"
   ]
  },
  {
   "cell_type": "code",
   "execution_count": 49,
   "id": "6eabf91a",
   "metadata": {},
   "outputs": [],
   "source": [
    "def multiplied2(start):\n",
    "#      for i in range(1,10):\n",
    "     while True:\n",
    "        start = start * 2\n",
    "        yield start"
   ]
  },
  {
   "cell_type": "code",
   "execution_count": 50,
   "id": "9c15a6a1",
   "metadata": {},
   "outputs": [
    {
     "data": {
      "text/plain": [
       "20"
      ]
     },
     "execution_count": 50,
     "metadata": {},
     "output_type": "execute_result"
    }
   ],
   "source": [
    "a = 10\n",
    "result = multiplied2(a)\n",
    "next(result)\n"
   ]
  },
  {
   "cell_type": "code",
   "execution_count": 59,
   "id": "dc347ae9",
   "metadata": {},
   "outputs": [
    {
     "ename": "StopIteration",
     "evalue": "",
     "output_type": "error",
     "traceback": [
      "\u001b[1;31m---------------------------------------------------------------------------\u001b[0m",
      "\u001b[1;31mStopIteration\u001b[0m                             Traceback (most recent call last)",
      "Cell \u001b[1;32mIn[59], line 1\u001b[0m\n\u001b[1;32m----> 1\u001b[0m \u001b[38;5;28;43mnext\u001b[39;49m\u001b[43m(\u001b[49m\u001b[43mresult\u001b[49m\u001b[43m)\u001b[49m\n",
      "\u001b[1;31mStopIteration\u001b[0m: "
     ]
    }
   ],
   "source": [
    "next(result)"
   ]
  },
  {
   "cell_type": "code",
   "execution_count": 61,
   "id": "b91cf3e8",
   "metadata": {},
   "outputs": [
    {
     "data": {
      "text/plain": [
       "34"
      ]
     },
     "execution_count": 61,
     "metadata": {},
     "output_type": "execute_result"
    }
   ],
   "source": [
    "def fibonacci(last_element):\n",
    "    a = 0\n",
    "    b = 1\n",
    "    for i in range(2,last_element):\n",
    "        b,a = a,b\n",
    "        b = a + b\n",
    "    return b\n",
    "\n",
    "fibonacci(10)"
   ]
  },
  {
   "cell_type": "code",
   "execution_count": 62,
   "id": "538b512d",
   "metadata": {},
   "outputs": [
    {
     "data": {
      "text/plain": [
       "[0, 1, 1, 2, 3, 5, 8, 13, 21, 34]"
      ]
     },
     "execution_count": 62,
     "metadata": {},
     "output_type": "execute_result"
    }
   ],
   "source": [
    "def fibonacci(last_element):\n",
    "    a = 0\n",
    "    b = 1\n",
    "    result = list([0,1])\n",
    "    for i in range(2,last_element):\n",
    "        b,a = a,b\n",
    "        b = a + b\n",
    "        result.append(b)\n",
    "    return result\n",
    "\n",
    "fibonacci(10)"
   ]
  },
  {
   "cell_type": "code",
   "execution_count": 64,
   "id": "6f507bf4",
   "metadata": {},
   "outputs": [],
   "source": [
    "def fibonacci():\n",
    "    a = 0\n",
    "    b = 1\n",
    "    while True:\n",
    "        b,a = a,b\n",
    "        b = a + b\n",
    "        yield b"
   ]
  },
  {
   "cell_type": "code",
   "execution_count": 66,
   "id": "cb0c7dfd",
   "metadata": {},
   "outputs": [],
   "source": [
    "fib_gen = fibonacci()"
   ]
  },
  {
   "cell_type": "code",
   "execution_count": 72,
   "id": "917cf6b8",
   "metadata": {},
   "outputs": [
    {
     "data": {
      "text/plain": [
       "13"
      ]
     },
     "execution_count": 72,
     "metadata": {},
     "output_type": "execute_result"
    }
   ],
   "source": [
    "next(fib_gen)"
   ]
  },
  {
   "cell_type": "code",
   "execution_count": 94,
   "id": "0e135256",
   "metadata": {},
   "outputs": [],
   "source": [
    "class Person:\n",
    "#     name: str\n",
    "#     last_name: str\n",
    "#     date_of_birth: str\n",
    "    def __init__(self,name,last_name,date_of_birth):\n",
    "        self.name = name\n",
    "        self.last_name = last_name\n",
    "        self.date_of_birth = date_of_birth\n",
    "    def __str__(self):\n",
    "        return \"Name : \" + self.name + \", Last Name : \" + self.last_name + \", Date of Birth : \" + self.date_of_birth "
   ]
  },
  {
   "cell_type": "code",
   "execution_count": 95,
   "id": "eb9af865",
   "metadata": {},
   "outputs": [],
   "source": [
    "person = Person(\"Arturs\",\"Olekss\",\"11111991\")"
   ]
  },
  {
   "cell_type": "code",
   "execution_count": 96,
   "id": "7bbcb68f",
   "metadata": {},
   "outputs": [
    {
     "name": "stdout",
     "output_type": "stream",
     "text": [
      "Name : Arturs, Last Name : Olekss, Date of Birth : 11111991\n"
     ]
    }
   ],
   "source": [
    "print(person)"
   ]
  },
  {
   "cell_type": "code",
   "execution_count": 97,
   "id": "a8fb3bbf",
   "metadata": {},
   "outputs": [],
   "source": [
    "from dataclasses import dataclass"
   ]
  },
  {
   "cell_type": "code",
   "execution_count": 106,
   "id": "103174f5",
   "metadata": {},
   "outputs": [],
   "source": [
    "@dataclass\n",
    "class Person:\n",
    "    name: str\n",
    "    last_name: str\n",
    "    date_of_birth: str\n",
    "#     def __str__(self):\n",
    "#         return \"Name : \" + self.name + \", Last Name : \" + self.last_name + \", Date of Birth : \" + self.date_of_birth "
   ]
  },
  {
   "cell_type": "code",
   "execution_count": 107,
   "id": "1141faae",
   "metadata": {},
   "outputs": [],
   "source": [
    "person = Person(\"Arturs\",\"Olekss\",\"11111991\")"
   ]
  },
  {
   "cell_type": "code",
   "execution_count": 108,
   "id": "e4a5d0c8",
   "metadata": {},
   "outputs": [
    {
     "name": "stdout",
     "output_type": "stream",
     "text": [
      "Person(name='Arturs', last_name='Olekss', date_of_birth='11111991')\n"
     ]
    }
   ],
   "source": [
    "print(person)"
   ]
  },
  {
   "cell_type": "code",
   "execution_count": 109,
   "id": "87e40e32",
   "metadata": {},
   "outputs": [
    {
     "name": "stdout",
     "output_type": "stream",
     "text": [
      "Calling:add\n",
      "Function add finished\n"
     ]
    },
    {
     "data": {
      "text/plain": [
       "12"
      ]
     },
     "execution_count": 109,
     "metadata": {},
     "output_type": "execute_result"
    }
   ],
   "source": [
    "def logger_decorator(func):\n",
    "    def wrapper(*args,**kwargs):\n",
    "        print(\"Calling:\"+func.__name__)\n",
    "        result = func(*args,**kwargs)\n",
    "        print(\"Function\",func.__name__,\"finished\")\n",
    "        return result\n",
    "    return wrapper\n",
    "\n",
    "@logger_decorator\n",
    "def add(a,b):\n",
    "    return a + b\n",
    "\n",
    "add(5,7)\n"
   ]
  },
  {
   "cell_type": "code",
   "execution_count": 111,
   "id": "ab4d1b91",
   "metadata": {},
   "outputs": [
    {
     "data": {
      "text/plain": [
       "'The result of the Function - add is 12'"
      ]
     },
     "execution_count": 111,
     "metadata": {},
     "output_type": "execute_result"
    }
   ],
   "source": [
    "def logger_decorator(func):\n",
    "    def wrapper(*args,**kwargs):\n",
    "        return \"The result of the Function - \" + func.__name__ + \" is \" + str(func(*args,**kwargs)) \n",
    "    return wrapper\n",
    "\n",
    "@logger_decorator\n",
    "def add(a,b):\n",
    "    return a + b\n",
    "\n",
    "add(5,7)\n"
   ]
  },
  {
   "cell_type": "code",
   "execution_count": 112,
   "id": "2ca5c8c4",
   "metadata": {},
   "outputs": [],
   "source": [
    "@logger_decorator\n",
    "def multiplication(a,b):\n",
    "    return a * b"
   ]
  },
  {
   "cell_type": "code",
   "execution_count": 113,
   "id": "83ecca0d",
   "metadata": {},
   "outputs": [
    {
     "data": {
      "text/plain": [
       "'The result of the Function - multiplication is 36'"
      ]
     },
     "execution_count": 113,
     "metadata": {},
     "output_type": "execute_result"
    }
   ],
   "source": [
    "multiplication(4,9)"
   ]
  },
  {
   "cell_type": "code",
   "execution_count": 115,
   "id": "43e58ba6",
   "metadata": {},
   "outputs": [],
   "source": [
    "import time"
   ]
  },
  {
   "cell_type": "code",
   "execution_count": 120,
   "id": "3e1fb61e",
   "metadata": {},
   "outputs": [],
   "source": [
    "def measure_time(func):\n",
    "    def wrapper(*args,**kwargs):\n",
    "        start_time = time.time()\n",
    "        result = func(*args,**kwargs)\n",
    "        end_time = time.time()\n",
    "        execution_time = end_time - start_time\n",
    "#         print(\"Function \" + func.__name__ + \" is executed in \" + str(execution_time) + \" seconds\")\n",
    "#         print(result)\n",
    "        funct_res = dict()\n",
    "        funct_res[\"Time\"] = execution_time\n",
    "        funct_res[\"Result\"] = result\n",
    "        return funct_res\n",
    "    return wrapper\n",
    "\n",
    "@measure_time\n",
    "def loop_sum(elements):\n",
    "    sum_total = 0\n",
    "    for i in range (1,elements):\n",
    "        sum_total = sum_total + i\n",
    "    return sum_total\n",
    "\n",
    "result = loop_sum(99999999)        "
   ]
  },
  {
   "cell_type": "code",
   "execution_count": 121,
   "id": "e9cd1931",
   "metadata": {},
   "outputs": [
    {
     "data": {
      "text/plain": [
       "{'Time': 3.8754193782806396, 'Result': 4999999850000001}"
      ]
     },
     "execution_count": 121,
     "metadata": {},
     "output_type": "execute_result"
    }
   ],
   "source": [
    "result"
   ]
  },
  {
   "cell_type": "code",
   "execution_count": 126,
   "id": "b443e9b5",
   "metadata": {},
   "outputs": [],
   "source": [
    "def add_name(cls):\n",
    "    cls.name = \"Default\"\n",
    "    return cls\n",
    "\n",
    "@add_name\n",
    "class Person:\n",
    "    pass\n",
    "\n",
    "person = Person()"
   ]
  },
  {
   "cell_type": "code",
   "execution_count": 127,
   "id": "e2a32a36",
   "metadata": {},
   "outputs": [
    {
     "data": {
      "text/plain": [
       "'Default'"
      ]
     },
     "execution_count": 127,
     "metadata": {},
     "output_type": "execute_result"
    }
   ],
   "source": [
    "person.name"
   ]
  },
  {
   "cell_type": "code",
   "execution_count": 135,
   "id": "c958a188",
   "metadata": {},
   "outputs": [],
   "source": [
    "def add_name(cls):\n",
    "    def wrapper(*args,**kwargs):\n",
    "        try:\n",
    "            cls.name = args[0]\n",
    "            cls.last_name = args[1]\n",
    "        except:\n",
    "            pass\n",
    "        return cls\n",
    "    return wrapper\n",
    "\n",
    "@add_name\n",
    "class Person:\n",
    "    pass\n",
    "\n",
    "person = Person(\"Arturs\",\"Olekss\")"
   ]
  },
  {
   "cell_type": "code",
   "execution_count": 136,
   "id": "8f3f1e20",
   "metadata": {},
   "outputs": [
    {
     "data": {
      "text/plain": [
       "'Olekss'"
      ]
     },
     "execution_count": 136,
     "metadata": {},
     "output_type": "execute_result"
    }
   ],
   "source": [
    "person.last_name"
   ]
  },
  {
   "cell_type": "code",
   "execution_count": 137,
   "id": "70155a12",
   "metadata": {},
   "outputs": [],
   "source": [
    "def authorize_decorator(allowed_roles):\n",
    "    def decorator(func):\n",
    "        def wrapper(*args,**kwargs):\n",
    "            if 'admin' in allowed_roles:\n",
    "                print(\"Authorized\")\n",
    "                return func(*args,**kwargs)\n",
    "            else:\n",
    "                print(\"Unauthorized\")\n",
    "        return wrapper\n",
    "    return decorator"
   ]
  },
  {
   "cell_type": "code",
   "execution_count": 140,
   "id": "fb9da970",
   "metadata": {},
   "outputs": [
    {
     "name": "stdout",
     "output_type": "stream",
     "text": [
      "Unauthorized\n"
     ]
    }
   ],
   "source": [
    "@authorize_decorator(allowed_roles=[\"end user\"])\n",
    "def protected_function():\n",
    "    print(\"Protected function called\")\n",
    "    \n",
    "protected_function()"
   ]
  },
  {
   "cell_type": "code",
   "execution_count": 147,
   "id": "d4097a80",
   "metadata": {},
   "outputs": [],
   "source": [
    "user_name = 'aolekss'\n",
    "#SELECTION FROM THE DATABASE based user_name\n",
    "#....write query from the database based on user_name\n",
    "\n",
    "user_roles = [\"end_user\",\"tester\",\"admin\"]\n",
    "\n",
    "@authorize_decorator(allowed_roles=user_roles)\n",
    "def get_sensative_data_from_db():\n",
    "    return \"Senstative data\" \n"
   ]
  },
  {
   "cell_type": "code",
   "execution_count": 148,
   "id": "24a68a80",
   "metadata": {},
   "outputs": [
    {
     "name": "stdout",
     "output_type": "stream",
     "text": [
      "Authorized\n"
     ]
    },
    {
     "data": {
      "text/plain": [
       "'Senstative data'"
      ]
     },
     "execution_count": 148,
     "metadata": {},
     "output_type": "execute_result"
    }
   ],
   "source": [
    "get_sensative_data_from_db()"
   ]
  },
  {
   "cell_type": "code",
   "execution_count": 149,
   "id": "470d73dc",
   "metadata": {},
   "outputs": [],
   "source": [
    "@authorize_decorator(allowed_roles=user_roles)\n",
    "@logger_decorator\n",
    "def get_very_sensative_data_from_db():\n",
    "    return \"Very senstative data\" "
   ]
  },
  {
   "cell_type": "code",
   "execution_count": 150,
   "id": "b618c759",
   "metadata": {},
   "outputs": [
    {
     "name": "stdout",
     "output_type": "stream",
     "text": [
      "Authorized\n"
     ]
    },
    {
     "data": {
      "text/plain": [
       "'The result of the Function - get_very_sensative_data_from_db is Very senstative data'"
      ]
     },
     "execution_count": 150,
     "metadata": {},
     "output_type": "execute_result"
    }
   ],
   "source": [
    "get_very_sensative_data_from_db()"
   ]
  },
  {
   "cell_type": "code",
   "execution_count": 151,
   "id": "927ea7ee",
   "metadata": {},
   "outputs": [],
   "source": [
    "from dataclasses import dataclass\n",
    "\n",
    "@dataclass\n",
    "class Person:\n",
    "    pers_id : int\n",
    "    name: str\n",
    "    last_name: str\n",
    "    "
   ]
  },
  {
   "cell_type": "code",
   "execution_count": 152,
   "id": "e8fa35af",
   "metadata": {},
   "outputs": [],
   "source": [
    "person1 = Person(1,\"Arturs\",\"Olekss\")"
   ]
  },
  {
   "cell_type": "code",
   "execution_count": 154,
   "id": "3096ca61",
   "metadata": {},
   "outputs": [],
   "source": [
    "person2 = Person(2,\"Arturs\",\"Olekss\")"
   ]
  },
  {
   "cell_type": "code",
   "execution_count": 155,
   "id": "8406e88c",
   "metadata": {},
   "outputs": [
    {
     "data": {
      "text/plain": [
       "False"
      ]
     },
     "execution_count": 155,
     "metadata": {},
     "output_type": "execute_result"
    }
   ],
   "source": [
    "person1 == person2"
   ]
  },
  {
   "cell_type": "code",
   "execution_count": 176,
   "id": "e6fe0b42",
   "metadata": {},
   "outputs": [],
   "source": [
    "# def singleton_id(cls):\n",
    "#     instances = {}\n",
    "    \n",
    "#     def wrapper(*args,**kwargs):\n",
    "#         n_obj = cls(*args,**kwargs)\n",
    "#         if n_obj.pers_id not in instances:\n",
    "#             instances[n_obj.pers_id] = n_obj\n",
    "#         return instances[n_obj.pers_id]\n",
    "#     return wrapper\n",
    "\n",
    "def singleton_id(cls):\n",
    "    instances = {}\n",
    "    \n",
    "    def wrapper(*args,**kwargs):\n",
    "        pers_id = args[0]\n",
    "        if pers_id not in instances: \n",
    "            n_obj = cls(*args,**kwargs)\n",
    "            instances[pers_id] = n_obj\n",
    "        return instances[pers_id]\n",
    "    return wrapper\n",
    "        "
   ]
  },
  {
   "cell_type": "code",
   "execution_count": 177,
   "id": "23938c87",
   "metadata": {},
   "outputs": [],
   "source": [
    "# @dataclass\n",
    "@singleton_id\n",
    "class Person:\n",
    "#     pers_id : int\n",
    "#     name: str\n",
    "#     last_name: str\n",
    "    def __init__(self,pers_id,name,last_name):\n",
    "        self.pers_id = pers_id\n",
    "        self.name = name\n",
    "        self.last_name = last_name"
   ]
  },
  {
   "cell_type": "code",
   "execution_count": 178,
   "id": "c9d7f3bd",
   "metadata": {},
   "outputs": [],
   "source": [
    "person1 = Person(1,\"Arturs\",\"Olekss\")"
   ]
  },
  {
   "cell_type": "code",
   "execution_count": 179,
   "id": "6d16d339",
   "metadata": {},
   "outputs": [],
   "source": [
    "person2 = Person(1,\"Arturs\",\"Olekss\")#it returns the instance of the first person created"
   ]
  },
  {
   "cell_type": "code",
   "execution_count": 180,
   "id": "2403c0e1",
   "metadata": {},
   "outputs": [
    {
     "data": {
      "text/plain": [
       "True"
      ]
     },
     "execution_count": 180,
     "metadata": {},
     "output_type": "execute_result"
    }
   ],
   "source": [
    "person1 == person2"
   ]
  },
  {
   "cell_type": "code",
   "execution_count": 181,
   "id": "94f1a3a0",
   "metadata": {},
   "outputs": [],
   "source": [
    "person2 = Person(2,\"Arturs\",\"Olekss\")#it returns the instance of the first person created"
   ]
  },
  {
   "cell_type": "code",
   "execution_count": 182,
   "id": "239f983d",
   "metadata": {},
   "outputs": [
    {
     "data": {
      "text/plain": [
       "False"
      ]
     },
     "execution_count": 182,
     "metadata": {},
     "output_type": "execute_result"
    }
   ],
   "source": [
    "person1 == person2"
   ]
  },
  {
   "cell_type": "code",
   "execution_count": 183,
   "id": "726c583a",
   "metadata": {},
   "outputs": [],
   "source": [
    "person3 = Person(2,\"Jack\",\"Smith\")"
   ]
  },
  {
   "cell_type": "code",
   "execution_count": 184,
   "id": "f9356e35",
   "metadata": {},
   "outputs": [
    {
     "data": {
      "text/plain": [
       "'Arturs'"
      ]
     },
     "execution_count": 184,
     "metadata": {},
     "output_type": "execute_result"
    }
   ],
   "source": [
    "person3.name"
   ]
  },
  {
   "cell_type": "code",
   "execution_count": 196,
   "id": "98112b97",
   "metadata": {},
   "outputs": [],
   "source": [
    "#Overwrites the values for the existing objects\n",
    "def singleton_id(cls):\n",
    "    instances = {}\n",
    "    \n",
    "    def wrapper(*args,**kwargs):\n",
    "        pers_id = args[0]\n",
    "        if pers_id not in instances: \n",
    "            n_obj = cls(*args,**kwargs)\n",
    "            instances[pers_id] = n_obj\n",
    "        else:\n",
    "            obj = instances[pers_id]\n",
    "            obj.reassign_all_attributes(*args,**kwargs)\n",
    "            \n",
    "        return instances[pers_id]\n",
    "    return wrapper\n",
    "\n",
    "@singleton_id\n",
    "class Person:\n",
    "    def __init__(self,pers_id,name,last_name):\n",
    "        self.pers_id = pers_id\n",
    "        self.name = name\n",
    "        self.last_name = last_name\n",
    "    def reassign_all_attributes(self,pers_id,name,last_name):\n",
    "        self.pers_id = pers_id\n",
    "        self.name = name\n",
    "        self.last_name = last_name\n",
    "        "
   ]
  },
  {
   "cell_type": "code",
   "execution_count": 197,
   "id": "2664e2e4",
   "metadata": {},
   "outputs": [],
   "source": [
    "person = Person(1,\"Jack\",\"Smith\")"
   ]
  },
  {
   "cell_type": "code",
   "execution_count": 198,
   "id": "10321fec",
   "metadata": {},
   "outputs": [],
   "source": [
    "person2 = Person(1,\"Arturs\",\"Smith\")"
   ]
  },
  {
   "cell_type": "code",
   "execution_count": 200,
   "id": "dc3cc3d9",
   "metadata": {},
   "outputs": [
    {
     "data": {
      "text/plain": [
       "'Arturs'"
      ]
     },
     "execution_count": 200,
     "metadata": {},
     "output_type": "execute_result"
    }
   ],
   "source": [
    "person.name"
   ]
  },
  {
   "cell_type": "code",
   "execution_count": 195,
   "id": "53960250",
   "metadata": {},
   "outputs": [
    {
     "data": {
      "text/plain": [
       "['__class__',\n",
       " '__delattr__',\n",
       " '__dict__',\n",
       " '__dir__',\n",
       " '__doc__',\n",
       " '__eq__',\n",
       " '__format__',\n",
       " '__ge__',\n",
       " '__getattribute__',\n",
       " '__gt__',\n",
       " '__hash__',\n",
       " '__init__',\n",
       " '__init_subclass__',\n",
       " '__le__',\n",
       " '__lt__',\n",
       " '__module__',\n",
       " '__ne__',\n",
       " '__new__',\n",
       " '__reduce__',\n",
       " '__reduce_ex__',\n",
       " '__repr__',\n",
       " '__setattr__',\n",
       " '__sizeof__',\n",
       " '__str__',\n",
       " '__subclasshook__',\n",
       " '__weakref__',\n",
       " 'last_name',\n",
       " 'name',\n",
       " 'pers_id']"
      ]
     },
     "execution_count": 195,
     "metadata": {},
     "output_type": "execute_result"
    }
   ],
   "source": []
  },
  {
   "cell_type": "code",
   "execution_count": 201,
   "id": "11c1f2af",
   "metadata": {},
   "outputs": [],
   "source": [
    "class AuthDecorator:\n",
    "    def __init__(self,allowed_roles):\n",
    "        self.allowed_roles = allowed_roles\n",
    "    \n",
    "    def __call__(self,func):\n",
    "        def wrapper(*args,**kwargs):\n",
    "            if \"admin\" in self.allowed_roles:\n",
    "                print(\"Authorized\")\n",
    "                return func(*args,**kwargs)\n",
    "            else:\n",
    "                print(\"Unauthorized\")\n",
    "        return wrapper\n",
    "\n",
    "user_name = 'aolekss'\n",
    "#SELECTION FROM THE DATABASE based user_name\n",
    "#....write query from the database based on user_name\n",
    "\n",
    "user_roles = [\"end_user\",\"tester\",\"admin\"]\n",
    "\n",
    "@AuthDecorator(allowed_roles=user_roles)\n",
    "def get_sensative_data_from_db():\n",
    "    return \"Senstative data\"     "
   ]
  },
  {
   "cell_type": "code",
   "execution_count": 202,
   "id": "ebb6e0e1",
   "metadata": {},
   "outputs": [
    {
     "name": "stdout",
     "output_type": "stream",
     "text": [
      "Authorized\n"
     ]
    },
    {
     "data": {
      "text/plain": [
       "'Senstative data'"
      ]
     },
     "execution_count": 202,
     "metadata": {},
     "output_type": "execute_result"
    }
   ],
   "source": [
    "get_sensative_data_from_db()"
   ]
  },
  {
   "cell_type": "code",
   "execution_count": 219,
   "id": "3e35a72a",
   "metadata": {},
   "outputs": [],
   "source": [
    "import time\n",
    "\n",
    "def add_a_time_methods(cls):\n",
    "    \n",
    "    def start(self):\n",
    "        self.start_time = time.time()\n",
    "    \n",
    "    def end(self):\n",
    "        self.end_time = time.time()\n",
    "     \n",
    "    def get_time_dif(self):\n",
    "        return self.end_time - self.start_time\n",
    "    \n",
    "    cls.start = start\n",
    "    cls.end = end\n",
    "    cls.get_time_dif = get_time_dif\n",
    "    return cls\n",
    "\n",
    "@add_a_time_methods\n",
    "class Calculus:\n",
    "    \n",
    "    def calculate_compl(self):\n",
    "        sum_tot = 0\n",
    "        for i in range (1,99999):\n",
    "            sum_tot = sum_tot + i\n",
    "        return sum_tot\n",
    "    \n",
    "    def calculate_compl_2(self):\n",
    "        sum_tot = 1\n",
    "        for i in range (1,99999):\n",
    "            sum_tot = sum_tot * i\n",
    "        return sum_tot\n",
    "\n",
    "        "
   ]
  },
  {
   "cell_type": "code",
   "execution_count": 216,
   "id": "e2081670",
   "metadata": {},
   "outputs": [],
   "source": [
    "cal = Calculus()"
   ]
  },
  {
   "cell_type": "code",
   "execution_count": 217,
   "id": "c5b4e216",
   "metadata": {},
   "outputs": [],
   "source": [
    "cal.start()\n",
    "cal.calculate_compl()\n",
    "cal.calculate_compl_2()\n",
    "cal.end()"
   ]
  },
  {
   "cell_type": "code",
   "execution_count": 218,
   "id": "eff5635b",
   "metadata": {},
   "outputs": [
    {
     "ename": "NameError",
     "evalue": "name 'self_start_time' is not defined",
     "output_type": "error",
     "traceback": [
      "\u001b[1;31m---------------------------------------------------------------------------\u001b[0m",
      "\u001b[1;31mNameError\u001b[0m                                 Traceback (most recent call last)",
      "Cell \u001b[1;32mIn[218], line 1\u001b[0m\n\u001b[1;32m----> 1\u001b[0m \u001b[43mcal\u001b[49m\u001b[38;5;241;43m.\u001b[39;49m\u001b[43mget_time_dif\u001b[49m\u001b[43m(\u001b[49m\u001b[43m)\u001b[49m\n",
      "Cell \u001b[1;32mIn[215], line 12\u001b[0m, in \u001b[0;36madd_a_time_methods.<locals>.get_time_dif\u001b[1;34m(self)\u001b[0m\n\u001b[0;32m     11\u001b[0m \u001b[38;5;28;01mdef\u001b[39;00m \u001b[38;5;21mget_time_dif\u001b[39m(\u001b[38;5;28mself\u001b[39m):\n\u001b[1;32m---> 12\u001b[0m     \u001b[38;5;28;01mreturn\u001b[39;00m \u001b[38;5;28mself\u001b[39m\u001b[38;5;241m.\u001b[39mend_time \u001b[38;5;241m-\u001b[39m \u001b[43mself_start_time\u001b[49m\n",
      "\u001b[1;31mNameError\u001b[0m: name 'self_start_time' is not defined"
     ]
    }
   ],
   "source": [
    "cal.get_time_dif()"
   ]
  },
  {
   "cell_type": "code",
   "execution_count": null,
   "id": "08531c15",
   "metadata": {},
   "outputs": [],
   "source": []
  }
 ],
 "metadata": {
  "kernelspec": {
   "display_name": "Python 3 (ipykernel)",
   "language": "python",
   "name": "python3"
  },
  "language_info": {
   "codemirror_mode": {
    "name": "ipython",
    "version": 3
   },
   "file_extension": ".py",
   "mimetype": "text/x-python",
   "name": "python",
   "nbconvert_exporter": "python",
   "pygments_lexer": "ipython3",
   "version": "3.10.11"
  }
 },
 "nbformat": 4,
 "nbformat_minor": 5
}
