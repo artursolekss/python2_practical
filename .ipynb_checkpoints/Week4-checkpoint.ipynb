{
 "cells": [
  {
   "cell_type": "code",
   "execution_count": 1,
   "id": "3f9c1b9c",
   "metadata": {},
   "outputs": [],
   "source": [
    "import statsmodels.api as sm"
   ]
  },
  {
   "cell_type": "code",
   "execution_count": 9,
   "id": "19239309",
   "metadata": {},
   "outputs": [],
   "source": [
    "X = [1,2,3,4,5]\n",
    "y = [5,9,13,17,21]"
   ]
  },
  {
   "cell_type": "code",
   "execution_count": 10,
   "id": "6203d71b",
   "metadata": {},
   "outputs": [],
   "source": [
    "X = sm.add_constant(X)"
   ]
  },
  {
   "cell_type": "code",
   "execution_count": 11,
   "id": "aaa40df8",
   "metadata": {},
   "outputs": [],
   "source": [
    "model = sm.OLS(y,X)"
   ]
  },
  {
   "cell_type": "code",
   "execution_count": 12,
   "id": "c5434025",
   "metadata": {},
   "outputs": [],
   "source": [
    "results = model.fit()"
   ]
  },
  {
   "cell_type": "code",
   "execution_count": 13,
   "id": "6c7fe72e",
   "metadata": {},
   "outputs": [
    {
     "data": {
      "text/plain": [
       "array([1., 4.])"
      ]
     },
     "execution_count": 13,
     "metadata": {},
     "output_type": "execute_result"
    }
   ],
   "source": [
    "results.params"
   ]
  },
  {
   "cell_type": "code",
   "execution_count": 14,
   "id": "a2fda897",
   "metadata": {},
   "outputs": [
    {
     "data": {
      "text/plain": [
       "array([2.13974900e-43, 9.16418463e-47])"
      ]
     },
     "execution_count": 14,
     "metadata": {},
     "output_type": "execute_result"
    }
   ],
   "source": [
    "results.pvalues"
   ]
  },
  {
   "cell_type": "code",
   "execution_count": 32,
   "id": "b6bc288d",
   "metadata": {},
   "outputs": [],
   "source": [
    "import statsmodels.api as sm\n",
    "\n",
    "X = [1,2,3,4,5]\n",
    "y = [1,1,1,1,1]\n",
    "\n",
    "X = sm.add_constant(X)\n",
    "\n",
    "model = sm.OLS(y,X)\n",
    "\n",
    "results = model.fit()\n"
   ]
  },
  {
   "cell_type": "code",
   "execution_count": 33,
   "id": "7b0d6ae3",
   "metadata": {},
   "outputs": [
    {
     "data": {
      "text/plain": [
       "array([1.00000000e+00, 5.55111512e-17])"
      ]
     },
     "execution_count": 33,
     "metadata": {},
     "output_type": "execute_result"
    }
   ],
   "source": [
    "results.params"
   ]
  },
  {
   "cell_type": "code",
   "execution_count": 34,
   "id": "8439bef4",
   "metadata": {},
   "outputs": [
    {
     "data": {
      "text/plain": [
       "array([3.14067943e-47, 5.02753909e-01])"
      ]
     },
     "execution_count": 34,
     "metadata": {},
     "output_type": "execute_result"
    }
   ],
   "source": [
    "results.pvalues"
   ]
  },
  {
   "cell_type": "code",
   "execution_count": 87,
   "id": "e49468d2",
   "metadata": {},
   "outputs": [
    {
     "data": {
      "text/plain": [
       "array([17.86046512,  1.39534884])"
      ]
     },
     "execution_count": 87,
     "metadata": {},
     "output_type": "execute_result"
    }
   ],
   "source": [
    "import statsmodels.api as sm\n",
    "\n",
    "X_giv = [4,7,6,2,3]#Diet score\n",
    "y_giv = [27,29,23,20,21]#Body Mass Index (BMI)\n",
    "\n",
    "X = sm.add_constant(X_giv)\n",
    "\n",
    "model = sm.OLS(y_giv,X)\n",
    "\n",
    "results = model.fit()\n",
    "results.params"
   ]
  },
  {
   "cell_type": "code",
   "execution_count": 88,
   "id": "ce529e76",
   "metadata": {},
   "outputs": [],
   "source": [
    "import plotly.graph_objects as go"
   ]
  },
  {
   "cell_type": "code",
   "execution_count": 89,
   "id": "782bfa2c",
   "metadata": {},
   "outputs": [],
   "source": [
    "fig = go.Figure(data=go.Scatter(x=X_giv,y=y,mode=\"markers\",name=\"Give\"))"
   ]
  },
  {
   "cell_type": "code",
   "execution_count": 90,
   "id": "b6930ba5",
   "metadata": {},
   "outputs": [
    {
     "data": {
      "application/vnd.plotly.v1+json": {
       "config": {
        "plotlyServerURL": "https://plot.ly"
       },
       "data": [
        {
         "mode": "markers",
         "name": "Give",
         "type": "scatter",
         "x": [
          4,
          7,
          6,
          2,
          3
         ],
         "y": [
          27,
          29,
          23,
          20,
          21
         ]
        },
        {
         "name": "Model",
         "type": "scatter",
         "x": [
          4,
          7,
          6,
          2,
          3
         ],
         "y": [
          23.44186046511627,
          27.62790697674417,
          26.23255813953487,
          20.65116279069767,
          22.046511627906966
         ]
        }
       ],
       "layout": {
        "template": {
         "data": {
          "bar": [
           {
            "error_x": {
             "color": "#2a3f5f"
            },
            "error_y": {
             "color": "#2a3f5f"
            },
            "marker": {
             "line": {
              "color": "#E5ECF6",
              "width": 0.5
             },
             "pattern": {
              "fillmode": "overlay",
              "size": 10,
              "solidity": 0.2
             }
            },
            "type": "bar"
           }
          ],
          "barpolar": [
           {
            "marker": {
             "line": {
              "color": "#E5ECF6",
              "width": 0.5
             },
             "pattern": {
              "fillmode": "overlay",
              "size": 10,
              "solidity": 0.2
             }
            },
            "type": "barpolar"
           }
          ],
          "carpet": [
           {
            "aaxis": {
             "endlinecolor": "#2a3f5f",
             "gridcolor": "white",
             "linecolor": "white",
             "minorgridcolor": "white",
             "startlinecolor": "#2a3f5f"
            },
            "baxis": {
             "endlinecolor": "#2a3f5f",
             "gridcolor": "white",
             "linecolor": "white",
             "minorgridcolor": "white",
             "startlinecolor": "#2a3f5f"
            },
            "type": "carpet"
           }
          ],
          "choropleth": [
           {
            "colorbar": {
             "outlinewidth": 0,
             "ticks": ""
            },
            "type": "choropleth"
           }
          ],
          "contour": [
           {
            "colorbar": {
             "outlinewidth": 0,
             "ticks": ""
            },
            "colorscale": [
             [
              0,
              "#0d0887"
             ],
             [
              0.1111111111111111,
              "#46039f"
             ],
             [
              0.2222222222222222,
              "#7201a8"
             ],
             [
              0.3333333333333333,
              "#9c179e"
             ],
             [
              0.4444444444444444,
              "#bd3786"
             ],
             [
              0.5555555555555556,
              "#d8576b"
             ],
             [
              0.6666666666666666,
              "#ed7953"
             ],
             [
              0.7777777777777778,
              "#fb9f3a"
             ],
             [
              0.8888888888888888,
              "#fdca26"
             ],
             [
              1,
              "#f0f921"
             ]
            ],
            "type": "contour"
           }
          ],
          "contourcarpet": [
           {
            "colorbar": {
             "outlinewidth": 0,
             "ticks": ""
            },
            "type": "contourcarpet"
           }
          ],
          "heatmap": [
           {
            "colorbar": {
             "outlinewidth": 0,
             "ticks": ""
            },
            "colorscale": [
             [
              0,
              "#0d0887"
             ],
             [
              0.1111111111111111,
              "#46039f"
             ],
             [
              0.2222222222222222,
              "#7201a8"
             ],
             [
              0.3333333333333333,
              "#9c179e"
             ],
             [
              0.4444444444444444,
              "#bd3786"
             ],
             [
              0.5555555555555556,
              "#d8576b"
             ],
             [
              0.6666666666666666,
              "#ed7953"
             ],
             [
              0.7777777777777778,
              "#fb9f3a"
             ],
             [
              0.8888888888888888,
              "#fdca26"
             ],
             [
              1,
              "#f0f921"
             ]
            ],
            "type": "heatmap"
           }
          ],
          "heatmapgl": [
           {
            "colorbar": {
             "outlinewidth": 0,
             "ticks": ""
            },
            "colorscale": [
             [
              0,
              "#0d0887"
             ],
             [
              0.1111111111111111,
              "#46039f"
             ],
             [
              0.2222222222222222,
              "#7201a8"
             ],
             [
              0.3333333333333333,
              "#9c179e"
             ],
             [
              0.4444444444444444,
              "#bd3786"
             ],
             [
              0.5555555555555556,
              "#d8576b"
             ],
             [
              0.6666666666666666,
              "#ed7953"
             ],
             [
              0.7777777777777778,
              "#fb9f3a"
             ],
             [
              0.8888888888888888,
              "#fdca26"
             ],
             [
              1,
              "#f0f921"
             ]
            ],
            "type": "heatmapgl"
           }
          ],
          "histogram": [
           {
            "marker": {
             "pattern": {
              "fillmode": "overlay",
              "size": 10,
              "solidity": 0.2
             }
            },
            "type": "histogram"
           }
          ],
          "histogram2d": [
           {
            "colorbar": {
             "outlinewidth": 0,
             "ticks": ""
            },
            "colorscale": [
             [
              0,
              "#0d0887"
             ],
             [
              0.1111111111111111,
              "#46039f"
             ],
             [
              0.2222222222222222,
              "#7201a8"
             ],
             [
              0.3333333333333333,
              "#9c179e"
             ],
             [
              0.4444444444444444,
              "#bd3786"
             ],
             [
              0.5555555555555556,
              "#d8576b"
             ],
             [
              0.6666666666666666,
              "#ed7953"
             ],
             [
              0.7777777777777778,
              "#fb9f3a"
             ],
             [
              0.8888888888888888,
              "#fdca26"
             ],
             [
              1,
              "#f0f921"
             ]
            ],
            "type": "histogram2d"
           }
          ],
          "histogram2dcontour": [
           {
            "colorbar": {
             "outlinewidth": 0,
             "ticks": ""
            },
            "colorscale": [
             [
              0,
              "#0d0887"
             ],
             [
              0.1111111111111111,
              "#46039f"
             ],
             [
              0.2222222222222222,
              "#7201a8"
             ],
             [
              0.3333333333333333,
              "#9c179e"
             ],
             [
              0.4444444444444444,
              "#bd3786"
             ],
             [
              0.5555555555555556,
              "#d8576b"
             ],
             [
              0.6666666666666666,
              "#ed7953"
             ],
             [
              0.7777777777777778,
              "#fb9f3a"
             ],
             [
              0.8888888888888888,
              "#fdca26"
             ],
             [
              1,
              "#f0f921"
             ]
            ],
            "type": "histogram2dcontour"
           }
          ],
          "mesh3d": [
           {
            "colorbar": {
             "outlinewidth": 0,
             "ticks": ""
            },
            "type": "mesh3d"
           }
          ],
          "parcoords": [
           {
            "line": {
             "colorbar": {
              "outlinewidth": 0,
              "ticks": ""
             }
            },
            "type": "parcoords"
           }
          ],
          "pie": [
           {
            "automargin": true,
            "type": "pie"
           }
          ],
          "scatter": [
           {
            "fillpattern": {
             "fillmode": "overlay",
             "size": 10,
             "solidity": 0.2
            },
            "type": "scatter"
           }
          ],
          "scatter3d": [
           {
            "line": {
             "colorbar": {
              "outlinewidth": 0,
              "ticks": ""
             }
            },
            "marker": {
             "colorbar": {
              "outlinewidth": 0,
              "ticks": ""
             }
            },
            "type": "scatter3d"
           }
          ],
          "scattercarpet": [
           {
            "marker": {
             "colorbar": {
              "outlinewidth": 0,
              "ticks": ""
             }
            },
            "type": "scattercarpet"
           }
          ],
          "scattergeo": [
           {
            "marker": {
             "colorbar": {
              "outlinewidth": 0,
              "ticks": ""
             }
            },
            "type": "scattergeo"
           }
          ],
          "scattergl": [
           {
            "marker": {
             "colorbar": {
              "outlinewidth": 0,
              "ticks": ""
             }
            },
            "type": "scattergl"
           }
          ],
          "scattermapbox": [
           {
            "marker": {
             "colorbar": {
              "outlinewidth": 0,
              "ticks": ""
             }
            },
            "type": "scattermapbox"
           }
          ],
          "scatterpolar": [
           {
            "marker": {
             "colorbar": {
              "outlinewidth": 0,
              "ticks": ""
             }
            },
            "type": "scatterpolar"
           }
          ],
          "scatterpolargl": [
           {
            "marker": {
             "colorbar": {
              "outlinewidth": 0,
              "ticks": ""
             }
            },
            "type": "scatterpolargl"
           }
          ],
          "scatterternary": [
           {
            "marker": {
             "colorbar": {
              "outlinewidth": 0,
              "ticks": ""
             }
            },
            "type": "scatterternary"
           }
          ],
          "surface": [
           {
            "colorbar": {
             "outlinewidth": 0,
             "ticks": ""
            },
            "colorscale": [
             [
              0,
              "#0d0887"
             ],
             [
              0.1111111111111111,
              "#46039f"
             ],
             [
              0.2222222222222222,
              "#7201a8"
             ],
             [
              0.3333333333333333,
              "#9c179e"
             ],
             [
              0.4444444444444444,
              "#bd3786"
             ],
             [
              0.5555555555555556,
              "#d8576b"
             ],
             [
              0.6666666666666666,
              "#ed7953"
             ],
             [
              0.7777777777777778,
              "#fb9f3a"
             ],
             [
              0.8888888888888888,
              "#fdca26"
             ],
             [
              1,
              "#f0f921"
             ]
            ],
            "type": "surface"
           }
          ],
          "table": [
           {
            "cells": {
             "fill": {
              "color": "#EBF0F8"
             },
             "line": {
              "color": "white"
             }
            },
            "header": {
             "fill": {
              "color": "#C8D4E3"
             },
             "line": {
              "color": "white"
             }
            },
            "type": "table"
           }
          ]
         },
         "layout": {
          "annotationdefaults": {
           "arrowcolor": "#2a3f5f",
           "arrowhead": 0,
           "arrowwidth": 1
          },
          "autotypenumbers": "strict",
          "coloraxis": {
           "colorbar": {
            "outlinewidth": 0,
            "ticks": ""
           }
          },
          "colorscale": {
           "diverging": [
            [
             0,
             "#8e0152"
            ],
            [
             0.1,
             "#c51b7d"
            ],
            [
             0.2,
             "#de77ae"
            ],
            [
             0.3,
             "#f1b6da"
            ],
            [
             0.4,
             "#fde0ef"
            ],
            [
             0.5,
             "#f7f7f7"
            ],
            [
             0.6,
             "#e6f5d0"
            ],
            [
             0.7,
             "#b8e186"
            ],
            [
             0.8,
             "#7fbc41"
            ],
            [
             0.9,
             "#4d9221"
            ],
            [
             1,
             "#276419"
            ]
           ],
           "sequential": [
            [
             0,
             "#0d0887"
            ],
            [
             0.1111111111111111,
             "#46039f"
            ],
            [
             0.2222222222222222,
             "#7201a8"
            ],
            [
             0.3333333333333333,
             "#9c179e"
            ],
            [
             0.4444444444444444,
             "#bd3786"
            ],
            [
             0.5555555555555556,
             "#d8576b"
            ],
            [
             0.6666666666666666,
             "#ed7953"
            ],
            [
             0.7777777777777778,
             "#fb9f3a"
            ],
            [
             0.8888888888888888,
             "#fdca26"
            ],
            [
             1,
             "#f0f921"
            ]
           ],
           "sequentialminus": [
            [
             0,
             "#0d0887"
            ],
            [
             0.1111111111111111,
             "#46039f"
            ],
            [
             0.2222222222222222,
             "#7201a8"
            ],
            [
             0.3333333333333333,
             "#9c179e"
            ],
            [
             0.4444444444444444,
             "#bd3786"
            ],
            [
             0.5555555555555556,
             "#d8576b"
            ],
            [
             0.6666666666666666,
             "#ed7953"
            ],
            [
             0.7777777777777778,
             "#fb9f3a"
            ],
            [
             0.8888888888888888,
             "#fdca26"
            ],
            [
             1,
             "#f0f921"
            ]
           ]
          },
          "colorway": [
           "#636efa",
           "#EF553B",
           "#00cc96",
           "#ab63fa",
           "#FFA15A",
           "#19d3f3",
           "#FF6692",
           "#B6E880",
           "#FF97FF",
           "#FECB52"
          ],
          "font": {
           "color": "#2a3f5f"
          },
          "geo": {
           "bgcolor": "white",
           "lakecolor": "white",
           "landcolor": "#E5ECF6",
           "showlakes": true,
           "showland": true,
           "subunitcolor": "white"
          },
          "hoverlabel": {
           "align": "left"
          },
          "hovermode": "closest",
          "mapbox": {
           "style": "light"
          },
          "paper_bgcolor": "white",
          "plot_bgcolor": "#E5ECF6",
          "polar": {
           "angularaxis": {
            "gridcolor": "white",
            "linecolor": "white",
            "ticks": ""
           },
           "bgcolor": "#E5ECF6",
           "radialaxis": {
            "gridcolor": "white",
            "linecolor": "white",
            "ticks": ""
           }
          },
          "scene": {
           "xaxis": {
            "backgroundcolor": "#E5ECF6",
            "gridcolor": "white",
            "gridwidth": 2,
            "linecolor": "white",
            "showbackground": true,
            "ticks": "",
            "zerolinecolor": "white"
           },
           "yaxis": {
            "backgroundcolor": "#E5ECF6",
            "gridcolor": "white",
            "gridwidth": 2,
            "linecolor": "white",
            "showbackground": true,
            "ticks": "",
            "zerolinecolor": "white"
           },
           "zaxis": {
            "backgroundcolor": "#E5ECF6",
            "gridcolor": "white",
            "gridwidth": 2,
            "linecolor": "white",
            "showbackground": true,
            "ticks": "",
            "zerolinecolor": "white"
           }
          },
          "shapedefaults": {
           "line": {
            "color": "#2a3f5f"
           }
          },
          "ternary": {
           "aaxis": {
            "gridcolor": "white",
            "linecolor": "white",
            "ticks": ""
           },
           "baxis": {
            "gridcolor": "white",
            "linecolor": "white",
            "ticks": ""
           },
           "bgcolor": "#E5ECF6",
           "caxis": {
            "gridcolor": "white",
            "linecolor": "white",
            "ticks": ""
           }
          },
          "title": {
           "x": 0.05
          },
          "xaxis": {
           "automargin": true,
           "gridcolor": "white",
           "linecolor": "white",
           "ticks": "",
           "title": {
            "standoff": 15
           },
           "zerolinecolor": "white",
           "zerolinewidth": 2
          },
          "yaxis": {
           "automargin": true,
           "gridcolor": "white",
           "linecolor": "white",
           "ticks": "",
           "title": {
            "standoff": 15
           },
           "zerolinecolor": "white",
           "zerolinewidth": 2
          }
         }
        }
       }
      },
      "text/html": [
       "<div>                            <div id=\"48b9a14f-e73f-4158-838d-e4386ac80912\" class=\"plotly-graph-div\" style=\"height:525px; width:100%;\"></div>            <script type=\"text/javascript\">                require([\"plotly\"], function(Plotly) {                    window.PLOTLYENV=window.PLOTLYENV || {};                                    if (document.getElementById(\"48b9a14f-e73f-4158-838d-e4386ac80912\")) {                    Plotly.newPlot(                        \"48b9a14f-e73f-4158-838d-e4386ac80912\",                        [{\"mode\":\"markers\",\"name\":\"Give\",\"x\":[4,7,6,2,3],\"y\":[27,29,23,20,21],\"type\":\"scatter\"},{\"name\":\"Model\",\"x\":[4,7,6,2,3],\"y\":[23.44186046511627,27.62790697674417,26.23255813953487,20.65116279069767,22.046511627906966],\"type\":\"scatter\"}],                        {\"template\":{\"data\":{\"histogram2dcontour\":[{\"type\":\"histogram2dcontour\",\"colorbar\":{\"outlinewidth\":0,\"ticks\":\"\"},\"colorscale\":[[0.0,\"#0d0887\"],[0.1111111111111111,\"#46039f\"],[0.2222222222222222,\"#7201a8\"],[0.3333333333333333,\"#9c179e\"],[0.4444444444444444,\"#bd3786\"],[0.5555555555555556,\"#d8576b\"],[0.6666666666666666,\"#ed7953\"],[0.7777777777777778,\"#fb9f3a\"],[0.8888888888888888,\"#fdca26\"],[1.0,\"#f0f921\"]]}],\"choropleth\":[{\"type\":\"choropleth\",\"colorbar\":{\"outlinewidth\":0,\"ticks\":\"\"}}],\"histogram2d\":[{\"type\":\"histogram2d\",\"colorbar\":{\"outlinewidth\":0,\"ticks\":\"\"},\"colorscale\":[[0.0,\"#0d0887\"],[0.1111111111111111,\"#46039f\"],[0.2222222222222222,\"#7201a8\"],[0.3333333333333333,\"#9c179e\"],[0.4444444444444444,\"#bd3786\"],[0.5555555555555556,\"#d8576b\"],[0.6666666666666666,\"#ed7953\"],[0.7777777777777778,\"#fb9f3a\"],[0.8888888888888888,\"#fdca26\"],[1.0,\"#f0f921\"]]}],\"heatmap\":[{\"type\":\"heatmap\",\"colorbar\":{\"outlinewidth\":0,\"ticks\":\"\"},\"colorscale\":[[0.0,\"#0d0887\"],[0.1111111111111111,\"#46039f\"],[0.2222222222222222,\"#7201a8\"],[0.3333333333333333,\"#9c179e\"],[0.4444444444444444,\"#bd3786\"],[0.5555555555555556,\"#d8576b\"],[0.6666666666666666,\"#ed7953\"],[0.7777777777777778,\"#fb9f3a\"],[0.8888888888888888,\"#fdca26\"],[1.0,\"#f0f921\"]]}],\"heatmapgl\":[{\"type\":\"heatmapgl\",\"colorbar\":{\"outlinewidth\":0,\"ticks\":\"\"},\"colorscale\":[[0.0,\"#0d0887\"],[0.1111111111111111,\"#46039f\"],[0.2222222222222222,\"#7201a8\"],[0.3333333333333333,\"#9c179e\"],[0.4444444444444444,\"#bd3786\"],[0.5555555555555556,\"#d8576b\"],[0.6666666666666666,\"#ed7953\"],[0.7777777777777778,\"#fb9f3a\"],[0.8888888888888888,\"#fdca26\"],[1.0,\"#f0f921\"]]}],\"contourcarpet\":[{\"type\":\"contourcarpet\",\"colorbar\":{\"outlinewidth\":0,\"ticks\":\"\"}}],\"contour\":[{\"type\":\"contour\",\"colorbar\":{\"outlinewidth\":0,\"ticks\":\"\"},\"colorscale\":[[0.0,\"#0d0887\"],[0.1111111111111111,\"#46039f\"],[0.2222222222222222,\"#7201a8\"],[0.3333333333333333,\"#9c179e\"],[0.4444444444444444,\"#bd3786\"],[0.5555555555555556,\"#d8576b\"],[0.6666666666666666,\"#ed7953\"],[0.7777777777777778,\"#fb9f3a\"],[0.8888888888888888,\"#fdca26\"],[1.0,\"#f0f921\"]]}],\"surface\":[{\"type\":\"surface\",\"colorbar\":{\"outlinewidth\":0,\"ticks\":\"\"},\"colorscale\":[[0.0,\"#0d0887\"],[0.1111111111111111,\"#46039f\"],[0.2222222222222222,\"#7201a8\"],[0.3333333333333333,\"#9c179e\"],[0.4444444444444444,\"#bd3786\"],[0.5555555555555556,\"#d8576b\"],[0.6666666666666666,\"#ed7953\"],[0.7777777777777778,\"#fb9f3a\"],[0.8888888888888888,\"#fdca26\"],[1.0,\"#f0f921\"]]}],\"mesh3d\":[{\"type\":\"mesh3d\",\"colorbar\":{\"outlinewidth\":0,\"ticks\":\"\"}}],\"scatter\":[{\"fillpattern\":{\"fillmode\":\"overlay\",\"size\":10,\"solidity\":0.2},\"type\":\"scatter\"}],\"parcoords\":[{\"type\":\"parcoords\",\"line\":{\"colorbar\":{\"outlinewidth\":0,\"ticks\":\"\"}}}],\"scatterpolargl\":[{\"type\":\"scatterpolargl\",\"marker\":{\"colorbar\":{\"outlinewidth\":0,\"ticks\":\"\"}}}],\"bar\":[{\"error_x\":{\"color\":\"#2a3f5f\"},\"error_y\":{\"color\":\"#2a3f5f\"},\"marker\":{\"line\":{\"color\":\"#E5ECF6\",\"width\":0.5},\"pattern\":{\"fillmode\":\"overlay\",\"size\":10,\"solidity\":0.2}},\"type\":\"bar\"}],\"scattergeo\":[{\"type\":\"scattergeo\",\"marker\":{\"colorbar\":{\"outlinewidth\":0,\"ticks\":\"\"}}}],\"scatterpolar\":[{\"type\":\"scatterpolar\",\"marker\":{\"colorbar\":{\"outlinewidth\":0,\"ticks\":\"\"}}}],\"histogram\":[{\"marker\":{\"pattern\":{\"fillmode\":\"overlay\",\"size\":10,\"solidity\":0.2}},\"type\":\"histogram\"}],\"scattergl\":[{\"type\":\"scattergl\",\"marker\":{\"colorbar\":{\"outlinewidth\":0,\"ticks\":\"\"}}}],\"scatter3d\":[{\"type\":\"scatter3d\",\"line\":{\"colorbar\":{\"outlinewidth\":0,\"ticks\":\"\"}},\"marker\":{\"colorbar\":{\"outlinewidth\":0,\"ticks\":\"\"}}}],\"scattermapbox\":[{\"type\":\"scattermapbox\",\"marker\":{\"colorbar\":{\"outlinewidth\":0,\"ticks\":\"\"}}}],\"scatterternary\":[{\"type\":\"scatterternary\",\"marker\":{\"colorbar\":{\"outlinewidth\":0,\"ticks\":\"\"}}}],\"scattercarpet\":[{\"type\":\"scattercarpet\",\"marker\":{\"colorbar\":{\"outlinewidth\":0,\"ticks\":\"\"}}}],\"carpet\":[{\"aaxis\":{\"endlinecolor\":\"#2a3f5f\",\"gridcolor\":\"white\",\"linecolor\":\"white\",\"minorgridcolor\":\"white\",\"startlinecolor\":\"#2a3f5f\"},\"baxis\":{\"endlinecolor\":\"#2a3f5f\",\"gridcolor\":\"white\",\"linecolor\":\"white\",\"minorgridcolor\":\"white\",\"startlinecolor\":\"#2a3f5f\"},\"type\":\"carpet\"}],\"table\":[{\"cells\":{\"fill\":{\"color\":\"#EBF0F8\"},\"line\":{\"color\":\"white\"}},\"header\":{\"fill\":{\"color\":\"#C8D4E3\"},\"line\":{\"color\":\"white\"}},\"type\":\"table\"}],\"barpolar\":[{\"marker\":{\"line\":{\"color\":\"#E5ECF6\",\"width\":0.5},\"pattern\":{\"fillmode\":\"overlay\",\"size\":10,\"solidity\":0.2}},\"type\":\"barpolar\"}],\"pie\":[{\"automargin\":true,\"type\":\"pie\"}]},\"layout\":{\"autotypenumbers\":\"strict\",\"colorway\":[\"#636efa\",\"#EF553B\",\"#00cc96\",\"#ab63fa\",\"#FFA15A\",\"#19d3f3\",\"#FF6692\",\"#B6E880\",\"#FF97FF\",\"#FECB52\"],\"font\":{\"color\":\"#2a3f5f\"},\"hovermode\":\"closest\",\"hoverlabel\":{\"align\":\"left\"},\"paper_bgcolor\":\"white\",\"plot_bgcolor\":\"#E5ECF6\",\"polar\":{\"bgcolor\":\"#E5ECF6\",\"angularaxis\":{\"gridcolor\":\"white\",\"linecolor\":\"white\",\"ticks\":\"\"},\"radialaxis\":{\"gridcolor\":\"white\",\"linecolor\":\"white\",\"ticks\":\"\"}},\"ternary\":{\"bgcolor\":\"#E5ECF6\",\"aaxis\":{\"gridcolor\":\"white\",\"linecolor\":\"white\",\"ticks\":\"\"},\"baxis\":{\"gridcolor\":\"white\",\"linecolor\":\"white\",\"ticks\":\"\"},\"caxis\":{\"gridcolor\":\"white\",\"linecolor\":\"white\",\"ticks\":\"\"}},\"coloraxis\":{\"colorbar\":{\"outlinewidth\":0,\"ticks\":\"\"}},\"colorscale\":{\"sequential\":[[0.0,\"#0d0887\"],[0.1111111111111111,\"#46039f\"],[0.2222222222222222,\"#7201a8\"],[0.3333333333333333,\"#9c179e\"],[0.4444444444444444,\"#bd3786\"],[0.5555555555555556,\"#d8576b\"],[0.6666666666666666,\"#ed7953\"],[0.7777777777777778,\"#fb9f3a\"],[0.8888888888888888,\"#fdca26\"],[1.0,\"#f0f921\"]],\"sequentialminus\":[[0.0,\"#0d0887\"],[0.1111111111111111,\"#46039f\"],[0.2222222222222222,\"#7201a8\"],[0.3333333333333333,\"#9c179e\"],[0.4444444444444444,\"#bd3786\"],[0.5555555555555556,\"#d8576b\"],[0.6666666666666666,\"#ed7953\"],[0.7777777777777778,\"#fb9f3a\"],[0.8888888888888888,\"#fdca26\"],[1.0,\"#f0f921\"]],\"diverging\":[[0,\"#8e0152\"],[0.1,\"#c51b7d\"],[0.2,\"#de77ae\"],[0.3,\"#f1b6da\"],[0.4,\"#fde0ef\"],[0.5,\"#f7f7f7\"],[0.6,\"#e6f5d0\"],[0.7,\"#b8e186\"],[0.8,\"#7fbc41\"],[0.9,\"#4d9221\"],[1,\"#276419\"]]},\"xaxis\":{\"gridcolor\":\"white\",\"linecolor\":\"white\",\"ticks\":\"\",\"title\":{\"standoff\":15},\"zerolinecolor\":\"white\",\"automargin\":true,\"zerolinewidth\":2},\"yaxis\":{\"gridcolor\":\"white\",\"linecolor\":\"white\",\"ticks\":\"\",\"title\":{\"standoff\":15},\"zerolinecolor\":\"white\",\"automargin\":true,\"zerolinewidth\":2},\"scene\":{\"xaxis\":{\"backgroundcolor\":\"#E5ECF6\",\"gridcolor\":\"white\",\"linecolor\":\"white\",\"showbackground\":true,\"ticks\":\"\",\"zerolinecolor\":\"white\",\"gridwidth\":2},\"yaxis\":{\"backgroundcolor\":\"#E5ECF6\",\"gridcolor\":\"white\",\"linecolor\":\"white\",\"showbackground\":true,\"ticks\":\"\",\"zerolinecolor\":\"white\",\"gridwidth\":2},\"zaxis\":{\"backgroundcolor\":\"#E5ECF6\",\"gridcolor\":\"white\",\"linecolor\":\"white\",\"showbackground\":true,\"ticks\":\"\",\"zerolinecolor\":\"white\",\"gridwidth\":2}},\"shapedefaults\":{\"line\":{\"color\":\"#2a3f5f\"}},\"annotationdefaults\":{\"arrowcolor\":\"#2a3f5f\",\"arrowhead\":0,\"arrowwidth\":1},\"geo\":{\"bgcolor\":\"white\",\"landcolor\":\"#E5ECF6\",\"subunitcolor\":\"white\",\"showland\":true,\"showlakes\":true,\"lakecolor\":\"white\"},\"title\":{\"x\":0.05},\"mapbox\":{\"style\":\"light\"}}}},                        {\"responsive\": true}                    ).then(function(){\n",
       "                            \n",
       "var gd = document.getElementById('48b9a14f-e73f-4158-838d-e4386ac80912');\n",
       "var x = new MutationObserver(function (mutations, observer) {{\n",
       "        var display = window.getComputedStyle(gd).display;\n",
       "        if (!display || display === 'none') {{\n",
       "            console.log([gd, 'removed!']);\n",
       "            Plotly.purge(gd);\n",
       "            observer.disconnect();\n",
       "        }}\n",
       "}});\n",
       "\n",
       "// Listen for the removal of the full notebook cells\n",
       "var notebookContainer = gd.closest('#notebook-container');\n",
       "if (notebookContainer) {{\n",
       "    x.observe(notebookContainer, {childList: true});\n",
       "}}\n",
       "\n",
       "// Listen for the clearing of the current output cell\n",
       "var outputEl = gd.closest('.output');\n",
       "if (outputEl) {{\n",
       "    x.observe(outputEl, {childList: true});\n",
       "}}\n",
       "\n",
       "                        })                };                });            </script>        </div>"
      ]
     },
     "metadata": {},
     "output_type": "display_data"
    }
   ],
   "source": [
    "fig.add_scatter(x=X_giv,y=results.fittedvalues,name=\"Model\")"
   ]
  },
  {
   "cell_type": "code",
   "execution_count": 96,
   "id": "ba0fa9e2",
   "metadata": {},
   "outputs": [],
   "source": [
    "import pandas as pa"
   ]
  },
  {
   "cell_type": "code",
   "execution_count": 92,
   "id": "fb4b59f5",
   "metadata": {},
   "outputs": [],
   "source": [
    "data = {\"DietScore\":[4,7,6,2,3],\"Male\":[0,1,1,0,0],\"Age>20\":[1,1,0,0,1],\"BMI\":[27,29,23,20,21]}"
   ]
  },
  {
   "cell_type": "code",
   "execution_count": 93,
   "id": "22b1be6a",
   "metadata": {},
   "outputs": [],
   "source": [
    "bmi_score_df = pa.DataFrame(data)"
   ]
  },
  {
   "cell_type": "code",
   "execution_count": 94,
   "id": "9734234c",
   "metadata": {},
   "outputs": [],
   "source": [
    "X_giv = bmi_score_df[[\"DietScore\",\"Male\",\"Age>20\"]]\n",
    "y_giv = bmi_score_df[\"BMI\"]#Body Mass Index (BMI)\n",
    "\n",
    "X = sm.add_constant(X_giv)\n",
    "\n",
    "model = sm.OLS(y_giv,X)\n",
    "\n",
    "results = model.fit()"
   ]
  },
  {
   "cell_type": "code",
   "execution_count": 95,
   "id": "593c44cd",
   "metadata": {},
   "outputs": [
    {
     "data": {
      "text/plain": [
       "const         9.25\n",
       "DietScore     4.75\n",
       "Male        -13.50\n",
       "Age>20       -1.25\n",
       "dtype: float64"
      ]
     },
     "execution_count": 95,
     "metadata": {},
     "output_type": "execute_result"
    }
   ],
   "source": [
    "results.params"
   ]
  },
  {
   "cell_type": "code",
   "execution_count": 97,
   "id": "1c589c61",
   "metadata": {},
   "outputs": [],
   "source": [
    "real_estate_data = pa.read_csv(\"RealEstate.csv\")"
   ]
  },
  {
   "cell_type": "code",
   "execution_count": 98,
   "id": "681e36d7",
   "metadata": {},
   "outputs": [
    {
     "data": {
      "text/html": [
       "<div>\n",
       "<style scoped>\n",
       "    .dataframe tbody tr th:only-of-type {\n",
       "        vertical-align: middle;\n",
       "    }\n",
       "\n",
       "    .dataframe tbody tr th {\n",
       "        vertical-align: top;\n",
       "    }\n",
       "\n",
       "    .dataframe thead th {\n",
       "        text-align: right;\n",
       "    }\n",
       "</style>\n",
       "<table border=\"1\" class=\"dataframe\">\n",
       "  <thead>\n",
       "    <tr style=\"text-align: right;\">\n",
       "      <th></th>\n",
       "      <th>No</th>\n",
       "      <th>X1 transaction date</th>\n",
       "      <th>X2 house age</th>\n",
       "      <th>X3 distance to the nearest MRT station</th>\n",
       "      <th>X4 number of convenience stores</th>\n",
       "      <th>X5 latitude</th>\n",
       "      <th>X6 longitude</th>\n",
       "      <th>Y house price of unit area</th>\n",
       "    </tr>\n",
       "  </thead>\n",
       "  <tbody>\n",
       "    <tr>\n",
       "      <th>0</th>\n",
       "      <td>1</td>\n",
       "      <td>2012.917</td>\n",
       "      <td>32.0</td>\n",
       "      <td>84.87882</td>\n",
       "      <td>10</td>\n",
       "      <td>24.98298</td>\n",
       "      <td>121.54024</td>\n",
       "      <td>37.9</td>\n",
       "    </tr>\n",
       "    <tr>\n",
       "      <th>1</th>\n",
       "      <td>2</td>\n",
       "      <td>2012.917</td>\n",
       "      <td>19.5</td>\n",
       "      <td>306.59470</td>\n",
       "      <td>9</td>\n",
       "      <td>24.98034</td>\n",
       "      <td>121.53951</td>\n",
       "      <td>42.2</td>\n",
       "    </tr>\n",
       "    <tr>\n",
       "      <th>2</th>\n",
       "      <td>3</td>\n",
       "      <td>2013.583</td>\n",
       "      <td>13.3</td>\n",
       "      <td>561.98450</td>\n",
       "      <td>5</td>\n",
       "      <td>24.98746</td>\n",
       "      <td>121.54391</td>\n",
       "      <td>47.3</td>\n",
       "    </tr>\n",
       "    <tr>\n",
       "      <th>3</th>\n",
       "      <td>4</td>\n",
       "      <td>2013.500</td>\n",
       "      <td>13.3</td>\n",
       "      <td>561.98450</td>\n",
       "      <td>5</td>\n",
       "      <td>24.98746</td>\n",
       "      <td>121.54391</td>\n",
       "      <td>54.8</td>\n",
       "    </tr>\n",
       "    <tr>\n",
       "      <th>4</th>\n",
       "      <td>5</td>\n",
       "      <td>2012.833</td>\n",
       "      <td>5.0</td>\n",
       "      <td>390.56840</td>\n",
       "      <td>5</td>\n",
       "      <td>24.97937</td>\n",
       "      <td>121.54245</td>\n",
       "      <td>43.1</td>\n",
       "    </tr>\n",
       "    <tr>\n",
       "      <th>...</th>\n",
       "      <td>...</td>\n",
       "      <td>...</td>\n",
       "      <td>...</td>\n",
       "      <td>...</td>\n",
       "      <td>...</td>\n",
       "      <td>...</td>\n",
       "      <td>...</td>\n",
       "      <td>...</td>\n",
       "    </tr>\n",
       "    <tr>\n",
       "      <th>409</th>\n",
       "      <td>410</td>\n",
       "      <td>2013.000</td>\n",
       "      <td>13.7</td>\n",
       "      <td>4082.01500</td>\n",
       "      <td>0</td>\n",
       "      <td>24.94155</td>\n",
       "      <td>121.50381</td>\n",
       "      <td>15.4</td>\n",
       "    </tr>\n",
       "    <tr>\n",
       "      <th>410</th>\n",
       "      <td>411</td>\n",
       "      <td>2012.667</td>\n",
       "      <td>5.6</td>\n",
       "      <td>90.45606</td>\n",
       "      <td>9</td>\n",
       "      <td>24.97433</td>\n",
       "      <td>121.54310</td>\n",
       "      <td>50.0</td>\n",
       "    </tr>\n",
       "    <tr>\n",
       "      <th>411</th>\n",
       "      <td>412</td>\n",
       "      <td>2013.250</td>\n",
       "      <td>18.8</td>\n",
       "      <td>390.96960</td>\n",
       "      <td>7</td>\n",
       "      <td>24.97923</td>\n",
       "      <td>121.53986</td>\n",
       "      <td>40.6</td>\n",
       "    </tr>\n",
       "    <tr>\n",
       "      <th>412</th>\n",
       "      <td>413</td>\n",
       "      <td>2013.000</td>\n",
       "      <td>8.1</td>\n",
       "      <td>104.81010</td>\n",
       "      <td>5</td>\n",
       "      <td>24.96674</td>\n",
       "      <td>121.54067</td>\n",
       "      <td>52.5</td>\n",
       "    </tr>\n",
       "    <tr>\n",
       "      <th>413</th>\n",
       "      <td>414</td>\n",
       "      <td>2013.500</td>\n",
       "      <td>6.5</td>\n",
       "      <td>90.45606</td>\n",
       "      <td>9</td>\n",
       "      <td>24.97433</td>\n",
       "      <td>121.54310</td>\n",
       "      <td>63.9</td>\n",
       "    </tr>\n",
       "  </tbody>\n",
       "</table>\n",
       "<p>414 rows × 8 columns</p>\n",
       "</div>"
      ],
      "text/plain": [
       "      No  X1 transaction date  X2 house age  ...  X5 latitude  X6 longitude  Y house price of unit area\n",
       "0      1             2012.917          32.0  ...     24.98298     121.54024                        37.9\n",
       "1      2             2012.917          19.5  ...     24.98034     121.53951                        42.2\n",
       "2      3             2013.583          13.3  ...     24.98746     121.54391                        47.3\n",
       "3      4             2013.500          13.3  ...     24.98746     121.54391                        54.8\n",
       "4      5             2012.833           5.0  ...     24.97937     121.54245                        43.1\n",
       "..   ...                  ...           ...  ...          ...           ...                         ...\n",
       "409  410             2013.000          13.7  ...     24.94155     121.50381                        15.4\n",
       "410  411             2012.667           5.6  ...     24.97433     121.54310                        50.0\n",
       "411  412             2013.250          18.8  ...     24.97923     121.53986                        40.6\n",
       "412  413             2013.000           8.1  ...     24.96674     121.54067                        52.5\n",
       "413  414             2013.500           6.5  ...     24.97433     121.54310                        63.9\n",
       "\n",
       "[414 rows x 8 columns]"
      ]
     },
     "execution_count": 98,
     "metadata": {},
     "output_type": "execute_result"
    }
   ],
   "source": [
    "real_estate_data"
   ]
  },
  {
   "cell_type": "code",
   "execution_count": 100,
   "id": "92bb65c6",
   "metadata": {},
   "outputs": [],
   "source": [
    "X = real_estate_data[[\"X1 transaction date\",\n",
    "                     \"X2 house age\",\"X3 distance to the nearest MRT station\",\n",
    "                      \"X4 number of convenience stores\",\n",
    "                      \"X5 latitude\",\"X6 longitude\"]]"
   ]
  },
  {
   "cell_type": "code",
   "execution_count": 101,
   "id": "a88819a4",
   "metadata": {},
   "outputs": [],
   "source": [
    "y = real_estate_data[\"Y house price of unit area\"]"
   ]
  },
  {
   "cell_type": "code",
   "execution_count": 102,
   "id": "996bdec7",
   "metadata": {},
   "outputs": [],
   "source": [
    "import statsmodels.api as sm"
   ]
  },
  {
   "cell_type": "code",
   "execution_count": 103,
   "id": "92dfb8b5",
   "metadata": {},
   "outputs": [],
   "source": [
    "X = sm.add_constant(X)"
   ]
  },
  {
   "cell_type": "code",
   "execution_count": 104,
   "id": "afd95494",
   "metadata": {},
   "outputs": [],
   "source": [
    "model = sm.OLS(y,X)"
   ]
  },
  {
   "cell_type": "code",
   "execution_count": 105,
   "id": "430e4340",
   "metadata": {},
   "outputs": [],
   "source": [
    "results = model.fit()"
   ]
  },
  {
   "cell_type": "code",
   "execution_count": 106,
   "id": "2d924577",
   "metadata": {},
   "outputs": [
    {
     "data": {
      "text/plain": [
       "const                                     3.371059e-02\n",
       "X1 transaction date                       1.033686e-03\n",
       "X2 house age                              1.064969e-11\n",
       "X3 distance to the nearest MRT station    1.038560e-09\n",
       "X4 number of convenience stores           3.835416e-09\n",
       "X5 latitude                               6.383415e-07\n",
       "X6 longitude                              7.982928e-01\n",
       "dtype: float64"
      ]
     },
     "execution_count": 106,
     "metadata": {},
     "output_type": "execute_result"
    }
   ],
   "source": [
    "results.pvalues"
   ]
  },
  {
   "cell_type": "code",
   "execution_count": 108,
   "id": "dd6048c4",
   "metadata": {},
   "outputs": [
    {
     "data": {
      "text/html": [
       "<table class=\"simpletable\">\n",
       "<caption>OLS Regression Results</caption>\n",
       "<tr>\n",
       "  <th>Dep. Variable:</th>    <td>Y house price of unit area</td> <th>  R-squared:         </th> <td>   0.582</td>\n",
       "</tr>\n",
       "<tr>\n",
       "  <th>Model:</th>                        <td>OLS</td>            <th>  Adj. R-squared:    </th> <td>   0.576</td>\n",
       "</tr>\n",
       "<tr>\n",
       "  <th>Method:</th>                  <td>Least Squares</td>       <th>  F-statistic:       </th> <td>   94.59</td>\n",
       "</tr>\n",
       "<tr>\n",
       "  <th>Date:</th>                  <td>Tue, 04 Jul 2023</td>      <th>  Prob (F-statistic):</th> <td>4.86e-74</td>\n",
       "</tr>\n",
       "<tr>\n",
       "  <th>Time:</th>                      <td>18:49:02</td>          <th>  Log-Likelihood:    </th> <td> -1487.0</td>\n",
       "</tr>\n",
       "<tr>\n",
       "  <th>No. Observations:</th>           <td>   414</td>           <th>  AIC:               </th> <td>   2988.</td>\n",
       "</tr>\n",
       "<tr>\n",
       "  <th>Df Residuals:</th>               <td>   407</td>           <th>  BIC:               </th> <td>   3016.</td>\n",
       "</tr>\n",
       "<tr>\n",
       "  <th>Df Model:</th>                   <td>     6</td>           <th>                     </th>     <td> </td>   \n",
       "</tr>\n",
       "<tr>\n",
       "  <th>Covariance Type:</th>           <td>nonrobust</td>         <th>                     </th>     <td> </td>   \n",
       "</tr>\n",
       "</table>\n",
       "<table class=\"simpletable\">\n",
       "<tr>\n",
       "                     <td></td>                       <th>coef</th>     <th>std err</th>      <th>t</th>      <th>P>|t|</th>  <th>[0.025</th>    <th>0.975]</th>  \n",
       "</tr>\n",
       "<tr>\n",
       "  <th>const</th>                                  <td>-1.444e+04</td> <td> 6775.671</td> <td>   -2.131</td> <td> 0.034</td> <td>-2.78e+04</td> <td>-1117.421</td>\n",
       "</tr>\n",
       "<tr>\n",
       "  <th>X1 transaction date</th>                    <td>    5.1462</td> <td>    1.557</td> <td>    3.305</td> <td> 0.001</td> <td>    2.085</td> <td>    8.207</td>\n",
       "</tr>\n",
       "<tr>\n",
       "  <th>X2 house age</th>                           <td>   -0.2697</td> <td>    0.039</td> <td>   -7.000</td> <td> 0.000</td> <td>   -0.345</td> <td>   -0.194</td>\n",
       "</tr>\n",
       "<tr>\n",
       "  <th>X3 distance to the nearest MRT station</th> <td>   -0.0045</td> <td>    0.001</td> <td>   -6.250</td> <td> 0.000</td> <td>   -0.006</td> <td>   -0.003</td>\n",
       "</tr>\n",
       "<tr>\n",
       "  <th>X4 number of convenience stores</th>        <td>    1.1333</td> <td>    0.188</td> <td>    6.023</td> <td> 0.000</td> <td>    0.763</td> <td>    1.503</td>\n",
       "</tr>\n",
       "<tr>\n",
       "  <th>X5 latitude</th>                            <td>  225.4730</td> <td>   44.567</td> <td>    5.059</td> <td> 0.000</td> <td>  137.863</td> <td>  313.083</td>\n",
       "</tr>\n",
       "<tr>\n",
       "  <th>X6 longitude</th>                           <td>  -12.4236</td> <td>   48.582</td> <td>   -0.256</td> <td> 0.798</td> <td> -107.927</td> <td>   83.079</td>\n",
       "</tr>\n",
       "</table>\n",
       "<table class=\"simpletable\">\n",
       "<tr>\n",
       "  <th>Omnibus:</th>       <td>231.634</td> <th>  Durbin-Watson:     </th> <td>   2.153</td>\n",
       "</tr>\n",
       "<tr>\n",
       "  <th>Prob(Omnibus):</th> <td> 0.000</td>  <th>  Jarque-Bera (JB):  </th> <td>3599.138</td>\n",
       "</tr>\n",
       "<tr>\n",
       "  <th>Skew:</th>          <td> 2.026</td>  <th>  Prob(JB):          </th> <td>    0.00</td>\n",
       "</tr>\n",
       "<tr>\n",
       "  <th>Kurtosis:</th>      <td>16.865</td>  <th>  Cond. No.          </th> <td>3.72e+07</td>\n",
       "</tr>\n",
       "</table><br/><br/>Notes:<br/>[1] Standard Errors assume that the covariance matrix of the errors is correctly specified.<br/>[2] The condition number is large, 3.72e+07. This might indicate that there are<br/>strong multicollinearity or other numerical problems."
      ],
      "text/latex": [
       "\\begin{center}\n",
       "\\begin{tabular}{lclc}\n",
       "\\toprule\n",
       "\\textbf{Dep. Variable:}                         & Y house price of unit area & \\textbf{  R-squared:         } &     0.582   \\\\\n",
       "\\textbf{Model:}                                 &            OLS             & \\textbf{  Adj. R-squared:    } &     0.576   \\\\\n",
       "\\textbf{Method:}                                &       Least Squares        & \\textbf{  F-statistic:       } &     94.59   \\\\\n",
       "\\textbf{Date:}                                  &      Tue, 04 Jul 2023      & \\textbf{  Prob (F-statistic):} &  4.86e-74   \\\\\n",
       "\\textbf{Time:}                                  &          18:49:02          & \\textbf{  Log-Likelihood:    } &   -1487.0   \\\\\n",
       "\\textbf{No. Observations:}                      &              414           & \\textbf{  AIC:               } &     2988.   \\\\\n",
       "\\textbf{Df Residuals:}                          &              407           & \\textbf{  BIC:               } &     3016.   \\\\\n",
       "\\textbf{Df Model:}                              &                6           & \\textbf{                     } &             \\\\\n",
       "\\textbf{Covariance Type:}                       &         nonrobust          & \\textbf{                     } &             \\\\\n",
       "\\bottomrule\n",
       "\\end{tabular}\n",
       "\\begin{tabular}{lcccccc}\n",
       "                                                & \\textbf{coef} & \\textbf{std err} & \\textbf{t} & \\textbf{P$> |$t$|$} & \\textbf{[0.025} & \\textbf{0.975]}  \\\\\n",
       "\\midrule\n",
       "\\textbf{const}                                  &   -1.444e+04  &     6775.671     &    -2.131  &         0.034        &    -2.78e+04    &    -1117.421     \\\\\n",
       "\\textbf{X1 transaction date}                    &       5.1462  &        1.557     &     3.305  &         0.001        &        2.085    &        8.207     \\\\\n",
       "\\textbf{X2 house age}                           &      -0.2697  &        0.039     &    -7.000  &         0.000        &       -0.345    &       -0.194     \\\\\n",
       "\\textbf{X3 distance to the nearest MRT station} &      -0.0045  &        0.001     &    -6.250  &         0.000        &       -0.006    &       -0.003     \\\\\n",
       "\\textbf{X4 number of convenience stores}        &       1.1333  &        0.188     &     6.023  &         0.000        &        0.763    &        1.503     \\\\\n",
       "\\textbf{X5 latitude}                            &     225.4730  &       44.567     &     5.059  &         0.000        &      137.863    &      313.083     \\\\\n",
       "\\textbf{X6 longitude}                           &     -12.4236  &       48.582     &    -0.256  &         0.798        &     -107.927    &       83.079     \\\\\n",
       "\\bottomrule\n",
       "\\end{tabular}\n",
       "\\begin{tabular}{lclc}\n",
       "\\textbf{Omnibus:}       & 231.634 & \\textbf{  Durbin-Watson:     } &    2.153  \\\\\n",
       "\\textbf{Prob(Omnibus):} &   0.000 & \\textbf{  Jarque-Bera (JB):  } & 3599.138  \\\\\n",
       "\\textbf{Skew:}          &   2.026 & \\textbf{  Prob(JB):          } &     0.00  \\\\\n",
       "\\textbf{Kurtosis:}      &  16.865 & \\textbf{  Cond. No.          } & 3.72e+07  \\\\\n",
       "\\bottomrule\n",
       "\\end{tabular}\n",
       "%\\caption{OLS Regression Results}\n",
       "\\end{center}\n",
       "\n",
       "Notes: \\newline\n",
       " [1] Standard Errors assume that the covariance matrix of the errors is correctly specified. \\newline\n",
       " [2] The condition number is large, 3.72e+07. This might indicate that there are \\newline\n",
       " strong multicollinearity or other numerical problems."
      ],
      "text/plain": [
       "<class 'statsmodels.iolib.summary.Summary'>\n",
       "\"\"\"\n",
       "                                OLS Regression Results                                \n",
       "======================================================================================\n",
       "Dep. Variable:     Y house price of unit area   R-squared:                       0.582\n",
       "Model:                                    OLS   Adj. R-squared:                  0.576\n",
       "Method:                         Least Squares   F-statistic:                     94.59\n",
       "Date:                        Tue, 04 Jul 2023   Prob (F-statistic):           4.86e-74\n",
       "Time:                                18:49:02   Log-Likelihood:                -1487.0\n",
       "No. Observations:                         414   AIC:                             2988.\n",
       "Df Residuals:                             407   BIC:                             3016.\n",
       "Df Model:                                   6                                         \n",
       "Covariance Type:                    nonrobust                                         \n",
       "==========================================================================================================\n",
       "                                             coef    std err          t      P>|t|      [0.025      0.975]\n",
       "----------------------------------------------------------------------------------------------------------\n",
       "const                                  -1.444e+04   6775.671     -2.131      0.034   -2.78e+04   -1117.421\n",
       "X1 transaction date                        5.1462      1.557      3.305      0.001       2.085       8.207\n",
       "X2 house age                              -0.2697      0.039     -7.000      0.000      -0.345      -0.194\n",
       "X3 distance to the nearest MRT station    -0.0045      0.001     -6.250      0.000      -0.006      -0.003\n",
       "X4 number of convenience stores            1.1333      0.188      6.023      0.000       0.763       1.503\n",
       "X5 latitude                              225.4730     44.567      5.059      0.000     137.863     313.083\n",
       "X6 longitude                             -12.4236     48.582     -0.256      0.798    -107.927      83.079\n",
       "==============================================================================\n",
       "Omnibus:                      231.634   Durbin-Watson:                   2.153\n",
       "Prob(Omnibus):                  0.000   Jarque-Bera (JB):             3599.138\n",
       "Skew:                           2.026   Prob(JB):                         0.00\n",
       "Kurtosis:                      16.865   Cond. No.                     3.72e+07\n",
       "==============================================================================\n",
       "\n",
       "Notes:\n",
       "[1] Standard Errors assume that the covariance matrix of the errors is correctly specified.\n",
       "[2] The condition number is large, 3.72e+07. This might indicate that there are\n",
       "strong multicollinearity or other numerical problems.\n",
       "\"\"\""
      ]
     },
     "execution_count": 108,
     "metadata": {},
     "output_type": "execute_result"
    }
   ],
   "source": [
    "results.summary()"
   ]
  },
  {
   "cell_type": "code",
   "execution_count": 115,
   "id": "072f6e70",
   "metadata": {},
   "outputs": [
    {
     "data": {
      "text/html": [
       "<table class=\"simpletable\">\n",
       "<caption>OLS Regression Results</caption>\n",
       "<tr>\n",
       "  <th>Dep. Variable:</th>    <td>Y house price of unit area</td> <th>  R-squared:         </th> <td>   0.582</td>\n",
       "</tr>\n",
       "<tr>\n",
       "  <th>Model:</th>                        <td>OLS</td>            <th>  Adj. R-squared:    </th> <td>   0.577</td>\n",
       "</tr>\n",
       "<tr>\n",
       "  <th>Method:</th>                  <td>Least Squares</td>       <th>  F-statistic:       </th> <td>   113.8</td>\n",
       "</tr>\n",
       "<tr>\n",
       "  <th>Date:</th>                  <td>Tue, 04 Jul 2023</td>      <th>  Prob (F-statistic):</th> <td>4.47e-75</td>\n",
       "</tr>\n",
       "<tr>\n",
       "  <th>Time:</th>                      <td>19:13:21</td>          <th>  Log-Likelihood:    </th> <td> -1487.0</td>\n",
       "</tr>\n",
       "<tr>\n",
       "  <th>No. Observations:</th>           <td>   414</td>           <th>  AIC:               </th> <td>   2986.</td>\n",
       "</tr>\n",
       "<tr>\n",
       "  <th>Df Residuals:</th>               <td>   408</td>           <th>  BIC:               </th> <td>   3010.</td>\n",
       "</tr>\n",
       "<tr>\n",
       "  <th>Df Model:</th>                   <td>     5</td>           <th>                     </th>     <td> </td>   \n",
       "</tr>\n",
       "<tr>\n",
       "  <th>Covariance Type:</th>           <td>nonrobust</td>         <th>                     </th>     <td> </td>   \n",
       "</tr>\n",
       "</table>\n",
       "<table class=\"simpletable\">\n",
       "<tr>\n",
       "                     <td></td>                       <th>coef</th>     <th>std err</th>      <th>t</th>      <th>P>|t|</th>  <th>[0.025</th>    <th>0.975]</th>  \n",
       "</tr>\n",
       "<tr>\n",
       "  <th>const</th>                                  <td>-1.596e+04</td> <td> 3233.450</td> <td>   -4.936</td> <td> 0.000</td> <td>-2.23e+04</td> <td>-9602.961</td>\n",
       "</tr>\n",
       "<tr>\n",
       "  <th>X1 transaction date</th>                    <td>    5.1348</td> <td>    1.555</td> <td>    3.303</td> <td> 0.001</td> <td>    2.079</td> <td>    8.191</td>\n",
       "</tr>\n",
       "<tr>\n",
       "  <th>X2 house age</th>                           <td>   -0.2694</td> <td>    0.038</td> <td>   -7.003</td> <td> 0.000</td> <td>   -0.345</td> <td>   -0.194</td>\n",
       "</tr>\n",
       "<tr>\n",
       "  <th>X3 distance to the nearest MRT station</th> <td>   -0.0044</td> <td>    0.000</td> <td>   -8.887</td> <td> 0.000</td> <td>   -0.005</td> <td>   -0.003</td>\n",
       "</tr>\n",
       "<tr>\n",
       "  <th>X4 number of convenience stores</th>        <td>    1.1361</td> <td>    0.188</td> <td>    6.056</td> <td> 0.000</td> <td>    0.767</td> <td>    1.505</td>\n",
       "</tr>\n",
       "<tr>\n",
       "  <th>X5 latitude</th>                            <td>  226.8816</td> <td>   44.174</td> <td>    5.136</td> <td> 0.000</td> <td>  140.044</td> <td>  313.719</td>\n",
       "</tr>\n",
       "</table>\n",
       "<table class=\"simpletable\">\n",
       "<tr>\n",
       "  <th>Omnibus:</th>       <td>232.810</td> <th>  Durbin-Watson:     </th> <td>   2.154</td>\n",
       "</tr>\n",
       "<tr>\n",
       "  <th>Prob(Omnibus):</th> <td> 0.000</td>  <th>  Jarque-Bera (JB):  </th> <td>3644.713</td>\n",
       "</tr>\n",
       "<tr>\n",
       "  <th>Skew:</th>          <td> 2.038</td>  <th>  Prob(JB):          </th> <td>    0.00</td>\n",
       "</tr>\n",
       "<tr>\n",
       "  <th>Kurtosis:</th>      <td>16.953</td>  <th>  Cond. No.          </th> <td>1.77e+07</td>\n",
       "</tr>\n",
       "</table><br/><br/>Notes:<br/>[1] Standard Errors assume that the covariance matrix of the errors is correctly specified.<br/>[2] The condition number is large, 1.77e+07. This might indicate that there are<br/>strong multicollinearity or other numerical problems."
      ],
      "text/latex": [
       "\\begin{center}\n",
       "\\begin{tabular}{lclc}\n",
       "\\toprule\n",
       "\\textbf{Dep. Variable:}                         & Y house price of unit area & \\textbf{  R-squared:         } &     0.582   \\\\\n",
       "\\textbf{Model:}                                 &            OLS             & \\textbf{  Adj. R-squared:    } &     0.577   \\\\\n",
       "\\textbf{Method:}                                &       Least Squares        & \\textbf{  F-statistic:       } &     113.8   \\\\\n",
       "\\textbf{Date:}                                  &      Tue, 04 Jul 2023      & \\textbf{  Prob (F-statistic):} &  4.47e-75   \\\\\n",
       "\\textbf{Time:}                                  &          19:13:21          & \\textbf{  Log-Likelihood:    } &   -1487.0   \\\\\n",
       "\\textbf{No. Observations:}                      &              414           & \\textbf{  AIC:               } &     2986.   \\\\\n",
       "\\textbf{Df Residuals:}                          &              408           & \\textbf{  BIC:               } &     3010.   \\\\\n",
       "\\textbf{Df Model:}                              &                5           & \\textbf{                     } &             \\\\\n",
       "\\textbf{Covariance Type:}                       &         nonrobust          & \\textbf{                     } &             \\\\\n",
       "\\bottomrule\n",
       "\\end{tabular}\n",
       "\\begin{tabular}{lcccccc}\n",
       "                                                & \\textbf{coef} & \\textbf{std err} & \\textbf{t} & \\textbf{P$> |$t$|$} & \\textbf{[0.025} & \\textbf{0.975]}  \\\\\n",
       "\\midrule\n",
       "\\textbf{const}                                  &   -1.596e+04  &     3233.450     &    -4.936  &         0.000        &    -2.23e+04    &    -9602.961     \\\\\n",
       "\\textbf{X1 transaction date}                    &       5.1348  &        1.555     &     3.303  &         0.001        &        2.079    &        8.191     \\\\\n",
       "\\textbf{X2 house age}                           &      -0.2694  &        0.038     &    -7.003  &         0.000        &       -0.345    &       -0.194     \\\\\n",
       "\\textbf{X3 distance to the nearest MRT station} &      -0.0044  &        0.000     &    -8.887  &         0.000        &       -0.005    &       -0.003     \\\\\n",
       "\\textbf{X4 number of convenience stores}        &       1.1361  &        0.188     &     6.056  &         0.000        &        0.767    &        1.505     \\\\\n",
       "\\textbf{X5 latitude}                            &     226.8816  &       44.174     &     5.136  &         0.000        &      140.044    &      313.719     \\\\\n",
       "\\bottomrule\n",
       "\\end{tabular}\n",
       "\\begin{tabular}{lclc}\n",
       "\\textbf{Omnibus:}       & 232.810 & \\textbf{  Durbin-Watson:     } &    2.154  \\\\\n",
       "\\textbf{Prob(Omnibus):} &   0.000 & \\textbf{  Jarque-Bera (JB):  } & 3644.713  \\\\\n",
       "\\textbf{Skew:}          &   2.038 & \\textbf{  Prob(JB):          } &     0.00  \\\\\n",
       "\\textbf{Kurtosis:}      &  16.953 & \\textbf{  Cond. No.          } & 1.77e+07  \\\\\n",
       "\\bottomrule\n",
       "\\end{tabular}\n",
       "%\\caption{OLS Regression Results}\n",
       "\\end{center}\n",
       "\n",
       "Notes: \\newline\n",
       " [1] Standard Errors assume that the covariance matrix of the errors is correctly specified. \\newline\n",
       " [2] The condition number is large, 1.77e+07. This might indicate that there are \\newline\n",
       " strong multicollinearity or other numerical problems."
      ],
      "text/plain": [
       "<class 'statsmodels.iolib.summary.Summary'>\n",
       "\"\"\"\n",
       "                                OLS Regression Results                                \n",
       "======================================================================================\n",
       "Dep. Variable:     Y house price of unit area   R-squared:                       0.582\n",
       "Model:                                    OLS   Adj. R-squared:                  0.577\n",
       "Method:                         Least Squares   F-statistic:                     113.8\n",
       "Date:                        Tue, 04 Jul 2023   Prob (F-statistic):           4.47e-75\n",
       "Time:                                19:13:21   Log-Likelihood:                -1487.0\n",
       "No. Observations:                         414   AIC:                             2986.\n",
       "Df Residuals:                             408   BIC:                             3010.\n",
       "Df Model:                                   5                                         \n",
       "Covariance Type:                    nonrobust                                         \n",
       "==========================================================================================================\n",
       "                                             coef    std err          t      P>|t|      [0.025      0.975]\n",
       "----------------------------------------------------------------------------------------------------------\n",
       "const                                  -1.596e+04   3233.450     -4.936      0.000   -2.23e+04   -9602.961\n",
       "X1 transaction date                        5.1348      1.555      3.303      0.001       2.079       8.191\n",
       "X2 house age                              -0.2694      0.038     -7.003      0.000      -0.345      -0.194\n",
       "X3 distance to the nearest MRT station    -0.0044      0.000     -8.887      0.000      -0.005      -0.003\n",
       "X4 number of convenience stores            1.1361      0.188      6.056      0.000       0.767       1.505\n",
       "X5 latitude                              226.8816     44.174      5.136      0.000     140.044     313.719\n",
       "==============================================================================\n",
       "Omnibus:                      232.810   Durbin-Watson:                   2.154\n",
       "Prob(Omnibus):                  0.000   Jarque-Bera (JB):             3644.713\n",
       "Skew:                           2.038   Prob(JB):                         0.00\n",
       "Kurtosis:                      16.953   Cond. No.                     1.77e+07\n",
       "==============================================================================\n",
       "\n",
       "Notes:\n",
       "[1] Standard Errors assume that the covariance matrix of the errors is correctly specified.\n",
       "[2] The condition number is large, 1.77e+07. This might indicate that there are\n",
       "strong multicollinearity or other numerical problems.\n",
       "\"\"\""
      ]
     },
     "execution_count": 115,
     "metadata": {},
     "output_type": "execute_result"
    }
   ],
   "source": [
    "X = real_estate_data[[\"X1 transaction date\",\n",
    "                     \"X2 house age\",\"X3 distance to the nearest MRT station\",\n",
    "                      \"X4 number of convenience stores\",\n",
    "                      \"X5 latitude\"]]\n",
    "\n",
    "y = real_estate_data[\"Y house price of unit area\"]\n",
    "\n",
    "X = sm.add_constant(X)\n",
    "\n",
    "model = sm.OLS(y,X)\n",
    "\n",
    "results = model.fit()\n",
    "results.summary()"
   ]
  },
  {
   "cell_type": "code",
   "execution_count": 110,
   "id": "5fc55000",
   "metadata": {},
   "outputs": [
    {
     "data": {
      "text/html": [
       "<table class=\"simpletable\">\n",
       "<caption>OLS Regression Results</caption>\n",
       "<tr>\n",
       "  <th>Dep. Variable:</th>    <td>Y house price of unit area</td> <th>  R-squared:         </th> <td>   0.555</td>\n",
       "</tr>\n",
       "<tr>\n",
       "  <th>Model:</th>                        <td>OLS</td>            <th>  Adj. R-squared:    </th> <td>   0.551</td>\n",
       "</tr>\n",
       "<tr>\n",
       "  <th>Method:</th>                  <td>Least Squares</td>       <th>  F-statistic:       </th> <td>   127.7</td>\n",
       "</tr>\n",
       "<tr>\n",
       "  <th>Date:</th>                  <td>Tue, 04 Jul 2023</td>      <th>  Prob (F-statistic):</th> <td>1.23e-70</td>\n",
       "</tr>\n",
       "<tr>\n",
       "  <th>Time:</th>                      <td>18:59:31</td>          <th>  Log-Likelihood:    </th> <td> -1500.0</td>\n",
       "</tr>\n",
       "<tr>\n",
       "  <th>No. Observations:</th>           <td>   414</td>           <th>  AIC:               </th> <td>   3010.</td>\n",
       "</tr>\n",
       "<tr>\n",
       "  <th>Df Residuals:</th>               <td>   409</td>           <th>  BIC:               </th> <td>   3030.</td>\n",
       "</tr>\n",
       "<tr>\n",
       "  <th>Df Model:</th>                   <td>     4</td>           <th>                     </th>     <td> </td>   \n",
       "</tr>\n",
       "<tr>\n",
       "  <th>Covariance Type:</th>           <td>nonrobust</td>         <th>                     </th>     <td> </td>   \n",
       "</tr>\n",
       "</table>\n",
       "<table class=\"simpletable\">\n",
       "<tr>\n",
       "                     <td></td>                       <th>coef</th>     <th>std err</th>      <th>t</th>      <th>P>|t|</th>  <th>[0.025</th>    <th>0.975]</th>  \n",
       "</tr>\n",
       "<tr>\n",
       "  <th>const</th>                                  <td>-1.159e+04</td> <td> 3214.797</td> <td>   -3.605</td> <td> 0.000</td> <td>-1.79e+04</td> <td>-5269.161</td>\n",
       "</tr>\n",
       "<tr>\n",
       "  <th>X1 transaction date</th>                    <td>    5.7780</td> <td>    1.597</td> <td>    3.618</td> <td> 0.000</td> <td>    2.639</td> <td>    8.917</td>\n",
       "</tr>\n",
       "<tr>\n",
       "  <th>X2 house age</th>                           <td>   -0.2545</td> <td>    0.040</td> <td>   -6.438</td> <td> 0.000</td> <td>   -0.332</td> <td>   -0.177</td>\n",
       "</tr>\n",
       "<tr>\n",
       "  <th>X3 distance to the nearest MRT station</th> <td>   -0.0055</td> <td>    0.000</td> <td>  -12.305</td> <td> 0.000</td> <td>   -0.006</td> <td>   -0.005</td>\n",
       "</tr>\n",
       "<tr>\n",
       "  <th>X4 number of convenience stores</th>        <td>    1.2579</td> <td>    0.192</td> <td>    6.558</td> <td> 0.000</td> <td>    0.881</td> <td>    1.635</td>\n",
       "</tr>\n",
       "</table>\n",
       "<table class=\"simpletable\">\n",
       "<tr>\n",
       "  <th>Omnibus:</th>       <td>214.129</td> <th>  Durbin-Watson:     </th> <td>   2.115</td>\n",
       "</tr>\n",
       "<tr>\n",
       "  <th>Prob(Omnibus):</th> <td> 0.000</td>  <th>  Jarque-Bera (JB):  </th> <td>2979.678</td>\n",
       "</tr>\n",
       "<tr>\n",
       "  <th>Skew:</th>          <td> 1.855</td>  <th>  Prob(JB):          </th> <td>    0.00</td>\n",
       "</tr>\n",
       "<tr>\n",
       "  <th>Kurtosis:</th>      <td>15.609</td>  <th>  Cond. No.          </th> <td>1.71e+07</td>\n",
       "</tr>\n",
       "</table><br/><br/>Notes:<br/>[1] Standard Errors assume that the covariance matrix of the errors is correctly specified.<br/>[2] The condition number is large, 1.71e+07. This might indicate that there are<br/>strong multicollinearity or other numerical problems."
      ],
      "text/latex": [
       "\\begin{center}\n",
       "\\begin{tabular}{lclc}\n",
       "\\toprule\n",
       "\\textbf{Dep. Variable:}                         & Y house price of unit area & \\textbf{  R-squared:         } &     0.555   \\\\\n",
       "\\textbf{Model:}                                 &            OLS             & \\textbf{  Adj. R-squared:    } &     0.551   \\\\\n",
       "\\textbf{Method:}                                &       Least Squares        & \\textbf{  F-statistic:       } &     127.7   \\\\\n",
       "\\textbf{Date:}                                  &      Tue, 04 Jul 2023      & \\textbf{  Prob (F-statistic):} &  1.23e-70   \\\\\n",
       "\\textbf{Time:}                                  &          18:59:31          & \\textbf{  Log-Likelihood:    } &   -1500.0   \\\\\n",
       "\\textbf{No. Observations:}                      &              414           & \\textbf{  AIC:               } &     3010.   \\\\\n",
       "\\textbf{Df Residuals:}                          &              409           & \\textbf{  BIC:               } &     3030.   \\\\\n",
       "\\textbf{Df Model:}                              &                4           & \\textbf{                     } &             \\\\\n",
       "\\textbf{Covariance Type:}                       &         nonrobust          & \\textbf{                     } &             \\\\\n",
       "\\bottomrule\n",
       "\\end{tabular}\n",
       "\\begin{tabular}{lcccccc}\n",
       "                                                & \\textbf{coef} & \\textbf{std err} & \\textbf{t} & \\textbf{P$> |$t$|$} & \\textbf{[0.025} & \\textbf{0.975]}  \\\\\n",
       "\\midrule\n",
       "\\textbf{const}                                  &   -1.159e+04  &     3214.797     &    -3.605  &         0.000        &    -1.79e+04    &    -5269.161     \\\\\n",
       "\\textbf{X1 transaction date}                    &       5.7780  &        1.597     &     3.618  &         0.000        &        2.639    &        8.917     \\\\\n",
       "\\textbf{X2 house age}                           &      -0.2545  &        0.040     &    -6.438  &         0.000        &       -0.332    &       -0.177     \\\\\n",
       "\\textbf{X3 distance to the nearest MRT station} &      -0.0055  &        0.000     &   -12.305  &         0.000        &       -0.006    &       -0.005     \\\\\n",
       "\\textbf{X4 number of convenience stores}        &       1.2579  &        0.192     &     6.558  &         0.000        &        0.881    &        1.635     \\\\\n",
       "\\bottomrule\n",
       "\\end{tabular}\n",
       "\\begin{tabular}{lclc}\n",
       "\\textbf{Omnibus:}       & 214.129 & \\textbf{  Durbin-Watson:     } &    2.115  \\\\\n",
       "\\textbf{Prob(Omnibus):} &   0.000 & \\textbf{  Jarque-Bera (JB):  } & 2979.678  \\\\\n",
       "\\textbf{Skew:}          &   1.855 & \\textbf{  Prob(JB):          } &     0.00  \\\\\n",
       "\\textbf{Kurtosis:}      &  15.609 & \\textbf{  Cond. No.          } & 1.71e+07  \\\\\n",
       "\\bottomrule\n",
       "\\end{tabular}\n",
       "%\\caption{OLS Regression Results}\n",
       "\\end{center}\n",
       "\n",
       "Notes: \\newline\n",
       " [1] Standard Errors assume that the covariance matrix of the errors is correctly specified. \\newline\n",
       " [2] The condition number is large, 1.71e+07. This might indicate that there are \\newline\n",
       " strong multicollinearity or other numerical problems."
      ],
      "text/plain": [
       "<class 'statsmodels.iolib.summary.Summary'>\n",
       "\"\"\"\n",
       "                                OLS Regression Results                                \n",
       "======================================================================================\n",
       "Dep. Variable:     Y house price of unit area   R-squared:                       0.555\n",
       "Model:                                    OLS   Adj. R-squared:                  0.551\n",
       "Method:                         Least Squares   F-statistic:                     127.7\n",
       "Date:                        Tue, 04 Jul 2023   Prob (F-statistic):           1.23e-70\n",
       "Time:                                18:59:31   Log-Likelihood:                -1500.0\n",
       "No. Observations:                         414   AIC:                             3010.\n",
       "Df Residuals:                             409   BIC:                             3030.\n",
       "Df Model:                                   4                                         \n",
       "Covariance Type:                    nonrobust                                         \n",
       "==========================================================================================================\n",
       "                                             coef    std err          t      P>|t|      [0.025      0.975]\n",
       "----------------------------------------------------------------------------------------------------------\n",
       "const                                  -1.159e+04   3214.797     -3.605      0.000   -1.79e+04   -5269.161\n",
       "X1 transaction date                        5.7780      1.597      3.618      0.000       2.639       8.917\n",
       "X2 house age                              -0.2545      0.040     -6.438      0.000      -0.332      -0.177\n",
       "X3 distance to the nearest MRT station    -0.0055      0.000    -12.305      0.000      -0.006      -0.005\n",
       "X4 number of convenience stores            1.2579      0.192      6.558      0.000       0.881       1.635\n",
       "==============================================================================\n",
       "Omnibus:                      214.129   Durbin-Watson:                   2.115\n",
       "Prob(Omnibus):                  0.000   Jarque-Bera (JB):             2979.678\n",
       "Skew:                           1.855   Prob(JB):                         0.00\n",
       "Kurtosis:                      15.609   Cond. No.                     1.71e+07\n",
       "==============================================================================\n",
       "\n",
       "Notes:\n",
       "[1] Standard Errors assume that the covariance matrix of the errors is correctly specified.\n",
       "[2] The condition number is large, 1.71e+07. This might indicate that there are\n",
       "strong multicollinearity or other numerical problems.\n",
       "\"\"\""
      ]
     },
     "execution_count": 110,
     "metadata": {},
     "output_type": "execute_result"
    }
   ],
   "source": [
    "X = real_estate_data[[\"X1 transaction date\",\n",
    "                     \"X2 house age\",\"X3 distance to the nearest MRT station\",\n",
    "                      \"X4 number of convenience stores\"]]\n",
    "\n",
    "y = real_estate_data[\"Y house price of unit area\"]\n",
    "\n",
    "X = sm.add_constant(X)\n",
    "\n",
    "model = sm.OLS(y,X)\n",
    "\n",
    "results = model.fit()\n",
    "results.summary()"
   ]
  },
  {
   "cell_type": "code",
   "execution_count": 112,
   "id": "ed657148",
   "metadata": {},
   "outputs": [
    {
     "data": {
      "text/html": [
       "<table class=\"simpletable\">\n",
       "<caption>OLS Regression Results</caption>\n",
       "<tr>\n",
       "  <th>Dep. Variable:</th>    <td>Y house price of unit area</td> <th>  R-squared:         </th> <td>   0.509</td>\n",
       "</tr>\n",
       "<tr>\n",
       "  <th>Model:</th>                        <td>OLS</td>            <th>  Adj. R-squared:    </th> <td>   0.505</td>\n",
       "</tr>\n",
       "<tr>\n",
       "  <th>Method:</th>                  <td>Least Squares</td>       <th>  F-statistic:       </th> <td>   141.4</td>\n",
       "</tr>\n",
       "<tr>\n",
       "  <th>Date:</th>                  <td>Tue, 04 Jul 2023</td>      <th>  Prob (F-statistic):</th> <td>6.60e-63</td>\n",
       "</tr>\n",
       "<tr>\n",
       "  <th>Time:</th>                      <td>19:00:04</td>          <th>  Log-Likelihood:    </th> <td> -1520.7</td>\n",
       "</tr>\n",
       "<tr>\n",
       "  <th>No. Observations:</th>           <td>   414</td>           <th>  AIC:               </th> <td>   3049.</td>\n",
       "</tr>\n",
       "<tr>\n",
       "  <th>Df Residuals:</th>               <td>   410</td>           <th>  BIC:               </th> <td>   3065.</td>\n",
       "</tr>\n",
       "<tr>\n",
       "  <th>Df Model:</th>                   <td>     3</td>           <th>                     </th>     <td> </td>   \n",
       "</tr>\n",
       "<tr>\n",
       "  <th>Covariance Type:</th>           <td>nonrobust</td>         <th>                     </th>     <td> </td>   \n",
       "</tr>\n",
       "</table>\n",
       "<table class=\"simpletable\">\n",
       "<tr>\n",
       "                     <td></td>                       <th>coef</th>     <th>std err</th>      <th>t</th>      <th>P>|t|</th>  <th>[0.025</th>    <th>0.975]</th>  \n",
       "</tr>\n",
       "<tr>\n",
       "  <th>const</th>                                  <td>-1.278e+04</td> <td> 3370.050</td> <td>   -3.794</td> <td> 0.000</td> <td>-1.94e+04</td> <td>-6159.776</td>\n",
       "</tr>\n",
       "<tr>\n",
       "  <th>X1 transaction date</th>                    <td>    6.3754</td> <td>    1.674</td> <td>    3.808</td> <td> 0.000</td> <td>    3.085</td> <td>    9.666</td>\n",
       "</tr>\n",
       "<tr>\n",
       "  <th>X2 house age</th>                           <td>   -0.2336</td> <td>    0.041</td> <td>   -5.645</td> <td> 0.000</td> <td>   -0.315</td> <td>   -0.152</td>\n",
       "</tr>\n",
       "<tr>\n",
       "  <th>X3 distance to the nearest MRT station</th> <td>   -0.0073</td> <td>    0.000</td> <td>  -19.501</td> <td> 0.000</td> <td>   -0.008</td> <td>   -0.007</td>\n",
       "</tr>\n",
       "</table>\n",
       "<table class=\"simpletable\">\n",
       "<tr>\n",
       "  <th>Omnibus:</th>       <td>153.194</td> <th>  Durbin-Watson:     </th> <td>   2.117</td> \n",
       "</tr>\n",
       "<tr>\n",
       "  <th>Prob(Omnibus):</th> <td> 0.000</td>  <th>  Jarque-Bera (JB):  </th> <td>1245.762</td> \n",
       "</tr>\n",
       "<tr>\n",
       "  <th>Skew:</th>          <td> 1.348</td>  <th>  Prob(JB):          </th> <td>3.06e-271</td>\n",
       "</tr>\n",
       "<tr>\n",
       "  <th>Kurtosis:</th>      <td>11.059</td>  <th>  Cond. No.          </th> <td>1.71e+07</td> \n",
       "</tr>\n",
       "</table><br/><br/>Notes:<br/>[1] Standard Errors assume that the covariance matrix of the errors is correctly specified.<br/>[2] The condition number is large, 1.71e+07. This might indicate that there are<br/>strong multicollinearity or other numerical problems."
      ],
      "text/latex": [
       "\\begin{center}\n",
       "\\begin{tabular}{lclc}\n",
       "\\toprule\n",
       "\\textbf{Dep. Variable:}                         & Y house price of unit area & \\textbf{  R-squared:         } &     0.509   \\\\\n",
       "\\textbf{Model:}                                 &            OLS             & \\textbf{  Adj. R-squared:    } &     0.505   \\\\\n",
       "\\textbf{Method:}                                &       Least Squares        & \\textbf{  F-statistic:       } &     141.4   \\\\\n",
       "\\textbf{Date:}                                  &      Tue, 04 Jul 2023      & \\textbf{  Prob (F-statistic):} &  6.60e-63   \\\\\n",
       "\\textbf{Time:}                                  &          19:00:04          & \\textbf{  Log-Likelihood:    } &   -1520.7   \\\\\n",
       "\\textbf{No. Observations:}                      &              414           & \\textbf{  AIC:               } &     3049.   \\\\\n",
       "\\textbf{Df Residuals:}                          &              410           & \\textbf{  BIC:               } &     3065.   \\\\\n",
       "\\textbf{Df Model:}                              &                3           & \\textbf{                     } &             \\\\\n",
       "\\textbf{Covariance Type:}                       &         nonrobust          & \\textbf{                     } &             \\\\\n",
       "\\bottomrule\n",
       "\\end{tabular}\n",
       "\\begin{tabular}{lcccccc}\n",
       "                                                & \\textbf{coef} & \\textbf{std err} & \\textbf{t} & \\textbf{P$> |$t$|$} & \\textbf{[0.025} & \\textbf{0.975]}  \\\\\n",
       "\\midrule\n",
       "\\textbf{const}                                  &   -1.278e+04  &     3370.050     &    -3.794  &         0.000        &    -1.94e+04    &    -6159.776     \\\\\n",
       "\\textbf{X1 transaction date}                    &       6.3754  &        1.674     &     3.808  &         0.000        &        3.085    &        9.666     \\\\\n",
       "\\textbf{X2 house age}                           &      -0.2336  &        0.041     &    -5.645  &         0.000        &       -0.315    &       -0.152     \\\\\n",
       "\\textbf{X3 distance to the nearest MRT station} &      -0.0073  &        0.000     &   -19.501  &         0.000        &       -0.008    &       -0.007     \\\\\n",
       "\\bottomrule\n",
       "\\end{tabular}\n",
       "\\begin{tabular}{lclc}\n",
       "\\textbf{Omnibus:}       & 153.194 & \\textbf{  Durbin-Watson:     } &     2.117  \\\\\n",
       "\\textbf{Prob(Omnibus):} &   0.000 & \\textbf{  Jarque-Bera (JB):  } &  1245.762  \\\\\n",
       "\\textbf{Skew:}          &   1.348 & \\textbf{  Prob(JB):          } & 3.06e-271  \\\\\n",
       "\\textbf{Kurtosis:}      &  11.059 & \\textbf{  Cond. No.          } &  1.71e+07  \\\\\n",
       "\\bottomrule\n",
       "\\end{tabular}\n",
       "%\\caption{OLS Regression Results}\n",
       "\\end{center}\n",
       "\n",
       "Notes: \\newline\n",
       " [1] Standard Errors assume that the covariance matrix of the errors is correctly specified. \\newline\n",
       " [2] The condition number is large, 1.71e+07. This might indicate that there are \\newline\n",
       " strong multicollinearity or other numerical problems."
      ],
      "text/plain": [
       "<class 'statsmodels.iolib.summary.Summary'>\n",
       "\"\"\"\n",
       "                                OLS Regression Results                                \n",
       "======================================================================================\n",
       "Dep. Variable:     Y house price of unit area   R-squared:                       0.509\n",
       "Model:                                    OLS   Adj. R-squared:                  0.505\n",
       "Method:                         Least Squares   F-statistic:                     141.4\n",
       "Date:                        Tue, 04 Jul 2023   Prob (F-statistic):           6.60e-63\n",
       "Time:                                19:00:04   Log-Likelihood:                -1520.7\n",
       "No. Observations:                         414   AIC:                             3049.\n",
       "Df Residuals:                             410   BIC:                             3065.\n",
       "Df Model:                                   3                                         \n",
       "Covariance Type:                    nonrobust                                         \n",
       "==========================================================================================================\n",
       "                                             coef    std err          t      P>|t|      [0.025      0.975]\n",
       "----------------------------------------------------------------------------------------------------------\n",
       "const                                  -1.278e+04   3370.050     -3.794      0.000   -1.94e+04   -6159.776\n",
       "X1 transaction date                        6.3754      1.674      3.808      0.000       3.085       9.666\n",
       "X2 house age                              -0.2336      0.041     -5.645      0.000      -0.315      -0.152\n",
       "X3 distance to the nearest MRT station    -0.0073      0.000    -19.501      0.000      -0.008      -0.007\n",
       "==============================================================================\n",
       "Omnibus:                      153.194   Durbin-Watson:                   2.117\n",
       "Prob(Omnibus):                  0.000   Jarque-Bera (JB):             1245.762\n",
       "Skew:                           1.348   Prob(JB):                    3.06e-271\n",
       "Kurtosis:                      11.059   Cond. No.                     1.71e+07\n",
       "==============================================================================\n",
       "\n",
       "Notes:\n",
       "[1] Standard Errors assume that the covariance matrix of the errors is correctly specified.\n",
       "[2] The condition number is large, 1.71e+07. This might indicate that there are\n",
       "strong multicollinearity or other numerical problems.\n",
       "\"\"\""
      ]
     },
     "execution_count": 112,
     "metadata": {},
     "output_type": "execute_result"
    }
   ],
   "source": [
    "X = real_estate_data[[\"X1 transaction date\",\n",
    "                     \"X2 house age\",\"X3 distance to the nearest MRT station\",\n",
    "                      \"X4 number of convenience stores\"]]\n",
    "\n",
    "y = real_estate_data[\"Y house price of unit area\"]\n",
    "\n",
    "X = sm.add_constant(X)\n",
    "\n",
    "model = sm.OLS(y,X)\n",
    "\n",
    "results = model.fit()\n",
    "results.summary()"
   ]
  },
  {
   "cell_type": "code",
   "execution_count": 141,
   "id": "c548f280",
   "metadata": {},
   "outputs": [
    {
     "data": {
      "application/vnd.plotly.v1+json": {
       "config": {
        "plotlyServerURL": "https://plot.ly"
       },
       "data": [
        {
         "autobinx": false,
         "histnorm": "probability density",
         "legendgroup": "Residuals",
         "marker": {
          "color": "rgb(31, 119, 180)"
         },
         "name": "Residuals",
         "opacity": 0.7,
         "type": "histogram",
         "x": [
          -9.264174685834952,
          -5.631098981360807,
          -1.580033030583948,
          6.346153305878758,
          -3.0755624607349077,
          1.0858878455024765,
          1.674205485645686,
          -0.17538261446570402,
          9.680071062414573,
          -12.528272175325945,
          7.910641938289153,
          4.999658229875969,
          -1.4830178436343004,
          -3.0379910855519476,
          -11.350423427858189,
          12.285497747458976,
          19.313318446217266,
          0.33505928767080917,
          -4.481657290965998,
          0.2063788781735667,
          -5.846976932374854,
          2.078029195751334,
          -4.4277747426689515,
          -0.014707656528663904,
          3.9409529051843464,
          -4.831795289974252,
          10.00001105090196,
          -8.440811703747748,
          4.2627358187182836,
          11.319118928505851,
          8.844087661810228,
          -15.526202122688119,
          3.6184903166851683,
          2.871464421755988,
          7.980066326608359,
          -6.154180469710081,
          -7.443048690446268,
          -5.738792828935583,
          3.214482294256598,
          0.2822176761348629,
          1.5151321554234531,
          1.7204231956522555,
          -1.8327470876891283,
          -6.173715298889327,
          6.128312404771712,
          -1.5357297316615615,
          -4.842884272800802,
          24.00708371374185,
          0.8091459081810175,
          3.7628056880932483,
          2.4098851223163393,
          -3.4238798182330363,
          -7.71657205406882,
          -2.654576705257206,
          6.1866008506332975,
          -9.513943951666807,
          -1.5129522894400012,
          7.737845335193924,
          9.127979431964015,
          1.842180506428484,
          -12.576046229575876,
          12.772949033454282,
          -1.868849372016303,
          7.201374467669666,
          -8.057691336127572,
          0.6961118130246149,
          3.6949320671148627,
          9.763879237638136,
          -7.008792456174703,
          -3.2444551738171867,
          4.696778256654397,
          5.7667195343872635,
          -8.785147569716358,
          4.81150058156436,
          1.6282078641228495,
          -3.1678591386216794,
          -1.1618817507634986,
          -2.65141100237215,
          -2.9812580127083486,
          -1.7769756619245527,
          -4.594148982528353,
          -1.0489177607916673,
          2.283963308613785,
          -6.812608059437299,
          -0.6154214634960198,
          1.3939144840940543,
          -4.464429853849651,
          1.4211747962897796,
          11.103847747455802,
          8.871440494480158,
          2.9515635303499934,
          4.637703078474445,
          -6.267808995873747,
          -7.444751978295606,
          6.0585142964228,
          7.622763457647849,
          5.995275055375714,
          -2.8624860452749985,
          3.852399765811242,
          8.695275055375717,
          -6.518803176430808,
          -6.33226743623036,
          6.995683667752381,
          1.9358839789803852,
          -4.997643283035359,
          22.354519678808174,
          -0.8346731846462703,
          -5.237289627660537,
          -2.1391550062329756,
          -8.259416874639648,
          6.597328721820851,
          -5.584391562556995,
          -10.73483652084942,
          -35.622995140263264,
          9.895787049092903,
          7.711952204027874,
          10.914930724305304,
          -0.27019821497015073,
          -3.082060686023759,
          12.080089303550814,
          -10.685897816855867,
          4.385035873458037,
          -8.030365450902536,
          1.6428197445147816,
          10.28378914219629,
          0.7643625561537206,
          27.655461928886687,
          5.99500270509634,
          23.592435676888456,
          -2.5167343638968305,
          -7.319072813902494,
          -5.533230538176941,
          -3.027165570388206,
          -8.297182861629153,
          5.529031547627895,
          -10.103790783030671,
          2.774651850226107,
          1.940440382857922,
          5.252911136040893,
          2.973738003789549,
          5.056031339670334,
          -10.810910179650456,
          -4.511639614615888,
          -3.5149641265419618,
          -2.23440965443897,
          -0.7754052536420204,
          11.76771476163158,
          -3.923031494528729,
          29.54551783463885,
          -0.5621690959267625,
          8.014223200049855,
          -9.894798628031637,
          -2.9911655018628167,
          -2.496367645361353,
          4.247361132752484,
          0.41150058156435954,
          -8.38838027628044,
          -6.623045488090973,
          -5.85516606009751,
          -1.9910992051833105,
          10.663310450572496,
          -2.008144573790922,
          -1.2439989475809856,
          8.463879237638139,
          14.341528425168875,
          -4.884471571096036,
          21.955810998154078,
          -1.996200315287389,
          0.28722115600375986,
          -7.76837433674973,
          1.7174374181844545,
          10.59863427895543,
          3.796778256654399,
          -2.2779646078455684,
          -6.5109661757731345,
          0.5711875855395192,
          6.2788771115139745,
          -2.8286833188976743,
          -9.111554734473245,
          3.327279045836441,
          6.320817053675455,
          4.305143179295008,
          -10.074126513533336,
          2.7636344478212784,
          -0.5911034441052827,
          -8.785943940270954,
          -4.158674150092157,
          -0.9908937329137188,
          1.9610449488225612,
          6.879307415660151,
          -1.5809644290095122,
          -1.624047881519985,
          4.2325660036069195,
          0.8253123695756557,
          13.225593080261024,
          -5.388958551691211,
          -1.218018793526788,
          5.641842026421003,
          -0.8638315858901464,
          -14.910354157079745,
          -8.315950384830103,
          -2.181536231860811,
          -1.9090403352538488,
          2.587977622578002,
          -1.6769756619245513,
          -15.604750866217366,
          -6.333229943234073,
          0.21687967857469914,
          -2.8322812818549217,
          -0.25359102531329114,
          2.653418396352393,
          -0.2321302541777186,
          -6.3475084092046,
          6.156414077299814,
          -14.526768974049084,
          1.4160794942532462,
          7.414446445044817,
          -0.6008061761069285,
          0.6112222099207401,
          -2.1802185448021163,
          33.32905728502719,
          -0.5154211950884928,
          -0.5567516232513299,
          3.737703078474439,
          4.060967125922616,
          0.7381762196891941,
          -0.8036676686317143,
          -3.257493112764493,
          12.129306808026378,
          -8.094994341567144,
          -2.8332305381769416,
          1.659832640961394,
          5.391915183068157,
          -11.96831034369334,
          -10.144259966018218,
          -4.182968372972212,
          7.0052501644480785,
          1.045570714672067,
          3.023015952066636,
          -5.107335870050338,
          -4.419199165460849,
          -5.718546229738969,
          -0.3833591521766735,
          1.616213384815822,
          -16.808030206428885,
          -5.076088634600822,
          -3.1827950007294916,
          -8.654825106154384,
          -9.003039182393149,
          7.601336348242512,
          -9.648887103378911,
          -9.832242780283377,
          2.0592940505232065,
          0.024814625139150337,
          4.443230360288723,
          8.652381524675,
          -10.967707267580408,
          4.66356782280436,
          11.655810998154081,
          -3.973886385867626,
          -6.522944464230751,
          -5.285398826526581,
          8.28509764935643,
          -4.1339821388144635,
          0.5192697872995282,
          -2.0895960039064434,
          -10.097702664364807,
          4.469822230960382,
          -5.78784281500284,
          -9.37463798650515,
          75.3455476239069,
          -17.577656273534558,
          0.5744896044288907,
          -12.796286431377847,
          -1.652922536425649,
          2.2063788781735667,
          -3.22849888374094,
          -3.361554123315546,
          0.23588397898038238,
          -9.315689730113625,
          -2.601543903422318,
          -8.99116705417255,
          -6.241875091247856,
          -9.347079486775328,
          -9.08998672767084,
          18.840888208447538,
          5.2279729389227185,
          -4.301560946638894,
          2.888679829135981,
          -2.889727550126736,
          6.098075309158048,
          9.042228509692357,
          -14.435453631170276,
          -0.35280343358135724,
          -7.163678435506334,
          -8.757924532409742,
          -8.022101003504211,
          -5.597680987075364,
          1.4403280845801412,
          -1.5919457450849208,
          -8.301055518977229,
          6.437212642708076,
          -8.114465136210857,
          5.4251274456359155,
          -5.0991727573014956,
          9.513538787733523,
          8.004673201887456,
          2.9602817410752316,
          5.852399765811242,
          -5.986251903698211,
          -7.623243426655609,
          1.6390218762073374,
          33.26909779125526,
          -3.432489188500952,
          -5.717463988651069,
          -8.81836997919363,
          -3.942604193619445,
          -0.08657540122294449,
          -5.027044782025953,
          -8.567912801068452,
          6.586557632453697,
          -4.186856893524961,
          -6.898923461175762,
          -1.600892307763388,
          0.5939984114136685,
          -1.7357297316615572,
          13.50589905228626,
          -8.104120316917758,
          -10.428177991329356,
          5.929801785029849,
          -11.558735155862632,
          3.1207812985690904,
          6.29787091521812,
          -4.973604968493056,
          -16.78661668199602,
          -5.469373278720923,
          -1.7780996442192176,
          -4.856852304010864,
          -5.861578086214834,
          -0.21490225908164717,
          8.509357013452608,
          -1.6204163076590703,
          3.6577908492445204,
          3.938827631070673,
          12.757629002148136,
          -2.1060989019057175,
          -3.541579445354909,
          0.6348140145984864,
          6.509278490862201,
          3.626395031506945,
          1.14467169410527,
          -4.121965664406524,
          -0.5785751068886391,
          -4.906292601074892,
          -2.1686107392610197,
          11.695002705096343,
          5.496729986017996,
          -7.9309805330227405,
          -2.7356374438462794,
          -4.753442490636008,
          1.4679728086390256,
          23.104764207668993,
          -4.388830469579261,
          -1.7046280747672427,
          -9.15662891070351,
          -0.5310773759747462,
          -1.467656906701631,
          -9.57234033757286,
          2.7448539560624354,
          -4.679852140751063,
          -1.75739490258038,
          6.8416099594898725,
          1.9354168134741485,
          8.467869745822284,
          1.290988055080561,
          -6.9762220927988885,
          -3.4970633250841274,
          7.634995741525742,
          -3.2402451407857384,
          18.48713210975457,
          5.964148324077357,
          -7.5530077699952045,
          15.38828162327518,
          3.3167398713356278,
          0.08293898952106282,
          -4.694069608493372,
          14.441528425168869,
          -5.670790824295544,
          -7.114216010701238,
          27.157400184388464,
          -6.328449522195477,
          -0.8028424627438646,
          -2.8853648587275558,
          -2.0015051111924578,
          8.814618795006208,
          3.1425830058633437,
          3.7439791500331907,
          -13.051175028495706,
          -10.997063325084127,
          -2.363588547830844,
          -5.399476032650455,
          -5.315488926442232,
          -10.695291887314852,
          -5.129956550763197,
          -5.516279122588273,
          -0.3812327536195852,
          -9.117054278796786,
          -4.693806669988771,
          -3.747880790563066,
          1.0420700925255009,
          0.13085291214429162,
          -6.238105491062377,
          7.923515058286284,
          9.996026656014145
         ],
         "xaxis": "x",
         "xbins": {
          "end": 75.3455476239069,
          "size": 1,
          "start": -35.622995140263264
         },
         "yaxis": "y"
        },
        {
         "legendgroup": "Residuals",
         "marker": {
          "color": "rgb(31, 119, 180)"
         },
         "mode": "lines",
         "name": "Residuals",
         "showlegend": false,
         "type": "scatter",
         "x": [
          -35.622995140263264,
          -35.401058054734925,
          -35.179120969206586,
          -34.95718388367824,
          -34.7352467981499,
          -34.51330971262156,
          -34.291372627093224,
          -34.06943554156488,
          -33.84749845603654,
          -33.6255613705082,
          -33.40362428497986,
          -33.18168719945152,
          -32.95975011392318,
          -32.73781302839484,
          -32.5158759428665,
          -32.29393885733816,
          -32.072001771809816,
          -31.850064686281478,
          -31.62812760075314,
          -31.406190515224797,
          -31.184253429696458,
          -30.962316344168116,
          -30.740379258639777,
          -30.518442173111435,
          -30.296505087583096,
          -30.074568002054754,
          -29.852630916526415,
          -29.630693830998077,
          -29.408756745469734,
          -29.186819659941392,
          -28.964882574413053,
          -28.742945488884715,
          -28.521008403356372,
          -28.299071317828034,
          -28.07713423229969,
          -27.855197146771353,
          -27.63326006124301,
          -27.411322975714672,
          -27.18938589018633,
          -26.96744880465799,
          -26.745511719129652,
          -26.52357463360131,
          -26.301637548072968,
          -26.07970046254463,
          -25.85776337701629,
          -25.635826291487952,
          -25.413889205959606,
          -25.191952120431267,
          -24.97001503490293,
          -24.748077949374586,
          -24.526140863846248,
          -24.304203778317905,
          -24.082266692789567,
          -23.860329607261225,
          -23.638392521732886,
          -23.416455436204544,
          -23.194518350676205,
          -22.972581265147866,
          -22.750644179619524,
          -22.52870709409118,
          -22.306770008562843,
          -22.084832923034504,
          -21.862895837506166,
          -21.64095875197782,
          -21.41902166644948,
          -21.197084580921143,
          -20.975147495392804,
          -20.75321040986446,
          -20.53127332433612,
          -20.30933623880778,
          -20.087399153279442,
          -19.8654620677511,
          -19.643524982222758,
          -19.42158789669442,
          -19.19965081116608,
          -18.977713725637738,
          -18.7557766401094,
          -18.533839554581057,
          -18.31190246905272,
          -18.089965383524376,
          -17.868028297996037,
          -17.646091212467695,
          -17.424154126939357,
          -17.202217041411018,
          -16.980279955882676,
          -16.758342870354333,
          -16.536405784825998,
          -16.314468699297656,
          -16.092531613769314,
          -15.870594528240971,
          -15.648657442712636,
          -15.426720357184294,
          -15.204783271655952,
          -14.982846186127613,
          -14.760909100599271,
          -14.538972015070932,
          -14.31703492954259,
          -14.095097844014251,
          -13.87316075848591,
          -13.65122367295757,
          -13.429286587429232,
          -13.20734950190089,
          -12.985412416372547,
          -12.763475330844212,
          -12.54153824531587,
          -12.319601159787528,
          -12.097664074259185,
          -11.87572698873085,
          -11.653789903202508,
          -11.431852817674166,
          -11.209915732145827,
          -10.987978646617488,
          -10.766041561089146,
          -10.544104475560808,
          -10.322167390032465,
          -10.100230304504123,
          -9.878293218975784,
          -9.656356133447446,
          -9.434419047919103,
          -9.212481962390761,
          -8.990544876862426,
          -8.768607791334084,
          -8.546670705805742,
          -8.324733620277403,
          -8.102796534749064,
          -7.880859449220722,
          -7.65892236369238,
          -7.436985278164041,
          -7.215048192635702,
          -6.99311110710736,
          -6.7711740215790215,
          -6.549236936050679,
          -6.327299850522341,
          -6.105362764993998,
          -5.88342567946566,
          -5.661488593937317,
          -5.439551508408979,
          -5.21761442288064,
          -4.995677337352298,
          -4.773740251823956,
          -4.551803166295617,
          -4.329866080767278,
          -4.107928995238936,
          -3.8859919097105937,
          -3.664054824182255,
          -3.442117738653913,
          -3.220180653125574,
          -2.9982435675972354,
          -2.7763064820688967,
          -2.554369396540551,
          -2.3324323110122123,
          -2.1104952254838736,
          -1.888558139955535,
          -1.6666210544271962,
          -1.4446839688988504,
          -1.2227468833705117,
          -1.000809797842173,
          -0.7788727123138273,
          -0.5569356267854886,
          -0.334998541257157,
          -0.11306145572881121,
          0.10887562979952747,
          0.33081271532787326,
          0.552749800856212,
          0.7746868863845506,
          0.9966239719128964,
          1.218561057441228,
          1.4404981429695738,
          1.6624352284979125,
          1.8843723140262512,
          2.106309399554597,
          2.3282464850829356,
          2.550183570611267,
          2.772120656139613,
          2.9940577416679517,
          3.2159948271962975,
          3.437931912724636,
          3.659868998252975,
          3.8818060837813206,
          4.103743169309652,
          4.325680254837991,
          4.547617340366337,
          4.769554425894675,
          4.991491511423021,
          5.21342859695136,
          5.4353656824796985,
          5.657302768008037,
          5.879239853536376,
          6.101176939064722,
          6.32311402459306,
          6.545051110121399,
          6.766988195649745,
          6.9889252811780835,
          7.210862366706415,
          7.432799452234761,
          7.6547365377631,
          7.876673623291445,
          8.098610708819784,
          8.320547794348123,
          8.542484879876461,
          8.7644219654048,
          8.986359050933139,
          9.208296136461485,
          9.430233221989823,
          9.652170307518169,
          9.874107393046508,
          10.09604447857484,
          10.317981564103185,
          10.539918649631524,
          10.76185573515987,
          10.983792820688208,
          11.205729906216547,
          11.427666991744893,
          11.649604077273224,
          11.871541162801563,
          12.093478248329909,
          12.315415333858247,
          12.537352419386593,
          12.759289504914932,
          12.981226590443264,
          13.20316367597161,
          13.425100761499948,
          13.647037847028287,
          13.868974932556632,
          14.090912018084971,
          14.312849103613317,
          14.534786189141649,
          14.756723274669987,
          14.978660360198333,
          15.200597445726672,
          15.422534531255017,
          15.644471616783356,
          15.866408702311695,
          16.088345787840034,
          16.310282873368372,
          16.53221995889671,
          16.754157044425057,
          16.976094129953395,
          17.19803121548174,
          17.41996830101008,
          17.64190538653841,
          17.863842472066757,
          18.085779557595096,
          18.307716643123435,
          18.52965372865178,
          18.75159081418012,
          18.973527899708458,
          19.195464985236796,
          19.417402070765135,
          19.63933915629348,
          19.86127624182182,
          20.08321332735016,
          20.305150412878504,
          20.527087498406836,
          20.74902458393518,
          20.97096166946352,
          21.19289875499186,
          21.414835840520205,
          21.636772926048543,
          21.85871001157689,
          22.08064709710522,
          22.30258418263356,
          22.524521268161905,
          22.746458353690244,
          22.968395439218583,
          23.19033252474693,
          23.412269610275267,
          23.634206695803606,
          23.856143781331944,
          24.078080866860283,
          24.30001795238863,
          24.521955037916968,
          24.743892123445306,
          24.965829208973645,
          25.187766294501984,
          25.40970338003033,
          25.631640465558668,
          25.853577551087007,
          26.075514636615353,
          26.29745172214369,
          26.51938880767203,
          26.74132589320037,
          26.963262978728707,
          27.185200064257053,
          27.40713714978539,
          27.62907423531373,
          27.851011320842076,
          28.072948406370408,
          28.294885491898754,
          28.516822577427085,
          28.738759662955438,
          28.960696748483777,
          29.182633834012115,
          29.404570919540454,
          29.626508005068793,
          29.84844509059713,
          30.07038217612547,
          30.29231926165381,
          30.51425634718216,
          30.736193432710486,
          30.95813051823884,
          31.180067603767178,
          31.402004689295516,
          31.623941774823855,
          31.845878860352194,
          32.06781594588055,
          32.28975303140887,
          32.511690116937224,
          32.73362720246556,
          32.9555642879939,
          33.17750137352224,
          33.39943845905058,
          33.62137554457892,
          33.843312630107256,
          34.06524971563561,
          34.287186801163934,
          34.50912388669229,
          34.731060972220625,
          34.95299805774895,
          35.1749351432773,
          35.39687222880564,
          35.618809314333994,
          35.84074639986232,
          36.06268348539067,
          36.28462057091901,
          36.506557656447335,
          36.72849474197569,
          36.950431827504026,
          37.172368913032365,
          37.394305998560704,
          37.61624308408906,
          37.83818016961738,
          38.06011725514572,
          38.28205434067407,
          38.50399142620241,
          38.72592851173075,
          38.94786559725909,
          39.16980268278743,
          39.391739768315766,
          39.613676853844105,
          39.83561393937246,
          40.05755102490078,
          40.279488110429135,
          40.501425195957474,
          40.7233622814858,
          40.94529936701415,
          41.16723645254249,
          41.38917353807084,
          41.61111062359917,
          41.83304770912752,
          42.05498479465586,
          42.27692188018418,
          42.498858965712536,
          42.720796051240875,
          42.94273313676921,
          43.16467022229755,
          43.386607307825905,
          43.60854439335423,
          43.83048147888257,
          44.05241856441092,
          44.274355649939245,
          44.4962927354676,
          44.71822982099594,
          44.94016690652429,
          45.162103992052614,
          45.38404107758095,
          45.605978163109306,
          45.82791524863763,
          46.04985233416598,
          46.27178941969432,
          46.49372650522266,
          46.715663590751,
          46.93760067627934,
          47.15953776180768,
          47.381474847336015,
          47.60341193286437,
          47.82534901839271,
          48.047286103921046,
          48.269223189449384,
          48.49116027497772,
          48.71309736050606,
          48.9350344460344,
          49.15697153156275,
          49.37890861709108,
          49.60084570261943,
          49.82278278814777,
          50.044719873676094,
          50.26665695920445,
          50.488594044732785,
          50.71053113026114,
          50.93246821578946,
          51.1544053013178,
          51.376342386846154,
          51.59827947237448,
          51.82021655790283,
          52.04215364343117,
          52.26409072895951,
          52.48602781448785,
          52.70796490001619,
          52.929901985544525,
          53.151839071072864,
          53.37377615660122,
          53.59571324212954,
          53.817650327657894,
          54.03958741318623,
          54.26152449871457,
          54.48346158424291,
          54.70539866977125,
          54.9273357552996,
          55.149272840827926,
          55.37120992635628,
          55.59314701188462,
          55.81508409741294,
          56.037021182941295,
          56.258958268469634,
          56.48089535399797,
          56.70283243952631,
          56.924769525054664,
          57.146706610583,
          57.36864369611133,
          57.59058078163968,
          57.81251786716802,
          58.03445495269636,
          58.256392038224696,
          58.47832912375305,
          58.700266209281374,
          58.92220329480971,
          59.144140380338065,
          59.36607746586639,
          59.58801455139474,
          59.80995163692308,
          60.03188872245142,
          60.25382580797976,
          60.4757628935081,
          60.69769997903645,
          60.919637064564775,
          61.14157415009313,
          61.363511235621466,
          61.58544832114979,
          61.807385406678144,
          62.02932249220648,
          62.25125957773482,
          62.47319666326316,
          62.69513374879151,
          62.91707083431984,
          63.139007919848176,
          63.36094500537653,
          63.58288209090487,
          63.804819176433206,
          64.02675626196154,
          64.2486933474899,
          64.47063043301821,
          64.69256751854655,
          64.91450460407492,
          65.13644168960323,
          65.3583787751316,
          65.58031586065994,
          65.80225294618828,
          66.02419003171661,
          66.24612711724495,
          66.46806420277329,
          66.69000128830163,
          66.91193837382997,
          67.13387545935831,
          67.35581254488665,
          67.57774963041498,
          67.79968671594332,
          68.02162380147166,
          68.243560887,
          68.46549797252837,
          68.68743505805668,
          68.90937214358505,
          69.13130922911338,
          69.3532463146417,
          69.57518340017006,
          69.7971204856984,
          70.01905757122674,
          70.24099465675508,
          70.46293174228342,
          70.68486882781175,
          70.9068059133401,
          71.12874299886843,
          71.35068008439677,
          71.57261716992511,
          71.79455425545345,
          72.01649134098182,
          72.23842842651013,
          72.46036551203846,
          72.68230259756683,
          72.90423968309517,
          73.12617676862351,
          73.34811385415185,
          73.57005093968019,
          73.79198802520852,
          74.01392511073686,
          74.2358621962652,
          74.45779928179354,
          74.67973636732188,
          74.90167345285022,
          75.12361053837856
         ],
         "xaxis": "x",
         "y": [
          0.0003657069893755027,
          0.0003644120779445636,
          0.00036055478921750696,
          0.0003542164927624343,
          0.00034552962803451374,
          0.0003346731032708889,
          0.00032186617060899094,
          0.00030736107021225455,
          0.00029143478777497175,
          0.00027438030070788975,
          0.00025649769737609004,
          0.0002380855413168609,
          0.00021943282021225552,
          0.00020081177058587605,
          0.00018247180774872256,
          0.00016463472104450273,
          0.00014749122176526498,
          0.00013119885988951011,
          0.00011588126021355946,
          0.0001016285719262814,
          8.849898070784447e-05,
          7.652110048580882e-05,
          6.56970435100739e-05,
          5.60059619315834e-05,
          4.740786032144128e-05,
          3.984749468495028e-05,
          3.325819726494748e-05,
          2.7565495378612166e-05,
          2.2690424308397043e-05,
          1.8552466681114994e-05,
          1.5072081946725986e-05,
          1.2172818032108482e-05,
          9.783021944772679e-06,
          7.837186406259174e-06,
          6.276985251994753e-06,
          5.052061402687561e-06,
          4.120637982343568e-06,
          3.45002606580638e-06,
          3.0171020839620646e-06,
          2.808824588764782e-06,
          2.822854309976864e-06,
          3.068333546485414e-06,
          3.5668711348794974e-06,
          4.35376762064646e-06,
          5.479501826798231e-06,
          7.011484725119935e-06,
          9.036069324389038e-06,
          1.166078622152625e-05,
          1.5016753670835933e-05,
          1.9261188862966984e-05,
          2.4579924167566164e-05,
          3.1189809268176e-05,
          3.934085859598883e-05,
          4.931798473614304e-05,
          6.144214427345196e-05,
          7.607071477490545e-05,
          9.359692224653527e-05,
          0.00011444814934182078,
          0.00013908297747395666,
          0.00016798685199257533,
          0.00020166630929755892,
          0.00024064176794825492,
          0.00028543896131166455,
          0.00033657917486577804,
          0.0003945685436544889,
          0.00045988676027942737,
          0.0005329756360256856,
          0.0006142280414002365,
          0.0007039778212918525,
          0.0008024913279143888,
          0.0009099612358512343,
          0.0010265032928907314,
          0.001152156614191389,
          0.0012868880435211315,
          0.0014306009836698172,
          0.0015831489405408173,
          0.0017443538359702292,
          0.001914028929212814,
          0.0020920059544210375,
          0.002278165841103716,
          0.0024724721474678455,
          0.002675006114416972,
          0.0028860020526568584,
          0.0031058816182900286,
          0.003335285423938306,
          0.0035751003817955456,
          0.003826481189097179,
          0.004090864449962208,
          0.004369974082414899,
          0.004665816884742458,
          0.004980667427282726,
          0.005317041787286583,
          0.0056776600456554145,
          0.006065397902204617,
          0.006483228225063659,
          0.006934153811968475,
          0.007421133086740846,
          0.007947000862127383,
          0.008514386648851473,
          0.009125633259123326,
          0.009782718621411226,
          0.010487183775215606,
          0.011240069937178552,
          0.01204186731572347,
          0.012892477999698311,
          0.013791194763826713,
          0.014736697034869323,
          0.015727064570180645,
          0.016759808645459118,
          0.017831919768170692,
          0.01893993016941769,
          0.02007998862433433,
          0.021247944553280253,
          0.022439437903258714,
          0.023649991034138493,
          0.02487509876035988,
          0.026110312836253542,
          0.02735131751812051,
          0.02859399337033632,
          0.029834467173477684,
          0.03106914659533453,
          0.03229473914731305,
          0.0335082558110488,
          0.03470700052487839,
          0.03588854741382229,
          0.03705070818595227,
          0.038191492471654306,
          0.03930906403526853,
          0.04040169574265149,
          0.04146772594139521,
          0.04250551853495089,
          0.04351342855057904,
          0.04448977446284711,
          0.04543281798937668,
          0.04634075156984356,
          0.04721169331068297,
          0.04804368885268994,
          0.04883471940927146,
          0.04958271512810815,
          0.05028557293430291,
          0.050941178094586176,
          0.05154742886921951,
          0.052102263758124136,
          0.05260369096968871,
          0.05304981981968342,
          0.053438893787315214,
          0.053769324909473046,
          0.054039729086873,
          0.054248961720738655,
          0.05439615291671966,
          0.054480741309099155,
          0.054502505399112715,
          0.054461591190228024,
          0.05435853485929168,
          0.05419427923718088,
          0.053970182989499446,
          0.05368802158221168,
          0.053349979376944585,
          0.052958632508455485,
          0.05251692253153635,
          0.05202812116450894,
          0.0514957867808147,
          0.050923713591578795,
          0.05031587470743581,
          0.04967636045947617,
          0.04900931349408474,
          0.04831886223628402,
          0.04760905434583182,
          0.046883791776597336,
          0.046146768999994855,
          0.04540141587418162,
          0.044650846537339674,
          0.04389781557856774,
          0.04314468259437336,
          0.042393386071350195,
          0.0416454273440958,
          0.04090186515941461,
          0.04016332113191297,
          0.03942999610272652,
          0.038701697115538336,
          0.037977874408676546,
          0.03725766749868337,
          0.0365399591120863,
          0.0358234354232943,
          0.03510665079402405,
          0.034388094999953746,
          0.03366626078868705,
          0.0329397095522666,
          0.03220713292633376,
          0.0314674082508147,
          0.030719646042649706,
          0.02996322793301269,
          0.029197833897800566,
          0.028423458044318697,
          0.027640412688627422,
          0.026849320943930183,
          0.026051098516388378,
          0.025246925846769703,
          0.024438212121909293,
          0.02362655298958946,
          0.022813684028697722,
          0.022001432142946538,
          0.02119166705612882,
          0.020386254990720006,
          0.019587016416229102,
          0.018795689470935913,
          0.018013900307001722,
          0.01724314120446693,
          0.016484756866830104,
          0.015739938873309666,
          0.015009727843843548,
          0.014295022494096142,
          0.013596594438143908,
          0.012915107351189935,
          0.012251138944136276,
          0.0116052041315959,
          0.010977777795264699,
          0.010369315650823068,
          0.009780271909531539,
          0.009211112672483276,
          0.00866232429028516,
          0.008134416246108306,
          0.007627918457132157,
          0.00714337322015136,
          0.006681322334379528,
          0.00624229020300704,
          0.005826763932100075,
          0.005435171601165979,
          0.0050678599676435634,
          0.004725072884633152,
          0.0044069316577969265,
          0.004113418447424331,
          0.003844363642355299,
          0.003599437904012322,
          0.0033781493140866933,
          0.003179845773472572,
          0.0030037225093340427,
          0.0028488342688804884,
          0.0027141115293910652,
          0.0025983798498330894,
          0.0025003813432384406,
          0.002418797170602869,
          0.0023522699519195923,
          0.002299425058564206,
          0.0022588898888497074,
          0.0022293104251992334,
          0.0022093646123757154,
          0.0021977723631392996,
          0.00219330226972178,
          0.002194775354946303,
          0.0022010664149829644,
          0.0022111036686747925,
          0.0022238675225314925,
          0.0022383892779834526,
          0.002253750546936959,
          0.002269084008470869,
          0.0022835759454979906,
          0.0022964707627109683,
          0.0023070774275093923,
          0.0023147775174069646,
          0.002319034324282196,
          0.0023194022793723867,
          0.0023155358407438527,
          0.0023071969391384854,
          0.0022942601139435224,
          0.002276714586717222,
          0.0022546627063560654,
          0.002228314442496946,
          0.002197977882105146,
          0.0021640459752815967,
          0.002126980055922957,
          0.0020872909077975384,
          0.002045518336674212,
          0.0020022103288641524,
          0.0019579029163420245,
          0.0019131018255757113,
          0.0018682668651356473,
          0.0018237998161927515,
          0.0017800363455788718,
          0.0017372421825316458,
          0.0016956135091915532,
          0.0016552812334468395,
          0.0016163185616288654,
          0.0015787510857772093,
          0.0015425684595013736,
          0.001507736666596011,
          0.0014742098907331075,
          0.0014419410704276164,
          0.001410890363567902,
          0.0013810309382271955,
          0.001352351735956241,
          0.0013248571028665812,
          0.0012985634342554627,
          0.0012734932124473552,
          0.0012496670187350724,
          0.0012270942552963945,
          0.0012057634117670333,
          0.001185632747889286,
          0.0011666222368298855,
          0.001148607526250701,
          0.0011314165329970967,
          0.0011148291028710085,
          0.0010985799526999607,
          0.0010823648829754516,
          0.0010658500216902441,
          0.0010486836493293096,
          0.0010305099755571303,
          0.0010109841019258436,
          0.0009897873206583018,
          0.0009666418722287993,
          0.0009413243149918329,
          0.0009136767453357373,
          0.0008836152398227565,
          0.0008511350613804686,
          0.0008163123673122958,
          0.0007793023637880031,
          0.0007403340553358207,
          0.0006997019252230749,
          0.0006577550417571557,
          0.0006148842072849019,
          0.0005715078449508718,
          0.0005280573504371655,
          0.0004849626227053102,
          0.00044263843308996355,
          0.00040147220248585414,
          0.0003618136403006447,
          0.0003239665659528171,
          0.00028818309394337854,
          0.0002546602264480824,
          0.00022353877137207224,
          0.0001949043956574722,
          0.00016879053814954263,
          0.00014518284621835073,
          0.00012402476625484612,
          0.00010522390891523413,
          8.865882285461858e-05,
          7.418584182915637e-05,
          6.16457149340806e-05,
          5.0869783610131986e-05,
          4.168552725440145e-05,
          3.392135762409375e-05,
          2.7410597213259044e-05,
          2.1994625720924933e-05,
          1.7525219791181012e-05,
          1.3866143412121684e-05,
          1.08940694895958e-05,
          8.498927571179924e-06,
          6.583779371258201e-06,
          5.064323844517167e-06,
          3.868128446558919e-06,
          2.9336743182401925e-06,
          2.209291777339663e-06,
          1.6520498934174346e-06,
          1.2266510596749185e-06,
          9.043691408714209e-07,
          6.620585302563564e-07,
          4.812516474521269e-07,
          3.473542314693882e-07,
          2.489412616431554e-07,
          1.7715139753162163e-07,
          1.2517431428602083e-07,
          8.782302505188227e-08,
          6.118200928219859e-08,
          4.232148830300227e-08,
          2.9068304396854894e-08,
          1.982438797520423e-08,
          1.3424588395748564e-08,
          9.026576674430808e-09,
          6.026510338345025e-09,
          3.995115298078196e-09,
          2.629742196966176e-09,
          1.7187683958642954e-09,
          1.1154285712171708e-09,
          7.187639669000685e-10,
          4.598867251033422e-10,
          2.921698658811849e-10,
          1.8430617017913052e-10,
          1.1544208889610807e-10,
          7.179732700427853e-11,
          4.4337594523009906e-11,
          2.718664967972648e-11,
          1.655232219755075e-11,
          1.0006491187174962e-11,
          6.006539265930311e-12,
          3.5800279442696006e-12,
          2.1186932533667135e-12,
          1.2449998591509266e-12,
          7.264237844569043e-13,
          4.208529033234828e-13,
          2.4209738891966383e-13,
          1.3828318607697506e-13,
          7.842745686934089e-14,
          4.4165826663487775e-14,
          2.4695855088182053e-14,
          1.3711382978190952e-14,
          7.558889997294031e-15,
          4.137658953390771e-15,
          2.248912447682471e-15,
          1.2137145404442996e-15,
          6.504377411375176e-16,
          3.4618879310348937e-16,
          1.8311235315016886e-16,
          9.649073120122677e-17,
          5.1125084871270167e-17,
          2.8158011514186323e-17,
          1.7839949373973495e-17,
          1.5704314213784177e-17,
          2.077790580084088e-17,
          3.516901984454723e-17,
          6.487269141665407e-17,
          1.2207243728747824e-16,
          2.2974441242464343e-16,
          4.3015011509976e-16,
          8.000750512330744e-16,
          1.4778043438418974e-15,
          2.710421899528737e-15,
          4.9360517720687695e-15,
          8.925704848796277e-15,
          1.6025980234528868e-14,
          2.85710207142704e-14,
          5.0576169162466155e-14,
          8.889659258106881e-14,
          1.5514697187053966e-13,
          2.688564727350501e-13,
          4.626117866290471e-13,
          7.903726341312583e-13,
          1.3408064790445376e-12,
          2.2584959125848036e-12,
          3.77738735270448e-12,
          6.273107628429001e-12,
          1.034410593967766e-11,
          1.693644221114546e-11,
          2.753407007835155e-11,
          4.444650805012958e-11,
          7.123999543150043e-11,
          1.1337808665068319e-10,
          1.791650801948353e-10,
          2.8112315416517396e-10,
          4.3798462920393375e-10,
          6.775480910339104e-10,
          1.0407355423876147e-09,
          1.5873023197574412e-09,
          2.403797722474535e-09,
          3.614557948406309e-09,
          5.396739659372477e-09,
          8.0006771976427e-09,
          1.1777172401738537e-08,
          1.7213703605341783e-08,
          2.4981965999284208e-08,
          3.5999619381574386e-08,
          5.1509603769333634e-08,
          7.318086072415604e-08,
          1.0323472879059706e-07,
          1.4460161156293315e-07,
          2.0111267798652768e-07,
          2.777312628568425e-07,
          3.808281936119304e-07,
          5.185043694374535e-07,
          7.009624475953704e-07,
          9.409273405003797e-07,
          1.2541123010184715e-06,
          1.65972360733919e-06,
          2.1809922325733695e-06,
          2.845715441229487e-06,
          3.6867851194075896e-06,
          4.742673039708185e-06,
          6.057836516536978e-06,
          7.683001468256314e-06,
          9.675274325384111e-06,
          1.2098030158982003e-05,
          1.5020522565288308e-05,
          1.8517161966564064e-05,
          2.2666413770773533e-05,
          2.7549276862322775e-05,
          3.324731657373839e-05,
          3.9840244748088514e-05,
          4.740306253675223e-05,
          5.6002808578158825e-05,
          6.569498512496196e-05,
          7.651976604421698e-05,
          8.849812151933314e-05,
          0.0001016280225240326,
          0.00011588091131214429,
          0.00013119863983883018,
          0.00014749108393396481,
          0.00016463463530603774,
          0.00018247175478189532,
          0.000200811738089843,
          0.00021943280041282636,
          0.00023808552933652743,
          0.0002564976901770086,
          0.000274380296411782,
          0.0002914347852289537,
          0.000307361068713833,
          0.0003218661697332185,
          0.0003346731027625758,
          0.0003455296277415238,
          0.0003542164925947265,
          0.00036055478912217604,
          0.0003644120778907502
         ],
         "yaxis": "y"
        },
        {
         "legendgroup": "Residuals",
         "marker": {
          "color": "rgb(31, 119, 180)",
          "symbol": "line-ns-open"
         },
         "mode": "markers",
         "name": "Residuals",
         "showlegend": false,
         "type": "scatter",
         "x": [
          -9.264174685834952,
          -5.631098981360807,
          -1.580033030583948,
          6.346153305878758,
          -3.0755624607349077,
          1.0858878455024765,
          1.674205485645686,
          -0.17538261446570402,
          9.680071062414573,
          -12.528272175325945,
          7.910641938289153,
          4.999658229875969,
          -1.4830178436343004,
          -3.0379910855519476,
          -11.350423427858189,
          12.285497747458976,
          19.313318446217266,
          0.33505928767080917,
          -4.481657290965998,
          0.2063788781735667,
          -5.846976932374854,
          2.078029195751334,
          -4.4277747426689515,
          -0.014707656528663904,
          3.9409529051843464,
          -4.831795289974252,
          10.00001105090196,
          -8.440811703747748,
          4.2627358187182836,
          11.319118928505851,
          8.844087661810228,
          -15.526202122688119,
          3.6184903166851683,
          2.871464421755988,
          7.980066326608359,
          -6.154180469710081,
          -7.443048690446268,
          -5.738792828935583,
          3.214482294256598,
          0.2822176761348629,
          1.5151321554234531,
          1.7204231956522555,
          -1.8327470876891283,
          -6.173715298889327,
          6.128312404771712,
          -1.5357297316615615,
          -4.842884272800802,
          24.00708371374185,
          0.8091459081810175,
          3.7628056880932483,
          2.4098851223163393,
          -3.4238798182330363,
          -7.71657205406882,
          -2.654576705257206,
          6.1866008506332975,
          -9.513943951666807,
          -1.5129522894400012,
          7.737845335193924,
          9.127979431964015,
          1.842180506428484,
          -12.576046229575876,
          12.772949033454282,
          -1.868849372016303,
          7.201374467669666,
          -8.057691336127572,
          0.6961118130246149,
          3.6949320671148627,
          9.763879237638136,
          -7.008792456174703,
          -3.2444551738171867,
          4.696778256654397,
          5.7667195343872635,
          -8.785147569716358,
          4.81150058156436,
          1.6282078641228495,
          -3.1678591386216794,
          -1.1618817507634986,
          -2.65141100237215,
          -2.9812580127083486,
          -1.7769756619245527,
          -4.594148982528353,
          -1.0489177607916673,
          2.283963308613785,
          -6.812608059437299,
          -0.6154214634960198,
          1.3939144840940543,
          -4.464429853849651,
          1.4211747962897796,
          11.103847747455802,
          8.871440494480158,
          2.9515635303499934,
          4.637703078474445,
          -6.267808995873747,
          -7.444751978295606,
          6.0585142964228,
          7.622763457647849,
          5.995275055375714,
          -2.8624860452749985,
          3.852399765811242,
          8.695275055375717,
          -6.518803176430808,
          -6.33226743623036,
          6.995683667752381,
          1.9358839789803852,
          -4.997643283035359,
          22.354519678808174,
          -0.8346731846462703,
          -5.237289627660537,
          -2.1391550062329756,
          -8.259416874639648,
          6.597328721820851,
          -5.584391562556995,
          -10.73483652084942,
          -35.622995140263264,
          9.895787049092903,
          7.711952204027874,
          10.914930724305304,
          -0.27019821497015073,
          -3.082060686023759,
          12.080089303550814,
          -10.685897816855867,
          4.385035873458037,
          -8.030365450902536,
          1.6428197445147816,
          10.28378914219629,
          0.7643625561537206,
          27.655461928886687,
          5.99500270509634,
          23.592435676888456,
          -2.5167343638968305,
          -7.319072813902494,
          -5.533230538176941,
          -3.027165570388206,
          -8.297182861629153,
          5.529031547627895,
          -10.103790783030671,
          2.774651850226107,
          1.940440382857922,
          5.252911136040893,
          2.973738003789549,
          5.056031339670334,
          -10.810910179650456,
          -4.511639614615888,
          -3.5149641265419618,
          -2.23440965443897,
          -0.7754052536420204,
          11.76771476163158,
          -3.923031494528729,
          29.54551783463885,
          -0.5621690959267625,
          8.014223200049855,
          -9.894798628031637,
          -2.9911655018628167,
          -2.496367645361353,
          4.247361132752484,
          0.41150058156435954,
          -8.38838027628044,
          -6.623045488090973,
          -5.85516606009751,
          -1.9910992051833105,
          10.663310450572496,
          -2.008144573790922,
          -1.2439989475809856,
          8.463879237638139,
          14.341528425168875,
          -4.884471571096036,
          21.955810998154078,
          -1.996200315287389,
          0.28722115600375986,
          -7.76837433674973,
          1.7174374181844545,
          10.59863427895543,
          3.796778256654399,
          -2.2779646078455684,
          -6.5109661757731345,
          0.5711875855395192,
          6.2788771115139745,
          -2.8286833188976743,
          -9.111554734473245,
          3.327279045836441,
          6.320817053675455,
          4.305143179295008,
          -10.074126513533336,
          2.7636344478212784,
          -0.5911034441052827,
          -8.785943940270954,
          -4.158674150092157,
          -0.9908937329137188,
          1.9610449488225612,
          6.879307415660151,
          -1.5809644290095122,
          -1.624047881519985,
          4.2325660036069195,
          0.8253123695756557,
          13.225593080261024,
          -5.388958551691211,
          -1.218018793526788,
          5.641842026421003,
          -0.8638315858901464,
          -14.910354157079745,
          -8.315950384830103,
          -2.181536231860811,
          -1.9090403352538488,
          2.587977622578002,
          -1.6769756619245513,
          -15.604750866217366,
          -6.333229943234073,
          0.21687967857469914,
          -2.8322812818549217,
          -0.25359102531329114,
          2.653418396352393,
          -0.2321302541777186,
          -6.3475084092046,
          6.156414077299814,
          -14.526768974049084,
          1.4160794942532462,
          7.414446445044817,
          -0.6008061761069285,
          0.6112222099207401,
          -2.1802185448021163,
          33.32905728502719,
          -0.5154211950884928,
          -0.5567516232513299,
          3.737703078474439,
          4.060967125922616,
          0.7381762196891941,
          -0.8036676686317143,
          -3.257493112764493,
          12.129306808026378,
          -8.094994341567144,
          -2.8332305381769416,
          1.659832640961394,
          5.391915183068157,
          -11.96831034369334,
          -10.144259966018218,
          -4.182968372972212,
          7.0052501644480785,
          1.045570714672067,
          3.023015952066636,
          -5.107335870050338,
          -4.419199165460849,
          -5.718546229738969,
          -0.3833591521766735,
          1.616213384815822,
          -16.808030206428885,
          -5.076088634600822,
          -3.1827950007294916,
          -8.654825106154384,
          -9.003039182393149,
          7.601336348242512,
          -9.648887103378911,
          -9.832242780283377,
          2.0592940505232065,
          0.024814625139150337,
          4.443230360288723,
          8.652381524675,
          -10.967707267580408,
          4.66356782280436,
          11.655810998154081,
          -3.973886385867626,
          -6.522944464230751,
          -5.285398826526581,
          8.28509764935643,
          -4.1339821388144635,
          0.5192697872995282,
          -2.0895960039064434,
          -10.097702664364807,
          4.469822230960382,
          -5.78784281500284,
          -9.37463798650515,
          75.3455476239069,
          -17.577656273534558,
          0.5744896044288907,
          -12.796286431377847,
          -1.652922536425649,
          2.2063788781735667,
          -3.22849888374094,
          -3.361554123315546,
          0.23588397898038238,
          -9.315689730113625,
          -2.601543903422318,
          -8.99116705417255,
          -6.241875091247856,
          -9.347079486775328,
          -9.08998672767084,
          18.840888208447538,
          5.2279729389227185,
          -4.301560946638894,
          2.888679829135981,
          -2.889727550126736,
          6.098075309158048,
          9.042228509692357,
          -14.435453631170276,
          -0.35280343358135724,
          -7.163678435506334,
          -8.757924532409742,
          -8.022101003504211,
          -5.597680987075364,
          1.4403280845801412,
          -1.5919457450849208,
          -8.301055518977229,
          6.437212642708076,
          -8.114465136210857,
          5.4251274456359155,
          -5.0991727573014956,
          9.513538787733523,
          8.004673201887456,
          2.9602817410752316,
          5.852399765811242,
          -5.986251903698211,
          -7.623243426655609,
          1.6390218762073374,
          33.26909779125526,
          -3.432489188500952,
          -5.717463988651069,
          -8.81836997919363,
          -3.942604193619445,
          -0.08657540122294449,
          -5.027044782025953,
          -8.567912801068452,
          6.586557632453697,
          -4.186856893524961,
          -6.898923461175762,
          -1.600892307763388,
          0.5939984114136685,
          -1.7357297316615572,
          13.50589905228626,
          -8.104120316917758,
          -10.428177991329356,
          5.929801785029849,
          -11.558735155862632,
          3.1207812985690904,
          6.29787091521812,
          -4.973604968493056,
          -16.78661668199602,
          -5.469373278720923,
          -1.7780996442192176,
          -4.856852304010864,
          -5.861578086214834,
          -0.21490225908164717,
          8.509357013452608,
          -1.6204163076590703,
          3.6577908492445204,
          3.938827631070673,
          12.757629002148136,
          -2.1060989019057175,
          -3.541579445354909,
          0.6348140145984864,
          6.509278490862201,
          3.626395031506945,
          1.14467169410527,
          -4.121965664406524,
          -0.5785751068886391,
          -4.906292601074892,
          -2.1686107392610197,
          11.695002705096343,
          5.496729986017996,
          -7.9309805330227405,
          -2.7356374438462794,
          -4.753442490636008,
          1.4679728086390256,
          23.104764207668993,
          -4.388830469579261,
          -1.7046280747672427,
          -9.15662891070351,
          -0.5310773759747462,
          -1.467656906701631,
          -9.57234033757286,
          2.7448539560624354,
          -4.679852140751063,
          -1.75739490258038,
          6.8416099594898725,
          1.9354168134741485,
          8.467869745822284,
          1.290988055080561,
          -6.9762220927988885,
          -3.4970633250841274,
          7.634995741525742,
          -3.2402451407857384,
          18.48713210975457,
          5.964148324077357,
          -7.5530077699952045,
          15.38828162327518,
          3.3167398713356278,
          0.08293898952106282,
          -4.694069608493372,
          14.441528425168869,
          -5.670790824295544,
          -7.114216010701238,
          27.157400184388464,
          -6.328449522195477,
          -0.8028424627438646,
          -2.8853648587275558,
          -2.0015051111924578,
          8.814618795006208,
          3.1425830058633437,
          3.7439791500331907,
          -13.051175028495706,
          -10.997063325084127,
          -2.363588547830844,
          -5.399476032650455,
          -5.315488926442232,
          -10.695291887314852,
          -5.129956550763197,
          -5.516279122588273,
          -0.3812327536195852,
          -9.117054278796786,
          -4.693806669988771,
          -3.747880790563066,
          1.0420700925255009,
          0.13085291214429162,
          -6.238105491062377,
          7.923515058286284,
          9.996026656014145
         ],
         "xaxis": "x",
         "y": [
          "Residuals",
          "Residuals",
          "Residuals",
          "Residuals",
          "Residuals",
          "Residuals",
          "Residuals",
          "Residuals",
          "Residuals",
          "Residuals",
          "Residuals",
          "Residuals",
          "Residuals",
          "Residuals",
          "Residuals",
          "Residuals",
          "Residuals",
          "Residuals",
          "Residuals",
          "Residuals",
          "Residuals",
          "Residuals",
          "Residuals",
          "Residuals",
          "Residuals",
          "Residuals",
          "Residuals",
          "Residuals",
          "Residuals",
          "Residuals",
          "Residuals",
          "Residuals",
          "Residuals",
          "Residuals",
          "Residuals",
          "Residuals",
          "Residuals",
          "Residuals",
          "Residuals",
          "Residuals",
          "Residuals",
          "Residuals",
          "Residuals",
          "Residuals",
          "Residuals",
          "Residuals",
          "Residuals",
          "Residuals",
          "Residuals",
          "Residuals",
          "Residuals",
          "Residuals",
          "Residuals",
          "Residuals",
          "Residuals",
          "Residuals",
          "Residuals",
          "Residuals",
          "Residuals",
          "Residuals",
          "Residuals",
          "Residuals",
          "Residuals",
          "Residuals",
          "Residuals",
          "Residuals",
          "Residuals",
          "Residuals",
          "Residuals",
          "Residuals",
          "Residuals",
          "Residuals",
          "Residuals",
          "Residuals",
          "Residuals",
          "Residuals",
          "Residuals",
          "Residuals",
          "Residuals",
          "Residuals",
          "Residuals",
          "Residuals",
          "Residuals",
          "Residuals",
          "Residuals",
          "Residuals",
          "Residuals",
          "Residuals",
          "Residuals",
          "Residuals",
          "Residuals",
          "Residuals",
          "Residuals",
          "Residuals",
          "Residuals",
          "Residuals",
          "Residuals",
          "Residuals",
          "Residuals",
          "Residuals",
          "Residuals",
          "Residuals",
          "Residuals",
          "Residuals",
          "Residuals",
          "Residuals",
          "Residuals",
          "Residuals",
          "Residuals",
          "Residuals",
          "Residuals",
          "Residuals",
          "Residuals",
          "Residuals",
          "Residuals",
          "Residuals",
          "Residuals",
          "Residuals",
          "Residuals",
          "Residuals",
          "Residuals",
          "Residuals",
          "Residuals",
          "Residuals",
          "Residuals",
          "Residuals",
          "Residuals",
          "Residuals",
          "Residuals",
          "Residuals",
          "Residuals",
          "Residuals",
          "Residuals",
          "Residuals",
          "Residuals",
          "Residuals",
          "Residuals",
          "Residuals",
          "Residuals",
          "Residuals",
          "Residuals",
          "Residuals",
          "Residuals",
          "Residuals",
          "Residuals",
          "Residuals",
          "Residuals",
          "Residuals",
          "Residuals",
          "Residuals",
          "Residuals",
          "Residuals",
          "Residuals",
          "Residuals",
          "Residuals",
          "Residuals",
          "Residuals",
          "Residuals",
          "Residuals",
          "Residuals",
          "Residuals",
          "Residuals",
          "Residuals",
          "Residuals",
          "Residuals",
          "Residuals",
          "Residuals",
          "Residuals",
          "Residuals",
          "Residuals",
          "Residuals",
          "Residuals",
          "Residuals",
          "Residuals",
          "Residuals",
          "Residuals",
          "Residuals",
          "Residuals",
          "Residuals",
          "Residuals",
          "Residuals",
          "Residuals",
          "Residuals",
          "Residuals",
          "Residuals",
          "Residuals",
          "Residuals",
          "Residuals",
          "Residuals",
          "Residuals",
          "Residuals",
          "Residuals",
          "Residuals",
          "Residuals",
          "Residuals",
          "Residuals",
          "Residuals",
          "Residuals",
          "Residuals",
          "Residuals",
          "Residuals",
          "Residuals",
          "Residuals",
          "Residuals",
          "Residuals",
          "Residuals",
          "Residuals",
          "Residuals",
          "Residuals",
          "Residuals",
          "Residuals",
          "Residuals",
          "Residuals",
          "Residuals",
          "Residuals",
          "Residuals",
          "Residuals",
          "Residuals",
          "Residuals",
          "Residuals",
          "Residuals",
          "Residuals",
          "Residuals",
          "Residuals",
          "Residuals",
          "Residuals",
          "Residuals",
          "Residuals",
          "Residuals",
          "Residuals",
          "Residuals",
          "Residuals",
          "Residuals",
          "Residuals",
          "Residuals",
          "Residuals",
          "Residuals",
          "Residuals",
          "Residuals",
          "Residuals",
          "Residuals",
          "Residuals",
          "Residuals",
          "Residuals",
          "Residuals",
          "Residuals",
          "Residuals",
          "Residuals",
          "Residuals",
          "Residuals",
          "Residuals",
          "Residuals",
          "Residuals",
          "Residuals",
          "Residuals",
          "Residuals",
          "Residuals",
          "Residuals",
          "Residuals",
          "Residuals",
          "Residuals",
          "Residuals",
          "Residuals",
          "Residuals",
          "Residuals",
          "Residuals",
          "Residuals",
          "Residuals",
          "Residuals",
          "Residuals",
          "Residuals",
          "Residuals",
          "Residuals",
          "Residuals",
          "Residuals",
          "Residuals",
          "Residuals",
          "Residuals",
          "Residuals",
          "Residuals",
          "Residuals",
          "Residuals",
          "Residuals",
          "Residuals",
          "Residuals",
          "Residuals",
          "Residuals",
          "Residuals",
          "Residuals",
          "Residuals",
          "Residuals",
          "Residuals",
          "Residuals",
          "Residuals",
          "Residuals",
          "Residuals",
          "Residuals",
          "Residuals",
          "Residuals",
          "Residuals",
          "Residuals",
          "Residuals",
          "Residuals",
          "Residuals",
          "Residuals",
          "Residuals",
          "Residuals",
          "Residuals",
          "Residuals",
          "Residuals",
          "Residuals",
          "Residuals",
          "Residuals",
          "Residuals",
          "Residuals",
          "Residuals",
          "Residuals",
          "Residuals",
          "Residuals",
          "Residuals",
          "Residuals",
          "Residuals",
          "Residuals",
          "Residuals",
          "Residuals",
          "Residuals",
          "Residuals",
          "Residuals",
          "Residuals",
          "Residuals",
          "Residuals",
          "Residuals",
          "Residuals",
          "Residuals",
          "Residuals",
          "Residuals",
          "Residuals",
          "Residuals",
          "Residuals",
          "Residuals",
          "Residuals",
          "Residuals",
          "Residuals",
          "Residuals",
          "Residuals",
          "Residuals",
          "Residuals",
          "Residuals",
          "Residuals",
          "Residuals",
          "Residuals",
          "Residuals",
          "Residuals",
          "Residuals",
          "Residuals",
          "Residuals",
          "Residuals",
          "Residuals",
          "Residuals",
          "Residuals",
          "Residuals",
          "Residuals",
          "Residuals",
          "Residuals",
          "Residuals",
          "Residuals",
          "Residuals",
          "Residuals",
          "Residuals",
          "Residuals",
          "Residuals",
          "Residuals",
          "Residuals",
          "Residuals",
          "Residuals",
          "Residuals",
          "Residuals",
          "Residuals",
          "Residuals",
          "Residuals",
          "Residuals",
          "Residuals",
          "Residuals",
          "Residuals",
          "Residuals",
          "Residuals",
          "Residuals",
          "Residuals",
          "Residuals",
          "Residuals",
          "Residuals",
          "Residuals",
          "Residuals",
          "Residuals",
          "Residuals",
          "Residuals",
          "Residuals",
          "Residuals",
          "Residuals",
          "Residuals",
          "Residuals",
          "Residuals",
          "Residuals",
          "Residuals",
          "Residuals",
          "Residuals",
          "Residuals",
          "Residuals",
          "Residuals",
          "Residuals",
          "Residuals",
          "Residuals",
          "Residuals",
          "Residuals"
         ],
         "yaxis": "y2"
        }
       ],
       "layout": {
        "barmode": "overlay",
        "hovermode": "closest",
        "legend": {
         "traceorder": "reversed"
        },
        "template": {
         "data": {
          "bar": [
           {
            "error_x": {
             "color": "#2a3f5f"
            },
            "error_y": {
             "color": "#2a3f5f"
            },
            "marker": {
             "line": {
              "color": "#E5ECF6",
              "width": 0.5
             },
             "pattern": {
              "fillmode": "overlay",
              "size": 10,
              "solidity": 0.2
             }
            },
            "type": "bar"
           }
          ],
          "barpolar": [
           {
            "marker": {
             "line": {
              "color": "#E5ECF6",
              "width": 0.5
             },
             "pattern": {
              "fillmode": "overlay",
              "size": 10,
              "solidity": 0.2
             }
            },
            "type": "barpolar"
           }
          ],
          "carpet": [
           {
            "aaxis": {
             "endlinecolor": "#2a3f5f",
             "gridcolor": "white",
             "linecolor": "white",
             "minorgridcolor": "white",
             "startlinecolor": "#2a3f5f"
            },
            "baxis": {
             "endlinecolor": "#2a3f5f",
             "gridcolor": "white",
             "linecolor": "white",
             "minorgridcolor": "white",
             "startlinecolor": "#2a3f5f"
            },
            "type": "carpet"
           }
          ],
          "choropleth": [
           {
            "colorbar": {
             "outlinewidth": 0,
             "ticks": ""
            },
            "type": "choropleth"
           }
          ],
          "contour": [
           {
            "colorbar": {
             "outlinewidth": 0,
             "ticks": ""
            },
            "colorscale": [
             [
              0,
              "#0d0887"
             ],
             [
              0.1111111111111111,
              "#46039f"
             ],
             [
              0.2222222222222222,
              "#7201a8"
             ],
             [
              0.3333333333333333,
              "#9c179e"
             ],
             [
              0.4444444444444444,
              "#bd3786"
             ],
             [
              0.5555555555555556,
              "#d8576b"
             ],
             [
              0.6666666666666666,
              "#ed7953"
             ],
             [
              0.7777777777777778,
              "#fb9f3a"
             ],
             [
              0.8888888888888888,
              "#fdca26"
             ],
             [
              1,
              "#f0f921"
             ]
            ],
            "type": "contour"
           }
          ],
          "contourcarpet": [
           {
            "colorbar": {
             "outlinewidth": 0,
             "ticks": ""
            },
            "type": "contourcarpet"
           }
          ],
          "heatmap": [
           {
            "colorbar": {
             "outlinewidth": 0,
             "ticks": ""
            },
            "colorscale": [
             [
              0,
              "#0d0887"
             ],
             [
              0.1111111111111111,
              "#46039f"
             ],
             [
              0.2222222222222222,
              "#7201a8"
             ],
             [
              0.3333333333333333,
              "#9c179e"
             ],
             [
              0.4444444444444444,
              "#bd3786"
             ],
             [
              0.5555555555555556,
              "#d8576b"
             ],
             [
              0.6666666666666666,
              "#ed7953"
             ],
             [
              0.7777777777777778,
              "#fb9f3a"
             ],
             [
              0.8888888888888888,
              "#fdca26"
             ],
             [
              1,
              "#f0f921"
             ]
            ],
            "type": "heatmap"
           }
          ],
          "heatmapgl": [
           {
            "colorbar": {
             "outlinewidth": 0,
             "ticks": ""
            },
            "colorscale": [
             [
              0,
              "#0d0887"
             ],
             [
              0.1111111111111111,
              "#46039f"
             ],
             [
              0.2222222222222222,
              "#7201a8"
             ],
             [
              0.3333333333333333,
              "#9c179e"
             ],
             [
              0.4444444444444444,
              "#bd3786"
             ],
             [
              0.5555555555555556,
              "#d8576b"
             ],
             [
              0.6666666666666666,
              "#ed7953"
             ],
             [
              0.7777777777777778,
              "#fb9f3a"
             ],
             [
              0.8888888888888888,
              "#fdca26"
             ],
             [
              1,
              "#f0f921"
             ]
            ],
            "type": "heatmapgl"
           }
          ],
          "histogram": [
           {
            "marker": {
             "pattern": {
              "fillmode": "overlay",
              "size": 10,
              "solidity": 0.2
             }
            },
            "type": "histogram"
           }
          ],
          "histogram2d": [
           {
            "colorbar": {
             "outlinewidth": 0,
             "ticks": ""
            },
            "colorscale": [
             [
              0,
              "#0d0887"
             ],
             [
              0.1111111111111111,
              "#46039f"
             ],
             [
              0.2222222222222222,
              "#7201a8"
             ],
             [
              0.3333333333333333,
              "#9c179e"
             ],
             [
              0.4444444444444444,
              "#bd3786"
             ],
             [
              0.5555555555555556,
              "#d8576b"
             ],
             [
              0.6666666666666666,
              "#ed7953"
             ],
             [
              0.7777777777777778,
              "#fb9f3a"
             ],
             [
              0.8888888888888888,
              "#fdca26"
             ],
             [
              1,
              "#f0f921"
             ]
            ],
            "type": "histogram2d"
           }
          ],
          "histogram2dcontour": [
           {
            "colorbar": {
             "outlinewidth": 0,
             "ticks": ""
            },
            "colorscale": [
             [
              0,
              "#0d0887"
             ],
             [
              0.1111111111111111,
              "#46039f"
             ],
             [
              0.2222222222222222,
              "#7201a8"
             ],
             [
              0.3333333333333333,
              "#9c179e"
             ],
             [
              0.4444444444444444,
              "#bd3786"
             ],
             [
              0.5555555555555556,
              "#d8576b"
             ],
             [
              0.6666666666666666,
              "#ed7953"
             ],
             [
              0.7777777777777778,
              "#fb9f3a"
             ],
             [
              0.8888888888888888,
              "#fdca26"
             ],
             [
              1,
              "#f0f921"
             ]
            ],
            "type": "histogram2dcontour"
           }
          ],
          "mesh3d": [
           {
            "colorbar": {
             "outlinewidth": 0,
             "ticks": ""
            },
            "type": "mesh3d"
           }
          ],
          "parcoords": [
           {
            "line": {
             "colorbar": {
              "outlinewidth": 0,
              "ticks": ""
             }
            },
            "type": "parcoords"
           }
          ],
          "pie": [
           {
            "automargin": true,
            "type": "pie"
           }
          ],
          "scatter": [
           {
            "fillpattern": {
             "fillmode": "overlay",
             "size": 10,
             "solidity": 0.2
            },
            "type": "scatter"
           }
          ],
          "scatter3d": [
           {
            "line": {
             "colorbar": {
              "outlinewidth": 0,
              "ticks": ""
             }
            },
            "marker": {
             "colorbar": {
              "outlinewidth": 0,
              "ticks": ""
             }
            },
            "type": "scatter3d"
           }
          ],
          "scattercarpet": [
           {
            "marker": {
             "colorbar": {
              "outlinewidth": 0,
              "ticks": ""
             }
            },
            "type": "scattercarpet"
           }
          ],
          "scattergeo": [
           {
            "marker": {
             "colorbar": {
              "outlinewidth": 0,
              "ticks": ""
             }
            },
            "type": "scattergeo"
           }
          ],
          "scattergl": [
           {
            "marker": {
             "colorbar": {
              "outlinewidth": 0,
              "ticks": ""
             }
            },
            "type": "scattergl"
           }
          ],
          "scattermapbox": [
           {
            "marker": {
             "colorbar": {
              "outlinewidth": 0,
              "ticks": ""
             }
            },
            "type": "scattermapbox"
           }
          ],
          "scatterpolar": [
           {
            "marker": {
             "colorbar": {
              "outlinewidth": 0,
              "ticks": ""
             }
            },
            "type": "scatterpolar"
           }
          ],
          "scatterpolargl": [
           {
            "marker": {
             "colorbar": {
              "outlinewidth": 0,
              "ticks": ""
             }
            },
            "type": "scatterpolargl"
           }
          ],
          "scatterternary": [
           {
            "marker": {
             "colorbar": {
              "outlinewidth": 0,
              "ticks": ""
             }
            },
            "type": "scatterternary"
           }
          ],
          "surface": [
           {
            "colorbar": {
             "outlinewidth": 0,
             "ticks": ""
            },
            "colorscale": [
             [
              0,
              "#0d0887"
             ],
             [
              0.1111111111111111,
              "#46039f"
             ],
             [
              0.2222222222222222,
              "#7201a8"
             ],
             [
              0.3333333333333333,
              "#9c179e"
             ],
             [
              0.4444444444444444,
              "#bd3786"
             ],
             [
              0.5555555555555556,
              "#d8576b"
             ],
             [
              0.6666666666666666,
              "#ed7953"
             ],
             [
              0.7777777777777778,
              "#fb9f3a"
             ],
             [
              0.8888888888888888,
              "#fdca26"
             ],
             [
              1,
              "#f0f921"
             ]
            ],
            "type": "surface"
           }
          ],
          "table": [
           {
            "cells": {
             "fill": {
              "color": "#EBF0F8"
             },
             "line": {
              "color": "white"
             }
            },
            "header": {
             "fill": {
              "color": "#C8D4E3"
             },
             "line": {
              "color": "white"
             }
            },
            "type": "table"
           }
          ]
         },
         "layout": {
          "annotationdefaults": {
           "arrowcolor": "#2a3f5f",
           "arrowhead": 0,
           "arrowwidth": 1
          },
          "autotypenumbers": "strict",
          "coloraxis": {
           "colorbar": {
            "outlinewidth": 0,
            "ticks": ""
           }
          },
          "colorscale": {
           "diverging": [
            [
             0,
             "#8e0152"
            ],
            [
             0.1,
             "#c51b7d"
            ],
            [
             0.2,
             "#de77ae"
            ],
            [
             0.3,
             "#f1b6da"
            ],
            [
             0.4,
             "#fde0ef"
            ],
            [
             0.5,
             "#f7f7f7"
            ],
            [
             0.6,
             "#e6f5d0"
            ],
            [
             0.7,
             "#b8e186"
            ],
            [
             0.8,
             "#7fbc41"
            ],
            [
             0.9,
             "#4d9221"
            ],
            [
             1,
             "#276419"
            ]
           ],
           "sequential": [
            [
             0,
             "#0d0887"
            ],
            [
             0.1111111111111111,
             "#46039f"
            ],
            [
             0.2222222222222222,
             "#7201a8"
            ],
            [
             0.3333333333333333,
             "#9c179e"
            ],
            [
             0.4444444444444444,
             "#bd3786"
            ],
            [
             0.5555555555555556,
             "#d8576b"
            ],
            [
             0.6666666666666666,
             "#ed7953"
            ],
            [
             0.7777777777777778,
             "#fb9f3a"
            ],
            [
             0.8888888888888888,
             "#fdca26"
            ],
            [
             1,
             "#f0f921"
            ]
           ],
           "sequentialminus": [
            [
             0,
             "#0d0887"
            ],
            [
             0.1111111111111111,
             "#46039f"
            ],
            [
             0.2222222222222222,
             "#7201a8"
            ],
            [
             0.3333333333333333,
             "#9c179e"
            ],
            [
             0.4444444444444444,
             "#bd3786"
            ],
            [
             0.5555555555555556,
             "#d8576b"
            ],
            [
             0.6666666666666666,
             "#ed7953"
            ],
            [
             0.7777777777777778,
             "#fb9f3a"
            ],
            [
             0.8888888888888888,
             "#fdca26"
            ],
            [
             1,
             "#f0f921"
            ]
           ]
          },
          "colorway": [
           "#636efa",
           "#EF553B",
           "#00cc96",
           "#ab63fa",
           "#FFA15A",
           "#19d3f3",
           "#FF6692",
           "#B6E880",
           "#FF97FF",
           "#FECB52"
          ],
          "font": {
           "color": "#2a3f5f"
          },
          "geo": {
           "bgcolor": "white",
           "lakecolor": "white",
           "landcolor": "#E5ECF6",
           "showlakes": true,
           "showland": true,
           "subunitcolor": "white"
          },
          "hoverlabel": {
           "align": "left"
          },
          "hovermode": "closest",
          "mapbox": {
           "style": "light"
          },
          "paper_bgcolor": "white",
          "plot_bgcolor": "#E5ECF6",
          "polar": {
           "angularaxis": {
            "gridcolor": "white",
            "linecolor": "white",
            "ticks": ""
           },
           "bgcolor": "#E5ECF6",
           "radialaxis": {
            "gridcolor": "white",
            "linecolor": "white",
            "ticks": ""
           }
          },
          "scene": {
           "xaxis": {
            "backgroundcolor": "#E5ECF6",
            "gridcolor": "white",
            "gridwidth": 2,
            "linecolor": "white",
            "showbackground": true,
            "ticks": "",
            "zerolinecolor": "white"
           },
           "yaxis": {
            "backgroundcolor": "#E5ECF6",
            "gridcolor": "white",
            "gridwidth": 2,
            "linecolor": "white",
            "showbackground": true,
            "ticks": "",
            "zerolinecolor": "white"
           },
           "zaxis": {
            "backgroundcolor": "#E5ECF6",
            "gridcolor": "white",
            "gridwidth": 2,
            "linecolor": "white",
            "showbackground": true,
            "ticks": "",
            "zerolinecolor": "white"
           }
          },
          "shapedefaults": {
           "line": {
            "color": "#2a3f5f"
           }
          },
          "ternary": {
           "aaxis": {
            "gridcolor": "white",
            "linecolor": "white",
            "ticks": ""
           },
           "baxis": {
            "gridcolor": "white",
            "linecolor": "white",
            "ticks": ""
           },
           "bgcolor": "#E5ECF6",
           "caxis": {
            "gridcolor": "white",
            "linecolor": "white",
            "ticks": ""
           }
          },
          "title": {
           "x": 0.05
          },
          "xaxis": {
           "automargin": true,
           "gridcolor": "white",
           "linecolor": "white",
           "ticks": "",
           "title": {
            "standoff": 15
           },
           "zerolinecolor": "white",
           "zerolinewidth": 2
          },
          "yaxis": {
           "automargin": true,
           "gridcolor": "white",
           "linecolor": "white",
           "ticks": "",
           "title": {
            "standoff": 15
           },
           "zerolinecolor": "white",
           "zerolinewidth": 2
          }
         }
        },
        "xaxis": {
         "anchor": "y2",
         "domain": [
          0,
          1
         ],
         "zeroline": false
        },
        "yaxis": {
         "anchor": "free",
         "domain": [
          0.35,
          1
         ],
         "position": 0
        },
        "yaxis2": {
         "anchor": "x",
         "domain": [
          0,
          0.25
         ],
         "dtick": 1,
         "showticklabels": false
        }
       }
      },
      "text/html": [
       "<div>                            <div id=\"43bbf12d-fff1-4850-b3d6-6849d8fddad4\" class=\"plotly-graph-div\" style=\"height:525px; width:100%;\"></div>            <script type=\"text/javascript\">                require([\"plotly\"], function(Plotly) {                    window.PLOTLYENV=window.PLOTLYENV || {};                                    if (document.getElementById(\"43bbf12d-fff1-4850-b3d6-6849d8fddad4\")) {                    Plotly.newPlot(                        \"43bbf12d-fff1-4850-b3d6-6849d8fddad4\",                        [{\"autobinx\":false,\"histnorm\":\"probability density\",\"legendgroup\":\"Residuals\",\"marker\":{\"color\":\"rgb(31, 119, 180)\"},\"name\":\"Residuals\",\"opacity\":0.7,\"x\":[-9.264174685834952,-5.631098981360807,-1.580033030583948,6.346153305878758,-3.0755624607349077,1.0858878455024765,1.674205485645686,-0.17538261446570402,9.680071062414573,-12.528272175325945,7.910641938289153,4.999658229875969,-1.4830178436343004,-3.0379910855519476,-11.350423427858189,12.285497747458976,19.313318446217266,0.33505928767080917,-4.481657290965998,0.2063788781735667,-5.846976932374854,2.078029195751334,-4.4277747426689515,-0.014707656528663904,3.9409529051843464,-4.831795289974252,10.00001105090196,-8.440811703747748,4.2627358187182836,11.319118928505851,8.844087661810228,-15.526202122688119,3.6184903166851683,2.871464421755988,7.980066326608359,-6.154180469710081,-7.443048690446268,-5.738792828935583,3.214482294256598,0.2822176761348629,1.5151321554234531,1.7204231956522555,-1.8327470876891283,-6.173715298889327,6.128312404771712,-1.5357297316615615,-4.842884272800802,24.00708371374185,0.8091459081810175,3.7628056880932483,2.4098851223163393,-3.4238798182330363,-7.71657205406882,-2.654576705257206,6.1866008506332975,-9.513943951666807,-1.5129522894400012,7.737845335193924,9.127979431964015,1.842180506428484,-12.576046229575876,12.772949033454282,-1.868849372016303,7.201374467669666,-8.057691336127572,0.6961118130246149,3.6949320671148627,9.763879237638136,-7.008792456174703,-3.2444551738171867,4.696778256654397,5.7667195343872635,-8.785147569716358,4.81150058156436,1.6282078641228495,-3.1678591386216794,-1.1618817507634986,-2.65141100237215,-2.9812580127083486,-1.7769756619245527,-4.594148982528353,-1.0489177607916673,2.283963308613785,-6.812608059437299,-0.6154214634960198,1.3939144840940543,-4.464429853849651,1.4211747962897796,11.103847747455802,8.871440494480158,2.9515635303499934,4.637703078474445,-6.267808995873747,-7.444751978295606,6.0585142964228,7.622763457647849,5.995275055375714,-2.8624860452749985,3.852399765811242,8.695275055375717,-6.518803176430808,-6.33226743623036,6.995683667752381,1.9358839789803852,-4.997643283035359,22.354519678808174,-0.8346731846462703,-5.237289627660537,-2.1391550062329756,-8.259416874639648,6.597328721820851,-5.584391562556995,-10.73483652084942,-35.622995140263264,9.895787049092903,7.711952204027874,10.914930724305304,-0.27019821497015073,-3.082060686023759,12.080089303550814,-10.685897816855867,4.385035873458037,-8.030365450902536,1.6428197445147816,10.28378914219629,0.7643625561537206,27.655461928886687,5.99500270509634,23.592435676888456,-2.5167343638968305,-7.319072813902494,-5.533230538176941,-3.027165570388206,-8.297182861629153,5.529031547627895,-10.103790783030671,2.774651850226107,1.940440382857922,5.252911136040893,2.973738003789549,5.056031339670334,-10.810910179650456,-4.511639614615888,-3.5149641265419618,-2.23440965443897,-0.7754052536420204,11.76771476163158,-3.923031494528729,29.54551783463885,-0.5621690959267625,8.014223200049855,-9.894798628031637,-2.9911655018628167,-2.496367645361353,4.247361132752484,0.41150058156435954,-8.38838027628044,-6.623045488090973,-5.85516606009751,-1.9910992051833105,10.663310450572496,-2.008144573790922,-1.2439989475809856,8.463879237638139,14.341528425168875,-4.884471571096036,21.955810998154078,-1.996200315287389,0.28722115600375986,-7.76837433674973,1.7174374181844545,10.59863427895543,3.796778256654399,-2.2779646078455684,-6.5109661757731345,0.5711875855395192,6.2788771115139745,-2.8286833188976743,-9.111554734473245,3.327279045836441,6.320817053675455,4.305143179295008,-10.074126513533336,2.7636344478212784,-0.5911034441052827,-8.785943940270954,-4.158674150092157,-0.9908937329137188,1.9610449488225612,6.879307415660151,-1.5809644290095122,-1.624047881519985,4.2325660036069195,0.8253123695756557,13.225593080261024,-5.388958551691211,-1.218018793526788,5.641842026421003,-0.8638315858901464,-14.910354157079745,-8.315950384830103,-2.181536231860811,-1.9090403352538488,2.587977622578002,-1.6769756619245513,-15.604750866217366,-6.333229943234073,0.21687967857469914,-2.8322812818549217,-0.25359102531329114,2.653418396352393,-0.2321302541777186,-6.3475084092046,6.156414077299814,-14.526768974049084,1.4160794942532462,7.414446445044817,-0.6008061761069285,0.6112222099207401,-2.1802185448021163,33.32905728502719,-0.5154211950884928,-0.5567516232513299,3.737703078474439,4.060967125922616,0.7381762196891941,-0.8036676686317143,-3.257493112764493,12.129306808026378,-8.094994341567144,-2.8332305381769416,1.659832640961394,5.391915183068157,-11.96831034369334,-10.144259966018218,-4.182968372972212,7.0052501644480785,1.045570714672067,3.023015952066636,-5.107335870050338,-4.419199165460849,-5.718546229738969,-0.3833591521766735,1.616213384815822,-16.808030206428885,-5.076088634600822,-3.1827950007294916,-8.654825106154384,-9.003039182393149,7.601336348242512,-9.648887103378911,-9.832242780283377,2.0592940505232065,0.024814625139150337,4.443230360288723,8.652381524675,-10.967707267580408,4.66356782280436,11.655810998154081,-3.973886385867626,-6.522944464230751,-5.285398826526581,8.28509764935643,-4.1339821388144635,0.5192697872995282,-2.0895960039064434,-10.097702664364807,4.469822230960382,-5.78784281500284,-9.37463798650515,75.3455476239069,-17.577656273534558,0.5744896044288907,-12.796286431377847,-1.652922536425649,2.2063788781735667,-3.22849888374094,-3.361554123315546,0.23588397898038238,-9.315689730113625,-2.601543903422318,-8.99116705417255,-6.241875091247856,-9.347079486775328,-9.08998672767084,18.840888208447538,5.2279729389227185,-4.301560946638894,2.888679829135981,-2.889727550126736,6.098075309158048,9.042228509692357,-14.435453631170276,-0.35280343358135724,-7.163678435506334,-8.757924532409742,-8.022101003504211,-5.597680987075364,1.4403280845801412,-1.5919457450849208,-8.301055518977229,6.437212642708076,-8.114465136210857,5.4251274456359155,-5.0991727573014956,9.513538787733523,8.004673201887456,2.9602817410752316,5.852399765811242,-5.986251903698211,-7.623243426655609,1.6390218762073374,33.26909779125526,-3.432489188500952,-5.717463988651069,-8.81836997919363,-3.942604193619445,-0.08657540122294449,-5.027044782025953,-8.567912801068452,6.586557632453697,-4.186856893524961,-6.898923461175762,-1.600892307763388,0.5939984114136685,-1.7357297316615572,13.50589905228626,-8.104120316917758,-10.428177991329356,5.929801785029849,-11.558735155862632,3.1207812985690904,6.29787091521812,-4.973604968493056,-16.78661668199602,-5.469373278720923,-1.7780996442192176,-4.856852304010864,-5.861578086214834,-0.21490225908164717,8.509357013452608,-1.6204163076590703,3.6577908492445204,3.938827631070673,12.757629002148136,-2.1060989019057175,-3.541579445354909,0.6348140145984864,6.509278490862201,3.626395031506945,1.14467169410527,-4.121965664406524,-0.5785751068886391,-4.906292601074892,-2.1686107392610197,11.695002705096343,5.496729986017996,-7.9309805330227405,-2.7356374438462794,-4.753442490636008,1.4679728086390256,23.104764207668993,-4.388830469579261,-1.7046280747672427,-9.15662891070351,-0.5310773759747462,-1.467656906701631,-9.57234033757286,2.7448539560624354,-4.679852140751063,-1.75739490258038,6.8416099594898725,1.9354168134741485,8.467869745822284,1.290988055080561,-6.9762220927988885,-3.4970633250841274,7.634995741525742,-3.2402451407857384,18.48713210975457,5.964148324077357,-7.5530077699952045,15.38828162327518,3.3167398713356278,0.08293898952106282,-4.694069608493372,14.441528425168869,-5.670790824295544,-7.114216010701238,27.157400184388464,-6.328449522195477,-0.8028424627438646,-2.8853648587275558,-2.0015051111924578,8.814618795006208,3.1425830058633437,3.7439791500331907,-13.051175028495706,-10.997063325084127,-2.363588547830844,-5.399476032650455,-5.315488926442232,-10.695291887314852,-5.129956550763197,-5.516279122588273,-0.3812327536195852,-9.117054278796786,-4.693806669988771,-3.747880790563066,1.0420700925255009,0.13085291214429162,-6.238105491062377,7.923515058286284,9.996026656014145],\"xaxis\":\"x\",\"xbins\":{\"end\":75.3455476239069,\"size\":1.0,\"start\":-35.622995140263264},\"yaxis\":\"y\",\"type\":\"histogram\"},{\"legendgroup\":\"Residuals\",\"marker\":{\"color\":\"rgb(31, 119, 180)\"},\"mode\":\"lines\",\"name\":\"Residuals\",\"showlegend\":false,\"x\":[-35.622995140263264,-35.401058054734925,-35.179120969206586,-34.95718388367824,-34.7352467981499,-34.51330971262156,-34.291372627093224,-34.06943554156488,-33.84749845603654,-33.6255613705082,-33.40362428497986,-33.18168719945152,-32.95975011392318,-32.73781302839484,-32.5158759428665,-32.29393885733816,-32.072001771809816,-31.850064686281478,-31.62812760075314,-31.406190515224797,-31.184253429696458,-30.962316344168116,-30.740379258639777,-30.518442173111435,-30.296505087583096,-30.074568002054754,-29.852630916526415,-29.630693830998077,-29.408756745469734,-29.186819659941392,-28.964882574413053,-28.742945488884715,-28.521008403356372,-28.299071317828034,-28.07713423229969,-27.855197146771353,-27.63326006124301,-27.411322975714672,-27.18938589018633,-26.96744880465799,-26.745511719129652,-26.52357463360131,-26.301637548072968,-26.07970046254463,-25.85776337701629,-25.635826291487952,-25.413889205959606,-25.191952120431267,-24.97001503490293,-24.748077949374586,-24.526140863846248,-24.304203778317905,-24.082266692789567,-23.860329607261225,-23.638392521732886,-23.416455436204544,-23.194518350676205,-22.972581265147866,-22.750644179619524,-22.52870709409118,-22.306770008562843,-22.084832923034504,-21.862895837506166,-21.64095875197782,-21.41902166644948,-21.197084580921143,-20.975147495392804,-20.75321040986446,-20.53127332433612,-20.30933623880778,-20.087399153279442,-19.8654620677511,-19.643524982222758,-19.42158789669442,-19.19965081116608,-18.977713725637738,-18.7557766401094,-18.533839554581057,-18.31190246905272,-18.089965383524376,-17.868028297996037,-17.646091212467695,-17.424154126939357,-17.202217041411018,-16.980279955882676,-16.758342870354333,-16.536405784825998,-16.314468699297656,-16.092531613769314,-15.870594528240971,-15.648657442712636,-15.426720357184294,-15.204783271655952,-14.982846186127613,-14.760909100599271,-14.538972015070932,-14.31703492954259,-14.095097844014251,-13.87316075848591,-13.65122367295757,-13.429286587429232,-13.20734950190089,-12.985412416372547,-12.763475330844212,-12.54153824531587,-12.319601159787528,-12.097664074259185,-11.87572698873085,-11.653789903202508,-11.431852817674166,-11.209915732145827,-10.987978646617488,-10.766041561089146,-10.544104475560808,-10.322167390032465,-10.100230304504123,-9.878293218975784,-9.656356133447446,-9.434419047919103,-9.212481962390761,-8.990544876862426,-8.768607791334084,-8.546670705805742,-8.324733620277403,-8.102796534749064,-7.880859449220722,-7.65892236369238,-7.436985278164041,-7.215048192635702,-6.99311110710736,-6.7711740215790215,-6.549236936050679,-6.327299850522341,-6.105362764993998,-5.88342567946566,-5.661488593937317,-5.439551508408979,-5.21761442288064,-4.995677337352298,-4.773740251823956,-4.551803166295617,-4.329866080767278,-4.107928995238936,-3.8859919097105937,-3.664054824182255,-3.442117738653913,-3.220180653125574,-2.9982435675972354,-2.7763064820688967,-2.554369396540551,-2.3324323110122123,-2.1104952254838736,-1.888558139955535,-1.6666210544271962,-1.4446839688988504,-1.2227468833705117,-1.000809797842173,-0.7788727123138273,-0.5569356267854886,-0.334998541257157,-0.11306145572881121,0.10887562979952747,0.33081271532787326,0.552749800856212,0.7746868863845506,0.9966239719128964,1.218561057441228,1.4404981429695738,1.6624352284979125,1.8843723140262512,2.106309399554597,2.3282464850829356,2.550183570611267,2.772120656139613,2.9940577416679517,3.2159948271962975,3.437931912724636,3.659868998252975,3.8818060837813206,4.103743169309652,4.325680254837991,4.547617340366337,4.769554425894675,4.991491511423021,5.21342859695136,5.4353656824796985,5.657302768008037,5.879239853536376,6.101176939064722,6.32311402459306,6.545051110121399,6.766988195649745,6.9889252811780835,7.210862366706415,7.432799452234761,7.6547365377631,7.876673623291445,8.098610708819784,8.320547794348123,8.542484879876461,8.7644219654048,8.986359050933139,9.208296136461485,9.430233221989823,9.652170307518169,9.874107393046508,10.09604447857484,10.317981564103185,10.539918649631524,10.76185573515987,10.983792820688208,11.205729906216547,11.427666991744893,11.649604077273224,11.871541162801563,12.093478248329909,12.315415333858247,12.537352419386593,12.759289504914932,12.981226590443264,13.20316367597161,13.425100761499948,13.647037847028287,13.868974932556632,14.090912018084971,14.312849103613317,14.534786189141649,14.756723274669987,14.978660360198333,15.200597445726672,15.422534531255017,15.644471616783356,15.866408702311695,16.088345787840034,16.310282873368372,16.53221995889671,16.754157044425057,16.976094129953395,17.19803121548174,17.41996830101008,17.64190538653841,17.863842472066757,18.085779557595096,18.307716643123435,18.52965372865178,18.75159081418012,18.973527899708458,19.195464985236796,19.417402070765135,19.63933915629348,19.86127624182182,20.08321332735016,20.305150412878504,20.527087498406836,20.74902458393518,20.97096166946352,21.19289875499186,21.414835840520205,21.636772926048543,21.85871001157689,22.08064709710522,22.30258418263356,22.524521268161905,22.746458353690244,22.968395439218583,23.19033252474693,23.412269610275267,23.634206695803606,23.856143781331944,24.078080866860283,24.30001795238863,24.521955037916968,24.743892123445306,24.965829208973645,25.187766294501984,25.40970338003033,25.631640465558668,25.853577551087007,26.075514636615353,26.29745172214369,26.51938880767203,26.74132589320037,26.963262978728707,27.185200064257053,27.40713714978539,27.62907423531373,27.851011320842076,28.072948406370408,28.294885491898754,28.516822577427085,28.738759662955438,28.960696748483777,29.182633834012115,29.404570919540454,29.626508005068793,29.84844509059713,30.07038217612547,30.29231926165381,30.51425634718216,30.736193432710486,30.95813051823884,31.180067603767178,31.402004689295516,31.623941774823855,31.845878860352194,32.06781594588055,32.28975303140887,32.511690116937224,32.73362720246556,32.9555642879939,33.17750137352224,33.39943845905058,33.62137554457892,33.843312630107256,34.06524971563561,34.287186801163934,34.50912388669229,34.731060972220625,34.95299805774895,35.1749351432773,35.39687222880564,35.618809314333994,35.84074639986232,36.06268348539067,36.28462057091901,36.506557656447335,36.72849474197569,36.950431827504026,37.172368913032365,37.394305998560704,37.61624308408906,37.83818016961738,38.06011725514572,38.28205434067407,38.50399142620241,38.72592851173075,38.94786559725909,39.16980268278743,39.391739768315766,39.613676853844105,39.83561393937246,40.05755102490078,40.279488110429135,40.501425195957474,40.7233622814858,40.94529936701415,41.16723645254249,41.38917353807084,41.61111062359917,41.83304770912752,42.05498479465586,42.27692188018418,42.498858965712536,42.720796051240875,42.94273313676921,43.16467022229755,43.386607307825905,43.60854439335423,43.83048147888257,44.05241856441092,44.274355649939245,44.4962927354676,44.71822982099594,44.94016690652429,45.162103992052614,45.38404107758095,45.605978163109306,45.82791524863763,46.04985233416598,46.27178941969432,46.49372650522266,46.715663590751,46.93760067627934,47.15953776180768,47.381474847336015,47.60341193286437,47.82534901839271,48.047286103921046,48.269223189449384,48.49116027497772,48.71309736050606,48.9350344460344,49.15697153156275,49.37890861709108,49.60084570261943,49.82278278814777,50.044719873676094,50.26665695920445,50.488594044732785,50.71053113026114,50.93246821578946,51.1544053013178,51.376342386846154,51.59827947237448,51.82021655790283,52.04215364343117,52.26409072895951,52.48602781448785,52.70796490001619,52.929901985544525,53.151839071072864,53.37377615660122,53.59571324212954,53.817650327657894,54.03958741318623,54.26152449871457,54.48346158424291,54.70539866977125,54.9273357552996,55.149272840827926,55.37120992635628,55.59314701188462,55.81508409741294,56.037021182941295,56.258958268469634,56.48089535399797,56.70283243952631,56.924769525054664,57.146706610583,57.36864369611133,57.59058078163968,57.81251786716802,58.03445495269636,58.256392038224696,58.47832912375305,58.700266209281374,58.92220329480971,59.144140380338065,59.36607746586639,59.58801455139474,59.80995163692308,60.03188872245142,60.25382580797976,60.4757628935081,60.69769997903645,60.919637064564775,61.14157415009313,61.363511235621466,61.58544832114979,61.807385406678144,62.02932249220648,62.25125957773482,62.47319666326316,62.69513374879151,62.91707083431984,63.139007919848176,63.36094500537653,63.58288209090487,63.804819176433206,64.02675626196154,64.2486933474899,64.47063043301821,64.69256751854655,64.91450460407492,65.13644168960323,65.3583787751316,65.58031586065994,65.80225294618828,66.02419003171661,66.24612711724495,66.46806420277329,66.69000128830163,66.91193837382997,67.13387545935831,67.35581254488665,67.57774963041498,67.79968671594332,68.02162380147166,68.243560887,68.46549797252837,68.68743505805668,68.90937214358505,69.13130922911338,69.3532463146417,69.57518340017006,69.7971204856984,70.01905757122674,70.24099465675508,70.46293174228342,70.68486882781175,70.9068059133401,71.12874299886843,71.35068008439677,71.57261716992511,71.79455425545345,72.01649134098182,72.23842842651013,72.46036551203846,72.68230259756683,72.90423968309517,73.12617676862351,73.34811385415185,73.57005093968019,73.79198802520852,74.01392511073686,74.2358621962652,74.45779928179354,74.67973636732188,74.90167345285022,75.12361053837856],\"xaxis\":\"x\",\"y\":[0.0003657069893755027,0.0003644120779445636,0.00036055478921750696,0.0003542164927624343,0.00034552962803451374,0.0003346731032708889,0.00032186617060899094,0.00030736107021225455,0.00029143478777497175,0.00027438030070788975,0.00025649769737609004,0.0002380855413168609,0.00021943282021225552,0.00020081177058587605,0.00018247180774872256,0.00016463472104450273,0.00014749122176526498,0.00013119885988951011,0.00011588126021355946,0.0001016285719262814,8.849898070784447e-05,7.652110048580882e-05,6.56970435100739e-05,5.60059619315834e-05,4.740786032144128e-05,3.984749468495028e-05,3.325819726494748e-05,2.7565495378612166e-05,2.2690424308397043e-05,1.8552466681114994e-05,1.5072081946725986e-05,1.2172818032108482e-05,9.783021944772679e-06,7.837186406259174e-06,6.276985251994753e-06,5.052061402687561e-06,4.120637982343568e-06,3.45002606580638e-06,3.0171020839620646e-06,2.808824588764782e-06,2.822854309976864e-06,3.068333546485414e-06,3.5668711348794974e-06,4.35376762064646e-06,5.479501826798231e-06,7.011484725119935e-06,9.036069324389038e-06,1.166078622152625e-05,1.5016753670835933e-05,1.9261188862966984e-05,2.4579924167566164e-05,3.1189809268176e-05,3.934085859598883e-05,4.931798473614304e-05,6.144214427345196e-05,7.607071477490545e-05,9.359692224653527e-05,0.00011444814934182078,0.00013908297747395666,0.00016798685199257533,0.00020166630929755892,0.00024064176794825492,0.00028543896131166455,0.00033657917486577804,0.0003945685436544889,0.00045988676027942737,0.0005329756360256856,0.0006142280414002365,0.0007039778212918525,0.0008024913279143888,0.0009099612358512343,0.0010265032928907314,0.001152156614191389,0.0012868880435211315,0.0014306009836698172,0.0015831489405408173,0.0017443538359702292,0.001914028929212814,0.0020920059544210375,0.002278165841103716,0.0024724721474678455,0.002675006114416972,0.0028860020526568584,0.0031058816182900286,0.003335285423938306,0.0035751003817955456,0.003826481189097179,0.004090864449962208,0.004369974082414899,0.004665816884742458,0.004980667427282726,0.005317041787286583,0.0056776600456554145,0.006065397902204617,0.006483228225063659,0.006934153811968475,0.007421133086740846,0.007947000862127383,0.008514386648851473,0.009125633259123326,0.009782718621411226,0.010487183775215606,0.011240069937178552,0.01204186731572347,0.012892477999698311,0.013791194763826713,0.014736697034869323,0.015727064570180645,0.016759808645459118,0.017831919768170692,0.01893993016941769,0.02007998862433433,0.021247944553280253,0.022439437903258714,0.023649991034138493,0.02487509876035988,0.026110312836253542,0.02735131751812051,0.02859399337033632,0.029834467173477684,0.03106914659533453,0.03229473914731305,0.0335082558110488,0.03470700052487839,0.03588854741382229,0.03705070818595227,0.038191492471654306,0.03930906403526853,0.04040169574265149,0.04146772594139521,0.04250551853495089,0.04351342855057904,0.04448977446284711,0.04543281798937668,0.04634075156984356,0.04721169331068297,0.04804368885268994,0.04883471940927146,0.04958271512810815,0.05028557293430291,0.050941178094586176,0.05154742886921951,0.052102263758124136,0.05260369096968871,0.05304981981968342,0.053438893787315214,0.053769324909473046,0.054039729086873,0.054248961720738655,0.05439615291671966,0.054480741309099155,0.054502505399112715,0.054461591190228024,0.05435853485929168,0.05419427923718088,0.053970182989499446,0.05368802158221168,0.053349979376944585,0.052958632508455485,0.05251692253153635,0.05202812116450894,0.0514957867808147,0.050923713591578795,0.05031587470743581,0.04967636045947617,0.04900931349408474,0.04831886223628402,0.04760905434583182,0.046883791776597336,0.046146768999994855,0.04540141587418162,0.044650846537339674,0.04389781557856774,0.04314468259437336,0.042393386071350195,0.0416454273440958,0.04090186515941461,0.04016332113191297,0.03942999610272652,0.038701697115538336,0.037977874408676546,0.03725766749868337,0.0365399591120863,0.0358234354232943,0.03510665079402405,0.034388094999953746,0.03366626078868705,0.0329397095522666,0.03220713292633376,0.0314674082508147,0.030719646042649706,0.02996322793301269,0.029197833897800566,0.028423458044318697,0.027640412688627422,0.026849320943930183,0.026051098516388378,0.025246925846769703,0.024438212121909293,0.02362655298958946,0.022813684028697722,0.022001432142946538,0.02119166705612882,0.020386254990720006,0.019587016416229102,0.018795689470935913,0.018013900307001722,0.01724314120446693,0.016484756866830104,0.015739938873309666,0.015009727843843548,0.014295022494096142,0.013596594438143908,0.012915107351189935,0.012251138944136276,0.0116052041315959,0.010977777795264699,0.010369315650823068,0.009780271909531539,0.009211112672483276,0.00866232429028516,0.008134416246108306,0.007627918457132157,0.00714337322015136,0.006681322334379528,0.00624229020300704,0.005826763932100075,0.005435171601165979,0.0050678599676435634,0.004725072884633152,0.0044069316577969265,0.004113418447424331,0.003844363642355299,0.003599437904012322,0.0033781493140866933,0.003179845773472572,0.0030037225093340427,0.0028488342688804884,0.0027141115293910652,0.0025983798498330894,0.0025003813432384406,0.002418797170602869,0.0023522699519195923,0.002299425058564206,0.0022588898888497074,0.0022293104251992334,0.0022093646123757154,0.0021977723631392996,0.00219330226972178,0.002194775354946303,0.0022010664149829644,0.0022111036686747925,0.0022238675225314925,0.0022383892779834526,0.002253750546936959,0.002269084008470869,0.0022835759454979906,0.0022964707627109683,0.0023070774275093923,0.0023147775174069646,0.002319034324282196,0.0023194022793723867,0.0023155358407438527,0.0023071969391384854,0.0022942601139435224,0.002276714586717222,0.0022546627063560654,0.002228314442496946,0.002197977882105146,0.0021640459752815967,0.002126980055922957,0.0020872909077975384,0.002045518336674212,0.0020022103288641524,0.0019579029163420245,0.0019131018255757113,0.0018682668651356473,0.0018237998161927515,0.0017800363455788718,0.0017372421825316458,0.0016956135091915532,0.0016552812334468395,0.0016163185616288654,0.0015787510857772093,0.0015425684595013736,0.001507736666596011,0.0014742098907331075,0.0014419410704276164,0.001410890363567902,0.0013810309382271955,0.001352351735956241,0.0013248571028665812,0.0012985634342554627,0.0012734932124473552,0.0012496670187350724,0.0012270942552963945,0.0012057634117670333,0.001185632747889286,0.0011666222368298855,0.001148607526250701,0.0011314165329970967,0.0011148291028710085,0.0010985799526999607,0.0010823648829754516,0.0010658500216902441,0.0010486836493293096,0.0010305099755571303,0.0010109841019258436,0.0009897873206583018,0.0009666418722287993,0.0009413243149918329,0.0009136767453357373,0.0008836152398227565,0.0008511350613804686,0.0008163123673122958,0.0007793023637880031,0.0007403340553358207,0.0006997019252230749,0.0006577550417571557,0.0006148842072849019,0.0005715078449508718,0.0005280573504371655,0.0004849626227053102,0.00044263843308996355,0.00040147220248585414,0.0003618136403006447,0.0003239665659528171,0.00028818309394337854,0.0002546602264480824,0.00022353877137207224,0.0001949043956574722,0.00016879053814954263,0.00014518284621835073,0.00012402476625484612,0.00010522390891523413,8.865882285461858e-05,7.418584182915637e-05,6.16457149340806e-05,5.0869783610131986e-05,4.168552725440145e-05,3.392135762409375e-05,2.7410597213259044e-05,2.1994625720924933e-05,1.7525219791181012e-05,1.3866143412121684e-05,1.08940694895958e-05,8.498927571179924e-06,6.583779371258201e-06,5.064323844517167e-06,3.868128446558919e-06,2.9336743182401925e-06,2.209291777339663e-06,1.6520498934174346e-06,1.2266510596749185e-06,9.043691408714209e-07,6.620585302563564e-07,4.812516474521269e-07,3.473542314693882e-07,2.489412616431554e-07,1.7715139753162163e-07,1.2517431428602083e-07,8.782302505188227e-08,6.118200928219859e-08,4.232148830300227e-08,2.9068304396854894e-08,1.982438797520423e-08,1.3424588395748564e-08,9.026576674430808e-09,6.026510338345025e-09,3.995115298078196e-09,2.629742196966176e-09,1.7187683958642954e-09,1.1154285712171708e-09,7.187639669000685e-10,4.598867251033422e-10,2.921698658811849e-10,1.8430617017913052e-10,1.1544208889610807e-10,7.179732700427853e-11,4.4337594523009906e-11,2.718664967972648e-11,1.655232219755075e-11,1.0006491187174962e-11,6.006539265930311e-12,3.5800279442696006e-12,2.1186932533667135e-12,1.2449998591509266e-12,7.264237844569043e-13,4.208529033234828e-13,2.4209738891966383e-13,1.3828318607697506e-13,7.842745686934089e-14,4.4165826663487775e-14,2.4695855088182053e-14,1.3711382978190952e-14,7.558889997294031e-15,4.137658953390771e-15,2.248912447682471e-15,1.2137145404442996e-15,6.504377411375176e-16,3.4618879310348937e-16,1.8311235315016886e-16,9.649073120122677e-17,5.1125084871270167e-17,2.8158011514186323e-17,1.7839949373973495e-17,1.5704314213784177e-17,2.077790580084088e-17,3.516901984454723e-17,6.487269141665407e-17,1.2207243728747824e-16,2.2974441242464343e-16,4.3015011509976e-16,8.000750512330744e-16,1.4778043438418974e-15,2.710421899528737e-15,4.9360517720687695e-15,8.925704848796277e-15,1.6025980234528868e-14,2.85710207142704e-14,5.0576169162466155e-14,8.889659258106881e-14,1.5514697187053966e-13,2.688564727350501e-13,4.626117866290471e-13,7.903726341312583e-13,1.3408064790445376e-12,2.2584959125848036e-12,3.77738735270448e-12,6.273107628429001e-12,1.034410593967766e-11,1.693644221114546e-11,2.753407007835155e-11,4.444650805012958e-11,7.123999543150043e-11,1.1337808665068319e-10,1.791650801948353e-10,2.8112315416517396e-10,4.3798462920393375e-10,6.775480910339104e-10,1.0407355423876147e-09,1.5873023197574412e-09,2.403797722474535e-09,3.614557948406309e-09,5.396739659372477e-09,8.0006771976427e-09,1.1777172401738537e-08,1.7213703605341783e-08,2.4981965999284208e-08,3.5999619381574386e-08,5.1509603769333634e-08,7.318086072415604e-08,1.0323472879059706e-07,1.4460161156293315e-07,2.0111267798652768e-07,2.777312628568425e-07,3.808281936119304e-07,5.185043694374535e-07,7.009624475953704e-07,9.409273405003797e-07,1.2541123010184715e-06,1.65972360733919e-06,2.1809922325733695e-06,2.845715441229487e-06,3.6867851194075896e-06,4.742673039708185e-06,6.057836516536978e-06,7.683001468256314e-06,9.675274325384111e-06,1.2098030158982003e-05,1.5020522565288308e-05,1.8517161966564064e-05,2.2666413770773533e-05,2.7549276862322775e-05,3.324731657373839e-05,3.9840244748088514e-05,4.740306253675223e-05,5.6002808578158825e-05,6.569498512496196e-05,7.651976604421698e-05,8.849812151933314e-05,0.0001016280225240326,0.00011588091131214429,0.00013119863983883018,0.00014749108393396481,0.00016463463530603774,0.00018247175478189532,0.000200811738089843,0.00021943280041282636,0.00023808552933652743,0.0002564976901770086,0.000274380296411782,0.0002914347852289537,0.000307361068713833,0.0003218661697332185,0.0003346731027625758,0.0003455296277415238,0.0003542164925947265,0.00036055478912217604,0.0003644120778907502],\"yaxis\":\"y\",\"type\":\"scatter\"},{\"legendgroup\":\"Residuals\",\"marker\":{\"color\":\"rgb(31, 119, 180)\",\"symbol\":\"line-ns-open\"},\"mode\":\"markers\",\"name\":\"Residuals\",\"showlegend\":false,\"x\":[-9.264174685834952,-5.631098981360807,-1.580033030583948,6.346153305878758,-3.0755624607349077,1.0858878455024765,1.674205485645686,-0.17538261446570402,9.680071062414573,-12.528272175325945,7.910641938289153,4.999658229875969,-1.4830178436343004,-3.0379910855519476,-11.350423427858189,12.285497747458976,19.313318446217266,0.33505928767080917,-4.481657290965998,0.2063788781735667,-5.846976932374854,2.078029195751334,-4.4277747426689515,-0.014707656528663904,3.9409529051843464,-4.831795289974252,10.00001105090196,-8.440811703747748,4.2627358187182836,11.319118928505851,8.844087661810228,-15.526202122688119,3.6184903166851683,2.871464421755988,7.980066326608359,-6.154180469710081,-7.443048690446268,-5.738792828935583,3.214482294256598,0.2822176761348629,1.5151321554234531,1.7204231956522555,-1.8327470876891283,-6.173715298889327,6.128312404771712,-1.5357297316615615,-4.842884272800802,24.00708371374185,0.8091459081810175,3.7628056880932483,2.4098851223163393,-3.4238798182330363,-7.71657205406882,-2.654576705257206,6.1866008506332975,-9.513943951666807,-1.5129522894400012,7.737845335193924,9.127979431964015,1.842180506428484,-12.576046229575876,12.772949033454282,-1.868849372016303,7.201374467669666,-8.057691336127572,0.6961118130246149,3.6949320671148627,9.763879237638136,-7.008792456174703,-3.2444551738171867,4.696778256654397,5.7667195343872635,-8.785147569716358,4.81150058156436,1.6282078641228495,-3.1678591386216794,-1.1618817507634986,-2.65141100237215,-2.9812580127083486,-1.7769756619245527,-4.594148982528353,-1.0489177607916673,2.283963308613785,-6.812608059437299,-0.6154214634960198,1.3939144840940543,-4.464429853849651,1.4211747962897796,11.103847747455802,8.871440494480158,2.9515635303499934,4.637703078474445,-6.267808995873747,-7.444751978295606,6.0585142964228,7.622763457647849,5.995275055375714,-2.8624860452749985,3.852399765811242,8.695275055375717,-6.518803176430808,-6.33226743623036,6.995683667752381,1.9358839789803852,-4.997643283035359,22.354519678808174,-0.8346731846462703,-5.237289627660537,-2.1391550062329756,-8.259416874639648,6.597328721820851,-5.584391562556995,-10.73483652084942,-35.622995140263264,9.895787049092903,7.711952204027874,10.914930724305304,-0.27019821497015073,-3.082060686023759,12.080089303550814,-10.685897816855867,4.385035873458037,-8.030365450902536,1.6428197445147816,10.28378914219629,0.7643625561537206,27.655461928886687,5.99500270509634,23.592435676888456,-2.5167343638968305,-7.319072813902494,-5.533230538176941,-3.027165570388206,-8.297182861629153,5.529031547627895,-10.103790783030671,2.774651850226107,1.940440382857922,5.252911136040893,2.973738003789549,5.056031339670334,-10.810910179650456,-4.511639614615888,-3.5149641265419618,-2.23440965443897,-0.7754052536420204,11.76771476163158,-3.923031494528729,29.54551783463885,-0.5621690959267625,8.014223200049855,-9.894798628031637,-2.9911655018628167,-2.496367645361353,4.247361132752484,0.41150058156435954,-8.38838027628044,-6.623045488090973,-5.85516606009751,-1.9910992051833105,10.663310450572496,-2.008144573790922,-1.2439989475809856,8.463879237638139,14.341528425168875,-4.884471571096036,21.955810998154078,-1.996200315287389,0.28722115600375986,-7.76837433674973,1.7174374181844545,10.59863427895543,3.796778256654399,-2.2779646078455684,-6.5109661757731345,0.5711875855395192,6.2788771115139745,-2.8286833188976743,-9.111554734473245,3.327279045836441,6.320817053675455,4.305143179295008,-10.074126513533336,2.7636344478212784,-0.5911034441052827,-8.785943940270954,-4.158674150092157,-0.9908937329137188,1.9610449488225612,6.879307415660151,-1.5809644290095122,-1.624047881519985,4.2325660036069195,0.8253123695756557,13.225593080261024,-5.388958551691211,-1.218018793526788,5.641842026421003,-0.8638315858901464,-14.910354157079745,-8.315950384830103,-2.181536231860811,-1.9090403352538488,2.587977622578002,-1.6769756619245513,-15.604750866217366,-6.333229943234073,0.21687967857469914,-2.8322812818549217,-0.25359102531329114,2.653418396352393,-0.2321302541777186,-6.3475084092046,6.156414077299814,-14.526768974049084,1.4160794942532462,7.414446445044817,-0.6008061761069285,0.6112222099207401,-2.1802185448021163,33.32905728502719,-0.5154211950884928,-0.5567516232513299,3.737703078474439,4.060967125922616,0.7381762196891941,-0.8036676686317143,-3.257493112764493,12.129306808026378,-8.094994341567144,-2.8332305381769416,1.659832640961394,5.391915183068157,-11.96831034369334,-10.144259966018218,-4.182968372972212,7.0052501644480785,1.045570714672067,3.023015952066636,-5.107335870050338,-4.419199165460849,-5.718546229738969,-0.3833591521766735,1.616213384815822,-16.808030206428885,-5.076088634600822,-3.1827950007294916,-8.654825106154384,-9.003039182393149,7.601336348242512,-9.648887103378911,-9.832242780283377,2.0592940505232065,0.024814625139150337,4.443230360288723,8.652381524675,-10.967707267580408,4.66356782280436,11.655810998154081,-3.973886385867626,-6.522944464230751,-5.285398826526581,8.28509764935643,-4.1339821388144635,0.5192697872995282,-2.0895960039064434,-10.097702664364807,4.469822230960382,-5.78784281500284,-9.37463798650515,75.3455476239069,-17.577656273534558,0.5744896044288907,-12.796286431377847,-1.652922536425649,2.2063788781735667,-3.22849888374094,-3.361554123315546,0.23588397898038238,-9.315689730113625,-2.601543903422318,-8.99116705417255,-6.241875091247856,-9.347079486775328,-9.08998672767084,18.840888208447538,5.2279729389227185,-4.301560946638894,2.888679829135981,-2.889727550126736,6.098075309158048,9.042228509692357,-14.435453631170276,-0.35280343358135724,-7.163678435506334,-8.757924532409742,-8.022101003504211,-5.597680987075364,1.4403280845801412,-1.5919457450849208,-8.301055518977229,6.437212642708076,-8.114465136210857,5.4251274456359155,-5.0991727573014956,9.513538787733523,8.004673201887456,2.9602817410752316,5.852399765811242,-5.986251903698211,-7.623243426655609,1.6390218762073374,33.26909779125526,-3.432489188500952,-5.717463988651069,-8.81836997919363,-3.942604193619445,-0.08657540122294449,-5.027044782025953,-8.567912801068452,6.586557632453697,-4.186856893524961,-6.898923461175762,-1.600892307763388,0.5939984114136685,-1.7357297316615572,13.50589905228626,-8.104120316917758,-10.428177991329356,5.929801785029849,-11.558735155862632,3.1207812985690904,6.29787091521812,-4.973604968493056,-16.78661668199602,-5.469373278720923,-1.7780996442192176,-4.856852304010864,-5.861578086214834,-0.21490225908164717,8.509357013452608,-1.6204163076590703,3.6577908492445204,3.938827631070673,12.757629002148136,-2.1060989019057175,-3.541579445354909,0.6348140145984864,6.509278490862201,3.626395031506945,1.14467169410527,-4.121965664406524,-0.5785751068886391,-4.906292601074892,-2.1686107392610197,11.695002705096343,5.496729986017996,-7.9309805330227405,-2.7356374438462794,-4.753442490636008,1.4679728086390256,23.104764207668993,-4.388830469579261,-1.7046280747672427,-9.15662891070351,-0.5310773759747462,-1.467656906701631,-9.57234033757286,2.7448539560624354,-4.679852140751063,-1.75739490258038,6.8416099594898725,1.9354168134741485,8.467869745822284,1.290988055080561,-6.9762220927988885,-3.4970633250841274,7.634995741525742,-3.2402451407857384,18.48713210975457,5.964148324077357,-7.5530077699952045,15.38828162327518,3.3167398713356278,0.08293898952106282,-4.694069608493372,14.441528425168869,-5.670790824295544,-7.114216010701238,27.157400184388464,-6.328449522195477,-0.8028424627438646,-2.8853648587275558,-2.0015051111924578,8.814618795006208,3.1425830058633437,3.7439791500331907,-13.051175028495706,-10.997063325084127,-2.363588547830844,-5.399476032650455,-5.315488926442232,-10.695291887314852,-5.129956550763197,-5.516279122588273,-0.3812327536195852,-9.117054278796786,-4.693806669988771,-3.747880790563066,1.0420700925255009,0.13085291214429162,-6.238105491062377,7.923515058286284,9.996026656014145],\"xaxis\":\"x\",\"y\":[\"Residuals\",\"Residuals\",\"Residuals\",\"Residuals\",\"Residuals\",\"Residuals\",\"Residuals\",\"Residuals\",\"Residuals\",\"Residuals\",\"Residuals\",\"Residuals\",\"Residuals\",\"Residuals\",\"Residuals\",\"Residuals\",\"Residuals\",\"Residuals\",\"Residuals\",\"Residuals\",\"Residuals\",\"Residuals\",\"Residuals\",\"Residuals\",\"Residuals\",\"Residuals\",\"Residuals\",\"Residuals\",\"Residuals\",\"Residuals\",\"Residuals\",\"Residuals\",\"Residuals\",\"Residuals\",\"Residuals\",\"Residuals\",\"Residuals\",\"Residuals\",\"Residuals\",\"Residuals\",\"Residuals\",\"Residuals\",\"Residuals\",\"Residuals\",\"Residuals\",\"Residuals\",\"Residuals\",\"Residuals\",\"Residuals\",\"Residuals\",\"Residuals\",\"Residuals\",\"Residuals\",\"Residuals\",\"Residuals\",\"Residuals\",\"Residuals\",\"Residuals\",\"Residuals\",\"Residuals\",\"Residuals\",\"Residuals\",\"Residuals\",\"Residuals\",\"Residuals\",\"Residuals\",\"Residuals\",\"Residuals\",\"Residuals\",\"Residuals\",\"Residuals\",\"Residuals\",\"Residuals\",\"Residuals\",\"Residuals\",\"Residuals\",\"Residuals\",\"Residuals\",\"Residuals\",\"Residuals\",\"Residuals\",\"Residuals\",\"Residuals\",\"Residuals\",\"Residuals\",\"Residuals\",\"Residuals\",\"Residuals\",\"Residuals\",\"Residuals\",\"Residuals\",\"Residuals\",\"Residuals\",\"Residuals\",\"Residuals\",\"Residuals\",\"Residuals\",\"Residuals\",\"Residuals\",\"Residuals\",\"Residuals\",\"Residuals\",\"Residuals\",\"Residuals\",\"Residuals\",\"Residuals\",\"Residuals\",\"Residuals\",\"Residuals\",\"Residuals\",\"Residuals\",\"Residuals\",\"Residuals\",\"Residuals\",\"Residuals\",\"Residuals\",\"Residuals\",\"Residuals\",\"Residuals\",\"Residuals\",\"Residuals\",\"Residuals\",\"Residuals\",\"Residuals\",\"Residuals\",\"Residuals\",\"Residuals\",\"Residuals\",\"Residuals\",\"Residuals\",\"Residuals\",\"Residuals\",\"Residuals\",\"Residuals\",\"Residuals\",\"Residuals\",\"Residuals\",\"Residuals\",\"Residuals\",\"Residuals\",\"Residuals\",\"Residuals\",\"Residuals\",\"Residuals\",\"Residuals\",\"Residuals\",\"Residuals\",\"Residuals\",\"Residuals\",\"Residuals\",\"Residuals\",\"Residuals\",\"Residuals\",\"Residuals\",\"Residuals\",\"Residuals\",\"Residuals\",\"Residuals\",\"Residuals\",\"Residuals\",\"Residuals\",\"Residuals\",\"Residuals\",\"Residuals\",\"Residuals\",\"Residuals\",\"Residuals\",\"Residuals\",\"Residuals\",\"Residuals\",\"Residuals\",\"Residuals\",\"Residuals\",\"Residuals\",\"Residuals\",\"Residuals\",\"Residuals\",\"Residuals\",\"Residuals\",\"Residuals\",\"Residuals\",\"Residuals\",\"Residuals\",\"Residuals\",\"Residuals\",\"Residuals\",\"Residuals\",\"Residuals\",\"Residuals\",\"Residuals\",\"Residuals\",\"Residuals\",\"Residuals\",\"Residuals\",\"Residuals\",\"Residuals\",\"Residuals\",\"Residuals\",\"Residuals\",\"Residuals\",\"Residuals\",\"Residuals\",\"Residuals\",\"Residuals\",\"Residuals\",\"Residuals\",\"Residuals\",\"Residuals\",\"Residuals\",\"Residuals\",\"Residuals\",\"Residuals\",\"Residuals\",\"Residuals\",\"Residuals\",\"Residuals\",\"Residuals\",\"Residuals\",\"Residuals\",\"Residuals\",\"Residuals\",\"Residuals\",\"Residuals\",\"Residuals\",\"Residuals\",\"Residuals\",\"Residuals\",\"Residuals\",\"Residuals\",\"Residuals\",\"Residuals\",\"Residuals\",\"Residuals\",\"Residuals\",\"Residuals\",\"Residuals\",\"Residuals\",\"Residuals\",\"Residuals\",\"Residuals\",\"Residuals\",\"Residuals\",\"Residuals\",\"Residuals\",\"Residuals\",\"Residuals\",\"Residuals\",\"Residuals\",\"Residuals\",\"Residuals\",\"Residuals\",\"Residuals\",\"Residuals\",\"Residuals\",\"Residuals\",\"Residuals\",\"Residuals\",\"Residuals\",\"Residuals\",\"Residuals\",\"Residuals\",\"Residuals\",\"Residuals\",\"Residuals\",\"Residuals\",\"Residuals\",\"Residuals\",\"Residuals\",\"Residuals\",\"Residuals\",\"Residuals\",\"Residuals\",\"Residuals\",\"Residuals\",\"Residuals\",\"Residuals\",\"Residuals\",\"Residuals\",\"Residuals\",\"Residuals\",\"Residuals\",\"Residuals\",\"Residuals\",\"Residuals\",\"Residuals\",\"Residuals\",\"Residuals\",\"Residuals\",\"Residuals\",\"Residuals\",\"Residuals\",\"Residuals\",\"Residuals\",\"Residuals\",\"Residuals\",\"Residuals\",\"Residuals\",\"Residuals\",\"Residuals\",\"Residuals\",\"Residuals\",\"Residuals\",\"Residuals\",\"Residuals\",\"Residuals\",\"Residuals\",\"Residuals\",\"Residuals\",\"Residuals\",\"Residuals\",\"Residuals\",\"Residuals\",\"Residuals\",\"Residuals\",\"Residuals\",\"Residuals\",\"Residuals\",\"Residuals\",\"Residuals\",\"Residuals\",\"Residuals\",\"Residuals\",\"Residuals\",\"Residuals\",\"Residuals\",\"Residuals\",\"Residuals\",\"Residuals\",\"Residuals\",\"Residuals\",\"Residuals\",\"Residuals\",\"Residuals\",\"Residuals\",\"Residuals\",\"Residuals\",\"Residuals\",\"Residuals\",\"Residuals\",\"Residuals\",\"Residuals\",\"Residuals\",\"Residuals\",\"Residuals\",\"Residuals\",\"Residuals\",\"Residuals\",\"Residuals\",\"Residuals\",\"Residuals\",\"Residuals\",\"Residuals\",\"Residuals\",\"Residuals\",\"Residuals\",\"Residuals\",\"Residuals\",\"Residuals\",\"Residuals\",\"Residuals\",\"Residuals\",\"Residuals\",\"Residuals\",\"Residuals\",\"Residuals\",\"Residuals\",\"Residuals\",\"Residuals\",\"Residuals\",\"Residuals\",\"Residuals\",\"Residuals\",\"Residuals\",\"Residuals\",\"Residuals\",\"Residuals\",\"Residuals\",\"Residuals\",\"Residuals\",\"Residuals\",\"Residuals\",\"Residuals\",\"Residuals\",\"Residuals\",\"Residuals\",\"Residuals\",\"Residuals\",\"Residuals\",\"Residuals\",\"Residuals\",\"Residuals\",\"Residuals\",\"Residuals\",\"Residuals\",\"Residuals\",\"Residuals\",\"Residuals\",\"Residuals\",\"Residuals\",\"Residuals\",\"Residuals\",\"Residuals\",\"Residuals\",\"Residuals\",\"Residuals\",\"Residuals\",\"Residuals\",\"Residuals\",\"Residuals\",\"Residuals\",\"Residuals\",\"Residuals\",\"Residuals\",\"Residuals\"],\"yaxis\":\"y2\",\"type\":\"scatter\"}],                        {\"barmode\":\"overlay\",\"hovermode\":\"closest\",\"legend\":{\"traceorder\":\"reversed\"},\"xaxis\":{\"anchor\":\"y2\",\"domain\":[0.0,1.0],\"zeroline\":false},\"yaxis\":{\"anchor\":\"free\",\"domain\":[0.35,1],\"position\":0.0},\"yaxis2\":{\"anchor\":\"x\",\"domain\":[0,0.25],\"dtick\":1,\"showticklabels\":false},\"template\":{\"data\":{\"histogram2dcontour\":[{\"type\":\"histogram2dcontour\",\"colorbar\":{\"outlinewidth\":0,\"ticks\":\"\"},\"colorscale\":[[0.0,\"#0d0887\"],[0.1111111111111111,\"#46039f\"],[0.2222222222222222,\"#7201a8\"],[0.3333333333333333,\"#9c179e\"],[0.4444444444444444,\"#bd3786\"],[0.5555555555555556,\"#d8576b\"],[0.6666666666666666,\"#ed7953\"],[0.7777777777777778,\"#fb9f3a\"],[0.8888888888888888,\"#fdca26\"],[1.0,\"#f0f921\"]]}],\"choropleth\":[{\"type\":\"choropleth\",\"colorbar\":{\"outlinewidth\":0,\"ticks\":\"\"}}],\"histogram2d\":[{\"type\":\"histogram2d\",\"colorbar\":{\"outlinewidth\":0,\"ticks\":\"\"},\"colorscale\":[[0.0,\"#0d0887\"],[0.1111111111111111,\"#46039f\"],[0.2222222222222222,\"#7201a8\"],[0.3333333333333333,\"#9c179e\"],[0.4444444444444444,\"#bd3786\"],[0.5555555555555556,\"#d8576b\"],[0.6666666666666666,\"#ed7953\"],[0.7777777777777778,\"#fb9f3a\"],[0.8888888888888888,\"#fdca26\"],[1.0,\"#f0f921\"]]}],\"heatmap\":[{\"type\":\"heatmap\",\"colorbar\":{\"outlinewidth\":0,\"ticks\":\"\"},\"colorscale\":[[0.0,\"#0d0887\"],[0.1111111111111111,\"#46039f\"],[0.2222222222222222,\"#7201a8\"],[0.3333333333333333,\"#9c179e\"],[0.4444444444444444,\"#bd3786\"],[0.5555555555555556,\"#d8576b\"],[0.6666666666666666,\"#ed7953\"],[0.7777777777777778,\"#fb9f3a\"],[0.8888888888888888,\"#fdca26\"],[1.0,\"#f0f921\"]]}],\"heatmapgl\":[{\"type\":\"heatmapgl\",\"colorbar\":{\"outlinewidth\":0,\"ticks\":\"\"},\"colorscale\":[[0.0,\"#0d0887\"],[0.1111111111111111,\"#46039f\"],[0.2222222222222222,\"#7201a8\"],[0.3333333333333333,\"#9c179e\"],[0.4444444444444444,\"#bd3786\"],[0.5555555555555556,\"#d8576b\"],[0.6666666666666666,\"#ed7953\"],[0.7777777777777778,\"#fb9f3a\"],[0.8888888888888888,\"#fdca26\"],[1.0,\"#f0f921\"]]}],\"contourcarpet\":[{\"type\":\"contourcarpet\",\"colorbar\":{\"outlinewidth\":0,\"ticks\":\"\"}}],\"contour\":[{\"type\":\"contour\",\"colorbar\":{\"outlinewidth\":0,\"ticks\":\"\"},\"colorscale\":[[0.0,\"#0d0887\"],[0.1111111111111111,\"#46039f\"],[0.2222222222222222,\"#7201a8\"],[0.3333333333333333,\"#9c179e\"],[0.4444444444444444,\"#bd3786\"],[0.5555555555555556,\"#d8576b\"],[0.6666666666666666,\"#ed7953\"],[0.7777777777777778,\"#fb9f3a\"],[0.8888888888888888,\"#fdca26\"],[1.0,\"#f0f921\"]]}],\"surface\":[{\"type\":\"surface\",\"colorbar\":{\"outlinewidth\":0,\"ticks\":\"\"},\"colorscale\":[[0.0,\"#0d0887\"],[0.1111111111111111,\"#46039f\"],[0.2222222222222222,\"#7201a8\"],[0.3333333333333333,\"#9c179e\"],[0.4444444444444444,\"#bd3786\"],[0.5555555555555556,\"#d8576b\"],[0.6666666666666666,\"#ed7953\"],[0.7777777777777778,\"#fb9f3a\"],[0.8888888888888888,\"#fdca26\"],[1.0,\"#f0f921\"]]}],\"mesh3d\":[{\"type\":\"mesh3d\",\"colorbar\":{\"outlinewidth\":0,\"ticks\":\"\"}}],\"scatter\":[{\"fillpattern\":{\"fillmode\":\"overlay\",\"size\":10,\"solidity\":0.2},\"type\":\"scatter\"}],\"parcoords\":[{\"type\":\"parcoords\",\"line\":{\"colorbar\":{\"outlinewidth\":0,\"ticks\":\"\"}}}],\"scatterpolargl\":[{\"type\":\"scatterpolargl\",\"marker\":{\"colorbar\":{\"outlinewidth\":0,\"ticks\":\"\"}}}],\"bar\":[{\"error_x\":{\"color\":\"#2a3f5f\"},\"error_y\":{\"color\":\"#2a3f5f\"},\"marker\":{\"line\":{\"color\":\"#E5ECF6\",\"width\":0.5},\"pattern\":{\"fillmode\":\"overlay\",\"size\":10,\"solidity\":0.2}},\"type\":\"bar\"}],\"scattergeo\":[{\"type\":\"scattergeo\",\"marker\":{\"colorbar\":{\"outlinewidth\":0,\"ticks\":\"\"}}}],\"scatterpolar\":[{\"type\":\"scatterpolar\",\"marker\":{\"colorbar\":{\"outlinewidth\":0,\"ticks\":\"\"}}}],\"histogram\":[{\"marker\":{\"pattern\":{\"fillmode\":\"overlay\",\"size\":10,\"solidity\":0.2}},\"type\":\"histogram\"}],\"scattergl\":[{\"type\":\"scattergl\",\"marker\":{\"colorbar\":{\"outlinewidth\":0,\"ticks\":\"\"}}}],\"scatter3d\":[{\"type\":\"scatter3d\",\"line\":{\"colorbar\":{\"outlinewidth\":0,\"ticks\":\"\"}},\"marker\":{\"colorbar\":{\"outlinewidth\":0,\"ticks\":\"\"}}}],\"scattermapbox\":[{\"type\":\"scattermapbox\",\"marker\":{\"colorbar\":{\"outlinewidth\":0,\"ticks\":\"\"}}}],\"scatterternary\":[{\"type\":\"scatterternary\",\"marker\":{\"colorbar\":{\"outlinewidth\":0,\"ticks\":\"\"}}}],\"scattercarpet\":[{\"type\":\"scattercarpet\",\"marker\":{\"colorbar\":{\"outlinewidth\":0,\"ticks\":\"\"}}}],\"carpet\":[{\"aaxis\":{\"endlinecolor\":\"#2a3f5f\",\"gridcolor\":\"white\",\"linecolor\":\"white\",\"minorgridcolor\":\"white\",\"startlinecolor\":\"#2a3f5f\"},\"baxis\":{\"endlinecolor\":\"#2a3f5f\",\"gridcolor\":\"white\",\"linecolor\":\"white\",\"minorgridcolor\":\"white\",\"startlinecolor\":\"#2a3f5f\"},\"type\":\"carpet\"}],\"table\":[{\"cells\":{\"fill\":{\"color\":\"#EBF0F8\"},\"line\":{\"color\":\"white\"}},\"header\":{\"fill\":{\"color\":\"#C8D4E3\"},\"line\":{\"color\":\"white\"}},\"type\":\"table\"}],\"barpolar\":[{\"marker\":{\"line\":{\"color\":\"#E5ECF6\",\"width\":0.5},\"pattern\":{\"fillmode\":\"overlay\",\"size\":10,\"solidity\":0.2}},\"type\":\"barpolar\"}],\"pie\":[{\"automargin\":true,\"type\":\"pie\"}]},\"layout\":{\"autotypenumbers\":\"strict\",\"colorway\":[\"#636efa\",\"#EF553B\",\"#00cc96\",\"#ab63fa\",\"#FFA15A\",\"#19d3f3\",\"#FF6692\",\"#B6E880\",\"#FF97FF\",\"#FECB52\"],\"font\":{\"color\":\"#2a3f5f\"},\"hovermode\":\"closest\",\"hoverlabel\":{\"align\":\"left\"},\"paper_bgcolor\":\"white\",\"plot_bgcolor\":\"#E5ECF6\",\"polar\":{\"bgcolor\":\"#E5ECF6\",\"angularaxis\":{\"gridcolor\":\"white\",\"linecolor\":\"white\",\"ticks\":\"\"},\"radialaxis\":{\"gridcolor\":\"white\",\"linecolor\":\"white\",\"ticks\":\"\"}},\"ternary\":{\"bgcolor\":\"#E5ECF6\",\"aaxis\":{\"gridcolor\":\"white\",\"linecolor\":\"white\",\"ticks\":\"\"},\"baxis\":{\"gridcolor\":\"white\",\"linecolor\":\"white\",\"ticks\":\"\"},\"caxis\":{\"gridcolor\":\"white\",\"linecolor\":\"white\",\"ticks\":\"\"}},\"coloraxis\":{\"colorbar\":{\"outlinewidth\":0,\"ticks\":\"\"}},\"colorscale\":{\"sequential\":[[0.0,\"#0d0887\"],[0.1111111111111111,\"#46039f\"],[0.2222222222222222,\"#7201a8\"],[0.3333333333333333,\"#9c179e\"],[0.4444444444444444,\"#bd3786\"],[0.5555555555555556,\"#d8576b\"],[0.6666666666666666,\"#ed7953\"],[0.7777777777777778,\"#fb9f3a\"],[0.8888888888888888,\"#fdca26\"],[1.0,\"#f0f921\"]],\"sequentialminus\":[[0.0,\"#0d0887\"],[0.1111111111111111,\"#46039f\"],[0.2222222222222222,\"#7201a8\"],[0.3333333333333333,\"#9c179e\"],[0.4444444444444444,\"#bd3786\"],[0.5555555555555556,\"#d8576b\"],[0.6666666666666666,\"#ed7953\"],[0.7777777777777778,\"#fb9f3a\"],[0.8888888888888888,\"#fdca26\"],[1.0,\"#f0f921\"]],\"diverging\":[[0,\"#8e0152\"],[0.1,\"#c51b7d\"],[0.2,\"#de77ae\"],[0.3,\"#f1b6da\"],[0.4,\"#fde0ef\"],[0.5,\"#f7f7f7\"],[0.6,\"#e6f5d0\"],[0.7,\"#b8e186\"],[0.8,\"#7fbc41\"],[0.9,\"#4d9221\"],[1,\"#276419\"]]},\"xaxis\":{\"gridcolor\":\"white\",\"linecolor\":\"white\",\"ticks\":\"\",\"title\":{\"standoff\":15},\"zerolinecolor\":\"white\",\"automargin\":true,\"zerolinewidth\":2},\"yaxis\":{\"gridcolor\":\"white\",\"linecolor\":\"white\",\"ticks\":\"\",\"title\":{\"standoff\":15},\"zerolinecolor\":\"white\",\"automargin\":true,\"zerolinewidth\":2},\"scene\":{\"xaxis\":{\"backgroundcolor\":\"#E5ECF6\",\"gridcolor\":\"white\",\"linecolor\":\"white\",\"showbackground\":true,\"ticks\":\"\",\"zerolinecolor\":\"white\",\"gridwidth\":2},\"yaxis\":{\"backgroundcolor\":\"#E5ECF6\",\"gridcolor\":\"white\",\"linecolor\":\"white\",\"showbackground\":true,\"ticks\":\"\",\"zerolinecolor\":\"white\",\"gridwidth\":2},\"zaxis\":{\"backgroundcolor\":\"#E5ECF6\",\"gridcolor\":\"white\",\"linecolor\":\"white\",\"showbackground\":true,\"ticks\":\"\",\"zerolinecolor\":\"white\",\"gridwidth\":2}},\"shapedefaults\":{\"line\":{\"color\":\"#2a3f5f\"}},\"annotationdefaults\":{\"arrowcolor\":\"#2a3f5f\",\"arrowhead\":0,\"arrowwidth\":1},\"geo\":{\"bgcolor\":\"white\",\"landcolor\":\"#E5ECF6\",\"subunitcolor\":\"white\",\"showland\":true,\"showlakes\":true,\"lakecolor\":\"white\"},\"title\":{\"x\":0.05},\"mapbox\":{\"style\":\"light\"}}}},                        {\"responsive\": true}                    ).then(function(){\n",
       "                            \n",
       "var gd = document.getElementById('43bbf12d-fff1-4850-b3d6-6849d8fddad4');\n",
       "var x = new MutationObserver(function (mutations, observer) {{\n",
       "        var display = window.getComputedStyle(gd).display;\n",
       "        if (!display || display === 'none') {{\n",
       "            console.log([gd, 'removed!']);\n",
       "            Plotly.purge(gd);\n",
       "            observer.disconnect();\n",
       "        }}\n",
       "}});\n",
       "\n",
       "// Listen for the removal of the full notebook cells\n",
       "var notebookContainer = gd.closest('#notebook-container');\n",
       "if (notebookContainer) {{\n",
       "    x.observe(notebookContainer, {childList: true});\n",
       "}}\n",
       "\n",
       "// Listen for the clearing of the current output cell\n",
       "var outputEl = gd.closest('.output');\n",
       "if (outputEl) {{\n",
       "    x.observe(outputEl, {childList: true});\n",
       "}}\n",
       "\n",
       "                        })                };                });            </script>        </div>"
      ]
     },
     "metadata": {},
     "output_type": "display_data"
    }
   ],
   "source": [
    "#Results with 5 factors used\n",
    "\n",
    "import plotly.figure_factory as ff\n",
    "import numpy as np\n",
    "\n",
    "sd = np.std([results.resid])\n",
    "norm_dat = np.random.normal(0,sd,10000)\n",
    "\n",
    "\n",
    "fig = ff.create_distplot([results.resid,norm_dat],[\"Residuals\",\"Normal distribution(0,sigma)\"])\n",
    "\n",
    "fig.show()"
   ]
  },
  {
   "cell_type": "code",
   "execution_count": 140,
   "id": "00f57343",
   "metadata": {},
   "outputs": [
    {
     "data": {
      "text/plain": [
       "8.783172000242946"
      ]
     },
     "execution_count": 140,
     "metadata": {},
     "output_type": "execute_result"
    }
   ],
   "source": []
  },
  {
   "cell_type": "code",
   "execution_count": null,
   "id": "b6264e5a",
   "metadata": {},
   "outputs": [],
   "source": []
  }
 ],
 "metadata": {
  "kernelspec": {
   "display_name": "Python 3 (ipykernel)",
   "language": "python",
   "name": "python3"
  },
  "language_info": {
   "codemirror_mode": {
    "name": "ipython",
    "version": 3
   },
   "file_extension": ".py",
   "mimetype": "text/x-python",
   "name": "python",
   "nbconvert_exporter": "python",
   "pygments_lexer": "ipython3",
   "version": "3.10.11"
  }
 },
 "nbformat": 4,
 "nbformat_minor": 5
}
